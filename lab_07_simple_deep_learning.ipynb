{
  "nbformat": 4,
  "nbformat_minor": 0,
  "metadata": {
    "kernelspec": {
      "display_name": "Python 3",
      "language": "python",
      "name": "python3"
    },
    "language_info": {
      "codemirror_mode": {
        "name": "ipython",
        "version": 3
      },
      "file_extension": ".py",
      "mimetype": "text/x-python",
      "name": "python",
      "nbconvert_exporter": "python",
      "pygments_lexer": "ipython3",
      "version": "3.6.8"
    },
    "colab": {
      "name": "lab_07_simple_deep_learning.ipynb",
      "provenance": [],
      "collapsed_sections": [],
      "toc_visible": true,
      "include_colab_link": true
    },
    "accelerator": "GPU"
  },
  "cells": [
    {
      "cell_type": "markdown",
      "metadata": {
        "id": "view-in-github",
        "colab_type": "text"
      },
      "source": [
        "<a href=\"https://colab.research.google.com/github/rtajeong/Kyungnam_univ_M4/blob/main/lab_07_simple_deep_learning.ipynb\" target=\"_parent\"><img src=\"https://colab.research.google.com/assets/colab-badge.svg\" alt=\"Open In Colab\"/></a>"
      ]
    },
    {
      "cell_type": "markdown",
      "metadata": {
        "id": "uCdyHxGO7ux8"
      },
      "source": [
        "#Before we go for M-4 labs\n",
        "- from \"모두의 딥러닝\""
      ]
    },
    {
      "cell_type": "markdown",
      "metadata": {
        "id": "70crPSVy7uyB"
      },
      "source": [
        "## 12. multinomial classification\n",
        "- iris data\n",
        "- one-hot encoding\n",
        "- softmax\n",
        "- F-fold cross validation"
      ]
    },
    {
      "cell_type": "code",
      "metadata": {
        "id": "5axxcoz_7uyF"
      },
      "source": [
        "import tensorflow as tf\n",
        "from keras.models import Sequential, load_model\n",
        "from keras.layers.core import Dense\n",
        "from keras.utils import np_utils\n",
        "from sklearn.preprocessing import LabelEncoder\n",
        "from sklearn.model_selection import train_test_split\n",
        "\n",
        "import pandas as pd\n",
        "import seaborn as sns\n",
        "import matplotlib.pyplot as plt\n",
        "%matplotlib inline\n",
        "import numpy as np"
      ],
      "execution_count": 1,
      "outputs": []
    },
    {
      "cell_type": "code",
      "metadata": {
        "id": "_1LZ1bMH7uyT",
        "colab": {
          "base_uri": "https://localhost:8080/",
          "height": 198
        },
        "outputId": "c8c39331-eee1-41b0-b223-a0204d82eb01"
      },
      "source": [
        "np.random.seed(17)\n",
        "iris_data = sns.load_dataset(\"iris\")\n",
        "iris_data.head()"
      ],
      "execution_count": 2,
      "outputs": [
        {
          "output_type": "execute_result",
          "data": {
            "text/html": [
              "<div>\n",
              "<style scoped>\n",
              "    .dataframe tbody tr th:only-of-type {\n",
              "        vertical-align: middle;\n",
              "    }\n",
              "\n",
              "    .dataframe tbody tr th {\n",
              "        vertical-align: top;\n",
              "    }\n",
              "\n",
              "    .dataframe thead th {\n",
              "        text-align: right;\n",
              "    }\n",
              "</style>\n",
              "<table border=\"1\" class=\"dataframe\">\n",
              "  <thead>\n",
              "    <tr style=\"text-align: right;\">\n",
              "      <th></th>\n",
              "      <th>sepal_length</th>\n",
              "      <th>sepal_width</th>\n",
              "      <th>petal_length</th>\n",
              "      <th>petal_width</th>\n",
              "      <th>species</th>\n",
              "    </tr>\n",
              "  </thead>\n",
              "  <tbody>\n",
              "    <tr>\n",
              "      <th>0</th>\n",
              "      <td>5.1</td>\n",
              "      <td>3.5</td>\n",
              "      <td>1.4</td>\n",
              "      <td>0.2</td>\n",
              "      <td>setosa</td>\n",
              "    </tr>\n",
              "    <tr>\n",
              "      <th>1</th>\n",
              "      <td>4.9</td>\n",
              "      <td>3.0</td>\n",
              "      <td>1.4</td>\n",
              "      <td>0.2</td>\n",
              "      <td>setosa</td>\n",
              "    </tr>\n",
              "    <tr>\n",
              "      <th>2</th>\n",
              "      <td>4.7</td>\n",
              "      <td>3.2</td>\n",
              "      <td>1.3</td>\n",
              "      <td>0.2</td>\n",
              "      <td>setosa</td>\n",
              "    </tr>\n",
              "    <tr>\n",
              "      <th>3</th>\n",
              "      <td>4.6</td>\n",
              "      <td>3.1</td>\n",
              "      <td>1.5</td>\n",
              "      <td>0.2</td>\n",
              "      <td>setosa</td>\n",
              "    </tr>\n",
              "    <tr>\n",
              "      <th>4</th>\n",
              "      <td>5.0</td>\n",
              "      <td>3.6</td>\n",
              "      <td>1.4</td>\n",
              "      <td>0.2</td>\n",
              "      <td>setosa</td>\n",
              "    </tr>\n",
              "  </tbody>\n",
              "</table>\n",
              "</div>"
            ],
            "text/plain": [
              "   sepal_length  sepal_width  petal_length  petal_width species\n",
              "0           5.1          3.5           1.4          0.2  setosa\n",
              "1           4.9          3.0           1.4          0.2  setosa\n",
              "2           4.7          3.2           1.3          0.2  setosa\n",
              "3           4.6          3.1           1.5          0.2  setosa\n",
              "4           5.0          3.6           1.4          0.2  setosa"
            ]
          },
          "metadata": {
            "tags": []
          },
          "execution_count": 2
        }
      ]
    },
    {
      "cell_type": "code",
      "metadata": {
        "id": "joA66Ufe7uya"
      },
      "source": [
        "dataset = iris_data.values\n",
        "X = dataset[:,0:4].astype('float')\n",
        "Y_obj = dataset[:,4]\n",
        "\n",
        "Y = LabelEncoder().fit_transform(Y_obj)\n",
        "Y_encoded = np_utils.to_categorical(Y)   #  one-hot encoding\n",
        "\n",
        "X_train, X_test, Y_train, Y_test = train_test_split(X, Y_encoded, test_size=0.2)"
      ],
      "execution_count": 3,
      "outputs": []
    },
    {
      "cell_type": "code",
      "metadata": {
        "colab": {
          "base_uri": "https://localhost:8080/"
        },
        "id": "mKjSkSrjPS_s",
        "outputId": "4cd30c86-11e3-4712-f9cb-7a2b95cb9143"
      },
      "source": [
        "X_train.shape, Y_train.shape, X_test.shape, Y_test.shape"
      ],
      "execution_count": 5,
      "outputs": [
        {
          "output_type": "execute_result",
          "data": {
            "text/plain": [
              "((120, 4), (120, 3), (30, 4), (30, 3))"
            ]
          },
          "metadata": {
            "tags": []
          },
          "execution_count": 5
        }
      ]
    },
    {
      "cell_type": "code",
      "metadata": {
        "id": "X4bN4kgX7uyg",
        "colab": {
          "base_uri": "https://localhost:8080/"
        },
        "outputId": "151148ff-26f1-4d5e-c159-6614ed1b3795"
      },
      "source": [
        "# model and compile & train & predict(evaluate)\n",
        "model = Sequential()\n",
        "# model.add(Dense(16,  input_dim=4, activation='relu'))\n",
        "model.add(Dense(16,  input_shape=(4,), activation='relu'))\n",
        "model.add(Dense(3, activation='softmax'))\n",
        "model.summary()"
      ],
      "execution_count": 6,
      "outputs": [
        {
          "output_type": "stream",
          "text": [
            "Model: \"sequential\"\n",
            "_________________________________________________________________\n",
            "Layer (type)                 Output Shape              Param #   \n",
            "=================================================================\n",
            "dense (Dense)                (None, 16)                80        \n",
            "_________________________________________________________________\n",
            "dense_1 (Dense)              (None, 3)                 51        \n",
            "=================================================================\n",
            "Total params: 131\n",
            "Trainable params: 131\n",
            "Non-trainable params: 0\n",
            "_________________________________________________________________\n"
          ],
          "name": "stdout"
        }
      ]
    },
    {
      "cell_type": "code",
      "metadata": {
        "id": "qVA55goD7uyr"
      },
      "source": [
        "model.compile(loss='categorical_crossentropy',\n",
        "            optimizer='adam',\n",
        "            metrics=['accuracy'])\n",
        "\n",
        "history = model.fit(X_train, Y_train, epochs=100, \n",
        "                    batch_size=5, verbose=0)\n",
        "model.save('iris_model.h5')"
      ],
      "execution_count": 7,
      "outputs": []
    },
    {
      "cell_type": "code",
      "metadata": {
        "id": "wA6psJlU7uyz",
        "colab": {
          "base_uri": "https://localhost:8080/"
        },
        "outputId": "87c17e10-1642-42a3-d10a-a5bd6806566e"
      },
      "source": [
        "from keras.models import load_model\n",
        "del model   # delete existing models in memory\n",
        "model = load_model('iris_model.h5')  # newly call the model\n",
        "print(\"\\n Accuracy: %.4f\" % (model.evaluate(X_test, Y_test)[1]))"
      ],
      "execution_count": 8,
      "outputs": [
        {
          "output_type": "stream",
          "text": [
            "1/1 [==============================] - 0s 109ms/step - loss: 0.1729 - accuracy: 0.9667\n",
            "\n",
            " Accuracy: 0.9667\n"
          ],
          "name": "stdout"
        }
      ]
    },
    {
      "cell_type": "code",
      "metadata": {
        "id": "TfJAAPbbYsLB",
        "colab": {
          "base_uri": "https://localhost:8080/"
        },
        "outputId": "91c26f89-aa1d-4937-81b2-614144ddfc28"
      },
      "source": [
        "X.shape, Y.shape"
      ],
      "execution_count": 9,
      "outputs": [
        {
          "output_type": "execute_result",
          "data": {
            "text/plain": [
              "((150, 4), (150,))"
            ]
          },
          "metadata": {
            "tags": []
          },
          "execution_count": 9
        }
      ]
    },
    {
      "cell_type": "code",
      "metadata": {
        "colab": {
          "base_uri": "https://localhost:8080/"
        },
        "id": "bV4flTDoOgLR",
        "outputId": "c77db446-0158-4018-fcd9-2cf662ac947a"
      },
      "source": [
        "history.history.keys()"
      ],
      "execution_count": 10,
      "outputs": [
        {
          "output_type": "execute_result",
          "data": {
            "text/plain": [
              "dict_keys(['loss', 'accuracy'])"
            ]
          },
          "metadata": {
            "tags": []
          },
          "execution_count": 10
        }
      ]
    },
    {
      "cell_type": "code",
      "metadata": {
        "colab": {
          "base_uri": "https://localhost:8080/",
          "height": 285
        },
        "id": "5cunlwaLOk_x",
        "outputId": "7808f0cb-b008-48f1-9295-e570f88a4375"
      },
      "source": [
        "plt.subplot(1,2,1)\n",
        "plt.plot(history.history['loss'])\n",
        "plt.subplot(1,2,2)\n",
        "plt.plot(history.history['accuracy'])"
      ],
      "execution_count": 11,
      "outputs": [
        {
          "output_type": "execute_result",
          "data": {
            "text/plain": [
              "[<matplotlib.lines.Line2D at 0x7fd3c05cbe10>]"
            ]
          },
          "metadata": {
            "tags": []
          },
          "execution_count": 11
        },
        {
          "output_type": "display_data",
          "data": {
            "image/png": "[encoded data removed]",
            "text/plain": [
              "<Figure size 432x288 with 2 Axes>"
            ]
          },
          "metadata": {
            "tags": [],
            "needs_background": "light"
          }
        }
      ]
    },
    {
      "cell_type": "code",
      "metadata": {
        "colab": {
          "base_uri": "https://localhost:8080/"
        },
        "id": "rYd8p2FHP9Ul",
        "outputId": "b6bf060c-86b2-4091-ddd2-a889b85d094a"
      },
      "source": [
        "model.evaluate(X_test, Y_test)"
      ],
      "execution_count": 13,
      "outputs": [
        {
          "output_type": "stream",
          "text": [
            "1/1 [==============================] - 0s 16ms/step - loss: 0.1729 - accuracy: 0.9667\n"
          ],
          "name": "stdout"
        },
        {
          "output_type": "execute_result",
          "data": {
            "text/plain": [
              "[0.17288468778133392, 0.9666666388511658]"
            ]
          },
          "metadata": {
            "tags": []
          },
          "execution_count": 13
        }
      ]
    },
    {
      "cell_type": "code",
      "metadata": {
        "colab": {
          "base_uri": "https://localhost:8080/"
        },
        "id": "ho7A74LZQMF8",
        "outputId": "3e900003-2f8f-4290-8ad6-5d655c443eb4"
      },
      "source": [
        "Y_pred = model.predict(X_test)\n",
        "tf.math.confusion_matrix(Y_test.argmax(1), Y_pred.argmax(1))"
      ],
      "execution_count": 23,
      "outputs": [
        {
          "output_type": "execute_result",
          "data": {
            "text/plain": [
              "<tf.Tensor: shape=(3, 3), dtype=int32, numpy=\n",
              "array([[ 7,  0,  0],\n",
              "       [ 0, 11,  0],\n",
              "       [ 0,  1, 11]], dtype=int32)>"
            ]
          },
          "metadata": {
            "tags": []
          },
          "execution_count": 23
        }
      ]
    },
    {
      "cell_type": "markdown",
      "metadata": {
        "id": "KitK6yZf7uzE"
      },
      "source": [
        "## for K-fold validation"
      ]
    },
    {
      "cell_type": "code",
      "metadata": {
        "colab": {
          "base_uri": "https://localhost:8080/"
        },
        "id": "5wZd1FQWVMFr",
        "outputId": "568bc23c-4c2a-4346-b277-580191fa952d"
      },
      "source": [
        "X.shape, Y.shape"
      ],
      "execution_count": 25,
      "outputs": [
        {
          "output_type": "execute_result",
          "data": {
            "text/plain": [
              "((150, 4), (150,))"
            ]
          },
          "metadata": {
            "tags": []
          },
          "execution_count": 25
        }
      ]
    },
    {
      "cell_type": "code",
      "metadata": {
        "id": "yuLk6qSk7uzF",
        "colab": {
          "base_uri": "https://localhost:8080/"
        },
        "outputId": "b610e1d9-6230-4ab9-9ce9-78b93b57271c"
      },
      "source": [
        "from sklearn.model_selection import StratifiedKFold\n",
        "\n",
        "n_fold = 5\n",
        "skf = StratifiedKFold(n_splits=n_fold, shuffle=True, random_state=17)\n",
        "\n",
        "cvscores = []\n",
        "for train_index, test_index in skf.split(X, Y):\n",
        "    model = Sequential()\n",
        "    model.add(Dense(16,  input_dim=4, activation='relu'))\n",
        "    model.add(Dense(3, activation='softmax'))\n",
        "    model.compile(loss='categorical_crossentropy',\n",
        "                  optimizer='adam', \n",
        "                  metrics=['accuracy'])\n",
        "    X_train, X_test = X[train_index], X[test_index]\n",
        "    y_train, y_test = Y[train_index], Y[test_index]\n",
        "    y_train_enc = np_utils.to_categorical(y_train)\n",
        "    y_test_enc = np_utils.to_categorical(y_test)\n",
        "    \n",
        "    model.fit(X_train, y_train_enc, epochs=30, batch_size=5, verbose=0)\n",
        "    score = model.evaluate(X_test, y_test_enc, verbose=0)\n",
        "    cvscores.append(score)"
      ],
      "execution_count": 27,
      "outputs": [
        {
          "output_type": "stream",
          "text": [
            "WARNING:tensorflow:7 out of the last 8 calls to <function Model.make_test_function.<locals>.test_function at 0x7fd3b8242268> triggered tf.function retracing. Tracing is expensive and the excessive number of tracings could be due to (1) creating @tf.function repeatedly in a loop, (2) passing tensors with different shapes, (3) passing Python objects instead of tensors. For (1), please define your @tf.function outside of the loop. For (2), @tf.function has experimental_relax_shapes=True option that relaxes argument shapes that can avoid unnecessary retracing. For (3), please refer to https://www.tensorflow.org/guide/function#controlling_retracing and https://www.tensorflow.org/api_docs/python/tf/function for  more details.\n",
            "WARNING:tensorflow:8 out of the last 9 calls to <function Model.make_test_function.<locals>.test_function at 0x7fd3b7990f28> triggered tf.function retracing. Tracing is expensive and the excessive number of tracings could be due to (1) creating @tf.function repeatedly in a loop, (2) passing tensors with different shapes, (3) passing Python objects instead of tensors. For (1), please define your @tf.function outside of the loop. For (2), @tf.function has experimental_relax_shapes=True option that relaxes argument shapes that can avoid unnecessary retracing. For (3), please refer to https://www.tensorflow.org/guide/function#controlling_retracing and https://www.tensorflow.org/api_docs/python/tf/function for  more details.\n",
            "WARNING:tensorflow:9 out of the last 10 calls to <function Model.make_test_function.<locals>.test_function at 0x7fd3b6844f28> triggered tf.function retracing. Tracing is expensive and the excessive number of tracings could be due to (1) creating @tf.function repeatedly in a loop, (2) passing tensors with different shapes, (3) passing Python objects instead of tensors. For (1), please define your @tf.function outside of the loop. For (2), @tf.function has experimental_relax_shapes=True option that relaxes argument shapes that can avoid unnecessary retracing. For (3), please refer to https://www.tensorflow.org/guide/function#controlling_retracing and https://www.tensorflow.org/api_docs/python/tf/function for  more details.\n",
            "WARNING:tensorflow:10 out of the last 11 calls to <function Model.make_test_function.<locals>.test_function at 0x7fd3b82427b8> triggered tf.function retracing. Tracing is expensive and the excessive number of tracings could be due to (1) creating @tf.function repeatedly in a loop, (2) passing tensors with different shapes, (3) passing Python objects instead of tensors. For (1), please define your @tf.function outside of the loop. For (2), @tf.function has experimental_relax_shapes=True option that relaxes argument shapes that can avoid unnecessary retracing. For (3), please refer to https://www.tensorflow.org/guide/function#controlling_retracing and https://www.tensorflow.org/api_docs/python/tf/function for  more details.\n",
            "WARNING:tensorflow:11 out of the last 12 calls to <function Model.make_test_function.<locals>.test_function at 0x7fd3b4e8abf8> triggered tf.function retracing. Tracing is expensive and the excessive number of tracings could be due to (1) creating @tf.function repeatedly in a loop, (2) passing tensors with different shapes, (3) passing Python objects instead of tensors. For (1), please define your @tf.function outside of the loop. For (2), @tf.function has experimental_relax_shapes=True option that relaxes argument shapes that can avoid unnecessary retracing. For (3), please refer to https://www.tensorflow.org/guide/function#controlling_retracing and https://www.tensorflow.org/api_docs/python/tf/function for  more details.\n"
          ],
          "name": "stdout"
        }
      ]
    },
    {
      "cell_type": "code",
      "metadata": {
        "id": "V6WIi1FtYL-Z",
        "colab": {
          "base_uri": "https://localhost:8080/"
        },
        "outputId": "2da379ee-0adb-42d6-857f-dde4ca8f9cb2"
      },
      "source": [
        "model.metrics_names, cvscores"
      ],
      "execution_count": 28,
      "outputs": [
        {
          "output_type": "execute_result",
          "data": {
            "text/plain": [
              "(['loss', 'accuracy'],\n",
              " [[0.4304458498954773, 0.9666666388511658],\n",
              "  [0.4269561171531677, 0.9333333373069763],\n",
              "  [0.36101362109184265, 0.9666666388511658],\n",
              "  [0.33310678601264954, 0.9666666388511658],\n",
              "  [0.24185629189014435, 1.0]])"
            ]
          },
          "metadata": {
            "tags": []
          },
          "execution_count": 28
        }
      ]
    },
    {
      "cell_type": "markdown",
      "metadata": {
        "id": "UzbpqKRk7uzT"
      },
      "source": [
        "## 14. Callback - check point and early stopping"
      ]
    },
    {
      "cell_type": "code",
      "metadata": {
        "id": "gafjD4O27uzU"
      },
      "source": [
        "from keras.models import Sequential\n",
        "from keras.layers import Dense\n",
        "from keras.callbacks import ModelCheckpoint, EarlyStopping\n",
        "\n",
        "import pandas as pd\n",
        "import numpy as np\n",
        "import os\n",
        "import tensorflow as tf"
      ],
      "execution_count": 29,
      "outputs": []
    },
    {
      "cell_type": "markdown",
      "metadata": {
        "id": "ZHNY7zxnk0YG"
      },
      "source": [
        "- download wine.csv from https://codedragon.tistory.com/9480\n",
        "  - class 1: red wine, 0: white wine"
      ]
    },
    {
      "cell_type": "code",
      "metadata": {
        "id": "bj5eEiks7uzY",
        "colab": {
          "base_uri": "https://localhost:8080/"
        },
        "outputId": "c2b16f1a-ea53-48e8-874d-98c5282204c5"
      },
      "source": [
        "df_all = pd.read_csv('wine.csv', header=None)\n",
        "df = df_all.sample(frac=0.2)  # get only 20% of dataset\n",
        "df.shape"
      ],
      "execution_count": 30,
      "outputs": [
        {
          "output_type": "execute_result",
          "data": {
            "text/plain": [
              "(1299, 13)"
            ]
          },
          "metadata": {
            "tags": []
          },
          "execution_count": 30
        }
      ]
    },
    {
      "cell_type": "code",
      "metadata": {
        "id": "TY5sKbdJnQBQ",
        "colab": {
          "base_uri": "https://localhost:8080/",
          "height": 78
        },
        "outputId": "7b52a253-e435-4b2c-b8b6-06c13aa2e620"
      },
      "source": [
        "df.head(1)"
      ],
      "execution_count": 31,
      "outputs": [
        {
          "output_type": "execute_result",
          "data": {
            "text/html": [
              "<div>\n",
              "<style scoped>\n",
              "    .dataframe tbody tr th:only-of-type {\n",
              "        vertical-align: middle;\n",
              "    }\n",
              "\n",
              "    .dataframe tbody tr th {\n",
              "        vertical-align: top;\n",
              "    }\n",
              "\n",
              "    .dataframe thead th {\n",
              "        text-align: right;\n",
              "    }\n",
              "</style>\n",
              "<table border=\"1\" class=\"dataframe\">\n",
              "  <thead>\n",
              "    <tr style=\"text-align: right;\">\n",
              "      <th></th>\n",
              "      <th>0</th>\n",
              "      <th>1</th>\n",
              "      <th>2</th>\n",
              "      <th>3</th>\n",
              "      <th>4</th>\n",
              "      <th>5</th>\n",
              "      <th>6</th>\n",
              "      <th>7</th>\n",
              "      <th>8</th>\n",
              "      <th>9</th>\n",
              "      <th>10</th>\n",
              "      <th>11</th>\n",
              "      <th>12</th>\n",
              "    </tr>\n",
              "  </thead>\n",
              "  <tbody>\n",
              "    <tr>\n",
              "      <th>3896</th>\n",
              "      <td>6.5</td>\n",
              "      <td>0.29</td>\n",
              "      <td>0.42</td>\n",
              "      <td>10.6</td>\n",
              "      <td>0.042</td>\n",
              "      <td>66.0</td>\n",
              "      <td>202.0</td>\n",
              "      <td>0.99674</td>\n",
              "      <td>3.24</td>\n",
              "      <td>0.53</td>\n",
              "      <td>9.5</td>\n",
              "      <td>6</td>\n",
              "      <td>0</td>\n",
              "    </tr>\n",
              "  </tbody>\n",
              "</table>\n",
              "</div>"
            ],
            "text/plain": [
              "       0     1     2     3      4     5   ...       7     8     9    10  11  12\n",
              "3896  6.5  0.29  0.42  10.6  0.042  66.0  ...  0.99674  3.24  0.53  9.5   6   0\n",
              "\n",
              "[1 rows x 13 columns]"
            ]
          },
          "metadata": {
            "tags": []
          },
          "execution_count": 31
        }
      ]
    },
    {
      "cell_type": "code",
      "metadata": {
        "id": "dV8EsphhnWsH",
        "colab": {
          "base_uri": "https://localhost:8080/"
        },
        "outputId": "45d80546-3802-411a-d26a-75a4ba874378"
      },
      "source": [
        "df[12].value_counts()"
      ],
      "execution_count": 32,
      "outputs": [
        {
          "output_type": "execute_result",
          "data": {
            "text/plain": [
              "0    984\n",
              "1    315\n",
              "Name: 12, dtype: int64"
            ]
          },
          "metadata": {
            "tags": []
          },
          "execution_count": 32
        }
      ]
    },
    {
      "cell_type": "code",
      "metadata": {
        "id": "Yd7tFmGT7uzd"
      },
      "source": [
        "dataset = df.values\n",
        "X, y = dataset[:,0:12], dataset[:,12]\n",
        "\n",
        "model = Sequential()\n",
        "model.add(Dense(30,  input_dim=12, activation='relu'))\n",
        "model.add(Dense(12, activation='relu'))\n",
        "model.add(Dense(8, activation='relu'))\n",
        "model.add(Dense(1, activation='sigmoid'))\n",
        "\n",
        "model.compile(loss='binary_crossentropy',\n",
        "          optimizer='adam',\n",
        "          metrics=['accuracy'])\n",
        "\n",
        "# 모델 저장 폴더 만들기\n",
        "MODEL_DIR = './model/'\n",
        "if not os.path.exists(MODEL_DIR):\n",
        "    os.mkdir(MODEL_DIR)\n",
        "\n",
        "modelpath=\"./model/{epoch:02d}-{val_loss:.4f}.hdf5\"\n",
        "\n",
        "# 모델 업데이트 및 저장 (epoch 마다)\n",
        "checkpointer = ModelCheckpoint(filepath=modelpath, \n",
        "                               monitor='val_loss', \n",
        "                               verbose=1, \n",
        "                               save_best_only=True)  # record only when imrpoved\n",
        "\n",
        "# 테스트 오차가 줄지 않으면 학습 자동 중단 설정 (모니터할 값 저장)\n",
        "early_stopping_callback = EarlyStopping(monitor='val_loss', \n",
        "                                        patience=100) # 좋아지지 않아도 몇 번까지 기다릴것인지"
      ],
      "execution_count": 34,
      "outputs": []
    },
    {
      "cell_type": "code",
      "metadata": {
        "scrolled": true,
        "id": "--_bUDPb7uzp"
      },
      "source": [
        "y_loss, y_acc, y_vloss, y_vacc = [], [], [], []\n",
        "\n",
        "history = model.fit(X, y, validation_split=0.2, \n",
        "                    epochs=2000, batch_size=100, verbose=0, \n",
        "                    callbacks=[early_stopping_callback,checkpointer])\n",
        "y_loss = history.history['loss']\n",
        "y_acc = history.history['accuracy']\n",
        "y_vloss = history.history['val_loss']\n",
        "y_vacc = history.history['val_accuracy']\n",
        "x_len = np.arange(len(y_acc))\n",
        "plt.ylim(0.,1.)\n",
        "plt.title(\"Traing\")\n",
        "plt.plot(x_len, y_loss, \"o\", c=\"r\", markersize=3)\n",
        "plt.plot(x_len, y_acc, \"o\", c=\"b\", markersize=3)\n",
        "plt.show()\n",
        "plt.title(\"Validation\")\n",
        "plt.ylim(0.,1.)\n",
        "plt.plot(x_len, y_vloss, \"o\", c=\"r\", markersize=3)\n",
        "plt.plot(x_len, y_vacc, \"o\", c=\"b\", markersize=3)\n",
        "plt.show()"
      ],
      "execution_count": null,
      "outputs": []
    },
    {
      "cell_type": "code",
      "metadata": {
        "id": "vZkNuqKw_CzP",
        "colab": {
          "base_uri": "https://localhost:8080/"
        },
        "outputId": "fd373821-d88a-4e4b-a619-5cc0798982f1"
      },
      "source": [
        "history.history.keys()"
      ],
      "execution_count": 38,
      "outputs": [
        {
          "output_type": "execute_result",
          "data": {
            "text/plain": [
              "dict_keys(['loss', 'accuracy', 'val_loss', 'val_accuracy'])"
            ]
          },
          "metadata": {
            "tags": []
          },
          "execution_count": 38
        }
      ]
    },
    {
      "cell_type": "code",
      "metadata": {
        "scrolled": false,
        "id": "39jtzRIR7uzy",
        "colab": {
          "base_uri": "https://localhost:8080/"
        },
        "outputId": "34e3f99f-38b8-465f-e632-362cf71c6739"
      },
      "source": [
        "print(\"Acuracy: %.4f\" %(model.evaluate(X, y)[1]))"
      ],
      "execution_count": 39,
      "outputs": [
        {
          "output_type": "stream",
          "text": [
            "41/41 [==============================] - 0s 2ms/step - loss: 0.0293 - accuracy: 0.9892\n",
            "Acuracy: 0.9892\n"
          ],
          "name": "stdout"
        }
      ]
    },
    {
      "cell_type": "markdown",
      "metadata": {
        "id": "meV-aZzQ7uz3"
      },
      "source": [
        "- 2000 epoch 전에 중간에 중단됨을 알 수 있다."
      ]
    },
    {
      "cell_type": "markdown",
      "metadata": {
        "id": "jQg_oBsA7uz4"
      },
      "source": [
        "## 15. Linear Regression\n",
        "- boston area house price estimates"
      ]
    },
    {
      "cell_type": "code",
      "metadata": {
        "id": "ozRinvZ2pPph"
      },
      "source": [
        "from keras.models import Sequential\n",
        "from keras.layers import Dense\n",
        "from sklearn.model_selection import train_test_split\n",
        "\n",
        "import numpy\n",
        "import pandas as pd\n",
        "import tensorflow as tf"
      ],
      "execution_count": 40,
      "outputs": []
    },
    {
      "cell_type": "code",
      "metadata": {
        "id": "o_67wjOgoC4C"
      },
      "source": [
        "from sklearn.datasets import load_boston\n",
        "house = load_boston()\n",
        "X, y = house.data, house.target"
      ],
      "execution_count": 41,
      "outputs": []
    },
    {
      "cell_type": "code",
      "metadata": {
        "colab": {
          "base_uri": "https://localhost:8080/"
        },
        "id": "ciggdTTGoyul",
        "outputId": "b6d10630-c44e-4f25-b0db-7b97d45e92fd"
      },
      "source": [
        "X.shape, y.shape"
      ],
      "execution_count": 42,
      "outputs": [
        {
          "output_type": "execute_result",
          "data": {
            "text/plain": [
              "((506, 13), (506,))"
            ]
          },
          "metadata": {
            "tags": []
          },
          "execution_count": 42
        }
      ]
    },
    {
      "cell_type": "code",
      "metadata": {
        "colab": {
          "base_uri": "https://localhost:8080/"
        },
        "id": "MlUhW0Npo-4q",
        "outputId": "ddae3e27-98a8-4ff0-f3e7-d67ee45e7610"
      },
      "source": [
        "X[:5], y[:5]"
      ],
      "execution_count": 43,
      "outputs": [
        {
          "output_type": "execute_result",
          "data": {
            "text/plain": [
              "(array([[6.3200e-03, 1.8000e+01, 2.3100e+00, 0.0000e+00, 5.3800e-01,\n",
              "         6.5750e+00, 6.5200e+01, 4.0900e+00, 1.0000e+00, 2.9600e+02,\n",
              "         1.5300e+01, 3.9690e+02, 4.9800e+00],\n",
              "        [2.7310e-02, 0.0000e+00, 7.0700e+00, 0.0000e+00, 4.6900e-01,\n",
              "         6.4210e+00, 7.8900e+01, 4.9671e+00, 2.0000e+00, 2.4200e+02,\n",
              "         1.7800e+01, 3.9690e+02, 9.1400e+00],\n",
              "        [2.7290e-02, 0.0000e+00, 7.0700e+00, 0.0000e+00, 4.6900e-01,\n",
              "         7.1850e+00, 6.1100e+01, 4.9671e+00, 2.0000e+00, 2.4200e+02,\n",
              "         1.7800e+01, 3.9283e+02, 4.0300e+00],\n",
              "        [3.2370e-02, 0.0000e+00, 2.1800e+00, 0.0000e+00, 4.5800e-01,\n",
              "         6.9980e+00, 4.5800e+01, 6.0622e+00, 3.0000e+00, 2.2200e+02,\n",
              "         1.8700e+01, 3.9463e+02, 2.9400e+00],\n",
              "        [6.9050e-02, 0.0000e+00, 2.1800e+00, 0.0000e+00, 4.5800e-01,\n",
              "         7.1470e+00, 5.4200e+01, 6.0622e+00, 3.0000e+00, 2.2200e+02,\n",
              "         1.8700e+01, 3.9690e+02, 5.3300e+00]]),\n",
              " array([24. , 21.6, 34.7, 33.4, 36.2]))"
            ]
          },
          "metadata": {
            "tags": []
          },
          "execution_count": 43
        }
      ]
    },
    {
      "cell_type": "code",
      "metadata": {
        "id": "EyHOMui4zVjQ"
      },
      "source": [
        "from sklearn.preprocessing import StandardScaler\r\n",
        "sc = StandardScaler()\r\n",
        "sc.fit(X)\r\n",
        "X = sc.transform(X)"
      ],
      "execution_count": 44,
      "outputs": []
    },
    {
      "cell_type": "code",
      "metadata": {
        "id": "WzE3FKCa7u0F",
        "colab": {
          "base_uri": "https://localhost:8080/"
        },
        "outputId": "63921867-052c-4f7e-993c-6b6cd048375e"
      },
      "source": [
        "X_train, X_test, y_train, y_test = train_test_split(X, y, test_size=0.3)\n",
        "\n",
        "model = Sequential()\n",
        "model.add(Dense(30, input_dim=13, activation='relu'))\n",
        "model.add(Dense(6, activation='relu'))\n",
        "model.add(Dense(1))    # no need of activation function\n",
        "model.summary()\n",
        "model.compile(loss='mse',\n",
        "              optimizer='adam')\n",
        "\n",
        "history = model.fit(X_train, y_train, epochs=200, batch_size=10, verbose=0)"
      ],
      "execution_count": 83,
      "outputs": [
        {
          "output_type": "stream",
          "text": [
            "Model: \"sequential_17\"\n",
            "_________________________________________________________________\n",
            "Layer (type)                 Output Shape              Param #   \n",
            "=================================================================\n",
            "dense_42 (Dense)             (None, 30)                420       \n",
            "_________________________________________________________________\n",
            "dense_43 (Dense)             (None, 6)                 186       \n",
            "_________________________________________________________________\n",
            "dense_44 (Dense)             (None, 1)                 7         \n",
            "=================================================================\n",
            "Total params: 613\n",
            "Trainable params: 613\n",
            "Non-trainable params: 0\n",
            "_________________________________________________________________\n"
          ],
          "name": "stdout"
        }
      ]
    },
    {
      "cell_type": "code",
      "metadata": {
        "colab": {
          "base_uri": "https://localhost:8080/"
        },
        "id": "X_WO9pdnX_sE",
        "outputId": "e26c2ac6-70cd-4724-9d20-88d925440dcc"
      },
      "source": [
        "history.history.keys()"
      ],
      "execution_count": 84,
      "outputs": [
        {
          "output_type": "execute_result",
          "data": {
            "text/plain": [
              "dict_keys(['loss'])"
            ]
          },
          "metadata": {
            "tags": []
          },
          "execution_count": 84
        }
      ]
    },
    {
      "cell_type": "code",
      "metadata": {
        "colab": {
          "base_uri": "https://localhost:8080/"
        },
        "id": "8gU3o-1wXV8e",
        "outputId": "51d87d81-ceb3-4c32-bb63-2383c8b98f79"
      },
      "source": [
        "model.predict(X_test)[:5], model.predict(X_test)[:5].flatten()"
      ],
      "execution_count": 85,
      "outputs": [
        {
          "output_type": "execute_result",
          "data": {
            "text/plain": [
              "(array([[11.71818 ],\n",
              "        [18.97414 ],\n",
              "        [28.645386],\n",
              "        [24.603174],\n",
              "        [12.326309]], dtype=float32),\n",
              " array([11.71818 , 18.97414 , 28.645386, 24.603174, 12.326309],\n",
              "       dtype=float32))"
            ]
          },
          "metadata": {
            "tags": []
          },
          "execution_count": 85
        }
      ]
    },
    {
      "cell_type": "code",
      "metadata": {
        "id": "XDOd_6B47u0L",
        "colab": {
          "base_uri": "https://localhost:8080/"
        },
        "outputId": "b6c5695e-e351-4bdd-ac7d-4262c3f878b4"
      },
      "source": [
        "# just for checking\n",
        "model.predict(X_test)[:5][:,0] == model.predict(X_test)[:5].flatten()"
      ],
      "execution_count": 86,
      "outputs": [
        {
          "output_type": "execute_result",
          "data": {
            "text/plain": [
              "array([ True,  True,  True,  True,  True])"
            ]
          },
          "metadata": {
            "tags": []
          },
          "execution_count": 86
        }
      ]
    },
    {
      "cell_type": "code",
      "metadata": {
        "id": "3cUW5F8m7u0S",
        "colab": {
          "base_uri": "https://localhost:8080/"
        },
        "outputId": "5da666e0-d829-4bf2-e373-c43ba942860c"
      },
      "source": [
        "# 예측 값과 실제 값의 비교\n",
        "y_pred = model.predict(X_test).flatten()\n",
        "for i in range(10):\n",
        "    label = y_test[i]\n",
        "    prediction = y_pred[i]\n",
        "    print(\"real price: {:.3f}, predicted price: {:.3f}\".format(label, prediction))"
      ],
      "execution_count": 87,
      "outputs": [
        {
          "output_type": "stream",
          "text": [
            "real price: 15.400, predicted price: 11.718\n",
            "real price: 10.200, predicted price: 18.974\n",
            "real price: 23.300, predicted price: 28.645\n",
            "real price: 20.600, predicted price: 24.603\n",
            "real price: 10.900, predicted price: 12.326\n",
            "real price: 12.700, predicted price: 13.781\n",
            "real price: 27.500, predicted price: 30.088\n",
            "real price: 23.100, predicted price: 22.061\n",
            "real price: 33.200, predicted price: 35.959\n",
            "real price: 34.600, predicted price: 38.087\n"
          ],
          "name": "stdout"
        }
      ]
    },
    {
      "cell_type": "code",
      "metadata": {
        "colab": {
          "base_uri": "https://localhost:8080/"
        },
        "id": "5YQIO_jZFJGP",
        "outputId": "f8b0d5fd-418b-4f8f-8599-70d8f8675e9c"
      },
      "source": [
        "model.evaluate(X_test, y_test)"
      ],
      "execution_count": 88,
      "outputs": [
        {
          "output_type": "stream",
          "text": [
            "5/5 [==============================] - 0s 2ms/step - loss: 12.3138\n"
          ],
          "name": "stdout"
        },
        {
          "output_type": "execute_result",
          "data": {
            "text/plain": [
              "12.313776969909668"
            ]
          },
          "metadata": {
            "tags": []
          },
          "execution_count": 88
        }
      ]
    },
    {
      "cell_type": "code",
      "metadata": {
        "colab": {
          "base_uri": "https://localhost:8080/"
        },
        "id": "FsvkzphdGeIB",
        "outputId": "4690ea73-c1cf-4fc8-d02e-4ca31cc8863c"
      },
      "source": [
        "from sklearn.metrics import r2_score\n",
        "print(r2_score(y_test, model.predict(X_test)))\n",
        "print(tf.metrics.mean_squared_error(y_test, model.predict(X_test))[0])"
      ],
      "execution_count": 92,
      "outputs": [
        {
          "output_type": "stream",
          "text": [
            "0.8816585327486025\n",
            "tf.Tensor(224.37894, shape=(), dtype=float32)\n"
          ],
          "name": "stdout"
        }
      ]
    },
    {
      "cell_type": "code",
      "metadata": {
        "colab": {
          "base_uri": "https://localhost:8080/"
        },
        "id": "aKeTDfceatM3",
        "outputId": "8bd7281a-b852-403d-963e-db3aaec96305"
      },
      "source": [
        "y_test.shape, model.predict(X_test).shape"
      ],
      "execution_count": 90,
      "outputs": [
        {
          "output_type": "execute_result",
          "data": {
            "text/plain": [
              "((152,), (152, 1))"
            ]
          },
          "metadata": {
            "tags": []
          },
          "execution_count": 90
        }
      ]
    },
    {
      "cell_type": "markdown",
      "metadata": {
        "id": "4xpM5TEGZSy_"
      },
      "source": [
        "# Exercise (연습)"
      ]
    },
    {
      "cell_type": "code",
      "metadata": {
        "id": "povINYYN7u0Y",
        "colab": {
          "base_uri": "https://localhost:8080/"
        },
        "outputId": "87031ded-f833-4d35-8106-9e12825633e5"
      },
      "source": [
        "# tf.function: Compiles a function into a callable TensorFlow graph.\n",
        "#               (must be faster), but not always...?\n",
        "import timeit\n",
        "@tf.function\n",
        "def dense_layer1(x, w, b):\n",
        "    return tf.add(tf.matmul(x, w), b)\n",
        "\n",
        "%time dense_layer1(tf.ones([3, 2]), tf.ones([2, 2]), tf.ones([2]))"
      ],
      "execution_count": 99,
      "outputs": [
        {
          "output_type": "stream",
          "text": [
            "CPU times: user 35.5 ms, sys: 723 µs, total: 36.2 ms\n",
            "Wall time: 39.5 ms\n"
          ],
          "name": "stdout"
        },
        {
          "output_type": "execute_result",
          "data": {
            "text/plain": [
              "<tf.Tensor: shape=(3, 2), dtype=float32, numpy=\n",
              "array([[3., 3.],\n",
              "       [3., 3.],\n",
              "       [3., 3.]], dtype=float32)>"
            ]
          },
          "metadata": {
            "tags": []
          },
          "execution_count": 99
        }
      ]
    },
    {
      "cell_type": "code",
      "metadata": {
        "colab": {
          "base_uri": "https://localhost:8080/"
        },
        "id": "_wTG0uPKbwAI",
        "outputId": "894116a4-1a11-4a4d-b446-8be82f4bbd1c"
      },
      "source": [
        "def dense_layer2(x, w, b):\r\n",
        "    return tf.add(tf.matmul(x, w), b)\r\n",
        "    \r\n",
        "%time dense_layer2(tf.ones([3, 2]), tf.ones([2, 2]), tf.ones([2]))"
      ],
      "execution_count": 98,
      "outputs": [
        {
          "output_type": "stream",
          "text": [
            "CPU times: user 0 ns, sys: 1.78 ms, total: 1.78 ms\n",
            "Wall time: 1.24 ms\n"
          ],
          "name": "stdout"
        },
        {
          "output_type": "execute_result",
          "data": {
            "text/plain": [
              "<tf.Tensor: shape=(3, 2), dtype=float32, numpy=\n",
              "array([[3., 3.],\n",
              "       [3., 3.],\n",
              "       [3., 3.]], dtype=float32)>"
            ]
          },
          "metadata": {
            "tags": []
          },
          "execution_count": 98
        }
      ]
    },
    {
      "cell_type": "code",
      "metadata": {
        "id": "u8XV1hi7bX5-",
        "colab": {
          "base_uri": "https://localhost:8080/"
        },
        "outputId": "654d5c14-ef81-48bc-de5c-e6913f455dc0"
      },
      "source": [
        "import timeit\n",
        "conv_layer = tf.keras.layers.Conv2D(100, 3)\n",
        "\n",
        "@tf.function\n",
        "def conv_fn(image):\n",
        "  return conv_layer(image)\n",
        "\n",
        "image = tf.zeros([1, 200, 200, 100])\n",
        "# 워밍 업\n",
        "conv_layer(image); conv_fn(image)\n",
        "print(\"즉시 실행 합성곱:\", timeit.timeit(lambda: conv_layer(image), number=10))\n",
        "print(\"tf.function 합성곱:\", timeit.timeit(lambda: conv_fn(image), number=10))\n",
        "print(\"합성곱 연산 속도에 큰 차이가 없습니다.\")"
      ],
      "execution_count": 97,
      "outputs": [
        {
          "output_type": "stream",
          "text": [
            "즉시 실행 합성곱: 0.002809227999932773\n",
            "tf.function 합성곱: 0.0038376010002139083\n",
            "합성곱 연산 속도에 큰 차이가 없습니다.\n"
          ],
          "name": "stdout"
        }
      ]
    }
  ]
}