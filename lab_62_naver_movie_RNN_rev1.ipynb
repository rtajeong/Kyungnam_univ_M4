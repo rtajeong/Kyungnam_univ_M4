{
  "nbformat": 4,
  "nbformat_minor": 0,
  "metadata": {
    "accelerator": "GPU",
    "colab": {
      "name": "lab_62_naver_movie_RNN_rev1.ipynb",
      "provenance": [],
      "collapsed_sections": [],
      "toc_visible": true,
      "include_colab_link": true
    },
    "kernelspec": {
      "display_name": "Python 3",
      "language": "python",
      "name": "python3"
    },
    "language_info": {
      "codemirror_mode": {
        "name": "ipython",
        "version": 3
      },
      "file_extension": ".py",
      "mimetype": "text/x-python",
      "name": "python",
      "nbconvert_exporter": "python",
      "pygments_lexer": "ipython3",
      "version": "3.6.8"
    }
  },
  "cells": [
    {
      "cell_type": "markdown",
      "metadata": {
        "id": "view-in-github",
        "colab_type": "text"
      },
      "source": [
        "<a href=\"https://colab.research.google.com/github/rtajeong/Kyungnam_univ_M4/blob/main/lab_62_naver_movie_RNN_rev1.ipynb\" target=\"_parent\"><img src=\"https://colab.research.google.com/assets/colab-badge.svg\" alt=\"Open In Colab\"/></a>"
      ]
    },
    {
      "cell_type": "code",
      "metadata": {
        "id": "zHoKWwCbZoAm",
        "colab": {
          "base_uri": "https://localhost:8080/"
        },
        "outputId": "1d750915-205e-45f4-9472-94dff582f53a"
      },
      "source": [
        "# GPU 런타임 설정을 한 후 실행한다.\n",
        "!pip install konlpy"
      ],
      "execution_count": 1,
      "outputs": [
        {
          "output_type": "stream",
          "text": [
            "Collecting konlpy\n",
            "\u001b[?25l  Downloading https://files.pythonhosted.org/packages/85/0e/f385566fec837c0b83f216b2da65db9997b35dd675e107752005b7d392b1/konlpy-0.5.2-py2.py3-none-any.whl (19.4MB)\n",
            "\u001b[K     |████████████████████████████████| 19.4MB 1.2MB/s \n",
            "\u001b[?25hCollecting JPype1>=0.7.0\n",
            "\u001b[?25l  Downloading https://files.pythonhosted.org/packages/de/af/93f92b38ec1ff3091cd38982ed19cea2800fefb609b5801c41fc43c0781e/JPype1-1.2.1-cp36-cp36m-manylinux2010_x86_64.whl (457kB)\n",
            "\u001b[K     |████████████████████████████████| 460kB 48.7MB/s \n",
            "\u001b[?25hRequirement already satisfied: numpy>=1.6 in /usr/local/lib/python3.6/dist-packages (from konlpy) (1.19.5)\n",
            "Collecting colorama\n",
            "  Downloading https://files.pythonhosted.org/packages/44/98/5b86278fbbf250d239ae0ecb724f8572af1c91f4a11edf4d36a206189440/colorama-0.4.4-py2.py3-none-any.whl\n",
            "Requirement already satisfied: lxml>=4.1.0 in /usr/local/lib/python3.6/dist-packages (from konlpy) (4.2.6)\n",
            "Collecting tweepy>=3.7.0\n",
            "  Downloading https://files.pythonhosted.org/packages/67/c3/6bed87f3b1e5ed2f34bd58bf7978e308c86e255193916be76e5a5ce5dfca/tweepy-3.10.0-py2.py3-none-any.whl\n",
            "Collecting beautifulsoup4==4.6.0\n",
            "\u001b[?25l  Downloading https://files.pythonhosted.org/packages/9e/d4/10f46e5cfac773e22707237bfcd51bbffeaf0a576b0a847ec7ab15bd7ace/beautifulsoup4-4.6.0-py3-none-any.whl (86kB)\n",
            "\u001b[K     |████████████████████████████████| 92kB 14.4MB/s \n",
            "\u001b[?25hRequirement already satisfied: typing-extensions; python_version < \"3.8\" in /usr/local/lib/python3.6/dist-packages (from JPype1>=0.7.0->konlpy) (3.7.4.3)\n",
            "Requirement already satisfied: requests-oauthlib>=0.7.0 in /usr/local/lib/python3.6/dist-packages (from tweepy>=3.7.0->konlpy) (1.3.0)\n",
            "Requirement already satisfied: requests[socks]>=2.11.1 in /usr/local/lib/python3.6/dist-packages (from tweepy>=3.7.0->konlpy) (2.23.0)\n",
            "Requirement already satisfied: six>=1.10.0 in /usr/local/lib/python3.6/dist-packages (from tweepy>=3.7.0->konlpy) (1.15.0)\n",
            "Requirement already satisfied: oauthlib>=3.0.0 in /usr/local/lib/python3.6/dist-packages (from requests-oauthlib>=0.7.0->tweepy>=3.7.0->konlpy) (3.1.0)\n",
            "Requirement already satisfied: urllib3!=1.25.0,!=1.25.1,<1.26,>=1.21.1 in /usr/local/lib/python3.6/dist-packages (from requests[socks]>=2.11.1->tweepy>=3.7.0->konlpy) (1.24.3)\n",
            "Requirement already satisfied: idna<3,>=2.5 in /usr/local/lib/python3.6/dist-packages (from requests[socks]>=2.11.1->tweepy>=3.7.0->konlpy) (2.10)\n",
            "Requirement already satisfied: certifi>=2017.4.17 in /usr/local/lib/python3.6/dist-packages (from requests[socks]>=2.11.1->tweepy>=3.7.0->konlpy) (2020.12.5)\n",
            "Requirement already satisfied: chardet<4,>=3.0.2 in /usr/local/lib/python3.6/dist-packages (from requests[socks]>=2.11.1->tweepy>=3.7.0->konlpy) (3.0.4)\n",
            "Requirement already satisfied: PySocks!=1.5.7,>=1.5.6; extra == \"socks\" in /usr/local/lib/python3.6/dist-packages (from requests[socks]>=2.11.1->tweepy>=3.7.0->konlpy) (1.7.1)\n",
            "Installing collected packages: JPype1, colorama, tweepy, beautifulsoup4, konlpy\n",
            "  Found existing installation: tweepy 3.6.0\n",
            "    Uninstalling tweepy-3.6.0:\n",
            "      Successfully uninstalled tweepy-3.6.0\n",
            "  Found existing installation: beautifulsoup4 4.6.3\n",
            "    Uninstalling beautifulsoup4-4.6.3:\n",
            "      Successfully uninstalled beautifulsoup4-4.6.3\n",
            "Successfully installed JPype1-1.2.1 beautifulsoup4-4.6.0 colorama-0.4.4 konlpy-0.5.2 tweepy-3.10.0\n"
          ],
          "name": "stdout"
        }
      ]
    },
    {
      "cell_type": "code",
      "metadata": {
        "id": "vUusS2vgZ_Zx"
      },
      "source": [
        "# 패키지 설치\n",
        "import konlpy\n",
        "import pandas as pd\n",
        "import numpy as np\n",
        "from konlpy.tag import Twitter\n",
        "from sklearn.feature_extraction.text import TfidfVectorizer\n",
        "from keras.models import Sequential\n",
        "from keras.layers import Dense, Dropout, Activation\n",
        "from sklearn import model_selection, metrics\n",
        "\n",
        "# 토큰 파서\n",
        "def twitter_tokenizer(text):\n",
        "    return Twitter().morphs(text)"
      ],
      "execution_count": 2,
      "outputs": []
    },
    {
      "cell_type": "code",
      "metadata": {
        "colab": {
          "base_uri": "https://localhost:8080/"
        },
        "id": "PYD7eARjMZ7d",
        "outputId": "a51aed44-b1c8-478b-db6c-c2fa361a2112"
      },
      "source": [
        "twitter_tokenizer(\"Welcome to data science world!...한국말도 똑 같아요...\")"
      ],
      "execution_count": 3,
      "outputs": [
        {
          "output_type": "stream",
          "text": [
            "/usr/local/lib/python3.6/dist-packages/konlpy/tag/_okt.py:16: UserWarning: \"Twitter\" has changed to \"Okt\" since KoNLPy v0.4.5.\n",
            "  warn('\"Twitter\" has changed to \"Okt\" since KoNLPy v0.4.5.')\n"
          ],
          "name": "stderr"
        },
        {
          "output_type": "execute_result",
          "data": {
            "text/plain": [
              "['Welcome',\n",
              " 'to',\n",
              " 'data',\n",
              " 'science',\n",
              " 'world',\n",
              " '!...',\n",
              " '한국말',\n",
              " '도',\n",
              " '똑',\n",
              " '같아요',\n",
              " '...']"
            ]
          },
          "metadata": {
            "tags": []
          },
          "execution_count": 3
        }
      ]
    },
    {
      "cell_type": "code",
      "metadata": {
        "id": "R0svk5kdfrBs",
        "colab": {
          "base_uri": "https://localhost:8080/"
        },
        "outputId": "312bc2ad-f97c-4e2e-8143-4a0c64febd06"
      },
      "source": [
        "!curl -L https://bit.ly/2X9Owwr -o ratings_train.txt\n",
        "!curl -L https://bit.ly/2WuLd5I -o ratings_test.txt"
      ],
      "execution_count": 4,
      "outputs": [
        {
          "output_type": "stream",
          "text": [
            "  % Total    % Received % Xferd  Average Speed   Time    Time     Time  Current\n",
            "                                 Dload  Upload   Total   Spent    Left  Speed\n",
            "\r  0     0    0     0    0     0      0      0 --:--:-- --:--:-- --:--:--     0\r100   152  100   152    0     0   4222      0 --:--:-- --:--:-- --:--:--  4222\n",
            "  0     0    0     0    0     0      0      0 --:--:-- --:--:-- --:--:--     0\n",
            "  0     0    0     0    0     0      0      0 --:--:-- --:--:-- --:--:--     0\n",
            "100 14.0M  100 14.0M    0     0  8067k      0  0:00:01  0:00:01 --:--:-- 13.3M\n",
            "  % Total    % Received % Xferd  Average Speed   Time    Time     Time  Current\n",
            "                                 Dload  Upload   Total   Spent    Left  Speed\n",
            "100   151  100   151    0     0   7947      0 --:--:-- --:--:-- --:--:--  7947\n",
            "  0     0    0     0    0     0      0      0 --:--:-- --:--:-- --:--:--     0\n",
            "  0     0    0     0    0     0      0      0 --:--:-- --:--:-- --:--:--     0\n",
            "100 4827k  100 4827k    0     0  4580k      0  0:00:01  0:00:01 --:--:--  167M\n"
          ],
          "name": "stdout"
        }
      ]
    },
    {
      "cell_type": "code",
      "metadata": {
        "id": "yUHPI7zrhcQ-"
      },
      "source": [
        "# 데이터 로드\n",
        "df_train = pd.read_csv('ratings_train.txt', delimiter='\\t', keep_default_na=False)\n",
        "df_test = pd.read_csv('ratings_test.txt', delimiter='\\t', keep_default_na=False)\n"
      ],
      "execution_count": 5,
      "outputs": []
    },
    {
      "cell_type": "code",
      "metadata": {
        "id": "aTYJbZvmheI1",
        "colab": {
          "base_uri": "https://localhost:8080/",
          "height": 138
        },
        "outputId": "0d690ad1-6700-4db4-f100-5df4d2671e96"
      },
      "source": [
        "df_train[:3]"
      ],
      "execution_count": 6,
      "outputs": [
        {
          "output_type": "execute_result",
          "data": {
            "text/html": [
              "<div>\n",
              "<style scoped>\n",
              "    .dataframe tbody tr th:only-of-type {\n",
              "        vertical-align: middle;\n",
              "    }\n",
              "\n",
              "    .dataframe tbody tr th {\n",
              "        vertical-align: top;\n",
              "    }\n",
              "\n",
              "    .dataframe thead th {\n",
              "        text-align: right;\n",
              "    }\n",
              "</style>\n",
              "<table border=\"1\" class=\"dataframe\">\n",
              "  <thead>\n",
              "    <tr style=\"text-align: right;\">\n",
              "      <th></th>\n",
              "      <th>id</th>\n",
              "      <th>document</th>\n",
              "      <th>label</th>\n",
              "    </tr>\n",
              "  </thead>\n",
              "  <tbody>\n",
              "    <tr>\n",
              "      <th>0</th>\n",
              "      <td>9976970</td>\n",
              "      <td>아 더빙.. 진짜 짜증나네요 목소리</td>\n",
              "      <td>0</td>\n",
              "    </tr>\n",
              "    <tr>\n",
              "      <th>1</th>\n",
              "      <td>3819312</td>\n",
              "      <td>흠...포스터보고 초딩영화줄....오버연기조차 가볍지 않구나</td>\n",
              "      <td>1</td>\n",
              "    </tr>\n",
              "    <tr>\n",
              "      <th>2</th>\n",
              "      <td>10265843</td>\n",
              "      <td>너무재밓었다그래서보는것을추천한다</td>\n",
              "      <td>0</td>\n",
              "    </tr>\n",
              "  </tbody>\n",
              "</table>\n",
              "</div>"
            ],
            "text/plain": [
              "         id                           document  label\n",
              "0   9976970                아 더빙.. 진짜 짜증나네요 목소리      0\n",
              "1   3819312  흠...포스터보고 초딩영화줄....오버연기조차 가볍지 않구나      1\n",
              "2  10265843                  너무재밓었다그래서보는것을추천한다      0"
            ]
          },
          "metadata": {
            "tags": []
          },
          "execution_count": 6
        }
      ]
    },
    {
      "cell_type": "code",
      "metadata": {
        "id": "UKrYF8xLqkSq",
        "colab": {
          "base_uri": "https://localhost:8080/"
        },
        "outputId": "8a9c4889-0a34-4b71-ebaa-17c5380f3c6a"
      },
      "source": [
        "df_train['document'].values == df_train['document'].to_numpy()"
      ],
      "execution_count": 7,
      "outputs": [
        {
          "output_type": "execute_result",
          "data": {
            "text/plain": [
              "array([ True,  True,  True, ...,  True,  True,  True])"
            ]
          },
          "metadata": {
            "tags": []
          },
          "execution_count": 7
        }
      ]
    },
    {
      "cell_type": "code",
      "metadata": {
        "id": "vXK-nf2zbPFf"
      },
      "source": [
        "text_train, y_train = df_train['document'].to_numpy(), df_train['label'].to_numpy()\n",
        "text_test, y_test = df_test['document'].to_numpy(), df_test['label'].to_numpy()"
      ],
      "execution_count": 8,
      "outputs": []
    },
    {
      "cell_type": "code",
      "metadata": {
        "colab": {
          "base_uri": "https://localhost:8080/"
        },
        "id": "r3DQGNzQPvDT",
        "outputId": "e0a71612-5cca-4308-8ad3-a136d0fe09b4"
      },
      "source": [
        "text_train.shape, y_train.shape, text_test.shape, y_test.shape"
      ],
      "execution_count": 9,
      "outputs": [
        {
          "output_type": "execute_result",
          "data": {
            "text/plain": [
              "((150000,), (150000,), (50000,), (50000,))"
            ]
          },
          "metadata": {
            "tags": []
          },
          "execution_count": 9
        }
      ]
    },
    {
      "cell_type": "code",
      "metadata": {
        "id": "8DFLqtiMQPqS"
      },
      "source": [
        "# too much... -> let's take few of them\n",
        "text_train, y_train = text_train[:2000], y_train[:2000]\n",
        "text_test, y_test = text_test[:1000], y_test[:1000]"
      ],
      "execution_count": 10,
      "outputs": []
    },
    {
      "cell_type": "code",
      "metadata": {
        "id": "mV7O1GW9uXJN",
        "colab": {
          "base_uri": "https://localhost:8080/"
        },
        "outputId": "5f9f125b-c10b-49ba-b1b6-b7c0a1bd53b8"
      },
      "source": [
        "cv = TfidfVectorizer(tokenizer=twitter_tokenizer, max_features=3000)\n",
        "X_train = cv.fit_transform(text_train)\n",
        "X_test = cv.transform(text_test)"
      ],
      "execution_count": 11,
      "outputs": [
        {
          "output_type": "stream",
          "text": [
            "/usr/local/lib/python3.6/dist-packages/konlpy/tag/_okt.py:16: UserWarning: \"Twitter\" has changed to \"Okt\" since KoNLPy v0.4.5.\n",
            "  warn('\"Twitter\" has changed to \"Okt\" since KoNLPy v0.4.5.')\n",
            "/usr/local/lib/python3.6/dist-packages/konlpy/tag/_okt.py:16: UserWarning: \"Twitter\" has changed to \"Okt\" since KoNLPy v0.4.5.\n",
            "  warn('\"Twitter\" has changed to \"Okt\" since KoNLPy v0.4.5.')\n"
          ],
          "name": "stderr"
        }
      ]
    },
    {
      "cell_type": "code",
      "metadata": {
        "id": "OQa7k9WDnvMC",
        "colab": {
          "base_uri": "https://localhost:8080/"
        },
        "outputId": "3305e8f8-8cb1-444d-92bf-906c5664d2d6"
      },
      "source": [
        "X_train.shape, y_train.shape, X_test.shape, y_test.shape"
      ],
      "execution_count": 12,
      "outputs": [
        {
          "output_type": "execute_result",
          "data": {
            "text/plain": [
              "((2000, 3000), (2000,), (1000, 3000), (1000,))"
            ]
          },
          "metadata": {
            "tags": []
          },
          "execution_count": 12
        }
      ]
    },
    {
      "cell_type": "code",
      "metadata": {
        "colab": {
          "base_uri": "https://localhost:8080/"
        },
        "id": "x6qrufHkzJ75",
        "outputId": "5fd08ad8-b613-4f62-9fcb-4f9c775751ac"
      },
      "source": [
        "X_train[0][-10:].toarray()"
      ],
      "execution_count": 13,
      "outputs": [
        {
          "output_type": "execute_result",
          "data": {
            "text/plain": [
              "array([[0., 0., 0., ..., 0., 0., 0.]])"
            ]
          },
          "metadata": {
            "tags": []
          },
          "execution_count": 13
        }
      ]
    },
    {
      "cell_type": "code",
      "metadata": {
        "id": "0f-t_efiGWYV",
        "colab": {
          "base_uri": "https://localhost:8080/"
        },
        "outputId": "0d15b983-e226-43c0-cc47-eaf84bd6508f"
      },
      "source": [
        "y_test[:3]"
      ],
      "execution_count": 14,
      "outputs": [
        {
          "output_type": "execute_result",
          "data": {
            "text/plain": [
              "array([1, 0, 0])"
            ]
          },
          "metadata": {
            "tags": []
          },
          "execution_count": 14
        }
      ]
    },
    {
      "cell_type": "code",
      "metadata": {
        "id": "ZNtFJNw_xMIE",
        "colab": {
          "base_uri": "https://localhost:8080/"
        },
        "outputId": "f3c6a951-d7a9-4f0b-ff89-4455c79ad3aa"
      },
      "source": [
        "cv.get_feature_names()[-5:]"
      ],
      "execution_count": 15,
      "outputs": [
        {
          "output_type": "execute_result",
          "data": {
            "text/plain": [
              "['힘들건데', '힘들게', '힘들다', '힘들었네요', '힘들었음']"
            ]
          },
          "metadata": {
            "tags": []
          },
          "execution_count": 15
        }
      ]
    },
    {
      "cell_type": "markdown",
      "metadata": {
        "id": "1xCm3OMurqM2"
      },
      "source": [
        "# 로지스틱 회귀"
      ]
    },
    {
      "cell_type": "code",
      "metadata": {
        "id": "z2nXu2qirWn-",
        "colab": {
          "base_uri": "https://localhost:8080/"
        },
        "outputId": "d8b4bd52-dde7-4d9a-d20e-9b13d15ef375"
      },
      "source": [
        "from sklearn.linear_model import LogisticRegression\n",
        "lr = LogisticRegression()\n",
        "result = lr.fit(X_train,y_train)\n",
        "feature_names = cv.get_feature_names()\n",
        "print(\"Training : \", result.score(X_train, y_train))\n",
        "print(\"Testing : \", result.score(X_test, y_test))"
      ],
      "execution_count": 16,
      "outputs": [
        {
          "output_type": "stream",
          "text": [
            "Training :  0.916\n",
            "Testing :  0.771\n"
          ],
          "name": "stdout"
        }
      ]
    },
    {
      "cell_type": "markdown",
      "metadata": {
        "id": "FVjDfOWKrnGG"
      },
      "source": [
        "# MLP"
      ]
    },
    {
      "cell_type": "code",
      "metadata": {
        "id": "qcOzFAiRIz3t",
        "colab": {
          "base_uri": "https://localhost:8080/"
        },
        "outputId": "cf976731-5da1-4c04-d123-d7792deb5fd3"
      },
      "source": [
        "# use one-hot encoded target\n",
        "from tensorflow.keras.utils import to_categorical\n",
        "y_train_ohe = to_categorical(y_train)\n",
        "y_test_ohe = to_categorical(y_test)\n",
        "max_words = X_train.shape[1]\n",
        "batch_size = 100\n",
        "nb_epoch = 5\n",
        "\n",
        "model = Sequential()\n",
        "model.add(Dense(64, input_shape=(max_words,)))\n",
        "model.add(Activation('relu'))\n",
        "model.add(Dropout(0.2))\n",
        "model.add(Dense(64))\n",
        "model.add(Dropout(0.2))\n",
        "model.add(Dense(2, activation='softmax'))\n",
        "model.compile(loss='binary_crossentropy', optimizer='adam',\n",
        "              metrics=['accuracy'])\n",
        "\n",
        "model.fit(X_train.toarray(), y_train_ohe, epochs=nb_epoch, \n",
        "          batch_size=batch_size) \n",
        "print(\"Training : \", model.evaluate(X_train.toarray(), y_train_ohe))\n",
        "print(\"Testing : \", model.evaluate(X_test.toarray(), y_test_ohe))"
      ],
      "execution_count": 17,
      "outputs": [
        {
          "output_type": "stream",
          "text": [
            "Epoch 1/5\n",
            "20/20 [==============================] - 2s 17ms/step - loss: 0.6913 - accuracy: 0.5289\n",
            "Epoch 2/5\n",
            "20/20 [==============================] - 0s 2ms/step - loss: 0.6695 - accuracy: 0.7794\n",
            "Epoch 3/5\n",
            "20/20 [==============================] - 0s 2ms/step - loss: 0.5870 - accuracy: 0.8701\n",
            "Epoch 4/5\n",
            "20/20 [==============================] - 0s 2ms/step - loss: 0.4184 - accuracy: 0.9062\n",
            "Epoch 5/5\n",
            "20/20 [==============================] - 0s 2ms/step - loss: 0.2598 - accuracy: 0.9298\n",
            "63/63 [==============================] - 0s 2ms/step - loss: 0.1705 - accuracy: 0.9510\n",
            "Training :  [0.17052431404590607, 0.9509999752044678]\n",
            "32/32 [==============================] - 0s 2ms/step - loss: 0.5006 - accuracy: 0.7620\n",
            "Testing :  [0.5005531311035156, 0.7620000243186951]\n"
          ],
          "name": "stdout"
        }
      ]
    },
    {
      "cell_type": "code",
      "metadata": {
        "colab": {
          "base_uri": "https://localhost:8080/"
        },
        "id": "vkSVmHKIWpSA",
        "outputId": "2db68895-cccf-428b-cfa6-c08eae65b8ca"
      },
      "source": [
        "# use binary target\n",
        "\n",
        "max_words = X_train.shape[1]\n",
        "batch_size = 100\n",
        "nb_epoch = 5\n",
        "\n",
        "model = Sequential()\n",
        "model.add(Dense(64, input_shape=(max_words,)))\n",
        "model.add(Activation('relu'))\n",
        "model.add(Dropout(0.2))\n",
        "model.add(Dense(64))\n",
        "model.add(Dropout(0.2))\n",
        "model.add(Dense(1, activation='sigmoid'))\n",
        "model.compile(loss='binary_crossentropy', optimizer='adam',\n",
        "              metrics=['accuracy'])\n",
        "\n",
        "model.fit(X_train.toarray(), y_train, epochs=nb_epoch, \n",
        "          batch_size=batch_size) \n",
        "print(\"Training : \", model.evaluate(X_train.toarray(), y_train))\n",
        "print(\"Testing : \", model.evaluate(X_test.toarray(), y_test))"
      ],
      "execution_count": 18,
      "outputs": [
        {
          "output_type": "stream",
          "text": [
            "Epoch 1/5\n",
            "20/20 [==============================] - 0s 2ms/step - loss: 0.6922 - accuracy: 0.5317\n",
            "Epoch 2/5\n",
            "20/20 [==============================] - 0s 2ms/step - loss: 0.6668 - accuracy: 0.7496\n",
            "Epoch 3/5\n",
            "20/20 [==============================] - 0s 2ms/step - loss: 0.5784 - accuracy: 0.8557\n",
            "Epoch 4/5\n",
            "20/20 [==============================] - 0s 2ms/step - loss: 0.4025 - accuracy: 0.9064\n",
            "Epoch 5/5\n",
            "20/20 [==============================] - 0s 2ms/step - loss: 0.2497 - accuracy: 0.9257\n",
            "63/63 [==============================] - 0s 2ms/step - loss: 0.1617 - accuracy: 0.9600\n",
            "Training :  [0.16168324649333954, 0.9599999785423279]\n",
            "32/32 [==============================] - 0s 2ms/step - loss: 0.5045 - accuracy: 0.7590\n",
            "Testing :  [0.5044946074485779, 0.7590000033378601]\n"
          ],
          "name": "stdout"
        }
      ]
    },
    {
      "cell_type": "markdown",
      "metadata": {
        "id": "HPxkhfIbrj3s"
      },
      "source": [
        "# RNN"
      ]
    },
    {
      "cell_type": "code",
      "metadata": {
        "id": "FO0oSWc6uuqZ",
        "colab": {
          "base_uri": "https://localhost:8080/"
        },
        "outputId": "7fcec94b-6919-4d32-902f-5052fbd665f2"
      },
      "source": [
        "# just for checking\n",
        "X_train.A[0] == X_train.toarray()[0]"
      ],
      "execution_count": 19,
      "outputs": [
        {
          "output_type": "execute_result",
          "data": {
            "text/plain": [
              "array([ True,  True,  True, ...,  True,  True,  True])"
            ]
          },
          "metadata": {
            "tags": []
          },
          "execution_count": 19
        }
      ]
    },
    {
      "cell_type": "code",
      "metadata": {
        "colab": {
          "base_uri": "https://localhost:8080/"
        },
        "id": "XrnHPa9-ZjMv",
        "outputId": "c984e981-b96b-41c2-e9cc-372e4ccefe97"
      },
      "source": [
        "X_train.shape, X_test.shape, y_train.shape, y_test.shape"
      ],
      "execution_count": 20,
      "outputs": [
        {
          "output_type": "execute_result",
          "data": {
            "text/plain": [
              "((2000, 3000), (1000, 3000), (2000,), (1000,))"
            ]
          },
          "metadata": {
            "tags": []
          },
          "execution_count": 20
        }
      ]
    },
    {
      "cell_type": "code",
      "metadata": {
        "id": "6CniODJt9RSV",
        "colab": {
          "base_uri": "https://localhost:8080/"
        },
        "outputId": "f14559ef-78a7-4259-84bf-91d07dafc532"
      },
      "source": [
        "# RNN 학습을 위한 데이터 재배열\n",
        "X_train_rnn = X_train.A.reshape((X_train.shape[0], 1, X_train.shape[1]))\n",
        "X_test_rnn = X_test.A.reshape((X_test.shape[0], 1, X_test.shape[1]))\n",
        "\n",
        "print(X_train_rnn.shape, X_test_rnn.shape)"
      ],
      "execution_count": 21,
      "outputs": [
        {
          "output_type": "stream",
          "text": [
            "(2000, 1, 3000) (1000, 1, 3000)\n"
          ],
          "name": "stdout"
        }
      ]
    },
    {
      "cell_type": "code",
      "metadata": {
        "id": "RcczPT0RnZBj"
      },
      "source": [
        "from keras.models import Sequential\n",
        "from keras.layers import SimpleRNN, Dense\n",
        "\n",
        "model = Sequential()\n",
        "model.add(SimpleRNN(128, \n",
        "                    input_shape=(X_train_rnn.shape[1], X_train_rnn.shape[2]), \n",
        "                    return_sequences=True))\n",
        "# return_sequences: return the last output in the output sequence, or the full sequence\n",
        "# By this, it is possible to access the hidden state output for each input time step.\n",
        "model.add(Activation('relu'))\n",
        "model.add(Dropout(0.2))\n",
        "model.add(SimpleRNN(128))\n",
        "model.add(Dropout(0.2))\n",
        "model.add(Dense(2, activation=\"softmax\"))\n",
        "model.compile(loss='categorical_crossentropy', \n",
        "              optimizer='adam', metrics=['accuracy'])   "
      ],
      "execution_count": 22,
      "outputs": []
    },
    {
      "cell_type": "code",
      "metadata": {
        "id": "khpbDJzeviTx",
        "colab": {
          "base_uri": "https://localhost:8080/"
        },
        "outputId": "9061ce01-0ca2-450c-ebc4-d3f28e04cfb3"
      },
      "source": [
        "model.summary()"
      ],
      "execution_count": null,
      "outputs": [
        {
          "output_type": "stream",
          "text": [
            "Model: \"sequential_2\"\n",
            "_________________________________________________________________\n",
            "Layer (type)                 Output Shape              Param #   \n",
            "=================================================================\n",
            "simple_rnn (SimpleRNN)       (None, 1, 128)            400512    \n",
            "_________________________________________________________________\n",
            "activation_2 (Activation)    (None, 1, 128)            0         \n",
            "_________________________________________________________________\n",
            "dropout_4 (Dropout)          (None, 1, 128)            0         \n",
            "_________________________________________________________________\n",
            "simple_rnn_1 (SimpleRNN)     (None, 128)               32896     \n",
            "_________________________________________________________________\n",
            "dropout_5 (Dropout)          (None, 128)               0         \n",
            "_________________________________________________________________\n",
            "dense_6 (Dense)              (None, 2)                 258       \n",
            "=================================================================\n",
            "Total params: 433,666\n",
            "Trainable params: 433,666\n",
            "Non-trainable params: 0\n",
            "_________________________________________________________________\n"
          ],
          "name": "stdout"
        }
      ]
    },
    {
      "cell_type": "code",
      "metadata": {
        "id": "Xyg_34khnY-z",
        "colab": {
          "base_uri": "https://localhost:8080/"
        },
        "outputId": "a68e3bc5-4932-4c45-a592-6e9ec07f8e58"
      },
      "source": [
        "model.fit(X_train_rnn, y_train_ohe, batch_size = 100,\n",
        "          epochs=nb_epoch)"
      ],
      "execution_count": 23,
      "outputs": [
        {
          "output_type": "stream",
          "text": [
            "Epoch 1/5\n",
            "20/20 [==============================] - 1s 4ms/step - loss: 0.6893 - accuracy: 0.5567\n",
            "Epoch 2/5\n",
            "20/20 [==============================] - 0s 4ms/step - loss: 0.6144 - accuracy: 0.8263\n",
            "Epoch 3/5\n",
            "20/20 [==============================] - 0s 4ms/step - loss: 0.3799 - accuracy: 0.9060\n",
            "Epoch 4/5\n",
            "20/20 [==============================] - 0s 4ms/step - loss: 0.1770 - accuracy: 0.9485\n",
            "Epoch 5/5\n",
            "20/20 [==============================] - 0s 4ms/step - loss: 0.0783 - accuracy: 0.9842\n"
          ],
          "name": "stdout"
        },
        {
          "output_type": "execute_result",
          "data": {
            "text/plain": [
              "<tensorflow.python.keras.callbacks.History at 0x7f63e00829b0>"
            ]
          },
          "metadata": {
            "tags": []
          },
          "execution_count": 23
        }
      ]
    },
    {
      "cell_type": "code",
      "metadata": {
        "id": "MVlbejnyAKvF",
        "colab": {
          "base_uri": "https://localhost:8080/"
        },
        "outputId": "4afba4da-788f-4212-e042-ed1afa849e2e"
      },
      "source": [
        "y_pred = np.argmax(model.predict(X_test_rnn), axis=1)\n",
        "print(\"accuracy score: \", metrics.accuracy_score(y_test, y_pred))\n",
        "print(\"Training : \", model.evaluate(X_train_rnn, y_train_ohe))\n",
        "print(\"Testing : \", model.evaluate(X_test_rnn, y_test_ohe))"
      ],
      "execution_count": 24,
      "outputs": [
        {
          "output_type": "stream",
          "text": [
            "accuracy score:  0.762\n",
            "63/63 [==============================] - 0s 3ms/step - loss: 0.0495 - accuracy: 0.9895\n",
            "Training :  [0.04952521622180939, 0.9894999861717224]\n",
            "32/32 [==============================] - 0s 2ms/step - loss: 0.6084 - accuracy: 0.7620\n",
            "Testing :  [0.6084091067314148, 0.7620000243186951]\n"
          ],
          "name": "stdout"
        }
      ]
    },
    {
      "cell_type": "markdown",
      "metadata": {
        "id": "D932OfhL4tsv"
      },
      "source": [
        "# LSTM\n",
        "- https://colah.github.io/posts/2015-08-Understanding-LSTMs/"
      ]
    },
    {
      "cell_type": "code",
      "metadata": {
        "id": "1DMmgcPpnY7_"
      },
      "source": [
        "from keras.layers import LSTM\n",
        "model = Sequential()\n",
        "model.add(LSTM(128, \n",
        "               input_shape=(X_train_rnn.shape[1], X_train_rnn.shape[2]), \n",
        "               return_sequences=True))\n",
        "model.add(Activation('relu'))\n",
        "model.add(Dropout(0.2))\n",
        "model.add(LSTM(128))\n",
        "model.add(Dropout(0.2))\n",
        "model.add(Dense(2, activation='softmax'))\n",
        "model.compile(loss='categorical_crossentropy', optimizer='adam', metrics=['accuracy'])"
      ],
      "execution_count": 25,
      "outputs": []
    },
    {
      "cell_type": "code",
      "metadata": {
        "id": "1_lAhezqnY1b",
        "colab": {
          "base_uri": "https://localhost:8080/"
        },
        "outputId": "18eaca12-1a96-4eef-c06b-9304234cad14"
      },
      "source": [
        "model.fit(X_train_rnn, y_train_ohe, batch_size = 100,\n",
        "          epochs=nb_epoch)"
      ],
      "execution_count": 28,
      "outputs": [
        {
          "output_type": "stream",
          "text": [
            "Epoch 1/5\n",
            "20/20 [==============================] - 0s 5ms/step - loss: 0.1752 - accuracy: 0.9400\n",
            "Epoch 2/5\n",
            "20/20 [==============================] - 0s 5ms/step - loss: 0.1133 - accuracy: 0.9650\n",
            "Epoch 3/5\n",
            "20/20 [==============================] - 0s 5ms/step - loss: 0.0790 - accuracy: 0.9795\n",
            "Epoch 4/5\n",
            "20/20 [==============================] - 0s 5ms/step - loss: 0.0571 - accuracy: 0.9830\n",
            "Epoch 5/5\n",
            "20/20 [==============================] - 0s 5ms/step - loss: 0.0457 - accuracy: 0.9865\n"
          ],
          "name": "stdout"
        },
        {
          "output_type": "execute_result",
          "data": {
            "text/plain": [
              "<tensorflow.python.keras.callbacks.History at 0x7f6397fb4710>"
            ]
          },
          "metadata": {
            "tags": []
          },
          "execution_count": 28
        }
      ]
    },
    {
      "cell_type": "code",
      "metadata": {
        "id": "NuF_snQCnYym",
        "colab": {
          "base_uri": "https://localhost:8080/"
        },
        "outputId": "16d78d4a-aef6-4eaf-dd05-4d71693f7242"
      },
      "source": [
        "y_pred = np.argmax(model.predict(X_test_rnn), axis=1)\n",
        "print(\"accuracy score: \", metrics.accuracy_score(y_test, y_pred))\n",
        "print(\"Training : \", model.evaluate(X_train_rnn, y_train_ohe))\n",
        "print(\"Testing : \", model.evaluate(X_test_rnn, y_test_ohe))"
      ],
      "execution_count": 29,
      "outputs": [
        {
          "output_type": "stream",
          "text": [
            "accuracy score:  0.757\n",
            "63/63 [==============================] - 0s 3ms/step - loss: 0.0343 - accuracy: 0.9905\n",
            "Training :  [0.034298501908779144, 0.9904999732971191]\n",
            "32/32 [==============================] - 0s 3ms/step - loss: 0.8071 - accuracy: 0.7570\n",
            "Testing :  [0.807087779045105, 0.7570000290870667]\n"
          ],
          "name": "stdout"
        }
      ]
    },
    {
      "cell_type": "markdown",
      "metadata": {
        "id": "m31cOdUC46HW"
      },
      "source": [
        "# GRU"
      ]
    },
    {
      "cell_type": "code",
      "metadata": {
        "id": "E4ny8IcNQvQX"
      },
      "source": [
        "from keras.layers import GRU\n",
        "model = Sequential()\n",
        "model.add(GRU(128, input_shape=(X_train_rnn.shape[1], X_train_rnn.shape[2]), return_sequences=True))\n",
        "model.add(Activation('relu'))\n",
        "model.add(Dropout(0.2))\n",
        "model.add(GRU(128))\n",
        "model.add(Dropout(0.2))\n",
        "model.add(Dense(2, activation='softmax'))\n",
        "model.compile(loss='categorical_crossentropy', optimizer='adam', metrics=['accuracy'])"
      ],
      "execution_count": 30,
      "outputs": []
    },
    {
      "cell_type": "code",
      "metadata": {
        "id": "36JZepib5BUG",
        "colab": {
          "base_uri": "https://localhost:8080/"
        },
        "outputId": "54bf6dd8-8ba5-465a-e34b-863e0f3132ee"
      },
      "source": [
        "model.fit(X_train_rnn, y_train_ohe, batch_size = 100,\n",
        "          epochs=nb_epoch)"
      ],
      "execution_count": 31,
      "outputs": [
        {
          "output_type": "stream",
          "text": [
            "Epoch 1/5\n",
            "20/20 [==============================] - 3s 4ms/step - loss: 0.6923 - accuracy: 0.5225\n",
            "Epoch 2/5\n",
            "20/20 [==============================] - 0s 4ms/step - loss: 0.6752 - accuracy: 0.7333\n",
            "Epoch 3/5\n",
            "20/20 [==============================] - 0s 4ms/step - loss: 0.5549 - accuracy: 0.8871\n",
            "Epoch 4/5\n",
            "20/20 [==============================] - 0s 4ms/step - loss: 0.3117 - accuracy: 0.9079\n",
            "Epoch 5/5\n",
            "20/20 [==============================] - 0s 4ms/step - loss: 0.1642 - accuracy: 0.9418\n"
          ],
          "name": "stdout"
        },
        {
          "output_type": "execute_result",
          "data": {
            "text/plain": [
              "<tensorflow.python.keras.callbacks.History at 0x7f63974bc080>"
            ]
          },
          "metadata": {
            "tags": []
          },
          "execution_count": 31
        }
      ]
    },
    {
      "cell_type": "code",
      "metadata": {
        "id": "4DDCYicE5i11",
        "colab": {
          "base_uri": "https://localhost:8080/"
        },
        "outputId": "996e0452-7526-4bbc-8886-65670b86a3d5"
      },
      "source": [
        "y_pred = np.argmax(model.predict(X_test_rnn), axis=1)\n",
        "print(\"accuracy score: \", metrics.accuracy_score(y_test, y_pred))\n",
        "print(\"Training : \", model.evaluate(X_train_rnn, y_train_ohe))\n",
        "print(\"Testing : \", model.evaluate(X_test_rnn, y_test_ohe))"
      ],
      "execution_count": 32,
      "outputs": [
        {
          "output_type": "stream",
          "text": [
            "accuracy score:  0.757\n",
            "63/63 [==============================] - 1s 3ms/step - loss: 0.1004 - accuracy: 0.9690\n",
            "Training :  [0.10035163909196854, 0.968999981880188]\n",
            "32/32 [==============================] - 0s 3ms/step - loss: 0.5828 - accuracy: 0.7570\n",
            "Testing :  [0.5828368663787842, 0.7570000290870667]\n"
          ],
          "name": "stdout"
        }
      ]
    }
  ]
}