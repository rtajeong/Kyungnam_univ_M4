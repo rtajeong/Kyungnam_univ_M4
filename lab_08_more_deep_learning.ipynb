{
  "nbformat": 4,
  "nbformat_minor": 0,
  "metadata": {
    "accelerator": "GPU",
    "colab": {
      "name": "lab_08_more_deep_learning.ipynb",
      "provenance": [],
      "collapsed_sections": [],
      "toc_visible": true,
      "include_colab_link": true
    },
    "kernelspec": {
      "display_name": "Python 3",
      "language": "python",
      "name": "python3"
    },
    "language_info": {
      "codemirror_mode": {
        "name": "ipython",
        "version": 3
      },
      "file_extension": ".py",
      "mimetype": "text/x-python",
      "name": "python",
      "nbconvert_exporter": "python",
      "pygments_lexer": "ipython3",
      "version": "3.6.8"
    }
  },
  "cells": [
    {
      "cell_type": "markdown",
      "metadata": {
        "id": "view-in-github",
        "colab_type": "text"
      },
      "source": [
        "<a href=\"https://colab.research.google.com/github/rtajeong/Kyungnam_univ_M4/blob/main/lab_08_more_deep_learning.ipynb\" target=\"_parent\"><img src=\"https://colab.research.google.com/assets/colab-badge.svg\" alt=\"Open In Colab\"/></a>"
      ]
    },
    {
      "cell_type": "markdown",
      "metadata": {
        "id": "kkMOaHUS7u2h"
      },
      "source": [
        "# More examples on Deep Learning\n",
        "- from \"모두의 딥러닝\""
      ]
    },
    {
      "cell_type": "markdown",
      "metadata": {
        "id": "9XMThsva7u2j"
      },
      "source": [
        "## Deep Learning with Mnist datset"
      ]
    },
    {
      "cell_type": "code",
      "metadata": {
        "id": "syxAssk07u2k"
      },
      "source": [
        "from tensorflow.keras.datasets import mnist\n",
        "from tensorflow.keras import utils\n",
        "from tensorflow.keras.models import Sequential\n",
        "from tensorflow.keras.layers import Dense, Embedding\n",
        "from tensorflow.keras.callbacks import ModelCheckpoint, EarlyStopping\n",
        "\n",
        "import numpy as np\n",
        "import sys\n",
        "import os\n",
        "import tensorflow as tf\n",
        "\n",
        "import pandas as pd\n",
        "import seaborn as sns\n",
        "import matplotlib.pyplot as plt\n",
        "%matplotlib inline\n",
        "import numpy as np"
      ],
      "execution_count": 1,
      "outputs": []
    },
    {
      "cell_type": "code",
      "metadata": {
        "colab": {
          "base_uri": "https://localhost:8080/",
          "height": 334
        },
        "id": "gdwzKdiB7u2s",
        "outputId": "ff9eb075-0944-4d94-fb11-0c26c2928f41"
      },
      "source": [
        "# MNIST데이터셋 불러오기\n",
        "(X_train, Y_class_train), (X_test, Y_class_test) = mnist.load_data()\n",
        "\n",
        "print(\"학습셋 이미지 수 : %d 개\" % (X_train.shape[0]))\n",
        "print(\"테스트셋 이미지 수 : %d 개\" % (X_test.shape[0]))\n",
        "\n",
        "# 그래프로 확인\n",
        "import matplotlib.pyplot as plt\n",
        "plt.imshow(X_train[0], cmap='Greys')\n",
        "plt.show()"
      ],
      "execution_count": 2,
      "outputs": [
        {
          "output_type": "stream",
          "text": [
            "Downloading data from https://storage.googleapis.com/tensorflow/tf-keras-datasets/mnist.npz\n",
            "11493376/11490434 [==============================] - 0s 0us/step\n",
            "학습셋 이미지 수 : 60000 개\n",
            "테스트셋 이미지 수 : 10000 개\n"
          ],
          "name": "stdout"
        },
        {
          "output_type": "display_data",
          "data": {
            "image/png": "[encoded data removed]",
            "text/plain": [
              "<Figure size 432x288 with 1 Axes>"
            ]
          },
          "metadata": {
            "tags": [],
            "needs_background": "light"
          }
        }
      ]
    },
    {
      "cell_type": "code",
      "metadata": {
        "colab": {
          "base_uri": "https://localhost:8080/"
        },
        "id": "W6BELGP-7u2x",
        "outputId": "f0ecbb02-0879-480d-f8cc-0fb6428f4613"
      },
      "source": [
        "# 코드로 확인\n",
        "X_train.shape, Y_class_train.shape"
      ],
      "execution_count": 3,
      "outputs": [
        {
          "output_type": "execute_result",
          "data": {
            "text/plain": [
              "((60000, 28, 28), (60000,))"
            ]
          },
          "metadata": {
            "tags": []
          },
          "execution_count": 3
        }
      ]
    },
    {
      "cell_type": "code",
      "metadata": {
        "colab": {
          "base_uri": "https://localhost:8080/"
        },
        "id": "mBRiWsZk7u22",
        "outputId": "66bc820e-bef8-41d2-d522-77dfd5dd7db9"
      },
      "source": [
        "# 차원 변환 과정\n",
        "X_train = X_train.reshape(X_train.shape[0], 784).astype('float64') / 255\n",
        "X_test  = X_test.reshape(X_test.shape[0], 784).astype('float64')  / 255\n",
        "\n",
        "# 바이너리화 과정\n",
        "Y_train = utils.to_categorical(Y_class_train, 10)\n",
        "Y_test = utils.to_categorical(Y_class_test, 10)\n",
        "\n",
        "# X_train[0], Y_train[0]\n",
        "X_train.shape, Y_train.shape"
      ],
      "execution_count": 4,
      "outputs": [
        {
          "output_type": "execute_result",
          "data": {
            "text/plain": [
              "((60000, 784), (60000, 10))"
            ]
          },
          "metadata": {
            "tags": []
          },
          "execution_count": 4
        }
      ]
    },
    {
      "cell_type": "markdown",
      "metadata": {
        "id": "D4y_1q3kNIRp"
      },
      "source": [
        "### MLP model"
      ]
    },
    {
      "cell_type": "code",
      "metadata": {
        "colab": {
          "base_uri": "https://localhost:8080/",
          "height": 1000
        },
        "id": "rtr3UalS7u28",
        "outputId": "359c6bb0-9783-463e-e3e2-5df22f14b5c3"
      },
      "source": [
        "# model\n",
        "model = Sequential()\n",
        "model.add(Dense(512, input_dim=784, activation='relu'))\n",
        "model.add(Dense(10, activation='softmax'))\n",
        "\n",
        "# model environment (compile)\n",
        "model.compile(loss='categorical_crossentropy',\n",
        "              optimizer='adam',\n",
        "              metrics=['accuracy'])\n",
        "\n",
        "# model callbacks\n",
        "MODEL_DIR = './mnist_model/'\n",
        "if not os.path.exists(MODEL_DIR):\n",
        "    os.mkdir(MODEL_DIR)\n",
        "\n",
        "modelpath=\"./mnist_model/{epoch:02d}-{val_loss:.4f}.hdf5\"\n",
        "checkpointer = ModelCheckpoint(filepath=modelpath, monitor='val_loss', verbose=1, save_best_only=True)\n",
        "early_stopping_callback = EarlyStopping(monitor='val_loss', patience=10)\n",
        "\n",
        "# model fitting (train)\n",
        "history = model.fit(X_train, Y_train, validation_data=(X_test, Y_test), \n",
        "                    epochs=30, batch_size=200, verbose=0, \n",
        "                    callbacks=[early_stopping_callback, checkpointer])\n",
        "\n",
        "# model evaluation (test)\n",
        "print(\"\\n Test Accuracy: %.4f\" % (model.evaluate(X_test, Y_test)[1]))\n",
        "\n",
        "# loss\n",
        "y_vloss = history.history['val_loss']\n",
        "y_loss = history.history['loss']\n",
        "\n",
        "x_len = np.arange(len(y_loss))\n",
        "plt.plot(x_len, y_vloss, marker='.', c=\"red\", label='Testset_loss')\n",
        "plt.plot(x_len, y_loss, marker='.', c=\"blue\", label='Trainset_loss')\n",
        "\n",
        "plt.legend(loc='upper right')\n",
        "# plt.axis([0, 20, 0, 0.35])\n",
        "plt.grid()\n",
        "plt.xlabel('epoch')\n",
        "plt.ylabel('loss')\n",
        "plt.show()\n"
      ],
      "execution_count": 5,
      "outputs": [
        {
          "output_type": "stream",
          "text": [
            "\n",
            "Epoch 00001: val_loss improved from inf to 0.17117, saving model to ./mnist_model/01-0.1712.hdf5\n",
            "\n",
            "Epoch 00002: val_loss improved from 0.17117 to 0.10911, saving model to ./mnist_model/02-0.1091.hdf5\n",
            "\n",
            "Epoch 00003: val_loss improved from 0.10911 to 0.08820, saving model to ./mnist_model/03-0.0882.hdf5\n",
            "\n",
            "Epoch 00004: val_loss improved from 0.08820 to 0.07520, saving model to ./mnist_model/04-0.0752.hdf5\n",
            "\n",
            "Epoch 00005: val_loss improved from 0.07520 to 0.06906, saving model to ./mnist_model/05-0.0691.hdf5\n",
            "\n",
            "Epoch 00006: val_loss improved from 0.06906 to 0.06606, saving model to ./mnist_model/06-0.0661.hdf5\n",
            "\n",
            "Epoch 00007: val_loss improved from 0.06606 to 0.06316, saving model to ./mnist_model/07-0.0632.hdf5\n",
            "\n",
            "Epoch 00008: val_loss did not improve from 0.06316\n",
            "\n",
            "Epoch 00009: val_loss did not improve from 0.06316\n",
            "\n",
            "Epoch 00010: val_loss improved from 0.06316 to 0.06253, saving model to ./mnist_model/10-0.0625.hdf5\n",
            "\n",
            "Epoch 00011: val_loss did not improve from 0.06253\n",
            "\n",
            "Epoch 00012: val_loss did not improve from 0.06253\n",
            "\n",
            "Epoch 00013: val_loss improved from 0.06253 to 0.06191, saving model to ./mnist_model/13-0.0619.hdf5\n",
            "\n",
            "Epoch 00014: val_loss did not improve from 0.06191\n",
            "\n",
            "Epoch 00015: val_loss did not improve from 0.06191\n",
            "\n",
            "Epoch 00016: val_loss did not improve from 0.06191\n",
            "\n",
            "Epoch 00017: val_loss did not improve from 0.06191\n",
            "\n",
            "Epoch 00018: val_loss did not improve from 0.06191\n",
            "\n",
            "Epoch 00019: val_loss did not improve from 0.06191\n",
            "\n",
            "Epoch 00020: val_loss did not improve from 0.06191\n",
            "\n",
            "Epoch 00021: val_loss did not improve from 0.06191\n",
            "\n",
            "Epoch 00022: val_loss did not improve from 0.06191\n",
            "\n",
            "Epoch 00023: val_loss did not improve from 0.06191\n",
            "313/313 [==============================] - 1s 3ms/step - loss: 0.0683 - accuracy: 0.9829\n",
            "\n",
            " Test Accuracy: 0.9829\n"
          ],
          "name": "stdout"
        },
        {
          "output_type": "display_data",
          "data": {
            "image/png": "[encoded data removed]",
            "text/plain": [
              "<Figure size 432x288 with 1 Axes>"
            ]
          },
          "metadata": {
            "tags": [],
            "needs_background": "light"
          }
        }
      ]
    },
    {
      "cell_type": "markdown",
      "metadata": {
        "id": "j0Nxgr067u3E"
      },
      "source": [
        "### Using CNN model"
      ]
    },
    {
      "cell_type": "code",
      "metadata": {
        "id": "juaqam0d7u3H"
      },
      "source": [
        "from keras.datasets import mnist\n",
        "from keras.utils import np_utils\n",
        "from keras.models import Sequential\n",
        "from keras.layers import Dense, Dropout, Flatten, Conv2D, MaxPooling2D\n",
        "from keras.callbacks import ModelCheckpoint,EarlyStopping\n",
        "\n",
        "(X_train, Y_train), (X_test, Y_test) = mnist.load_data()\n",
        "X_train = X_train.reshape(X_train.shape[0], 28, 28, 1).astype('float32') / 255\n",
        "X_test = X_test.reshape(X_test.shape[0], 28, 28, 1).astype('float32') / 255\n",
        "Y_train = utils.to_categorical(Y_train)\n",
        "Y_test = utils.to_categorical(Y_test)"
      ],
      "execution_count": 6,
      "outputs": []
    },
    {
      "cell_type": "code",
      "metadata": {
        "colab": {
          "base_uri": "https://localhost:8080/"
        },
        "id": "3QCxLkCO7u3O",
        "outputId": "c800fd51-2926-40fc-d19e-3e43190e5c00"
      },
      "source": [
        "X_train.shape, Y_train.shape"
      ],
      "execution_count": 7,
      "outputs": [
        {
          "output_type": "execute_result",
          "data": {
            "text/plain": [
              "((60000, 28, 28, 1), (60000, 10))"
            ]
          },
          "metadata": {
            "tags": []
          },
          "execution_count": 7
        }
      ]
    },
    {
      "cell_type": "code",
      "metadata": {
        "colab": {
          "base_uri": "https://localhost:8080/"
        },
        "id": "4qpAVjKJ7u3U",
        "outputId": "7ede84a5-95bf-4d5c-d4dd-19917be96ef5"
      },
      "source": [
        "# 컨볼루션 신경망의 설정\n",
        "model = Sequential()\n",
        "model.add(Conv2D(32, kernel_size=(3, 3), input_shape=(28, 28, 1), activation='relu'))\n",
        "model.add(Conv2D(64, (3, 3), activation='relu'))\n",
        "model.add(MaxPooling2D(pool_size=2))\n",
        "model.add(Dropout(0.25))\n",
        "model.add(Flatten())\n",
        "model.add(Dense(128,  activation='relu'))\n",
        "model.add(Dropout(0.5))\n",
        "model.add(Dense(10, activation='softmax'))\n",
        "model.summary()\n"
      ],
      "execution_count": 8,
      "outputs": [
        {
          "output_type": "stream",
          "text": [
            "Model: \"sequential_1\"\n",
            "_________________________________________________________________\n",
            "Layer (type)                 Output Shape              Param #   \n",
            "=================================================================\n",
            "conv2d (Conv2D)              (None, 26, 26, 32)        320       \n",
            "_________________________________________________________________\n",
            "conv2d_1 (Conv2D)            (None, 24, 24, 64)        18496     \n",
            "_________________________________________________________________\n",
            "max_pooling2d (MaxPooling2D) (None, 12, 12, 64)        0         \n",
            "_________________________________________________________________\n",
            "dropout (Dropout)            (None, 12, 12, 64)        0         \n",
            "_________________________________________________________________\n",
            "flatten (Flatten)            (None, 9216)              0         \n",
            "_________________________________________________________________\n",
            "dense_2 (Dense)              (None, 128)               1179776   \n",
            "_________________________________________________________________\n",
            "dropout_1 (Dropout)          (None, 128)               0         \n",
            "_________________________________________________________________\n",
            "dense_3 (Dense)              (None, 10)                1290      \n",
            "=================================================================\n",
            "Total params: 1,199,882\n",
            "Trainable params: 1,199,882\n",
            "Non-trainable params: 0\n",
            "_________________________________________________________________\n"
          ],
          "name": "stdout"
        }
      ]
    },
    {
      "cell_type": "markdown",
      "metadata": {
        "id": "PBul28HiLzFE"
      },
      "source": [
        "- ModelCheckpoint(): 모델이 학습하면서 정의한 조건을 만족했을 때 Model의 weight 값을 중간 저장한다. 학습시간이 오래 걸린다면, 모델이 개선된 validation score를 도출해낼 때마다 weight를 중간 저장함으로써, 혹시 중간에 memory overflow나 crash가 나더라도 다시 weight를 불러와서 학습을 이어나갈 수 있기 때문에, 시간을 save해 줄 수 있다."
      ]
    },
    {
      "cell_type": "code",
      "metadata": {
        "id": "PgrDk1QIAaTo"
      },
      "source": [
        "import os\n",
        "model.compile(loss='categorical_crossentropy',\n",
        "              optimizer='adam',\n",
        "              metrics=['accuracy'])\n",
        "\n",
        "MODEL_DIR = './mnist_cnn_model/'\n",
        "if not os.path.exists(MODEL_DIR):\n",
        "    os.mkdir(MODEL_DIR)\n",
        "\n",
        "modelpath=\"./mnist_cnn_model/{epoch:02d}-{val_loss:.4f}.hdf5\"\n",
        "checkpointer = ModelCheckpoint(filepath=modelpath, monitor='val_loss', verbose=1, save_best_only=True)\n",
        "early_stopping_callback = EarlyStopping(monitor='val_loss', patience=10)"
      ],
      "execution_count": 9,
      "outputs": []
    },
    {
      "cell_type": "code",
      "metadata": {
        "colab": {
          "base_uri": "https://localhost:8080/"
        },
        "id": "1HaP9ZWd7u3Y",
        "outputId": "c0416763-4ba7-49e6-801e-ea3b2e71feeb"
      },
      "source": [
        "history = model.fit(X_train, Y_train, validation_data=(X_test, Y_test), \n",
        "                    epochs=30, batch_size=200, verbose=0, \n",
        "                    callbacks=[early_stopping_callback,checkpointer])\n",
        "\n",
        "print(\"\\n Test Accuracy: %.4f\" % (model.evaluate(X_test, Y_test)[1]))"
      ],
      "execution_count": 10,
      "outputs": [
        {
          "output_type": "stream",
          "text": [
            "\n",
            "Epoch 00001: val_loss improved from inf to 0.05906, saving model to ./mnist_cnn_model/01-0.0591.hdf5\n",
            "\n",
            "Epoch 00002: val_loss improved from 0.05906 to 0.05130, saving model to ./mnist_cnn_model/02-0.0513.hdf5\n",
            "\n",
            "Epoch 00003: val_loss improved from 0.05130 to 0.03407, saving model to ./mnist_cnn_model/03-0.0341.hdf5\n",
            "\n",
            "Epoch 00004: val_loss improved from 0.03407 to 0.03061, saving model to ./mnist_cnn_model/04-0.0306.hdf5\n",
            "\n",
            "Epoch 00005: val_loss improved from 0.03061 to 0.02887, saving model to ./mnist_cnn_model/05-0.0289.hdf5\n",
            "\n",
            "Epoch 00006: val_loss improved from 0.02887 to 0.02860, saving model to ./mnist_cnn_model/06-0.0286.hdf5\n",
            "\n",
            "Epoch 00007: val_loss improved from 0.02860 to 0.02845, saving model to ./mnist_cnn_model/07-0.0284.hdf5\n",
            "\n",
            "Epoch 00008: val_loss improved from 0.02845 to 0.02641, saving model to ./mnist_cnn_model/08-0.0264.hdf5\n",
            "\n",
            "Epoch 00009: val_loss improved from 0.02641 to 0.02581, saving model to ./mnist_cnn_model/09-0.0258.hdf5\n",
            "\n",
            "Epoch 00010: val_loss improved from 0.02581 to 0.02523, saving model to ./mnist_cnn_model/10-0.0252.hdf5\n",
            "\n",
            "Epoch 00011: val_loss did not improve from 0.02523\n",
            "\n",
            "Epoch 00012: val_loss did not improve from 0.02523\n",
            "\n",
            "Epoch 00013: val_loss did not improve from 0.02523\n",
            "\n",
            "Epoch 00014: val_loss did not improve from 0.02523\n",
            "\n",
            "Epoch 00015: val_loss did not improve from 0.02523\n",
            "\n",
            "Epoch 00016: val_loss did not improve from 0.02523\n",
            "\n",
            "Epoch 00017: val_loss did not improve from 0.02523\n",
            "\n",
            "Epoch 00018: val_loss did not improve from 0.02523\n",
            "\n",
            "Epoch 00019: val_loss did not improve from 0.02523\n",
            "\n",
            "Epoch 00020: val_loss did not improve from 0.02523\n",
            "313/313 [==============================] - 1s 4ms/step - loss: 0.0286 - accuracy: 0.9928\n",
            "\n",
            " Test Accuracy: 0.9928\n"
          ],
          "name": "stdout"
        }
      ]
    },
    {
      "cell_type": "code",
      "metadata": {
        "colab": {
          "base_uri": "https://localhost:8080/",
          "height": 279
        },
        "id": "iHudnYaS7u3d",
        "outputId": "353dff37-c1e5-4826-9e76-187abb1401af"
      },
      "source": [
        "import numpy as np\n",
        "\n",
        "y_vloss = history.history['val_loss']\n",
        "y_loss = history.history['loss']\n",
        "\n",
        "x_len = np.arange(len(y_loss))\n",
        "plt.plot(x_len, y_vloss, marker='.', c=\"red\", label='Testset_loss')\n",
        "plt.plot(x_len, y_loss, marker='.', c=\"blue\", label='Trainset_loss')\n",
        "\n",
        "plt.legend(loc='upper right')\n",
        "plt.grid()\n",
        "plt.xlabel('epoch')\n",
        "plt.ylabel('loss')\n",
        "plt.show()"
      ],
      "execution_count": 11,
      "outputs": [
        {
          "output_type": "display_data",
          "data": {
            "image/png": "[encoded data removed]",
            "text/plain": [
              "<Figure size 432x288 with 1 Axes>"
            ]
          },
          "metadata": {
            "tags": [],
            "needs_background": "light"
          }
        }
      ]
    },
    {
      "cell_type": "code",
      "metadata": {
        "colab": {
          "base_uri": "https://localhost:8080/",
          "height": 299
        },
        "id": "C_6SOQ_5iy_v",
        "outputId": "248a8ad7-5caf-4817-be5f-20b835c67610"
      },
      "source": [
        "from PIL import Image, ImageOps\r\n",
        "image = Image.open('digit9_4.png' ).convert('LA')\r\n",
        "image = ImageOps.grayscale(image)\r\n",
        "image = np.asarray(image.resize((28,28)))\r\n",
        "image = 255. - image\r\n",
        "plt.imshow(image, cmap='Greys')\r\n",
        "print(np.asarray(image).shape)\r\n",
        "# model.predict(image.reshape(1, 28,28,1).astype('float64') / 255)\r\n",
        "model.predict(image.reshape(1, 28,28,1))"
      ],
      "execution_count": 30,
      "outputs": [
        {
          "output_type": "stream",
          "text": [
            "(28, 28)\n"
          ],
          "name": "stdout"
        },
        {
          "output_type": "execute_result",
          "data": {
            "text/plain": [
              "array([[0., 0., 0., 0., 0., 0., 0., 1., 0., 0.]], dtype=float32)"
            ]
          },
          "metadata": {
            "tags": []
          },
          "execution_count": 30
        },
        {
          "output_type": "display_data",
          "data": {
            "image/png": "[encoded data removed]",
            "text/plain": [
              "<Figure size 432x288 with 1 Axes>"
            ]
          },
          "metadata": {
            "tags": [],
            "needs_background": "light"
          }
        }
      ]
    },
    {
      "cell_type": "markdown",
      "metadata": {
        "id": "1VASRZ7K7u3h"
      },
      "source": [
        "## 2. Reuters news category classification"
      ]
    },
    {
      "cell_type": "markdown",
      "metadata": {
        "id": "DnzleueBJLAN"
      },
      "source": [
        "### for exercise\n",
        "- v = Embedding(20001 ,256, input_length=500)\n",
        "  - input_dim: Integer. Size of the vocabulary, i.e. maximum integer index + 1.\n",
        "  - output_dim: Integer. Dimension of the dense embedding.\n",
        "  - input_length: Length of input sequences, when it is constant. This argument is required if you are going to connect Flatten then Dense layers upstream (without it, the shape of the dense outputs cannot be computed).\n",
        "- shape:\n",
        "  - Input shape: 2D tensor with shape: (batch_size, input_length)\n",
        "  - Output shape: 3D tensor with shape: (batch_size, input_length, output_dim).\n",
        "\n",
        "- 임베딩 층은 다음과 같은 세 개의 인자를 받는다.\n",
        "  - 첫번째 인자 : 텍스트 데이터의 전체 단어 집합의 크기다. 만약 갖고 있는 데이터의 단어들이 인코딩이 0부터 20,000까지 되었다면 단어 집합의 크기는 20,001이 되어야 한다. (인덱스에 주의)\n",
        "  - 두번째 인자 : 임베딩이 되고 난 후의 단어의 차원이다. 만약, 이 값을 256으로 준다면 모든 단어의 차원이 256이 된다.\n",
        "  - input_length : 입력 시퀀스의 길이다. 만약 갖고 있는 각 데이터의 길이가 500개의 단어로 구성되어있다면 이 값은 500이 된다.\n",
        "- Turns positive integers (indexes) into dense vectors of fixed size.\n",
        "e.g. [[4], [20]] -> [[0.25, 0.1], [0.6, -0.2]]"
      ]
    },
    {
      "cell_type": "code",
      "metadata": {
        "id": "o4jhuqwoKL0a"
      },
      "source": [
        "# example\n",
        "from keras.preprocessing.text import Tokenizer\n",
        "from keras.preprocessing.sequence import pad_sequences\n",
        "sentence = ['멋있어 최고야 짱이다 감탄이다 우와', \n",
        "            '헛소리 지껄이네', \n",
        "            '닥쳐 자식아', \n",
        "            '우와 대단하다', \n",
        "            '우수한 성적', \n",
        "            '형편없다', \n",
        "            '최상의 퀄리티 멋있어']\n",
        "y_train = [1, 0, 0, 1, 1, 0, 1]    # positive(1) or negative(0)\n",
        "t = Tokenizer()\n",
        "t.fit_on_texts(sentence)"
      ],
      "execution_count": 31,
      "outputs": []
    },
    {
      "cell_type": "code",
      "metadata": {
        "colab": {
          "base_uri": "https://localhost:8080/"
        },
        "id": "OedTDiDkKzyR",
        "outputId": "883e6ad9-94a0-4c70-91a2-9e1f36b92257"
      },
      "source": [
        "t.word_index"
      ],
      "execution_count": 32,
      "outputs": [
        {
          "output_type": "execute_result",
          "data": {
            "text/plain": [
              "{'감탄이다': 5,\n",
              " '닥쳐': 8,\n",
              " '대단하다': 10,\n",
              " '멋있어': 1,\n",
              " '성적': 12,\n",
              " '우수한': 11,\n",
              " '우와': 2,\n",
              " '자식아': 9,\n",
              " '지껄이네': 7,\n",
              " '짱이다': 4,\n",
              " '최고야': 3,\n",
              " '최상의': 14,\n",
              " '퀄리티': 15,\n",
              " '헛소리': 6,\n",
              " '형편없다': 13}"
            ]
          },
          "metadata": {
            "tags": []
          },
          "execution_count": 32
        }
      ]
    },
    {
      "cell_type": "code",
      "metadata": {
        "colab": {
          "base_uri": "https://localhost:8080/"
        },
        "id": "TzkSwvUdLVwD",
        "outputId": "4851418a-1393-4369-c334-bca53c02c3e3"
      },
      "source": [
        "t.texts_to_sequences(sentence)"
      ],
      "execution_count": 33,
      "outputs": [
        {
          "output_type": "execute_result",
          "data": {
            "text/plain": [
              "[[1, 3, 4, 5, 2], [6, 7], [8, 9], [2, 10], [11, 12], [13], [14, 15, 1]]"
            ]
          },
          "metadata": {
            "tags": []
          },
          "execution_count": 33
        }
      ]
    },
    {
      "cell_type": "code",
      "metadata": {
        "colab": {
          "base_uri": "https://localhost:8080/"
        },
        "id": "CwVq7Z5JKx3V",
        "outputId": "f577384b-6b5d-4fba-c8f3-3ab31fac91b9"
      },
      "source": [
        "vocab_size = len(t.word_index)+1\n",
        "x_encoded = t.texts_to_sequences(sentence)\n",
        "max_length = max(len(i) for i in x_encoded)\n",
        "print(max_length)\n",
        "x_padded = pad_sequences(x_encoded, maxlen=max_length, padding='post')\n",
        "print(x_padded)"
      ],
      "execution_count": 34,
      "outputs": [
        {
          "output_type": "stream",
          "text": [
            "5\n",
            "[[ 1  3  4  5  2]\n",
            " [ 6  7  0  0  0]\n",
            " [ 8  9  0  0  0]\n",
            " [ 2 10  0  0  0]\n",
            " [11 12  0  0  0]\n",
            " [13  0  0  0  0]\n",
            " [14 15  1  0  0]]\n"
          ],
          "name": "stdout"
        }
      ]
    },
    {
      "cell_type": "code",
      "metadata": {
        "colab": {
          "base_uri": "https://localhost:8080/"
        },
        "id": "EVlK3_E2MUHW",
        "outputId": "97ea8de0-d7ce-4d1a-e7ef-4d4ce5842a3e"
      },
      "source": [
        "# Embedding(): input shape : (input_dim, output_dim, [input_length])\n",
        "#                           input_length: Length of input sequences, when it is constant. \n",
        "#                           This argument is required if you are going to\n",
        "#                           connect Flatten then Dense layers upstream (without it, \n",
        "#                           the shape of the dense outputs cannot be computed).\n",
        "#              output shape : (batch_size, input_length, output_dim)\n",
        "\n",
        "\n",
        "model = Sequential()\n",
        "model.add(Embedding(vocab_size, 4, input_length=max_length))\n",
        "# 모든 임베딩 벡터는 4차원을 가지게 됨.\n",
        "model.add(Flatten()) # Dense의 입력으로 넣기 위함임.\n",
        "model.add(Dense(1, activation='sigmoid'))\n",
        "model.summary()"
      ],
      "execution_count": 35,
      "outputs": [
        {
          "output_type": "stream",
          "text": [
            "Model: \"sequential_2\"\n",
            "_________________________________________________________________\n",
            "Layer (type)                 Output Shape              Param #   \n",
            "=================================================================\n",
            "embedding (Embedding)        (None, 5, 4)              64        \n",
            "_________________________________________________________________\n",
            "flatten_1 (Flatten)          (None, 20)                0         \n",
            "_________________________________________________________________\n",
            "dense_4 (Dense)              (None, 1)                 21        \n",
            "=================================================================\n",
            "Total params: 85\n",
            "Trainable params: 85\n",
            "Non-trainable params: 0\n",
            "_________________________________________________________________\n"
          ],
          "name": "stdout"
        }
      ]
    },
    {
      "cell_type": "code",
      "metadata": {
        "colab": {
          "background_save": true
        },
        "id": "E7974SCivsWo"
      },
      "source": [
        "# no of parameters in Embedding layer: 16 * 4 = 64"
      ],
      "execution_count": null,
      "outputs": []
    },
    {
      "cell_type": "markdown",
      "metadata": {
        "id": "tABg75e-NbYZ"
      },
      "source": [
        "### Reuter Dataset"
      ]
    },
    {
      "cell_type": "code",
      "metadata": {
        "id": "afbW3BRC7u3i"
      },
      "source": [
        "# 로이터 뉴스 데이터셋 불러오기\n",
        "from tensorflow.keras.datasets import reuters\n",
        "from tensorflow.keras.models import Sequential\n",
        "from tensorflow.keras.layers import Dense, LSTM, Embedding\n",
        "from tensorflow.keras import preprocessing\n",
        "from tensorflow.keras import utils\n",
        "\n",
        "import numpy as np\n",
        "import tensorflow as tf\n",
        "import matplotlib.pyplot as plt\n"
      ],
      "execution_count": 39,
      "outputs": []
    },
    {
      "cell_type": "code",
      "metadata": {
        "colab": {
          "base_uri": "https://localhost:8080/"
        },
        "id": "EOErF-0eCT_8",
        "outputId": "e17a301d-30dc-4c2c-cc15-75137d436bf5"
      },
      "source": [
        "# 불러온 데이터를 학습셋, 테스트셋으로 나누기\n",
        "(X_train, Y_train), (X_test, Y_test) = reuters.load_data(num_words=1000, \n",
        "                                                         test_split=0.2)\n",
        "\n",
        "# 데이터 확인하기\n",
        "\n",
        "category = np.max(Y_train) + 1\n",
        "print(category, '카테고리')\n",
        "print(len(X_train), '학습용 뉴스 기사')\n",
        "print(len(X_test), '테스트용 뉴스 기사')\n",
        "print(X_train[0])\n",
        "[len(X_train[i]) for i in range(10)]"
      ],
      "execution_count": 40,
      "outputs": [
        {
          "output_type": "stream",
          "text": [
            "Downloading data from https://storage.googleapis.com/tensorflow/tf-keras-datasets/reuters.npz\n",
            "2113536/2110848 [==============================] - 0s 0us/step\n",
            "46 카테고리\n",
            "8982 학습용 뉴스 기사\n",
            "2246 테스트용 뉴스 기사\n",
            "[1, 2, 2, 8, 43, 10, 447, 5, 25, 207, 270, 5, 2, 111, 16, 369, 186, 90, 67, 7, 89, 5, 19, 102, 6, 19, 124, 15, 90, 67, 84, 22, 482, 26, 7, 48, 4, 49, 8, 864, 39, 209, 154, 6, 151, 6, 83, 11, 15, 22, 155, 11, 15, 7, 48, 9, 2, 2, 504, 6, 258, 6, 272, 11, 15, 22, 134, 44, 11, 15, 16, 8, 197, 2, 90, 67, 52, 29, 209, 30, 32, 132, 6, 109, 15, 17, 12]\n"
          ],
          "name": "stdout"
        },
        {
          "output_type": "stream",
          "text": [
            "/usr/local/lib/python3.6/dist-packages/tensorflow/python/keras/datasets/reuters.py:148: VisibleDeprecationWarning: Creating an ndarray from ragged nested sequences (which is a list-or-tuple of lists-or-tuples-or ndarrays with different lengths or shapes) is deprecated. If you meant to do this, you must specify 'dtype=object' when creating the ndarray\n",
            "  x_train, y_train = np.array(xs[:idx]), np.array(labels[:idx])\n",
            "/usr/local/lib/python3.6/dist-packages/tensorflow/python/keras/datasets/reuters.py:149: VisibleDeprecationWarning: Creating an ndarray from ragged nested sequences (which is a list-or-tuple of lists-or-tuples-or ndarrays with different lengths or shapes) is deprecated. If you meant to do this, you must specify 'dtype=object' when creating the ndarray\n",
            "  x_test, y_test = np.array(xs[idx:]), np.array(labels[idx:])\n"
          ],
          "name": "stderr"
        },
        {
          "output_type": "execute_result",
          "data": {
            "text/plain": [
              "[87, 56, 139, 224, 101, 116, 100, 100, 82, 106]"
            ]
          },
          "metadata": {
            "tags": []
          },
          "execution_count": 40
        }
      ]
    },
    {
      "cell_type": "code",
      "metadata": {
        "colab": {
          "base_uri": "https://localhost:8080/"
        },
        "id": "AdhEwGW-wlot",
        "outputId": "e8ed6f89-1d59-470b-f03a-7bb28afb02df"
      },
      "source": [
        "np.unique(Y_train)"
      ],
      "execution_count": 41,
      "outputs": [
        {
          "output_type": "execute_result",
          "data": {
            "text/plain": [
              "array([ 0,  1,  2,  3,  4,  5,  6,  7,  8,  9, 10, 11, 12, 13, 14, 15, 16,\n",
              "       17, 18, 19, 20, 21, 22, 23, 24, 25, 26, 27, 28, 29, 30, 31, 32, 33,\n",
              "       34, 35, 36, 37, 38, 39, 40, 41, 42, 43, 44, 45])"
            ]
          },
          "metadata": {
            "tags": []
          },
          "execution_count": 41
        }
      ]
    },
    {
      "cell_type": "markdown",
      "metadata": {
        "id": "uoY_MDheCyDe"
      },
      "source": [
        "- 딥러닝은 단어 대신 숫자를 데이터로 요구함. 여기서는 해당 단어가 데이터 안에서 몇 번이나 사용되었는지\n",
        "- 빈도에 따라 번호를 붙임.  -> tokenizer 함수 필요\n",
        "- keras 는 이미 이 작업이 수행된 상태임.\n",
        "- num_words = 1000: 빈도가 1~1000 에 해당하는 단어만 선택해서 불러옴\n",
        "- 각 기사의 단어 수가 각각 다르므로 단어의 수를 맞춰 주어야 함. (전처리 함수 sequence 사용) : 100보다 크면 100개만, 적으면 0 으로 패딩."
      ]
    },
    {
      "cell_type": "code",
      "metadata": {
        "colab": {
          "base_uri": "https://localhost:8080/"
        },
        "id": "HfYctliVCEKV",
        "outputId": "5c80f6e9-18fe-4ed0-95eb-bb0adc2bd63b"
      },
      "source": [
        "# \n",
        "# 데이터 전처리\n",
        "x_train = preprocessing.sequence.pad_sequences(X_train, maxlen=100)\n",
        "x_test = preprocessing.sequence.pad_sequences(X_test, maxlen=100)\n",
        "y_train = np_utils.to_categorical(Y_train)\n",
        "y_test = np_utils.to_categorical(Y_test)\n",
        "print(x_train.shape, y_train.shape)\n",
        "[len(x_train[i]) for i in range(10)]"
      ],
      "execution_count": 42,
      "outputs": [
        {
          "output_type": "stream",
          "text": [
            "(8982, 100) (8982, 46)\n"
          ],
          "name": "stdout"
        },
        {
          "output_type": "execute_result",
          "data": {
            "text/plain": [
              "[100, 100, 100, 100, 100, 100, 100, 100, 100, 100]"
            ]
          },
          "metadata": {
            "tags": []
          },
          "execution_count": 42
        }
      ]
    },
    {
      "cell_type": "code",
      "metadata": {
        "colab": {
          "base_uri": "https://localhost:8080/"
        },
        "id": "u2Q6xrlyFSUK",
        "outputId": "6ef587b6-f5c6-4506-ce2b-420bad4e7f98"
      },
      "source": [
        "# 모델의 설정\n",
        "# Embedding(불러온 단어의 총갯수, 기사당 단어수) -> 단어벡터 생성\n",
        "model = Sequential()\n",
        "model.add(Embedding(1000, 100))\n",
        "model.add(LSTM(100, activation='tanh'))\n",
        "model.add(Dense(46, activation='softmax'))\n",
        "model.summary()"
      ],
      "execution_count": 43,
      "outputs": [
        {
          "output_type": "stream",
          "text": [
            "Model: \"sequential_3\"\n",
            "_________________________________________________________________\n",
            "Layer (type)                 Output Shape              Param #   \n",
            "=================================================================\n",
            "embedding_1 (Embedding)      (None, None, 100)         100000    \n",
            "_________________________________________________________________\n",
            "lstm (LSTM)                  (None, 100)               80400     \n",
            "_________________________________________________________________\n",
            "dense_5 (Dense)              (None, 46)                4646      \n",
            "=================================================================\n",
            "Total params: 185,046\n",
            "Trainable params: 185,046\n",
            "Non-trainable params: 0\n",
            "_________________________________________________________________\n"
          ],
          "name": "stdout"
        }
      ]
    },
    {
      "cell_type": "code",
      "metadata": {
        "colab": {
          "background_save": true
        },
        "id": "WEvx5E8xy0b9"
      },
      "source": [
        "# no of parameters in LSTM: ((100+100)*100 + 100 ) * 4"
      ],
      "execution_count": null,
      "outputs": []
    },
    {
      "cell_type": "code",
      "metadata": {
        "colab": {
          "base_uri": "https://localhost:8080/",
          "height": 998
        },
        "id": "4DhKOE_vyZvA",
        "outputId": "55cf6547-9194-4249-8b53-6e0008218e7b"
      },
      "source": [
        "import numpy as np\n",
        "# 모델의 컴파일\n",
        "model.compile(loss='categorical_crossentropy',\n",
        "            optimizer='adam',\n",
        "            metrics=['accuracy'])\n",
        "\n",
        "# 모델의 실행\n",
        "history = model.fit(x_train, y_train, batch_size=100, epochs=20, \n",
        "                    validation_data=(x_test, y_test))\n",
        "\n",
        "# 테스트 정확도 출력\n",
        "print(\"\\n Test Accuracy: %.4f\" % (model.evaluate(x_test, y_test)[1]))\n",
        "\n",
        "y_vloss = history.history['val_loss']\n",
        "y_loss = history.history['loss']\n",
        "\n",
        "# 그래프로 표현\n",
        "x_len = np.arange(len(y_loss))\n",
        "plt.plot(x_len, y_vloss, marker='.', c=\"red\", label='Testset_loss')\n",
        "plt.plot(x_len, y_loss, marker='.', c=\"blue\", label='Trainset_loss')\n",
        "\n",
        "plt.legend(loc='upper right')\n",
        "plt.grid()\n",
        "plt.xlabel('epoch')\n",
        "plt.ylabel('loss')\n",
        "plt.show()"
      ],
      "execution_count": 44,
      "outputs": [
        {
          "output_type": "stream",
          "text": [
            "Epoch 1/20\n",
            "90/90 [==============================] - 6s 41ms/step - loss: 2.9852 - accuracy: 0.3241 - val_loss: 2.2438 - val_accuracy: 0.3624\n",
            "Epoch 2/20\n",
            "90/90 [==============================] - 3s 34ms/step - loss: 2.0978 - accuracy: 0.4571 - val_loss: 1.8498 - val_accuracy: 0.5174\n",
            "Epoch 3/20\n",
            "90/90 [==============================] - 3s 33ms/step - loss: 1.7967 - accuracy: 0.5319 - val_loss: 1.7750 - val_accuracy: 0.5450\n",
            "Epoch 4/20\n",
            "90/90 [==============================] - 3s 33ms/step - loss: 1.7384 - accuracy: 0.5418 - val_loss: 1.6832 - val_accuracy: 0.5690\n",
            "Epoch 5/20\n",
            "90/90 [==============================] - 3s 33ms/step - loss: 1.6290 - accuracy: 0.5680 - val_loss: 1.6355 - val_accuracy: 0.5864\n",
            "Epoch 6/20\n",
            "90/90 [==============================] - 3s 33ms/step - loss: 1.5220 - accuracy: 0.6209 - val_loss: 1.5689 - val_accuracy: 0.5980\n",
            "Epoch 7/20\n",
            "90/90 [==============================] - 3s 33ms/step - loss: 1.4087 - accuracy: 0.6402 - val_loss: 1.4979 - val_accuracy: 0.6233\n",
            "Epoch 8/20\n",
            "90/90 [==============================] - 3s 33ms/step - loss: 1.3658 - accuracy: 0.6521 - val_loss: 1.4290 - val_accuracy: 0.6340\n",
            "Epoch 9/20\n",
            "90/90 [==============================] - 3s 33ms/step - loss: 1.2841 - accuracy: 0.6726 - val_loss: 1.3733 - val_accuracy: 0.6532\n",
            "Epoch 10/20\n",
            "90/90 [==============================] - 3s 33ms/step - loss: 1.1947 - accuracy: 0.6930 - val_loss: 1.3295 - val_accuracy: 0.6612\n",
            "Epoch 11/20\n",
            "90/90 [==============================] - 3s 34ms/step - loss: 1.1461 - accuracy: 0.6996 - val_loss: 1.3269 - val_accuracy: 0.6638\n",
            "Epoch 12/20\n",
            "90/90 [==============================] - 3s 34ms/step - loss: 1.1011 - accuracy: 0.7182 - val_loss: 1.3164 - val_accuracy: 0.6745\n",
            "Epoch 13/20\n",
            "90/90 [==============================] - 3s 34ms/step - loss: 1.0593 - accuracy: 0.7274 - val_loss: 1.2612 - val_accuracy: 0.6932\n",
            "Epoch 14/20\n",
            "90/90 [==============================] - 3s 33ms/step - loss: 1.0109 - accuracy: 0.7389 - val_loss: 1.2599 - val_accuracy: 0.6897\n",
            "Epoch 15/20\n",
            "90/90 [==============================] - 3s 33ms/step - loss: 0.9671 - accuracy: 0.7552 - val_loss: 1.2289 - val_accuracy: 0.6928\n",
            "Epoch 16/20\n",
            "90/90 [==============================] - 3s 33ms/step - loss: 0.9397 - accuracy: 0.7591 - val_loss: 1.2325 - val_accuracy: 0.6968\n",
            "Epoch 17/20\n",
            "90/90 [==============================] - 3s 33ms/step - loss: 0.8734 - accuracy: 0.7777 - val_loss: 1.2261 - val_accuracy: 0.7039\n",
            "Epoch 18/20\n",
            "90/90 [==============================] - 3s 33ms/step - loss: 0.8625 - accuracy: 0.7803 - val_loss: 1.2322 - val_accuracy: 0.7066\n",
            "Epoch 19/20\n",
            "90/90 [==============================] - 3s 33ms/step - loss: 0.8281 - accuracy: 0.7952 - val_loss: 1.2362 - val_accuracy: 0.7119\n",
            "Epoch 20/20\n",
            "90/90 [==============================] - 3s 33ms/step - loss: 0.7849 - accuracy: 0.8018 - val_loss: 1.2122 - val_accuracy: 0.7128\n",
            "71/71 [==============================] - 1s 10ms/step - loss: 1.2122 - accuracy: 0.7128\n",
            "\n",
            " Test Accuracy: 0.7128\n"
          ],
          "name": "stdout"
        },
        {
          "output_type": "display_data",
          "data": {
            "image/png": "[encoded data removed]",
            "text/plain": [
              "<Figure size 432x288 with 1 Axes>"
            ]
          },
          "metadata": {
            "tags": [],
            "needs_background": "light"
          }
        }
      ]
    },
    {
      "cell_type": "markdown",
      "metadata": {
        "id": "8dyNqg49YoEq"
      },
      "source": [
        "## 3. IMDB(Internet Movie databse) with LSTM/CNN\n",
        "- 영화 정보, 출연진, 개봉 정보, 연화 후기, 평점 등\n",
        "- 25,000 여개 데이터에 대해 긍정/부정 평가 (binary)\n",
        "- 앞의 로이터 뉴스 처럼 각 데이터의 전처리를 마친 상태임"
      ]
    },
    {
      "cell_type": "markdown",
      "metadata": {
        "id": "nEwTg8vFiyil"
      },
      "source": [
        "### Conv1D\r\n",
        "- usually used for NLP\r\n",
        "- 아래 예제: vector_lebgth=6, kernel_size=2,"
      ]
    },
    {
      "cell_type": "markdown",
      "metadata": {
        "id": "-vhsG2k_WhUC"
      },
      "source": [
        "![image.png](data:image/png;base64,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)"
      ]
    },
    {
      "cell_type": "markdown",
      "metadata": {
        "id": "5ypPjkbHWnpZ"
      },
      "source": [
        "- in NLP, row(vocab), column(embedding_features)\n",
        "- that is, filter_size = (n, embedding_dim)"
      ]
    },
    {
      "cell_type": "code",
      "metadata": {
        "id": "HV8BdXUGYlnS"
      },
      "source": [
        "from keras.preprocessing import sequence\n",
        "from keras.models import Sequential\n",
        "from keras.layers import Dense, Dropout, Activation\n",
        "from keras.layers import Embedding\n",
        "\n",
        "from keras.layers import LSTM\n",
        "from keras.layers import Conv1D, MaxPooling1D\n",
        "from keras.datasets import imdb\n",
        "\n",
        "import numpy\n",
        "import tensorflow as tf\n",
        "import matplotlib.pyplot as plt\n"
      ],
      "execution_count": 45,
      "outputs": []
    },
    {
      "cell_type": "code",
      "metadata": {
        "colab": {
          "base_uri": "https://localhost:8080/"
        },
        "id": "V7Br5mx5Y2b2",
        "outputId": "8f973ee7-aa8a-4aef-a617-7f2be52fff21"
      },
      "source": [
        "# 학습셋, 테스트셋 지정하기\n",
        "(x_train, y_train), (x_test, y_test) = imdb.load_data(num_words=5000)\n",
        "\n",
        "# 데이터 전처리\n",
        "x_train = sequence.pad_sequences(x_train, maxlen=100)  # max word in sentence = 100\n",
        "x_test = sequence.pad_sequences(x_test, maxlen=100)\n",
        "\n",
        "# 모델의 설정\n",
        "model = Sequential()\n",
        "model.add(Embedding(5000, 100))  # vector dim =100\n",
        "model.add(Dropout(0.5))\n",
        "model.add(Conv1D(64, 5, padding='valid', activation='relu',strides=1))\n",
        "model.add(MaxPooling1D(pool_size=4))\n",
        "model.add(LSTM(55))\n",
        "model.add(Dense(1))\n",
        "model.add(Activation('sigmoid'))\n",
        "model.summary()"
      ],
      "execution_count": 52,
      "outputs": [
        {
          "output_type": "stream",
          "text": [
            "<string>:6: VisibleDeprecationWarning: Creating an ndarray from ragged nested sequences (which is a list-or-tuple of lists-or-tuples-or ndarrays with different lengths or shapes) is deprecated. If you meant to do this, you must specify 'dtype=object' when creating the ndarray\n",
            "/usr/local/lib/python3.6/dist-packages/tensorflow/python/keras/datasets/imdb.py:159: VisibleDeprecationWarning: Creating an ndarray from ragged nested sequences (which is a list-or-tuple of lists-or-tuples-or ndarrays with different lengths or shapes) is deprecated. If you meant to do this, you must specify 'dtype=object' when creating the ndarray\n",
            "  x_train, y_train = np.array(xs[:idx]), np.array(labels[:idx])\n",
            "/usr/local/lib/python3.6/dist-packages/tensorflow/python/keras/datasets/imdb.py:160: VisibleDeprecationWarning: Creating an ndarray from ragged nested sequences (which is a list-or-tuple of lists-or-tuples-or ndarrays with different lengths or shapes) is deprecated. If you meant to do this, you must specify 'dtype=object' when creating the ndarray\n",
            "  x_test, y_test = np.array(xs[idx:]), np.array(labels[idx:])\n"
          ],
          "name": "stderr"
        },
        {
          "output_type": "stream",
          "text": [
            "Model: \"sequential_9\"\n",
            "_________________________________________________________________\n",
            "Layer (type)                 Output Shape              Param #   \n",
            "=================================================================\n",
            "embedding_7 (Embedding)      (None, None, 100)         500000    \n",
            "_________________________________________________________________\n",
            "dropout_5 (Dropout)          (None, None, 100)         0         \n",
            "_________________________________________________________________\n",
            "conv1d_3 (Conv1D)            (None, None, 64)          32064     \n",
            "_________________________________________________________________\n",
            "max_pooling1d_3 (MaxPooling1 (None, None, 64)          0         \n",
            "_________________________________________________________________\n",
            "lstm_4 (LSTM)                (None, 55)                26400     \n",
            "_________________________________________________________________\n",
            "dense_9 (Dense)              (None, 1)                 56        \n",
            "_________________________________________________________________\n",
            "activation_3 (Activation)    (None, 1)                 0         \n",
            "=================================================================\n",
            "Total params: 558,520\n",
            "Trainable params: 558,520\n",
            "Non-trainable params: 0\n",
            "_________________________________________________________________\n"
          ],
          "name": "stdout"
        }
      ]
    },
    {
      "cell_type": "markdown",
      "metadata": {
        "id": "Db2QhmUZaSQv"
      },
      "source": [
        "- 1DConv: (5\\*100)*64 + 64 = 32,064\r\n",
        "- (5 window \\* 100 length) * 64 filters + 64"
      ]
    },
    {
      "cell_type": "code",
      "metadata": {
        "colab": {
          "base_uri": "https://localhost:8080/",
          "height": 497
        },
        "id": "M6Pqgs8NQxAB",
        "outputId": "27671a62-003c-4ca3-cb21-7a1c378415d6"
      },
      "source": [
        "model.compile(loss='binary_crossentropy',\n",
        "              optimizer='adam',\n",
        "              metrics=['accuracy'])\n",
        "\n",
        "# 모델의 실행\n",
        "history = model.fit(x_train, y_train, \n",
        "                    batch_size=100, \n",
        "                    epochs=5, \n",
        "                    validation_data=(x_test, y_test))\n",
        "\n",
        "# 테스트 정확도 출력\n",
        "print(\"\\n Test Accuracy: %.4f\" % (model.evaluate(x_test, y_test)[1]))\n",
        "\n",
        "y_vloss = history.history['val_loss']\n",
        "y_loss = history.history['loss']\n",
        "\n",
        "# 그래프로 표현\n",
        "x_len = numpy.arange(len(y_loss))\n",
        "plt.plot(x_len, y_vloss, marker='.', c=\"red\", label='Testset_loss')\n",
        "plt.plot(x_len, y_loss, marker='.', c=\"blue\", label='Trainset_loss')\n",
        "\n",
        "# 그래프에 그리드를 주고 레이블을 표시\n",
        "plt.legend(loc='upper right')\n",
        "plt.grid()\n",
        "plt.xlabel('epoch')\n",
        "plt.ylabel('loss')\n",
        "plt.show()"
      ],
      "execution_count": 48,
      "outputs": [
        {
          "output_type": "stream",
          "text": [
            "Epoch 1/5\n",
            "250/250 [==============================] - 9s 28ms/step - loss: 0.5692 - accuracy: 0.6560 - val_loss: 0.3345 - val_accuracy: 0.8515\n",
            "Epoch 2/5\n",
            "250/250 [==============================] - 7s 27ms/step - loss: 0.2823 - accuracy: 0.8838 - val_loss: 0.3253 - val_accuracy: 0.8568\n",
            "Epoch 3/5\n",
            "250/250 [==============================] - 7s 27ms/step - loss: 0.2393 - accuracy: 0.9034 - val_loss: 0.3366 - val_accuracy: 0.8573\n",
            "Epoch 4/5\n",
            "250/250 [==============================] - 7s 27ms/step - loss: 0.1985 - accuracy: 0.9224 - val_loss: 0.3367 - val_accuracy: 0.8535\n",
            "Epoch 5/5\n",
            "250/250 [==============================] - 7s 27ms/step - loss: 0.1651 - accuracy: 0.9393 - val_loss: 0.3642 - val_accuracy: 0.8504\n",
            "782/782 [==============================] - 5s 5ms/step - loss: 0.3642 - accuracy: 0.8504\n",
            "\n",
            " Test Accuracy: 0.8504\n"
          ],
          "name": "stdout"
        },
        {
          "output_type": "display_data",
          "data": {
            "image/png": "[encoded data removed]",
            "text/plain": [
              "<Figure size 432x288 with 1 Axes>"
            ]
          },
          "metadata": {
            "tags": [],
            "needs_background": "light"
          }
        }
      ]
    },
    {
      "cell_type": "markdown",
      "metadata": {
        "id": "efJt0RS0BcG5"
      },
      "source": [
        "# Exercise (연습)"
      ]
    },
    {
      "cell_type": "code",
      "metadata": {
        "colab": {
          "base_uri": "https://localhost:8080/"
        },
        "id": "PmLxCvzTBeUw",
        "outputId": "78c9c6a8-8924-4ee1-b840-ff075446f5d4"
      },
      "source": [
        "model = tf.keras.Sequential()\n",
        "model.add(tf.keras.layers.Embedding(1000, 64, input_length=10))\n",
        "# The model will take as input an integer matrix of size (batch,input_length), and \n",
        "# the largest integer (i.e. word index) in the input  \n",
        "# should be no larger than 999 (vocabulary size).  \n",
        "# Now model.output_shape is (None, 10, 64), where `None` is the batch  \n",
        "# dimension.  \n",
        "model.summary()\n",
        "input_array = np.random.randint(1000, size=(100, 10))\n",
        "model.compile('rmsprop', 'mse')\n",
        "output_array = model.predict(input_array)\n",
        "print(output_array.shape)"
      ],
      "execution_count": 50,
      "outputs": [
        {
          "output_type": "stream",
          "text": [
            "Model: \"sequential_7\"\n",
            "_________________________________________________________________\n",
            "Layer (type)                 Output Shape              Param #   \n",
            "=================================================================\n",
            "embedding_5 (Embedding)      (None, 10, 64)            64000     \n",
            "=================================================================\n",
            "Total params: 64,000\n",
            "Trainable params: 64,000\n",
            "Non-trainable params: 0\n",
            "_________________________________________________________________\n",
            "(100, 10, 64)\n"
          ],
          "name": "stdout"
        }
      ]
    },
    {
      "cell_type": "code",
      "metadata": {
        "id": "eAxkq_y1cx-h"
      },
      "source": [
        ""
      ],
      "execution_count": null,
      "outputs": []
    }
  ]
}