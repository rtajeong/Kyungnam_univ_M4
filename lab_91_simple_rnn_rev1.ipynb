{
  "nbformat": 4,
  "nbformat_minor": 0,
  "metadata": {
    "accelerator": "GPU",
    "colab": {
      "name": "lab_91_simple_rnn_rev1.ipynb",
      "provenance": [],
      "collapsed_sections": [],
      "toc_visible": true,
      "authorship_tag": "ABX9TyM9GO/BXb6fzxHIwErvtC54",
      "include_colab_link": true
    },
    "kernelspec": {
      "display_name": "Python 3",
      "name": "python3"
    }
  },
  "cells": [
    {
      "cell_type": "markdown",
      "metadata": {
        "id": "view-in-github",
        "colab_type": "text"
      },
      "source": [
        "<a href=\"https://colab.research.google.com/github/rtajeong/Kyungnam_univ_M4/blob/main/lab_91_simple_rnn_rev1.ipynb\" target=\"_parent\"><img src=\"https://colab.research.google.com/assets/colab-badge.svg\" alt=\"Open In Colab\"/></a>"
      ]
    },
    {
      "cell_type": "markdown",
      "metadata": {
        "id": "1ZfXXnZkrOAJ"
      },
      "source": [
        "# Recurrent Neural Network (RNN)\n",
        "- from https://github.com/gilbutITbook/006975"
      ]
    },
    {
      "cell_type": "markdown",
      "metadata": {
        "id": "eBrRXYFCrbgd"
      },
      "source": [
        "- SimpleRNN: \n",
        "  - SimpleRNN이 한 가지 다른 점은 넘파이 예제처럼 하나의 시퀀스가 아니라 다른 케라스 층과 마찬가지로 시퀀스 배치를 처리한다는 것입니다. 즉, (timesteps, input_features) 크기가 아니라 (batch_size, timesteps, input_features) 크기의 입력을 받습니다.\n",
        "  - 케라스에 있는 모든 순환 층과 동일하게 SimpleRNN은 두 가지 모드로 실행할 수 있습니다. 각 타임스텝의 출력을 모은 전체 시퀀스를 반환하거나(크기가 (batch_size, timesteps, output_features)인 3D 텐서), 입력 시퀀스에 대한 마지막 출력만 반환할 수 있습니다(크기가 (batch_size, output_features)인 2D 텐서). 이 모드는 객체를 생성할 때 return_sequences 매개변수로 선택할 수 있습니다. "
      ]
    },
    {
      "cell_type": "code",
      "metadata": {
        "colab": {
          "base_uri": "https://localhost:8080/"
        },
        "id": "2dtozV9YrI5x",
        "outputId": "18c6911c-4bd6-4137-acc9-0daacc2c1480"
      },
      "source": [
        "from tensorflow.keras.models import Sequential\n",
        "from tensorflow.keras.layers import Embedding, SimpleRNN\n",
        "\n",
        "model = Sequential()\n",
        "model.add(Embedding(10000, 32, input_length=20))\n",
        "model.add(SimpleRNN(32))\n",
        "model.summary()"
      ],
      "execution_count": 2,
      "outputs": [
        {
          "output_type": "stream",
          "text": [
            "Model: \"sequential_1\"\n",
            "_________________________________________________________________\n",
            "Layer (type)                 Output Shape              Param #   \n",
            "=================================================================\n",
            "embedding_1 (Embedding)      (None, 20, 32)            320000    \n",
            "_________________________________________________________________\n",
            "simple_rnn_1 (SimpleRNN)     (None, 32)                2080      \n",
            "=================================================================\n",
            "Total params: 322,080\n",
            "Trainable params: 322,080\n",
            "Non-trainable params: 0\n",
            "_________________________________________________________________\n"
          ],
          "name": "stdout"
        }
      ]
    },
    {
      "cell_type": "code",
      "metadata": {
        "colab": {
          "base_uri": "https://localhost:8080/"
        },
        "id": "IQ6HTV__vQ6_",
        "outputId": "9df50ff3-3435-41a3-c4eb-c012c7d01a19"
      },
      "source": [
        "model = Sequential()\r\n",
        "model.add(Embedding(10000, 32))\r\n",
        "model.add(SimpleRNN(32))\r\n",
        "model.summary()"
      ],
      "execution_count": 3,
      "outputs": [
        {
          "output_type": "stream",
          "text": [
            "Model: \"sequential_2\"\n",
            "_________________________________________________________________\n",
            "Layer (type)                 Output Shape              Param #   \n",
            "=================================================================\n",
            "embedding_2 (Embedding)      (None, None, 32)          320000    \n",
            "_________________________________________________________________\n",
            "simple_rnn_2 (SimpleRNN)     (None, 32)                2080      \n",
            "=================================================================\n",
            "Total params: 322,080\n",
            "Trainable params: 322,080\n",
            "Non-trainable params: 0\n",
            "_________________________________________________________________\n"
          ],
          "name": "stdout"
        }
      ]
    },
    {
      "cell_type": "code",
      "metadata": {
        "id": "LH07Fnu7YWNp"
      },
      "source": [
        "# embedding(in_dim, out_dim): 10000 * 32 = 320000\n",
        "# simpleRNN: (32 + 32)*32 + 32 = 2080"
      ],
      "execution_count": null,
      "outputs": []
    },
    {
      "cell_type": "code",
      "metadata": {
        "colab": {
          "base_uri": "https://localhost:8080/"
        },
        "id": "RPIl1mC7sF6p",
        "outputId": "4dbe22e9-fbc1-4821-a5dd-6c26b879c037"
      },
      "source": [
        "model = Sequential()\n",
        "model.add(Embedding(10000, 32, input_length=20))\n",
        "model.add(SimpleRNN(32, return_sequences=True))\n",
        "model.summary()"
      ],
      "execution_count": 4,
      "outputs": [
        {
          "output_type": "stream",
          "text": [
            "Model: \"sequential_3\"\n",
            "_________________________________________________________________\n",
            "Layer (type)                 Output Shape              Param #   \n",
            "=================================================================\n",
            "embedding_3 (Embedding)      (None, 20, 32)            320000    \n",
            "_________________________________________________________________\n",
            "simple_rnn_3 (SimpleRNN)     (None, 20, 32)            2080      \n",
            "=================================================================\n",
            "Total params: 322,080\n",
            "Trainable params: 322,080\n",
            "Non-trainable params: 0\n",
            "_________________________________________________________________\n"
          ],
          "name": "stdout"
        }
      ]
    },
    {
      "cell_type": "markdown",
      "metadata": {
        "id": "mV1VToQssPoc"
      },
      "source": [
        "- 네트워크의 표현력을 증가시키기 위해 여러 개의 순환 층을 차례대로 쌓는 것이 유용할 때가 있다. 이런 설정에서는 중간 층들이 전체 출력 시퀀스를 반환하도록 설정해야 한다:"
      ]
    },
    {
      "cell_type": "code",
      "metadata": {
        "colab": {
          "base_uri": "https://localhost:8080/"
        },
        "id": "9zs9ycXZsU1k",
        "outputId": "d03f681e-63a4-4170-d93f-0429466f02c1"
      },
      "source": [
        "model = Sequential()\n",
        "model.add(Embedding(10000, 32, input_length=20))\n",
        "model.add(SimpleRNN(32, return_sequences=True))\n",
        "model.add(SimpleRNN(32, return_sequences=True))\n",
        "model.add(SimpleRNN(32, return_sequences=True))\n",
        "model.add(SimpleRNN(32))  # 맨 위 층만 마지막 출력을 반환합니다.\n",
        "model.summary()"
      ],
      "execution_count": 5,
      "outputs": [
        {
          "output_type": "stream",
          "text": [
            "Model: \"sequential_4\"\n",
            "_________________________________________________________________\n",
            "Layer (type)                 Output Shape              Param #   \n",
            "=================================================================\n",
            "embedding_4 (Embedding)      (None, 20, 32)            320000    \n",
            "_________________________________________________________________\n",
            "simple_rnn_4 (SimpleRNN)     (None, 20, 32)            2080      \n",
            "_________________________________________________________________\n",
            "simple_rnn_5 (SimpleRNN)     (None, 20, 32)            2080      \n",
            "_________________________________________________________________\n",
            "simple_rnn_6 (SimpleRNN)     (None, 20, 32)            2080      \n",
            "_________________________________________________________________\n",
            "simple_rnn_7 (SimpleRNN)     (None, 32)                2080      \n",
            "=================================================================\n",
            "Total params: 328,320\n",
            "Trainable params: 328,320\n",
            "Non-trainable params: 0\n",
            "_________________________________________________________________\n"
          ],
          "name": "stdout"
        }
      ]
    },
    {
      "cell_type": "markdown",
      "metadata": {
        "id": "lG5RbI_ZszPe"
      },
      "source": [
        "- IMDB 영화 리뷰 문제에 적용"
      ]
    },
    {
      "cell_type": "code",
      "metadata": {
        "colab": {
          "base_uri": "https://localhost:8080/"
        },
        "id": "Ej2EZvv6s4WB",
        "outputId": "0fa7d629-abb8-4cf2-f36c-6af9acad8748"
      },
      "source": [
        "from keras.datasets import imdb\n",
        "from keras.preprocessing import sequence\n",
        "\n",
        "max_features = 10000  # 특성으로 사용할 단어의 수(가장 빈번한 max_features 개의 단어만 사용)\n",
        "maxlen = 500  # 사용할 텍스트의 길이\n",
        "batch_size = 32\n",
        "\n",
        "print('데이터 로딩...')\n",
        "(input_train, y_train), (input_test, y_test) = imdb.load_data(num_words=max_features)\n",
        "print(len(input_train), '훈련 시퀀스')\n",
        "print(len(input_test), '테스트 시퀀스')\n",
        "\n",
        "print('시퀀스 패딩 (samples x time)')\n",
        "input_train = sequence.pad_sequences(input_train, maxlen=maxlen)\n",
        "input_test = sequence.pad_sequences(input_test, maxlen=maxlen)\n",
        "print('input_train 크기:', input_train.shape)\n",
        "print('input_test 크기:', input_test.shape)"
      ],
      "execution_count": 7,
      "outputs": [
        {
          "output_type": "stream",
          "text": [
            "데이터 로딩...\n"
          ],
          "name": "stdout"
        },
        {
          "output_type": "stream",
          "text": [
            "<string>:6: VisibleDeprecationWarning: Creating an ndarray from ragged nested sequences (which is a list-or-tuple of lists-or-tuples-or ndarrays with different lengths or shapes) is deprecated. If you meant to do this, you must specify 'dtype=object' when creating the ndarray\n",
            "/usr/local/lib/python3.6/dist-packages/tensorflow/python/keras/datasets/imdb.py:159: VisibleDeprecationWarning: Creating an ndarray from ragged nested sequences (which is a list-or-tuple of lists-or-tuples-or ndarrays with different lengths or shapes) is deprecated. If you meant to do this, you must specify 'dtype=object' when creating the ndarray\n",
            "  x_train, y_train = np.array(xs[:idx]), np.array(labels[:idx])\n",
            "/usr/local/lib/python3.6/dist-packages/tensorflow/python/keras/datasets/imdb.py:160: VisibleDeprecationWarning: Creating an ndarray from ragged nested sequences (which is a list-or-tuple of lists-or-tuples-or ndarrays with different lengths or shapes) is deprecated. If you meant to do this, you must specify 'dtype=object' when creating the ndarray\n",
            "  x_test, y_test = np.array(xs[idx:]), np.array(labels[idx:])\n"
          ],
          "name": "stderr"
        },
        {
          "output_type": "stream",
          "text": [
            "25000 훈련 시퀀스\n",
            "25000 테스트 시퀀스\n",
            "시퀀스 패딩 (samples x time)\n",
            "input_train 크기: (25000, 500)\n",
            "input_test 크기: (25000, 500)\n"
          ],
          "name": "stdout"
        }
      ]
    },
    {
      "cell_type": "code",
      "metadata": {
        "colab": {
          "base_uri": "https://localhost:8080/"
        },
        "id": "ZrtAYZIZtNMu",
        "outputId": "b06b1b36-f95a-4f55-b7ec-4783a785e20a"
      },
      "source": [
        "from keras.layers import Dense\n",
        "\n",
        "model = Sequential()\n",
        "model.add(Embedding(max_features, 32))\n",
        "model.add(SimpleRNN(32))\n",
        "model.add(Dense(1, activation='sigmoid'))\n",
        "model.summary()\n"
      ],
      "execution_count": 8,
      "outputs": [
        {
          "output_type": "stream",
          "text": [
            "Model: \"sequential_5\"\n",
            "_________________________________________________________________\n",
            "Layer (type)                 Output Shape              Param #   \n",
            "=================================================================\n",
            "embedding_5 (Embedding)      (None, None, 32)          320000    \n",
            "_________________________________________________________________\n",
            "simple_rnn_8 (SimpleRNN)     (None, 32)                2080      \n",
            "_________________________________________________________________\n",
            "dense (Dense)                (None, 1)                 33        \n",
            "=================================================================\n",
            "Total params: 322,113\n",
            "Trainable params: 322,113\n",
            "Non-trainable params: 0\n",
            "_________________________________________________________________\n"
          ],
          "name": "stdout"
        }
      ]
    },
    {
      "cell_type": "code",
      "metadata": {
        "colab": {
          "base_uri": "https://localhost:8080/"
        },
        "id": "u3oGDsYYwPsx",
        "outputId": "1644c3ca-7db1-4037-cabd-f6f9e7eb043c"
      },
      "source": [
        "model.compile(optimizer='rmsprop', loss='binary_crossentropy', metrics=['acc'])\n",
        "history = model.fit(input_train, y_train,\n",
        "                    epochs=10,\n",
        "                    batch_size=128,\n",
        "                    validation_split=0.2)"
      ],
      "execution_count": 9,
      "outputs": [
        {
          "output_type": "stream",
          "text": [
            "Epoch 1/10\n",
            "157/157 [==============================] - 55s 333ms/step - loss: 0.6516 - acc: 0.5997 - val_loss: 0.5365 - val_acc: 0.7436\n",
            "Epoch 2/10\n",
            "157/157 [==============================] - 52s 330ms/step - loss: 0.3965 - acc: 0.8372 - val_loss: 0.3609 - val_acc: 0.8512\n",
            "Epoch 3/10\n",
            "157/157 [==============================] - 52s 330ms/step - loss: 0.3078 - acc: 0.8767 - val_loss: 0.4597 - val_acc: 0.8026\n",
            "Epoch 4/10\n",
            "157/157 [==============================] - 52s 332ms/step - loss: 0.2407 - acc: 0.9076 - val_loss: 0.3423 - val_acc: 0.8702\n",
            "Epoch 5/10\n",
            "157/157 [==============================] - 52s 332ms/step - loss: 0.1696 - acc: 0.9381 - val_loss: 0.5019 - val_acc: 0.7942\n",
            "Epoch 6/10\n",
            "157/157 [==============================] - 52s 331ms/step - loss: 0.1129 - acc: 0.9628 - val_loss: 0.4059 - val_acc: 0.8660\n",
            "Epoch 7/10\n",
            "157/157 [==============================] - 52s 329ms/step - loss: 0.0687 - acc: 0.9784 - val_loss: 0.4739 - val_acc: 0.8474\n",
            "Epoch 8/10\n",
            "157/157 [==============================] - 52s 331ms/step - loss: 0.0478 - acc: 0.9856 - val_loss: 0.6369 - val_acc: 0.7760\n",
            "Epoch 9/10\n",
            "157/157 [==============================] - 53s 336ms/step - loss: 0.0326 - acc: 0.9904 - val_loss: 0.5718 - val_acc: 0.8242\n",
            "Epoch 10/10\n",
            "157/157 [==============================] - 51s 328ms/step - loss: 0.0238 - acc: 0.9935 - val_loss: 0.6115 - val_acc: 0.8296\n"
          ],
          "name": "stdout"
        }
      ]
    },
    {
      "cell_type": "code",
      "metadata": {
        "colab": {
          "base_uri": "https://localhost:8080/",
          "height": 545
        },
        "id": "4kEi_qSjtWZq",
        "outputId": "96ecc332-f79c-4e70-8e72-dc0f24067241"
      },
      "source": [
        "import matplotlib.pyplot as plt\n",
        "\n",
        "acc = history.history['acc']\n",
        "val_acc = history.history['val_acc']\n",
        "loss = history.history['loss']\n",
        "val_loss = history.history['val_loss']\n",
        "\n",
        "epochs = range(1, len(acc) + 1)\n",
        "\n",
        "plt.plot(epochs, acc, 'bo', label='Training acc')\n",
        "plt.plot(epochs, val_acc, 'b', label='Validation acc')\n",
        "plt.title('Training and validation accuracy')\n",
        "plt.legend()\n",
        "\n",
        "plt.figure()\n",
        "\n",
        "plt.plot(epochs, loss, 'bo', label='Training loss')\n",
        "plt.plot(epochs, val_loss, 'b', label='Validation loss')\n",
        "plt.title('Training and validation loss')\n",
        "plt.legend()\n",
        "\n",
        "plt.show()"
      ],
      "execution_count": 13,
      "outputs": [
        {
          "output_type": "display_data",
          "data": {
            "image/png": "[encoded data removed]",
            "text/plain": [
              "<Figure size 432x288 with 1 Axes>"
            ]
          },
          "metadata": {
            "tags": [],
            "needs_background": "light"
          }
        },
        {
          "output_type": "display_data",
          "data": {
            "image/png": "[encoded data removed]",
            "text/plain": [
              "<Figure size 432x288 with 1 Axes>"
            ]
          },
          "metadata": {
            "tags": [],
            "needs_background": "light"
          }
        }
      ]
    },
    {
      "cell_type": "markdown",
      "metadata": {
        "id": "Pad9POgJt6qR"
      },
      "source": [
        "- 안타깝지만 간단한 순환 네트워크는 이 기준 모델보다 성능이 높지 않습니다(85% 정도의 검증 정확도를 얻었습니다). 이런 원인은 전체 시퀀스가 아니라 처음 500개의 단어만 입력에 사용했기 때문입니다. 이 RNN은 기준 모델보다 얻은 정보가 적습니다. 다른 이유는 SimpleRNN이 텍스트와 같이 긴 시퀀스를 처리하는데 적합하지 않기 때문입니다."
      ]
    },
    {
      "cell_type": "markdown",
      "metadata": {
        "id": "NMtVc4aetlax"
      },
      "source": [
        "# LSTM using Keras"
      ]
    },
    {
      "cell_type": "code",
      "metadata": {
        "colab": {
          "base_uri": "https://localhost:8080/"
        },
        "id": "UjVpp8Z_tumN",
        "outputId": "51ae7c50-42f7-48b6-caac-d09294e40775"
      },
      "source": [
        "from keras.layers import LSTM\n",
        "\n",
        "model = Sequential()\n",
        "model.add(Embedding(max_features, 32))\n",
        "model.add(LSTM(32))\n",
        "model.add(Dense(1, activation='sigmoid'))\n",
        "\n",
        "model.compile(optimizer='rmsprop',\n",
        "              loss='binary_crossentropy',\n",
        "              metrics=['acc'])\n",
        "history = model.fit(input_train, y_train,\n",
        "                    epochs=10,\n",
        "                    batch_size=128,\n",
        "                    validation_split=0.2)"
      ],
      "execution_count": null,
      "outputs": [
        {
          "output_type": "stream",
          "text": [
            "Epoch 1/10\n",
            "157/157 [==============================] - 57s 365ms/step - loss: 0.5072 - acc: 0.7599 - val_loss: 0.3533 - val_acc: 0.8596\n",
            "Epoch 2/10\n",
            "157/157 [==============================] - 57s 361ms/step - loss: 0.2885 - acc: 0.8871 - val_loss: 0.3704 - val_acc: 0.8380\n",
            "Epoch 3/10\n",
            "157/157 [==============================] - 57s 362ms/step - loss: 0.2281 - acc: 0.9131 - val_loss: 0.4037 - val_acc: 0.8696\n",
            "Epoch 4/10\n",
            "157/157 [==============================] - 56s 355ms/step - loss: 0.1972 - acc: 0.9269 - val_loss: 0.3341 - val_acc: 0.8590\n",
            "Epoch 5/10\n",
            "157/157 [==============================] - 55s 353ms/step - loss: 0.1756 - acc: 0.9356 - val_loss: 0.3370 - val_acc: 0.8492\n",
            "Epoch 6/10\n",
            "157/157 [==============================] - 57s 365ms/step - loss: 0.1583 - acc: 0.9435 - val_loss: 0.3431 - val_acc: 0.8540\n",
            "Epoch 7/10\n",
            "157/157 [==============================] - 61s 390ms/step - loss: 0.1419 - acc: 0.9498 - val_loss: 0.3563 - val_acc: 0.8874\n",
            "Epoch 8/10\n",
            "157/157 [==============================] - 56s 355ms/step - loss: 0.1318 - acc: 0.9533 - val_loss: 0.5523 - val_acc: 0.8046\n",
            "Epoch 9/10\n",
            "157/157 [==============================] - 55s 350ms/step - loss: 0.1241 - acc: 0.9577 - val_loss: 0.4273 - val_acc: 0.8638\n",
            "Epoch 10/10\n",
            "157/157 [==============================] - 56s 356ms/step - loss: 0.1078 - acc: 0.9632 - val_loss: 0.3931 - val_acc: 0.8822\n"
          ],
          "name": "stdout"
        }
      ]
    },
    {
      "cell_type": "code",
      "metadata": {
        "colab": {
          "base_uri": "https://localhost:8080/",
          "height": 545
        },
        "id": "YIO6oI7rt0vf",
        "outputId": "cf4ef1af-cfc5-4dd2-d219-af47bfd70d19"
      },
      "source": [
        "acc = history.history['acc']\n",
        "val_acc = history.history['val_acc']\n",
        "loss = history.history['loss']\n",
        "val_loss = history.history['val_loss']\n",
        "\n",
        "epochs = range(1, len(acc) + 1)\n",
        "\n",
        "plt.plot(epochs, acc, 'bo', label='Training acc')\n",
        "plt.plot(epochs, val_acc, 'b', label='Validation acc')\n",
        "plt.title('Training and validation accuracy')\n",
        "plt.legend()\n",
        "\n",
        "plt.figure()\n",
        "\n",
        "plt.plot(epochs, loss, 'bo', label='Training loss')\n",
        "plt.plot(epochs, val_loss, 'b', label='Validation loss')\n",
        "plt.title('Training and validation loss')\n",
        "plt.legend()\n",
        "\n",
        "plt.show()"
      ],
      "execution_count": null,
      "outputs": [
        {
          "output_type": "display_data",
          "data": {
            "image/png": "[encoded data removed]",
            "text/plain": [
              "<Figure size 432x288 with 1 Axes>"
            ]
          },
          "metadata": {
            "tags": []
          }
        },
        {
          "output_type": "display_data",
          "data": {
            "image/png": "[encoded data removed]",
            "text/plain": [
              "<Figure size 432x288 with 1 Axes>"
            ]
          },
          "metadata": {
            "tags": []
          }
        }
      ]
    },
    {
      "cell_type": "markdown",
      "metadata": {
        "id": "eyZ6816mY3YF"
      },
      "source": [
        "# Exercise (연습)"
      ]
    },
    {
      "cell_type": "code",
      "metadata": {
        "id": "RsHCU9vlY5m4"
      },
      "source": [
        "# Keras preprocessing\n",
        "# - Embedding()"
      ],
      "execution_count": null,
      "outputs": []
    },
    {
      "cell_type": "code",
      "metadata": {
        "id": "Gtawby_JY-Z8"
      },
      "source": [
        "from tensorflow.keras.preprocessing.text import Tokenizer\n",
        "t  = Tokenizer()\n",
        "text = \"The earth is an awesome place to live\"\n",
        "t.fit_on_texts([text])\n"
      ],
      "execution_count": null,
      "outputs": []
    },
    {
      "cell_type": "code",
      "metadata": {
        "colab": {
          "base_uri": "https://localhost:8080/"
        },
        "id": "o7b-jZiEZaQ5",
        "outputId": "92081a1c-0e5c-46ab-dd3f-d37c95c0f742"
      },
      "source": [
        "test_text = \"The earth is an great place to live\"\n",
        "sequences = t.texts_to_sequences([test_text])[0]\n",
        "\n",
        "print(\"sequences : \",sequences) # great는 단어 집합(vocabulary)에 없으므로 출력되지 않는다.\n",
        "print(\"word_index : \",t.word_index) # 단어 집합(vocabulary) 출력"
      ],
      "execution_count": null,
      "outputs": [
        {
          "output_type": "stream",
          "text": [
            "sequences :  [1, 2, 3, 4, 6, 7, 8]\n",
            "word_index :  {'the': 1, 'earth': 2, 'is': 3, 'an': 4, 'awesome': 5, 'place': 6, 'to': 7, 'live': 8}\n"
          ],
          "name": "stdout"
        }
      ]
    },
    {
      "cell_type": "code",
      "metadata": {
        "id": "FLkeroNvZY75"
      },
      "source": [
        "# Keras preprocessing\n",
        "# - Word Embedding(): convert words -> dense vectors\n",
        "# - Embedding()은 (number of samples, input_length)인 2D 정수 텐서를 입력받습니다. \n",
        "#   이 때 각 sample은 정수 인코딩이 된 결과로, 정수의 시퀀스입니다. Embedding()은 워드 임베딩 \n",
        "#   작업을 수행하고 (number of samples, input_length, embedding word dimensionality)인 3D 텐서를 \n",
        "#   리턴합니다."
      ],
      "execution_count": null,
      "outputs": []
    },
    {
      "cell_type": "code",
      "metadata": {
        "colab": {
          "base_uri": "https://localhost:8080/"
        },
        "id": "_rEUqGk-a-TE",
        "outputId": "df699fc2-b1e8-4217-d6cd-abaa9dc4edcb"
      },
      "source": [
        "from keras.models import Model\n",
        "from keras.layers import Input\n",
        "from keras.layers import LSTM\n",
        "import numpy as np\n",
        "\n",
        "inputs1 = Input(shape=(3, 1))   # (batch_size, timesteps, input_features)\n",
        "lstm1 = LSTM(1)(inputs1)\n",
        "model = Model(inputs=inputs1, outputs=lstm1)\n",
        "data = np.array([0.1, 0.2, 0.3]).reshape((1,3,1))\n",
        "print(model.predict(data))   "
      ],
      "execution_count": null,
      "outputs": [
        {
          "output_type": "stream",
          "text": [
            "WARNING:tensorflow:11 out of the last 11 calls to <function Model.make_predict_function.<locals>.predict_function at 0x7f629b417d90> triggered tf.function retracing. Tracing is expensive and the excessive number of tracings could be due to (1) creating @tf.function repeatedly in a loop, (2) passing tensors with different shapes, (3) passing Python objects instead of tensors. For (1), please define your @tf.function outside of the loop. For (2), @tf.function has experimental_relax_shapes=True option that relaxes argument shapes that can avoid unnecessary retracing. For (3), please refer to https://www.tensorflow.org/tutorials/customization/performance#python_or_tensor_args and https://www.tensorflow.org/api_docs/python/tf/function for  more details.\n",
            "[[-0.08360424]]\n"
          ],
          "name": "stdout"
        }
      ]
    },
    {
      "cell_type": "code",
      "metadata": {
        "colab": {
          "base_uri": "https://localhost:8080/"
        },
        "id": "mYuaVduViRbb",
        "outputId": "35e650b5-11f9-465c-e446-e0baa40fbfd9"
      },
      "source": [
        "\n",
        "inputs1 = Input(shape=(3, 1))\n",
        "lstm1 = LSTM(1, return_sequences=True)(inputs1)\n",
        "model = Model(inputs=inputs1, outputs=lstm1)\n",
        "data = array([0.1, 0.2, 0.3]).reshape((1,3,1))\n",
        "print(model.predict(data))   # one hidden state output for each input time step"
      ],
      "execution_count": null,
      "outputs": [
        {
          "output_type": "stream",
          "text": [
            "WARNING:tensorflow:11 out of the last 11 calls to <function Model.make_predict_function.<locals>.predict_function at 0x7f629a172ea0> triggered tf.function retracing. Tracing is expensive and the excessive number of tracings could be due to (1) creating @tf.function repeatedly in a loop, (2) passing tensors with different shapes, (3) passing Python objects instead of tensors. For (1), please define your @tf.function outside of the loop. For (2), @tf.function has experimental_relax_shapes=True option that relaxes argument shapes that can avoid unnecessary retracing. For (3), please refer to https://www.tensorflow.org/tutorials/customization/performance#python_or_tensor_args and https://www.tensorflow.org/api_docs/python/tf/function for  more details.\n",
            "[[[-0.02241635]\n",
            "  [-0.06170981]\n",
            "  [-0.11444511]]]\n"
          ],
          "name": "stdout"
        }
      ]
    }
  ]
}