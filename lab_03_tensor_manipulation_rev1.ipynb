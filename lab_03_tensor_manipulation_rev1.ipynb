{
  "nbformat": 4,
  "nbformat_minor": 0,
  "metadata": {
    "kernelspec": {
      "display_name": "Python 3",
      "language": "python",
      "name": "python3"
    },
    "language_info": {
      "codemirror_mode": {
        "name": "ipython",
        "version": 3
      },
      "file_extension": ".py",
      "mimetype": "text/x-python",
      "name": "python",
      "nbconvert_exporter": "python",
      "pygments_lexer": "ipython3",
      "version": "3.6.8"
    },
    "colab": {
      "name": "lab_03_tensor_manipulation_rev1.ipynb",
      "provenance": [],
      "collapsed_sections": [],
      "toc_visible": true,
      "include_colab_link": true
    }
  },
  "cells": [
    {
      "cell_type": "markdown",
      "metadata": {
        "id": "view-in-github",
        "colab_type": "text"
      },
      "source": [
        "<a href=\"https://colab.research.google.com/github/rtajeong/Kyungnam_univ_M4/blob/main/lab_03_tensor_manipulation_rev1.ipynb\" target=\"_parent\"><img src=\"https://colab.research.google.com/assets/colab-badge.svg\" alt=\"Open In Colab\"/></a>"
      ]
    },
    {
      "cell_type": "markdown",
      "metadata": {
        "id": "Yk7f_1HiuUPT"
      },
      "source": [
        "# Tensor Manipulation\n",
        "- from Prof. Sunghun Kim's lecture lab\n",
        "- modified by jyj"
      ]
    },
    {
      "cell_type": "code",
      "metadata": {
        "id": "jV8_gOOnuUPX"
      },
      "source": [
        "# https://www.tensorflow.org/api_guides/python/array_ops\n",
        "import tensorflow as tf\n",
        "import numpy as np\n",
        "import pprint\n",
        "np.random.seed(17)  # for reproducibility\n",
        "\n",
        "pp = pprint.PrettyPrinter(indent=4)"
      ],
      "execution_count": null,
      "outputs": []
    },
    {
      "cell_type": "markdown",
      "metadata": {
        "id": "FXqDg2kFuUPy"
      },
      "source": [
        "## Simple Array"
      ]
    },
    {
      "cell_type": "code",
      "metadata": {
        "id": "ZhZuLPawuUP1",
        "colab": {
          "base_uri": "https://localhost:8080/"
        },
        "outputId": "9e45361f-de3f-4501-e7c8-bab2adb5a3fe"
      },
      "source": [
        "t = np.array([0., 1., 2., 3., 4., 5., 6.])\n",
        "print(t)\n",
        "print(t.ndim) # rank\n",
        "print(t.shape) # shape\n",
        "print(t[0], t[1], t[-1])\n",
        "print(t[2:5], t[4:-1])\n",
        "print(t[:2], t[3:])"
      ],
      "execution_count": null,
      "outputs": [
        {
          "output_type": "stream",
          "text": [
            "[0. 1. 2. 3. 4. 5. 6.]\n",
            "1\n",
            "(7,)\n",
            "0.0 1.0 6.0\n",
            "[2. 3. 4.] [4. 5.]\n",
            "[0. 1.] [3. 4. 5. 6.]\n"
          ],
          "name": "stdout"
        }
      ]
    },
    {
      "cell_type": "markdown",
      "metadata": {
        "id": "1wuMr1_iuUQX"
      },
      "source": [
        "# 2D Array"
      ]
    },
    {
      "cell_type": "code",
      "metadata": {
        "id": "QDFwm9HRuUQb",
        "colab": {
          "base_uri": "https://localhost:8080/"
        },
        "outputId": "d71f6d30-1c8e-4d51-d3cb-d8f1ddcb7856"
      },
      "source": [
        "t = np.array([[1., 2., 3.], \n",
        "              [4., 5., 6.], \n",
        "              [7., 8., 9.], \n",
        "              [10., 11., 12.]])\n",
        "pp.pprint(t)\n",
        "print(t.ndim) # rank\n",
        "print(t.shape) # shape"
      ],
      "execution_count": null,
      "outputs": [
        {
          "output_type": "stream",
          "text": [
            "array([[ 1.,  2.,  3.],\n",
            "       [ 4.,  5.,  6.],\n",
            "       [ 7.,  8.,  9.],\n",
            "       [10., 11., 12.]])\n",
            "2\n",
            "(4, 3)\n"
          ],
          "name": "stdout"
        }
      ]
    },
    {
      "cell_type": "markdown",
      "metadata": {
        "id": "uuWxE1D9uUQu"
      },
      "source": [
        "## Shape, Rank, Axis"
      ]
    },
    {
      "cell_type": "code",
      "metadata": {
        "id": "Ak7XN2LEuUQw",
        "colab": {
          "base_uri": "https://localhost:8080/"
        },
        "outputId": "fc868a57-ba63-4312-b652-a13444bfbdab"
      },
      "source": [
        "t1 = tf.constant([1,2,3,4])\n",
        "t2 = tf.constant([[1,2,3,4]])\n",
        "print(t1, t1.numpy(), t1.dtype, t1.shape)\n",
        "print(t2, t2.numpy(), t2.dtype, t2.shape)"
      ],
      "execution_count": null,
      "outputs": [
        {
          "output_type": "stream",
          "text": [
            "tf.Tensor([1 2 3 4], shape=(4,), dtype=int32) [1 2 3 4] <dtype: 'int32'> (4,)\n",
            "tf.Tensor([[1 2 3 4]], shape=(1, 4), dtype=int32) [[1 2 3 4]] <dtype: 'int32'> (1, 4)\n"
          ],
          "name": "stdout"
        }
      ]
    },
    {
      "cell_type": "code",
      "metadata": {
        "id": "zUYsuNRtuUQ-",
        "colab": {
          "base_uri": "https://localhost:8080/"
        },
        "outputId": "c81c3cd9-56ab-4c87-e3d2-aadce3c449d3"
      },
      "source": [
        "t = tf.constant([[1,2],\n",
        "                 [3,4]])\n",
        "t"
      ],
      "execution_count": null,
      "outputs": [
        {
          "output_type": "execute_result",
          "data": {
            "text/plain": [
              "<tf.Tensor: shape=(2, 2), dtype=int32, numpy=\n",
              "array([[1, 2],\n",
              "       [3, 4]], dtype=int32)>"
            ]
          },
          "metadata": {
            "tags": []
          },
          "execution_count": 10
        }
      ]
    },
    {
      "cell_type": "code",
      "metadata": {
        "id": "YU3ipzaAuURJ",
        "colab": {
          "base_uri": "https://localhost:8080/"
        },
        "outputId": "2604708c-5b28-453d-df44-ed5646ca33d4"
      },
      "source": [
        "t = tf.constant([[[1, 2, 3, 4], \n",
        "                   [5, 6, 7, 8], \n",
        "                   [9, 10, 11, 12]],\n",
        "                  \n",
        "                  [[13, 14, 15, 16], \n",
        "                   [17, 18, 19, 20], \n",
        "                   [21, 22, 23, 24]]])\n",
        "print(tf.shape(t))\n",
        "t"
      ],
      "execution_count": null,
      "outputs": [
        {
          "output_type": "stream",
          "text": [
            "tf.Tensor([2 3 4], shape=(3,), dtype=int32)\n"
          ],
          "name": "stdout"
        },
        {
          "output_type": "execute_result",
          "data": {
            "text/plain": [
              "<tf.Tensor: shape=(2, 3, 4), dtype=int32, numpy=\n",
              "array([[[ 1,  2,  3,  4],\n",
              "        [ 5,  6,  7,  8],\n",
              "        [ 9, 10, 11, 12]],\n",
              "\n",
              "       [[13, 14, 15, 16],\n",
              "        [17, 18, 19, 20],\n",
              "        [21, 22, 23, 24]]], dtype=int32)>"
            ]
          },
          "metadata": {
            "tags": []
          },
          "execution_count": 11
        }
      ]
    },
    {
      "cell_type": "code",
      "metadata": {
        "id": "X0OOmBMWuURk",
        "colab": {
          "base_uri": "https://localhost:8080/"
        },
        "outputId": "2afa1adf-931e-4f9a-c343-9518095b4235"
      },
      "source": [
        "t = tf.constant( \\\n",
        "[\n",
        "    [\n",
        "        [\n",
        "            [1,2,3,4], \n",
        "            [5,6,7,8],\n",
        "            [9,10,11,12]\n",
        "        ],\n",
        "        [\n",
        "            [13,14,15,16],\n",
        "            [17,18,19,20], \n",
        "            [21,22,23,24]\n",
        "        ]\n",
        "    ]\n",
        "])\n",
        "t"
      ],
      "execution_count": null,
      "outputs": [
        {
          "output_type": "execute_result",
          "data": {
            "text/plain": [
              "<tf.Tensor: shape=(1, 2, 3, 4), dtype=int32, numpy=\n",
              "array([[[[ 1,  2,  3,  4],\n",
              "         [ 5,  6,  7,  8],\n",
              "         [ 9, 10, 11, 12]],\n",
              "\n",
              "        [[13, 14, 15, 16],\n",
              "         [17, 18, 19, 20],\n",
              "         [21, 22, 23, 24]]]], dtype=int32)>"
            ]
          },
          "metadata": {
            "tags": []
          },
          "execution_count": 12
        }
      ]
    },
    {
      "cell_type": "markdown",
      "metadata": {
        "id": "cTRJ8uw9uUR3"
      },
      "source": [
        "## Matmul VS multiply"
      ]
    },
    {
      "cell_type": "code",
      "metadata": {
        "id": "9MJjj6LwuUR6",
        "colab": {
          "base_uri": "https://localhost:8080/"
        },
        "outputId": "0488eb61-1f1a-4d8f-f931-c3f2b064bc56"
      },
      "source": [
        "matrix1 = tf.constant([[3., 3.]])\n",
        "matrix2 = tf.constant([[2.],\n",
        "                       [2.]])\n",
        "print(matrix1, matrix2)\n",
        "tf.matmul(matrix1, matrix2)"
      ],
      "execution_count": null,
      "outputs": [
        {
          "output_type": "stream",
          "text": [
            "tf.Tensor([[3. 3.]], shape=(1, 2), dtype=float32) tf.Tensor(\n",
            "[[2.]\n",
            " [2.]], shape=(2, 1), dtype=float32)\n"
          ],
          "name": "stdout"
        },
        {
          "output_type": "execute_result",
          "data": {
            "text/plain": [
              "<tf.Tensor: shape=(1, 1), dtype=float32, numpy=array([[12.]], dtype=float32)>"
            ]
          },
          "metadata": {
            "tags": []
          },
          "execution_count": 13
        }
      ]
    },
    {
      "cell_type": "code",
      "metadata": {
        "id": "as219h2QuUSl",
        "colab": {
          "base_uri": "https://localhost:8080/"
        },
        "outputId": "51128910-00da-4530-e7ce-cc8a0f785a29"
      },
      "source": [
        "matrix1*matrix2    # broadcasting (be careful when using)"
      ],
      "execution_count": null,
      "outputs": [
        {
          "output_type": "execute_result",
          "data": {
            "text/plain": [
              "<tf.Tensor: shape=(2, 2), dtype=float32, numpy=\n",
              "array([[6., 6.],\n",
              "       [6., 6.]], dtype=float32)>"
            ]
          },
          "metadata": {
            "tags": []
          },
          "execution_count": 14
        }
      ]
    },
    {
      "cell_type": "markdown",
      "metadata": {
        "id": "VONKpLjRuUS3"
      },
      "source": [
        "## Watch out broadcasting"
      ]
    },
    {
      "cell_type": "code",
      "metadata": {
        "id": "4KCzdBGkuUS5",
        "colab": {
          "base_uri": "https://localhost:8080/"
        },
        "outputId": "dc76b664-79a7-4e40-c13b-bf7a504ea719"
      },
      "source": [
        "matrix1 = tf.constant([[3., 3.]])\n",
        "matrix2 = tf.constant([[2.],[2.]])\n",
        "matrix1+matrix2"
      ],
      "execution_count": null,
      "outputs": [
        {
          "output_type": "execute_result",
          "data": {
            "text/plain": [
              "<tf.Tensor: shape=(2, 2), dtype=float32, numpy=\n",
              "array([[5., 5.],\n",
              "       [5., 5.]], dtype=float32)>"
            ]
          },
          "metadata": {
            "tags": []
          },
          "execution_count": 15
        }
      ]
    },
    {
      "cell_type": "code",
      "metadata": {
        "id": "KGTDnOVHuUTF",
        "colab": {
          "base_uri": "https://localhost:8080/"
        },
        "outputId": "8b46632a-d6a8-461e-c510-e750c99bcb58"
      },
      "source": [
        "matrix1 = tf.constant([[3., 3.]])\n",
        "matrix2 = tf.constant([[2., 2.]])\n",
        "matrix1+matrix2"
      ],
      "execution_count": null,
      "outputs": [
        {
          "output_type": "execute_result",
          "data": {
            "text/plain": [
              "<tf.Tensor: shape=(1, 2), dtype=float32, numpy=array([[5., 5.]], dtype=float32)>"
            ]
          },
          "metadata": {
            "tags": []
          },
          "execution_count": 16
        }
      ]
    },
    {
      "cell_type": "markdown",
      "metadata": {
        "id": "UbEwRHWTuUTQ"
      },
      "source": [
        "## Random values for variable initializations "
      ]
    },
    {
      "cell_type": "code",
      "metadata": {
        "scrolled": true,
        "id": "YW4GhFN7uUTa",
        "colab": {
          "base_uri": "https://localhost:8080/"
        },
        "outputId": "ad20f81f-9280-4fd4-9e0d-fa6b9e5d6454"
      },
      "source": [
        "tf.random.normal([3], mean=0., stddev=1.0)"
      ],
      "execution_count": null,
      "outputs": [
        {
          "output_type": "execute_result",
          "data": {
            "text/plain": [
              "<tf.Tensor: shape=(3,), dtype=float32, numpy=array([ 0.17265578, -0.21497932,  0.8491292 ], dtype=float32)>"
            ]
          },
          "metadata": {
            "tags": []
          },
          "execution_count": 17
        }
      ]
    },
    {
      "cell_type": "code",
      "metadata": {
        "id": "Ec-2cLsPuUT4",
        "colab": {
          "base_uri": "https://localhost:8080/"
        },
        "outputId": "04ab11f4-ec05-45e6-ce21-1fd87c793609"
      },
      "source": [
        "tf.random.uniform([2])  # For floats, the default range is [0, 1).  \n",
        "                        # for ints, at least maxval must be specified explicitly."
      ],
      "execution_count": null,
      "outputs": [
        {
          "output_type": "execute_result",
          "data": {
            "text/plain": [
              "<tf.Tensor: shape=(2,), dtype=float32, numpy=array([0.53553367, 0.16144729], dtype=float32)>"
            ]
          },
          "metadata": {
            "tags": []
          },
          "execution_count": 18
        }
      ]
    },
    {
      "cell_type": "code",
      "metadata": {
        "id": "gQ-TK5hzuUUa",
        "colab": {
          "base_uri": "https://localhost:8080/"
        },
        "outputId": "07f1bfe9-35da-4a80-dd81-954940e6c9f8"
      },
      "source": [
        "tf.random.uniform([2, 3])"
      ],
      "execution_count": null,
      "outputs": [
        {
          "output_type": "execute_result",
          "data": {
            "text/plain": [
              "<tf.Tensor: shape=(2, 3), dtype=float32, numpy=\n",
              "array([[0.6767992 , 0.19324529, 0.15412498],\n",
              "       [0.11005032, 0.22068179, 0.22076559]], dtype=float32)>"
            ]
          },
          "metadata": {
            "tags": []
          },
          "execution_count": 30
        }
      ]
    },
    {
      "cell_type": "code",
      "metadata": {
        "id": "vFB-z692magM",
        "colab": {
          "base_uri": "https://localhost:8080/"
        },
        "outputId": "3af3aa23-dcad-4f58-86b4-80c2595dcc5a"
      },
      "source": [
        "np.random.uniform(size=(2,3))"
      ],
      "execution_count": null,
      "outputs": [
        {
          "output_type": "execute_result",
          "data": {
            "text/plain": [
              "array([[0.48352862, 0.28298816, 0.29772572],\n",
              "       [0.56150891, 0.39604744, 0.78870071]])"
            ]
          },
          "metadata": {
            "tags": []
          },
          "execution_count": 29
        }
      ]
    },
    {
      "cell_type": "code",
      "metadata": {
        "colab": {
          "base_uri": "https://localhost:8080/"
        },
        "id": "DJXWi97lNSEt",
        "outputId": "0f5bb84c-63fb-411d-cd6c-fe5258d0f71f"
      },
      "source": [
        "tf.round(tf.random.uniform([2, 3]))  # nearest integer"
      ],
      "execution_count": null,
      "outputs": [
        {
          "output_type": "execute_result",
          "data": {
            "text/plain": [
              "<tf.Tensor: shape=(2, 3), dtype=float32, numpy=\n",
              "array([[1., 0., 0.],\n",
              "       [0., 1., 1.]], dtype=float32)>"
            ]
          },
          "metadata": {
            "tags": []
          },
          "execution_count": 34
        }
      ]
    },
    {
      "cell_type": "code",
      "metadata": {
        "colab": {
          "base_uri": "https://localhost:8080/"
        },
        "id": "b4T6Ag_5P1bw",
        "outputId": "cf13ea29-6f79-49c2-b3e6-65423e8c5d3b"
      },
      "source": [
        "np.round(tf.random.uniform([2, 3]), 3)"
      ],
      "execution_count": null,
      "outputs": [
        {
          "output_type": "execute_result",
          "data": {
            "text/plain": [
              "array([[0.227, 0.518, 0.385],\n",
              "       [0.094, 0.02 , 0.641]], dtype=float32)"
            ]
          },
          "metadata": {
            "tags": []
          },
          "execution_count": 35
        }
      ]
    },
    {
      "cell_type": "markdown",
      "metadata": {
        "id": "CFWtbNXauUUv"
      },
      "source": [
        "## Reduce Mean/Sum"
      ]
    },
    {
      "cell_type": "code",
      "metadata": {
        "id": "sHyRL7AonNpM",
        "colab": {
          "base_uri": "https://localhost:8080/"
        },
        "outputId": "fbe8c2bd-6908-4e1b-9140-82e816ed1d0f"
      },
      "source": [
        "np.array([1,2,3]).sum()"
      ],
      "execution_count": null,
      "outputs": [
        {
          "output_type": "execute_result",
          "data": {
            "text/plain": [
              "6"
            ]
          },
          "metadata": {
            "tags": []
          },
          "execution_count": 36
        }
      ]
    },
    {
      "cell_type": "code",
      "metadata": {
        "id": "ufV2BHSKuUUy",
        "colab": {
          "base_uri": "https://localhost:8080/"
        },
        "outputId": "9d04fc8b-b16f-4e5d-ac2d-c13df7a5489c"
      },
      "source": [
        "tf.reduce_sum([1., 2.], axis=0)"
      ],
      "execution_count": null,
      "outputs": [
        {
          "output_type": "execute_result",
          "data": {
            "text/plain": [
              "<tf.Tensor: shape=(), dtype=float32, numpy=3.0>"
            ]
          },
          "metadata": {
            "tags": []
          },
          "execution_count": 37
        }
      ]
    },
    {
      "cell_type": "code",
      "metadata": {
        "id": "TXYIK7zHuUVK",
        "colab": {
          "base_uri": "https://localhost:8080/"
        },
        "outputId": "657dddf5-86ff-434e-bf63-7c71ca04e215"
      },
      "source": [
        "x = [[1., 2.],\n",
        "     [3., 4.]]\n",
        "\n",
        "print(tf.constant(x))\n",
        "print(tf.reduce_mean(x))\n",
        "print(tf.reduce_mean(x, axis=0))\n",
        "print(tf.reduce_mean(x, axis=1))"
      ],
      "execution_count": null,
      "outputs": [
        {
          "output_type": "stream",
          "text": [
            "tf.Tensor(\n",
            "[[1. 2.]\n",
            " [3. 4.]], shape=(2, 2), dtype=float32)\n",
            "tf.Tensor(2.5, shape=(), dtype=float32)\n",
            "tf.Tensor([2. 3.], shape=(2,), dtype=float32)\n",
            "tf.Tensor([1.5 3.5], shape=(2,), dtype=float32)\n"
          ],
          "name": "stdout"
        }
      ]
    },
    {
      "cell_type": "code",
      "metadata": {
        "id": "CGoKlpYWuUXF",
        "colab": {
          "base_uri": "https://localhost:8080/"
        },
        "outputId": "6349ddc8-bcc1-4be3-abe4-f03bbd5077df"
      },
      "source": [
        "tf.reduce_mean(x, axis=-1)  # 가장 안쪽 axis"
      ],
      "execution_count": null,
      "outputs": [
        {
          "output_type": "execute_result",
          "data": {
            "text/plain": [
              "<tf.Tensor: shape=(2,), dtype=float32, numpy=array([1.5, 3.5], dtype=float32)>"
            ]
          },
          "metadata": {
            "tags": []
          },
          "execution_count": 43
        }
      ]
    },
    {
      "cell_type": "code",
      "metadata": {
        "id": "OKIq6YEeuUXU",
        "colab": {
          "base_uri": "https://localhost:8080/"
        },
        "outputId": "9970bf80-304c-4104-ae7c-4be8ab457aa4"
      },
      "source": [
        "tf.reduce_sum(x) , tf.reduce_sum(x, axis=0), tf.reduce_sum(x, axis=-1), tf.reduce_mean(tf.reduce_sum(x, axis=-1))"
      ],
      "execution_count": null,
      "outputs": [
        {
          "output_type": "execute_result",
          "data": {
            "text/plain": [
              "(<tf.Tensor: shape=(), dtype=float32, numpy=10.0>,\n",
              " <tf.Tensor: shape=(2,), dtype=float32, numpy=array([4., 6.], dtype=float32)>,\n",
              " <tf.Tensor: shape=(2,), dtype=float32, numpy=array([3., 7.], dtype=float32)>,\n",
              " <tf.Tensor: shape=(), dtype=float32, numpy=5.0>)"
            ]
          },
          "metadata": {
            "tags": []
          },
          "execution_count": 47
        }
      ]
    },
    {
      "cell_type": "markdown",
      "metadata": {
        "id": "3ZTq9GGiuUY3"
      },
      "source": [
        "## Argmax with axis"
      ]
    },
    {
      "cell_type": "code",
      "metadata": {
        "id": "UEE5WMQquUY6",
        "colab": {
          "base_uri": "https://localhost:8080/"
        },
        "outputId": "c9351340-7233-4e04-b683-f1f4a0fff2cc"
      },
      "source": [
        "x = [[0, 1, 2],\n",
        "     [2, 1, 0]]\n",
        "tf.argmax(x, axis=0)"
      ],
      "execution_count": null,
      "outputs": [
        {
          "output_type": "execute_result",
          "data": {
            "text/plain": [
              "<tf.Tensor: shape=(3,), dtype=int64, numpy=array([1, 0, 0])>"
            ]
          },
          "metadata": {
            "tags": []
          },
          "execution_count": 48
        }
      ]
    },
    {
      "cell_type": "code",
      "metadata": {
        "id": "OtxjDfTBuUZK",
        "colab": {
          "base_uri": "https://localhost:8080/"
        },
        "outputId": "90cec946-f313-4823-84e8-8d3ab286d794"
      },
      "source": [
        "tf.argmax(x, axis=1)"
      ],
      "execution_count": null,
      "outputs": [
        {
          "output_type": "execute_result",
          "data": {
            "text/plain": [
              "<tf.Tensor: shape=(2,), dtype=int64, numpy=array([2, 0])>"
            ]
          },
          "metadata": {
            "tags": []
          },
          "execution_count": 49
        }
      ]
    },
    {
      "cell_type": "code",
      "metadata": {
        "id": "Wd1VxtyduUZs",
        "colab": {
          "base_uri": "https://localhost:8080/"
        },
        "outputId": "d026e982-a6fd-4394-a7aa-9121ecf57deb"
      },
      "source": [
        "tf.argmax(x, axis=-1)"
      ],
      "execution_count": null,
      "outputs": [
        {
          "output_type": "execute_result",
          "data": {
            "text/plain": [
              "<tf.Tensor: shape=(2,), dtype=int64, numpy=array([2, 0])>"
            ]
          },
          "metadata": {
            "tags": []
          },
          "execution_count": 50
        }
      ]
    },
    {
      "cell_type": "markdown",
      "metadata": {
        "id": "b9AzA1-3uUZ7"
      },
      "source": [
        "## Reshape, squeeze, expand_dims"
      ]
    },
    {
      "cell_type": "code",
      "metadata": {
        "id": "CZQOF6OAuUZ9",
        "colab": {
          "base_uri": "https://localhost:8080/"
        },
        "outputId": "9eccd60a-19b4-4e67-f77e-4f52c24de90a"
      },
      "source": [
        "t = np.array([[[0, 1, 2], \n",
        "               [3, 4, 5]],\n",
        "              \n",
        "              [[6, 7, 8], \n",
        "               [9, 10, 11]]])\n",
        "t.shape"
      ],
      "execution_count": null,
      "outputs": [
        {
          "output_type": "execute_result",
          "data": {
            "text/plain": [
              "(2, 2, 3)"
            ]
          },
          "metadata": {
            "tags": []
          },
          "execution_count": 51
        }
      ]
    },
    {
      "cell_type": "code",
      "metadata": {
        "id": "VYHELFHEuUaH",
        "colab": {
          "base_uri": "https://localhost:8080/"
        },
        "outputId": "a205cfce-ac21-42ab-948b-b9df91700704"
      },
      "source": [
        "tf.reshape(t, shape=[-1, 3])"
      ],
      "execution_count": null,
      "outputs": [
        {
          "output_type": "execute_result",
          "data": {
            "text/plain": [
              "<tf.Tensor: shape=(4, 3), dtype=int64, numpy=\n",
              "array([[ 0,  1,  2],\n",
              "       [ 3,  4,  5],\n",
              "       [ 6,  7,  8],\n",
              "       [ 9, 10, 11]])>"
            ]
          },
          "metadata": {
            "tags": []
          },
          "execution_count": 52
        }
      ]
    },
    {
      "cell_type": "code",
      "metadata": {
        "id": "hUi-1GFEuUac",
        "colab": {
          "base_uri": "https://localhost:8080/"
        },
        "outputId": "138f58f5-5328-44e7-c0aa-a46ea7504d69"
      },
      "source": [
        "tf.reshape(t, shape=[-1, 1, 3])"
      ],
      "execution_count": null,
      "outputs": [
        {
          "output_type": "execute_result",
          "data": {
            "text/plain": [
              "<tf.Tensor: shape=(4, 1, 3), dtype=int64, numpy=\n",
              "array([[[ 0,  1,  2]],\n",
              "\n",
              "       [[ 3,  4,  5]],\n",
              "\n",
              "       [[ 6,  7,  8]],\n",
              "\n",
              "       [[ 9, 10, 11]]])>"
            ]
          },
          "metadata": {
            "tags": []
          },
          "execution_count": 53
        }
      ]
    },
    {
      "cell_type": "code",
      "metadata": {
        "id": "h0BZ0ZfFuUa0",
        "colab": {
          "base_uri": "https://localhost:8080/"
        },
        "outputId": "85fbc75a-4e9c-47ae-aafd-9cfad8cdbdf5"
      },
      "source": [
        "tf.squeeze([[0], [1], [2]])"
      ],
      "execution_count": null,
      "outputs": [
        {
          "output_type": "execute_result",
          "data": {
            "text/plain": [
              "<tf.Tensor: shape=(3,), dtype=int32, numpy=array([0, 1, 2], dtype=int32)>"
            ]
          },
          "metadata": {
            "tags": []
          },
          "execution_count": 54
        }
      ]
    },
    {
      "cell_type": "code",
      "metadata": {
        "id": "FRoHWAHxuUbB",
        "colab": {
          "base_uri": "https://localhost:8080/"
        },
        "outputId": "1f32b3cf-a1ad-43fc-bb66-db531ff9de9e"
      },
      "source": [
        "tf.expand_dims([0, 1, 2], 0), tf.expand_dims([0, 1, 2], 1)  # axis 추가"
      ],
      "execution_count": null,
      "outputs": [
        {
          "output_type": "execute_result",
          "data": {
            "text/plain": [
              "(<tf.Tensor: shape=(1, 3), dtype=int32, numpy=array([[0, 1, 2]], dtype=int32)>,\n",
              " <tf.Tensor: shape=(3, 1), dtype=int32, numpy=\n",
              " array([[0],\n",
              "        [1],\n",
              "        [2]], dtype=int32)>)"
            ]
          },
          "metadata": {
            "tags": []
          },
          "execution_count": 55
        }
      ]
    },
    {
      "cell_type": "markdown",
      "metadata": {
        "id": "eRi7FHbsuUbb"
      },
      "source": [
        "## One hot"
      ]
    },
    {
      "cell_type": "code",
      "metadata": {
        "id": "M8_xkEN5uUbd",
        "colab": {
          "base_uri": "https://localhost:8080/"
        },
        "outputId": "e22debd4-4c3a-4eac-ec09-f660a12ee8ee"
      },
      "source": [
        "tf.one_hot([[0], [1], [2], [0]], depth=3) # rank 가 하나 늘어남"
      ],
      "execution_count": null,
      "outputs": [
        {
          "output_type": "execute_result",
          "data": {
            "text/plain": [
              "<tf.Tensor: shape=(4, 1, 3), dtype=float32, numpy=\n",
              "array([[[1., 0., 0.]],\n",
              "\n",
              "       [[0., 1., 0.]],\n",
              "\n",
              "       [[0., 0., 1.]],\n",
              "\n",
              "       [[1., 0., 0.]]], dtype=float32)>"
            ]
          },
          "metadata": {
            "tags": []
          },
          "execution_count": 56
        }
      ]
    },
    {
      "cell_type": "code",
      "metadata": {
        "id": "HCudlqhouUbp",
        "colab": {
          "base_uri": "https://localhost:8080/"
        },
        "outputId": "9e747a18-2df2-45a9-a8b6-7b45baa73a87"
      },
      "source": [
        "t = tf.one_hot([[0], [1], [2], [0]], depth=3)\n",
        "tf.reshape(t, shape=[-1, 3])"
      ],
      "execution_count": null,
      "outputs": [
        {
          "output_type": "execute_result",
          "data": {
            "text/plain": [
              "<tf.Tensor: shape=(4, 3), dtype=float32, numpy=\n",
              "array([[1., 0., 0.],\n",
              "       [0., 1., 0.],\n",
              "       [0., 0., 1.],\n",
              "       [1., 0., 0.]], dtype=float32)>"
            ]
          },
          "metadata": {
            "tags": []
          },
          "execution_count": 57
        }
      ]
    },
    {
      "cell_type": "markdown",
      "metadata": {
        "id": "jOSn1rj8uUb0"
      },
      "source": [
        "## casting"
      ]
    },
    {
      "cell_type": "code",
      "metadata": {
        "id": "ca8SRZpIuUb2",
        "colab": {
          "base_uri": "https://localhost:8080/"
        },
        "outputId": "7e98502f-d3e7-4b15-f377-51588faa3b0c"
      },
      "source": [
        "tf.cast([1.8, 2.2, 3.3, 4.9], tf.int32)   # type 변경"
      ],
      "execution_count": null,
      "outputs": [
        {
          "output_type": "execute_result",
          "data": {
            "text/plain": [
              "<tf.Tensor: shape=(4,), dtype=int32, numpy=array([1, 2, 3, 4], dtype=int32)>"
            ]
          },
          "metadata": {
            "tags": []
          },
          "execution_count": 58
        }
      ]
    },
    {
      "cell_type": "code",
      "metadata": {
        "id": "BYNzKa6cuUcu",
        "colab": {
          "base_uri": "https://localhost:8080/"
        },
        "outputId": "7748250d-9d8c-42cf-cf9c-9e70a4b2d0f6"
      },
      "source": [
        "print([True, False, 1 == 1, 0 == 1])\n",
        "tf.cast([True, False, 1 == 1, 0 == 1], tf.int32)  # True->1, False->0"
      ],
      "execution_count": null,
      "outputs": [
        {
          "output_type": "stream",
          "text": [
            "[True, False, True, False]\n"
          ],
          "name": "stdout"
        },
        {
          "output_type": "execute_result",
          "data": {
            "text/plain": [
              "<tf.Tensor: shape=(4,), dtype=int32, numpy=array([1, 0, 1, 0], dtype=int32)>"
            ]
          },
          "metadata": {
            "tags": []
          },
          "execution_count": 60
        }
      ]
    },
    {
      "cell_type": "markdown",
      "metadata": {
        "id": "uGLGK7a6uUc8"
      },
      "source": [
        "## Stack"
      ]
    },
    {
      "cell_type": "code",
      "metadata": {
        "id": "54VMlJsAuUdA",
        "colab": {
          "base_uri": "https://localhost:8080/"
        },
        "outputId": "8e7d3615-b4de-463b-fd49-a9ca2fec575e"
      },
      "source": [
        "x = [1, 4]\n",
        "y = [2, 5]\n",
        "z = [3, 6]\n",
        "\n",
        "# Pack along first dim.\n",
        "tf.stack([x, y, z], axis=0)"
      ],
      "execution_count": null,
      "outputs": [
        {
          "output_type": "execute_result",
          "data": {
            "text/plain": [
              "<tf.Tensor: shape=(3, 2), dtype=int32, numpy=\n",
              "array([[1, 4],\n",
              "       [2, 5],\n",
              "       [3, 6]], dtype=int32)>"
            ]
          },
          "metadata": {
            "tags": []
          },
          "execution_count": 63
        }
      ]
    },
    {
      "cell_type": "code",
      "metadata": {
        "id": "JHoamuz4uUdS",
        "colab": {
          "base_uri": "https://localhost:8080/"
        },
        "outputId": "c1ee9b2e-7c4c-465c-d580-379f7d3c5db6"
      },
      "source": [
        "tf.stack([x, y, z], axis=1)"
      ],
      "execution_count": null,
      "outputs": [
        {
          "output_type": "execute_result",
          "data": {
            "text/plain": [
              "<tf.Tensor: shape=(2, 3), dtype=int32, numpy=\n",
              "array([[1, 2, 3],\n",
              "       [4, 5, 6]], dtype=int32)>"
            ]
          },
          "metadata": {
            "tags": []
          },
          "execution_count": 64
        }
      ]
    },
    {
      "cell_type": "markdown",
      "metadata": {
        "id": "vWjqamDOuUdb"
      },
      "source": [
        "## Ones like and Zeros like"
      ]
    },
    {
      "cell_type": "code",
      "metadata": {
        "id": "V-TY_87KuUde",
        "colab": {
          "base_uri": "https://localhost:8080/"
        },
        "outputId": "903766c6-e256-4037-ab59-101f2a2fb09c"
      },
      "source": [
        "x = [[0, 1, 2],\n",
        "     [2, 1, 0]]\n",
        "\n",
        "tf.ones_like(x)  # 모양이 같게"
      ],
      "execution_count": null,
      "outputs": [
        {
          "output_type": "execute_result",
          "data": {
            "text/plain": [
              "<tf.Tensor: shape=(2, 3), dtype=int32, numpy=\n",
              "array([[1, 1, 1],\n",
              "       [1, 1, 1]], dtype=int32)>"
            ]
          },
          "metadata": {
            "tags": []
          },
          "execution_count": 65
        }
      ]
    },
    {
      "cell_type": "code",
      "metadata": {
        "id": "D3p2kNXOuUd2",
        "colab": {
          "base_uri": "https://localhost:8080/"
        },
        "outputId": "3465c77e-6684-42b0-a6be-38daa9a139c4"
      },
      "source": [
        "tf.zeros_like(x)"
      ],
      "execution_count": null,
      "outputs": [
        {
          "output_type": "execute_result",
          "data": {
            "text/plain": [
              "<tf.Tensor: shape=(2, 3), dtype=int32, numpy=\n",
              "array([[0, 0, 0],\n",
              "       [0, 0, 0]], dtype=int32)>"
            ]
          },
          "metadata": {
            "tags": []
          },
          "execution_count": 66
        }
      ]
    },
    {
      "cell_type": "markdown",
      "metadata": {
        "id": "fh7my9fcuUeI"
      },
      "source": [
        "## Zip\n"
      ]
    },
    {
      "cell_type": "code",
      "metadata": {
        "id": "MLXDku7huUeK",
        "colab": {
          "base_uri": "https://localhost:8080/"
        },
        "outputId": "00ce5a83-2ff6-40f4-afa3-304390b73135"
      },
      "source": [
        "for x, y in zip([1, 2, 3], [4, 5, 6]):   # zip is iterable\n",
        "    print(x, y)"
      ],
      "execution_count": null,
      "outputs": [
        {
          "output_type": "stream",
          "text": [
            "1 4\n",
            "2 5\n",
            "3 6\n"
          ],
          "name": "stdout"
        }
      ]
    },
    {
      "cell_type": "code",
      "metadata": {
        "id": "xrzxHnoTuUea",
        "colab": {
          "base_uri": "https://localhost:8080/"
        },
        "outputId": "a738d340-0e53-4dd9-866a-471b5281714e"
      },
      "source": [
        "for x, y, z in zip([1, 2, 3], [4, 5, 6], [7, 8, 9]):\n",
        "    print(x, y, z)"
      ],
      "execution_count": null,
      "outputs": [
        {
          "output_type": "stream",
          "text": [
            "1 4 7\n",
            "2 5 8\n",
            "3 6 9\n"
          ],
          "name": "stdout"
        }
      ]
    },
    {
      "cell_type": "markdown",
      "metadata": {
        "id": "mg5cc3eIuUen"
      },
      "source": [
        "## Transpose"
      ]
    },
    {
      "cell_type": "code",
      "metadata": {
        "id": "Z66gQZljuUet",
        "colab": {
          "base_uri": "https://localhost:8080/"
        },
        "outputId": "d6f29766-2ce0-4a5c-f423-f780ec56be43"
      },
      "source": [
        "t = np.array([[[0, 1, 2], [3, 4, 5]], [[6, 7, 8], [9, 10, 11]]])\n",
        "pp.pprint(t.shape)\n",
        "pp.pprint(t)"
      ],
      "execution_count": null,
      "outputs": [
        {
          "output_type": "stream",
          "text": [
            "(2, 2, 3)\n",
            "array([[[ 0,  1,  2],\n",
            "        [ 3,  4,  5]],\n",
            "\n",
            "       [[ 6,  7,  8],\n",
            "        [ 9, 10, 11]]])\n"
          ],
          "name": "stdout"
        }
      ]
    },
    {
      "cell_type": "code",
      "metadata": {
        "id": "1y9P7oUOuUfF",
        "colab": {
          "base_uri": "https://localhost:8080/"
        },
        "outputId": "8a555cac-0a38-4d56-a976-3b77f217ff38"
      },
      "source": [
        "t1 = tf.transpose(t, [1, 0, 2])\n",
        "pp.pprint(t1.shape)\n",
        "pp.pprint(t1)"
      ],
      "execution_count": null,
      "outputs": [
        {
          "output_type": "stream",
          "text": [
            "TensorShape([2, 2, 3])\n",
            "<tf.Tensor: shape=(2, 2, 3), dtype=int64, numpy=\n",
            "array([[[ 0,  1,  2],\n",
            "        [ 6,  7,  8]],\n",
            "\n",
            "       [[ 3,  4,  5],\n",
            "        [ 9, 10, 11]]])>\n"
          ],
          "name": "stdout"
        }
      ]
    },
    {
      "cell_type": "code",
      "metadata": {
        "id": "nBuqrKR2uUfO",
        "colab": {
          "base_uri": "https://localhost:8080/"
        },
        "outputId": "bc95287f-04b9-43bc-9324-d9159ff8a846"
      },
      "source": [
        "t = tf.transpose(t1, [1, 0, 2])\n",
        "pp.pprint(t.shape)\n",
        "pp.pprint(t)"
      ],
      "execution_count": null,
      "outputs": [
        {
          "output_type": "stream",
          "text": [
            "TensorShape([2, 2, 3])\n",
            "<tf.Tensor: shape=(2, 2, 3), dtype=int64, numpy=\n",
            "array([[[ 0,  1,  2],\n",
            "        [ 3,  4,  5]],\n",
            "\n",
            "       [[ 6,  7,  8],\n",
            "        [ 9, 10, 11]]])>\n"
          ],
          "name": "stdout"
        }
      ]
    },
    {
      "cell_type": "code",
      "metadata": {
        "id": "STjf_wnsuUfg",
        "colab": {
          "base_uri": "https://localhost:8080/"
        },
        "outputId": "b534b45e-a02d-4ea6-95f5-e65af11f23ee"
      },
      "source": [
        "t2 = tf.transpose(t, [1, 2, 0])\n",
        "pp.pprint(t2.shape)\n",
        "pp.pprint(t2)"
      ],
      "execution_count": null,
      "outputs": [
        {
          "output_type": "stream",
          "text": [
            "TensorShape([2, 3, 2])\n",
            "<tf.Tensor: shape=(2, 3, 2), dtype=int64, numpy=\n",
            "array([[[ 0,  6],\n",
            "        [ 1,  7],\n",
            "        [ 2,  8]],\n",
            "\n",
            "       [[ 3,  9],\n",
            "        [ 4, 10],\n",
            "        [ 5, 11]]])>\n"
          ],
          "name": "stdout"
        }
      ]
    },
    {
      "cell_type": "code",
      "metadata": {
        "id": "P7nCaIEmuUfu",
        "colab": {
          "base_uri": "https://localhost:8080/"
        },
        "outputId": "5af41c6c-3fed-4729-a484-5b6acfaca02b"
      },
      "source": [
        "t = tf.transpose(t2, [2, 0, 1])\n",
        "pp.pprint(t.shape)\n",
        "pp.pprint(t)"
      ],
      "execution_count": null,
      "outputs": [
        {
          "output_type": "stream",
          "text": [
            "TensorShape([2, 2, 3])\n",
            "<tf.Tensor: shape=(2, 2, 3), dtype=int64, numpy=\n",
            "array([[[ 0,  1,  2],\n",
            "        [ 3,  4,  5]],\n",
            "\n",
            "       [[ 6,  7,  8],\n",
            "        [ 9, 10, 11]]])>\n"
          ],
          "name": "stdout"
        }
      ]
    },
    {
      "cell_type": "markdown",
      "metadata": {
        "id": "7HqP9RPzPK7F"
      },
      "source": [
        "# Numpy and Tensorflow"
      ]
    },
    {
      "cell_type": "code",
      "metadata": {
        "id": "FDS19BTNPmAQ"
      },
      "source": [
        "import numpy as np\n",
        "import tensorflow as tf"
      ],
      "execution_count": null,
      "outputs": []
    },
    {
      "cell_type": "code",
      "metadata": {
        "id": "ZUMiV3YJPtgw",
        "colab": {
          "base_uri": "https://localhost:8080/",
          "height": 35
        },
        "outputId": "363943b6-23c2-4504-fc9b-8b30ef746993"
      },
      "source": [
        "tf.__version__"
      ],
      "execution_count": null,
      "outputs": [
        {
          "output_type": "execute_result",
          "data": {
            "application/vnd.google.colaboratory.intrinsic+json": {
              "type": "string"
            },
            "text/plain": [
              "'2.4.0'"
            ]
          },
          "metadata": {
            "tags": []
          },
          "execution_count": 75
        }
      ]
    },
    {
      "cell_type": "code",
      "metadata": {
        "id": "CkvGoygzPpaY",
        "colab": {
          "base_uri": "https://localhost:8080/"
        },
        "outputId": "51f06c6b-c796-4703-a1ef-18461ed7db50"
      },
      "source": [
        "print(tf.random.normal([2,5]).numpy())\n",
        "\n",
        "print(np.random.normal([5]))\n",
        "print(np.random.normal(1, 1, (2,5)))\n"
      ],
      "execution_count": null,
      "outputs": [
        {
          "output_type": "stream",
          "text": [
            "[[-0.36751089 -0.07258815 -1.7577662   0.68045086  0.3820603 ]\n",
            " [-0.28696623 -0.09093158 -0.66043913  0.0141194  -0.7818388 ]]\n",
            "[5.34989599]\n",
            "[[ 1.97754176  0.86141475  1.10385631  1.30059104  1.9682053 ]\n",
            " [ 1.86962384  1.56778309  1.46528234 -0.16537308 -1.03599479]]\n"
          ],
          "name": "stdout"
        }
      ]
    },
    {
      "cell_type": "code",
      "metadata": {
        "id": "CvFkXJbqPz4F",
        "colab": {
          "base_uri": "https://localhost:8080/"
        },
        "outputId": "7104c437-058f-4712-f71a-235fd68e1be8"
      },
      "source": [
        "np.random.seed(17)\n",
        "tf.random.set_seed(17)\n",
        "print(tf.random.normal([2,3]))\n",
        "print(np.random.randn(2,3))"
      ],
      "execution_count": null,
      "outputs": [
        {
          "output_type": "stream",
          "text": [
            "tf.Tensor(\n",
            "[[ 0.01778085  2.3094206  -0.9550922 ]\n",
            " [-1.7634274   0.4548187  -0.1849394 ]], shape=(2, 3), dtype=float32)\n",
            "[[ 0.27626589 -1.85462808  0.62390111]\n",
            " [ 1.14531129  1.03719047  1.88663893]]\n"
          ],
          "name": "stdout"
        }
      ]
    },
    {
      "cell_type": "code",
      "metadata": {
        "id": "LWJh6pIbP8Md",
        "colab": {
          "base_uri": "https://localhost:8080/"
        },
        "outputId": "612c561b-ef92-452c-b582-0ec44668cc20"
      },
      "source": [
        "np.ones((2,3))"
      ],
      "execution_count": null,
      "outputs": [
        {
          "output_type": "execute_result",
          "data": {
            "text/plain": [
              "array([[1., 1., 1.],\n",
              "       [1., 1., 1.]])"
            ]
          },
          "metadata": {
            "tags": []
          },
          "execution_count": 79
        }
      ]
    },
    {
      "cell_type": "code",
      "metadata": {
        "id": "5Y0aKML1QCIA",
        "colab": {
          "base_uri": "https://localhost:8080/"
        },
        "outputId": "91bfbe84-5fe3-490a-a083-25d8fa336062"
      },
      "source": [
        "tf.ones([2,3]), tf.ones((2,3))"
      ],
      "execution_count": null,
      "outputs": [
        {
          "output_type": "execute_result",
          "data": {
            "text/plain": [
              "(<tf.Tensor: shape=(2, 3), dtype=float32, numpy=\n",
              " array([[1., 1., 1.],\n",
              "        [1., 1., 1.]], dtype=float32)>,\n",
              " <tf.Tensor: shape=(2, 3), dtype=float32, numpy=\n",
              " array([[1., 1., 1.],\n",
              "        [1., 1., 1.]], dtype=float32)>)"
            ]
          },
          "metadata": {
            "tags": []
          },
          "execution_count": 80
        }
      ]
    },
    {
      "cell_type": "code",
      "metadata": {
        "id": "7cV7RJL8QEfc",
        "colab": {
          "base_uri": "https://localhost:8080/"
        },
        "outputId": "3d497da3-5c1d-4e80-c756-25344312499a"
      },
      "source": [
        "tf.ones((2)).numpy()"
      ],
      "execution_count": null,
      "outputs": [
        {
          "output_type": "execute_result",
          "data": {
            "text/plain": [
              "array([1., 1.], dtype=float32)"
            ]
          },
          "metadata": {
            "tags": []
          },
          "execution_count": 81
        }
      ]
    },
    {
      "cell_type": "code",
      "metadata": {
        "id": "6HD3SbH0QFcz",
        "colab": {
          "base_uri": "https://localhost:8080/"
        },
        "outputId": "c5dfcc67-5fb4-4974-e3b7-3f81d8e2c069"
      },
      "source": [
        "tf.ones((2,)).numpy(), tf.ones((1,2)).numpy()"
      ],
      "execution_count": null,
      "outputs": [
        {
          "output_type": "execute_result",
          "data": {
            "text/plain": [
              "(array([1., 1.], dtype=float32), array([[1., 1.]], dtype=float32))"
            ]
          },
          "metadata": {
            "tags": []
          },
          "execution_count": 82
        }
      ]
    },
    {
      "cell_type": "code",
      "metadata": {
        "id": "oSS5ULv-QGQC",
        "colab": {
          "base_uri": "https://localhost:8080/"
        },
        "outputId": "12c4a7b6-e78d-4365-9ea8-e56510fc663a"
      },
      "source": [
        "tf.ones((1)).numpy(), np.ones(1)"
      ],
      "execution_count": null,
      "outputs": [
        {
          "output_type": "execute_result",
          "data": {
            "text/plain": [
              "(array([1.], dtype=float32), array([1.]))"
            ]
          },
          "metadata": {
            "tags": []
          },
          "execution_count": 83
        }
      ]
    },
    {
      "cell_type": "code",
      "metadata": {
        "id": "zngG4ywdQG_U",
        "colab": {
          "base_uri": "https://localhost:8080/"
        },
        "outputId": "d76d2235-908f-4604-f35f-9e240673425c"
      },
      "source": [
        "tf.constant(3, shape=(2,3))"
      ],
      "execution_count": null,
      "outputs": [
        {
          "output_type": "execute_result",
          "data": {
            "text/plain": [
              "<tf.Tensor: shape=(2, 3), dtype=int32, numpy=\n",
              "array([[3, 3, 3],\n",
              "       [3, 3, 3]], dtype=int32)>"
            ]
          },
          "metadata": {
            "tags": []
          },
          "execution_count": 84
        }
      ]
    },
    {
      "cell_type": "code",
      "metadata": {
        "id": "1oy0TekmQH5v",
        "colab": {
          "base_uri": "https://localhost:8080/"
        },
        "outputId": "3d518a41-1c86-4d5b-ea97-c8cc82185df2"
      },
      "source": [
        "np.array([1,2,3,4]).reshape(2,2)\n",
        "np.reshape([1,2,3,4], (2,2))"
      ],
      "execution_count": null,
      "outputs": [
        {
          "output_type": "execute_result",
          "data": {
            "text/plain": [
              "array([[1, 2],\n",
              "       [3, 4]])"
            ]
          },
          "metadata": {
            "tags": []
          },
          "execution_count": 85
        }
      ]
    },
    {
      "cell_type": "code",
      "metadata": {
        "id": "nz2MaL9sQJYg",
        "colab": {
          "base_uri": "https://localhost:8080/"
        },
        "outputId": "01ab5d45-beb7-4ab3-b076-523746c8f58d"
      },
      "source": [
        "tf.constant([1,2,3,4], shape=[2,2])"
      ],
      "execution_count": null,
      "outputs": [
        {
          "output_type": "execute_result",
          "data": {
            "text/plain": [
              "<tf.Tensor: shape=(2, 2), dtype=int32, numpy=\n",
              "array([[1, 2],\n",
              "       [3, 4]], dtype=int32)>"
            ]
          },
          "metadata": {
            "tags": []
          },
          "execution_count": 86
        }
      ]
    },
    {
      "cell_type": "code",
      "metadata": {
        "id": "l39N8rThQKWh",
        "colab": {
          "base_uri": "https://localhost:8080/"
        },
        "outputId": "7278465c-7c1a-4a10-b3be-5cae31dd11f7"
      },
      "source": [
        "t = tf.constant([1,2,3,4])\n",
        "tf.reshape(t, shape=[2,2])"
      ],
      "execution_count": null,
      "outputs": [
        {
          "output_type": "execute_result",
          "data": {
            "text/plain": [
              "<tf.Tensor: shape=(2, 2), dtype=int32, numpy=\n",
              "array([[1, 2],\n",
              "       [3, 4]], dtype=int32)>"
            ]
          },
          "metadata": {
            "tags": []
          },
          "execution_count": 87
        }
      ]
    },
    {
      "cell_type": "code",
      "metadata": {
        "id": "W_BX9Gn2QLNq",
        "colab": {
          "base_uri": "https://localhost:8080/"
        },
        "outputId": "c5b35385-bd3a-433e-93b6-8094d9a9d89c"
      },
      "source": [
        "x = tf.constant([1,2,3,4], shape=[2,2])\n",
        "tf.zeros_like(x)"
      ],
      "execution_count": null,
      "outputs": [
        {
          "output_type": "execute_result",
          "data": {
            "text/plain": [
              "<tf.Tensor: shape=(2, 2), dtype=int32, numpy=\n",
              "array([[0, 0],\n",
              "       [0, 0]], dtype=int32)>"
            ]
          },
          "metadata": {
            "tags": []
          },
          "execution_count": 88
        }
      ]
    },
    {
      "cell_type": "code",
      "metadata": {
        "id": "FHVYiTW7QL6x",
        "colab": {
          "base_uri": "https://localhost:8080/"
        },
        "outputId": "02455a53-04b7-4a66-cdcd-6128954d158b"
      },
      "source": [
        "tf.fill([3,3], 6)"
      ],
      "execution_count": null,
      "outputs": [
        {
          "output_type": "execute_result",
          "data": {
            "text/plain": [
              "<tf.Tensor: shape=(3, 3), dtype=int32, numpy=\n",
              "array([[6, 6, 6],\n",
              "       [6, 6, 6],\n",
              "       [6, 6, 6]], dtype=int32)>"
            ]
          },
          "metadata": {
            "tags": []
          },
          "execution_count": 89
        }
      ]
    },
    {
      "cell_type": "markdown",
      "metadata": {
        "id": "mATcmk76QM6S"
      },
      "source": [
        "\n",
        "## define and initializing variables\n"
      ]
    },
    {
      "cell_type": "code",
      "metadata": {
        "id": "--xvKTybQNpF",
        "colab": {
          "base_uri": "https://localhost:8080/"
        },
        "outputId": "66c8e22b-b899-4c4b-c62b-e7e883562b8f"
      },
      "source": [
        "a0 = tf.Variable([1,2,3,4], dtype = tf.float32)\n",
        "b = tf.constant(2, tf.float32)\n",
        "a0*b"
      ],
      "execution_count": null,
      "outputs": [
        {
          "output_type": "execute_result",
          "data": {
            "text/plain": [
              "<tf.Tensor: shape=(4,), dtype=float32, numpy=array([2., 4., 6., 8.], dtype=float32)>"
            ]
          },
          "metadata": {
            "tags": []
          },
          "execution_count": 90
        }
      ]
    },
    {
      "cell_type": "code",
      "metadata": {
        "id": "h_7FLFiIQQWF",
        "colab": {
          "base_uri": "https://localhost:8080/"
        },
        "outputId": "d6250f87-8134-4f90-bf28-4755a2698266"
      },
      "source": [
        "tf.multiply(a0, b) == a0 * b"
      ],
      "execution_count": null,
      "outputs": [
        {
          "output_type": "execute_result",
          "data": {
            "text/plain": [
              "<tf.Tensor: shape=(4,), dtype=bool, numpy=array([ True,  True,  True,  True])>"
            ]
          },
          "metadata": {
            "tags": []
          },
          "execution_count": 91
        }
      ]
    },
    {
      "cell_type": "code",
      "metadata": {
        "id": "RWyFfI17QRTJ",
        "colab": {
          "base_uri": "https://localhost:8080/"
        },
        "outputId": "96a357a2-5005-4e9d-e7e8-e70ff52eeb5c"
      },
      "source": [
        "A2 = tf.constant([[1,2],[3,4]])\n",
        "B2 = tf.constant([[5,6],[7,8]])\n",
        "A2 + B2, A2 * B2, tf.add(A2, B2), tf.multiply(A2, B2)  # element-wise"
      ],
      "execution_count": null,
      "outputs": [
        {
          "output_type": "execute_result",
          "data": {
            "text/plain": [
              "(<tf.Tensor: shape=(2, 2), dtype=int32, numpy=\n",
              " array([[ 6,  8],\n",
              "        [10, 12]], dtype=int32)>, <tf.Tensor: shape=(2, 2), dtype=int32, numpy=\n",
              " array([[ 5, 12],\n",
              "        [21, 32]], dtype=int32)>, <tf.Tensor: shape=(2, 2), dtype=int32, numpy=\n",
              " array([[ 6,  8],\n",
              "        [10, 12]], dtype=int32)>, <tf.Tensor: shape=(2, 2), dtype=int32, numpy=\n",
              " array([[ 5, 12],\n",
              "        [21, 32]], dtype=int32)>)"
            ]
          },
          "metadata": {
            "tags": []
          },
          "execution_count": 92
        }
      ]
    },
    {
      "cell_type": "code",
      "metadata": {
        "id": "ezLErdywQSFS",
        "colab": {
          "base_uri": "https://localhost:8080/"
        },
        "outputId": "8729c8d3-729e-411f-add3-efff0cb91d81"
      },
      "source": [
        "tf.matmul(A2, B2)"
      ],
      "execution_count": null,
      "outputs": [
        {
          "output_type": "execute_result",
          "data": {
            "text/plain": [
              "<tf.Tensor: shape=(2, 2), dtype=int32, numpy=\n",
              "array([[19, 22],\n",
              "       [43, 50]], dtype=int32)>"
            ]
          },
          "metadata": {
            "tags": []
          },
          "execution_count": 93
        }
      ]
    },
    {
      "cell_type": "code",
      "metadata": {
        "id": "-sT63nRCQS5S",
        "colab": {
          "base_uri": "https://localhost:8080/"
        },
        "outputId": "30e8394c-961c-4f56-e251-f1973cac6578"
      },
      "source": [
        "tf.reduce_sum(A2), tf.reduce_sum(A2, axis=0), tf.reduce_sum(A2, axis=1)"
      ],
      "execution_count": null,
      "outputs": [
        {
          "output_type": "execute_result",
          "data": {
            "text/plain": [
              "(<tf.Tensor: shape=(), dtype=int32, numpy=10>,\n",
              " <tf.Tensor: shape=(2,), dtype=int32, numpy=array([4, 6], dtype=int32)>,\n",
              " <tf.Tensor: shape=(2,), dtype=int32, numpy=array([3, 7], dtype=int32)>)"
            ]
          },
          "metadata": {
            "tags": []
          },
          "execution_count": 94
        }
      ]
    },
    {
      "cell_type": "markdown",
      "metadata": {
        "id": "SXpeiNdUQTwG"
      },
      "source": [
        "## advanced functions\n",
        "\n",
        "- gradient(), reshape(), random()\n"
      ]
    },
    {
      "cell_type": "code",
      "metadata": {
        "id": "-u2fMs3XQYA_",
        "colab": {
          "base_uri": "https://localhost:8080/"
        },
        "outputId": "939fb6d5-4422-40cc-807e-e7c29bbef1b1"
      },
      "source": [
        "x = tf.Variable(-1.0)\n",
        "with tf.GradientTape() as tape:\n",
        "    tape.watch(x)\n",
        "    y = tf.multiply(x, x)\n",
        "    \n",
        "g = tape.gradient(y, x)\n",
        "g.numpy()"
      ],
      "execution_count": null,
      "outputs": [
        {
          "output_type": "execute_result",
          "data": {
            "text/plain": [
              "-2.0"
            ]
          },
          "metadata": {
            "tags": []
          },
          "execution_count": 95
        }
      ]
    },
    {
      "cell_type": "code",
      "metadata": {
        "id": "tnfvotgYQgD9",
        "colab": {
          "base_uri": "https://localhost:8080/"
        },
        "outputId": "a0b79fe8-e23b-40fd-db08-9e06b4b6771a"
      },
      "source": [
        "gray1 = tf.random.uniform([2,2], maxval=255, dtype='int32')\n",
        "gray2 = tf.reshape(gray1, [2*2, 1])\n",
        "gray1, gray2"
      ],
      "execution_count": null,
      "outputs": [
        {
          "output_type": "execute_result",
          "data": {
            "text/plain": [
              "(<tf.Tensor: shape=(2, 2), dtype=int32, numpy=\n",
              " array([[ 43,  26],\n",
              "        [195, 222]], dtype=int32)>,\n",
              " <tf.Tensor: shape=(4, 1), dtype=int32, numpy=\n",
              " array([[ 43],\n",
              "        [ 26],\n",
              "        [195],\n",
              "        [222]], dtype=int32)>)"
            ]
          },
          "metadata": {
            "tags": []
          },
          "execution_count": 96
        }
      ]
    },
    {
      "cell_type": "code",
      "metadata": {
        "id": "ahpM0DTcQk2k",
        "colab": {
          "base_uri": "https://localhost:8080/"
        },
        "outputId": "32a02aec-8f4b-433f-b5d3-659a7043080c"
      },
      "source": [
        "color = tf.random.uniform([2,2,3], maxval=255, dtype='int32') # color image\n",
        "tf.reshape(color, [2*2, 3])"
      ],
      "execution_count": null,
      "outputs": [
        {
          "output_type": "execute_result",
          "data": {
            "text/plain": [
              "<tf.Tensor: shape=(4, 3), dtype=int32, numpy=\n",
              "array([[ 68, 184, 226],\n",
              "       [168,  15, 227],\n",
              "       [246, 254, 103],\n",
              "       [ 41,  50, 119]], dtype=int32)>"
            ]
          },
          "metadata": {
            "tags": []
          },
          "execution_count": 97
        }
      ]
    }
  ]
}