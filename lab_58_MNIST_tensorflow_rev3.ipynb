{
  "nbformat": 4,
  "nbformat_minor": 0,
  "metadata": {
    "accelerator": "GPU",
    "colab": {
      "name": "lab_58_MNIST_tensorflow_rev3.ipynb",
      "provenance": [],
      "collapsed_sections": [],
      "toc_visible": true,
      "include_colab_link": true
    },
    "kernelspec": {
      "name": "python3",
      "display_name": "Python 3"
    },
    "language_info": {
      "codemirror_mode": {
        "name": "ipython",
        "version": 3
      },
      "file_extension": ".py",
      "mimetype": "text/x-python",
      "name": "python",
      "nbconvert_exporter": "python",
      "pygments_lexer": "ipython3",
      "version": "3.6.8"
    },
    "widgets": {
      "application/vnd.jupyter.widget-state+json": {
        "7c623e3599b441f5a2f73424779d8289": {
          "model_module": "@jupyter-widgets/controls",
          "model_name": "HBoxModel",
          "state": {
            "_view_name": "HBoxView",
            "_dom_classes": [],
            "_model_name": "HBoxModel",
            "_view_module": "@jupyter-widgets/controls",
            "_model_module_version": "1.5.0",
            "_view_count": null,
            "_view_module_version": "1.5.0",
            "box_style": "",
            "layout": "IPY_MODEL_0bf882fc566344259f4852c3afd8885c",
            "_model_module": "@jupyter-widgets/controls",
            "children": [
              "IPY_MODEL_3ff5927d591f43b3acfe7ef05c740fb3",
              "IPY_MODEL_a7a19ab100914cf89e54bf923dc43b77"
            ]
          }
        },
        "0bf882fc566344259f4852c3afd8885c": {
          "model_module": "@jupyter-widgets/base",
          "model_name": "LayoutModel",
          "state": {
            "_view_name": "LayoutView",
            "grid_template_rows": null,
            "right": null,
            "justify_content": null,
            "_view_module": "@jupyter-widgets/base",
            "overflow": null,
            "_model_module_version": "1.2.0",
            "_view_count": null,
            "flex_flow": null,
            "width": null,
            "min_width": null,
            "border": null,
            "align_items": null,
            "bottom": null,
            "_model_module": "@jupyter-widgets/base",
            "top": null,
            "grid_column": null,
            "overflow_y": null,
            "overflow_x": null,
            "grid_auto_flow": null,
            "grid_area": null,
            "grid_template_columns": null,
            "flex": null,
            "_model_name": "LayoutModel",
            "justify_items": null,
            "grid_row": null,
            "max_height": null,
            "align_content": null,
            "visibility": null,
            "align_self": null,
            "height": null,
            "min_height": null,
            "padding": null,
            "grid_auto_rows": null,
            "grid_gap": null,
            "max_width": null,
            "order": null,
            "_view_module_version": "1.2.0",
            "grid_template_areas": null,
            "object_position": null,
            "object_fit": null,
            "grid_auto_columns": null,
            "margin": null,
            "display": null,
            "left": null
          }
        },
        "3ff5927d591f43b3acfe7ef05c740fb3": {
          "model_module": "@jupyter-widgets/controls",
          "model_name": "FloatProgressModel",
          "state": {
            "_view_name": "ProgressView",
            "style": "IPY_MODEL_86a035189e784920ba10fe5799fcc7f9",
            "_dom_classes": [],
            "description": "Dl Completed...: 100%",
            "_model_name": "FloatProgressModel",
            "bar_style": "success",
            "max": 1,
            "_view_module": "@jupyter-widgets/controls",
            "_model_module_version": "1.5.0",
            "value": 1,
            "_view_count": null,
            "_view_module_version": "1.5.0",
            "orientation": "horizontal",
            "min": 0,
            "description_tooltip": null,
            "_model_module": "@jupyter-widgets/controls",
            "layout": "IPY_MODEL_f89e7fc7a6984560ac12ee39f87031f8"
          }
        },
        "a7a19ab100914cf89e54bf923dc43b77": {
          "model_module": "@jupyter-widgets/controls",
          "model_name": "HTMLModel",
          "state": {
            "_view_name": "HTMLView",
            "style": "IPY_MODEL_65fdd97c0e4a4bd785c1ce95f9040e9c",
            "_dom_classes": [],
            "description": "",
            "_model_name": "HTMLModel",
            "placeholder": "​",
            "_view_module": "@jupyter-widgets/controls",
            "_model_module_version": "1.5.0",
            "value": " 2/2 [00:02&lt;00:00,  1.09s/ url]",
            "_view_count": null,
            "_view_module_version": "1.5.0",
            "description_tooltip": null,
            "_model_module": "@jupyter-widgets/controls",
            "layout": "IPY_MODEL_e1e918c769c3445593ebaa6a58c04451"
          }
        },
        "86a035189e784920ba10fe5799fcc7f9": {
          "model_module": "@jupyter-widgets/controls",
          "model_name": "ProgressStyleModel",
          "state": {
            "_view_name": "StyleView",
            "_model_name": "ProgressStyleModel",
            "description_width": "initial",
            "_view_module": "@jupyter-widgets/base",
            "_model_module_version": "1.5.0",
            "_view_count": null,
            "_view_module_version": "1.2.0",
            "bar_color": null,
            "_model_module": "@jupyter-widgets/controls"
          }
        },
        "f89e7fc7a6984560ac12ee39f87031f8": {
          "model_module": "@jupyter-widgets/base",
          "model_name": "LayoutModel",
          "state": {
            "_view_name": "LayoutView",
            "grid_template_rows": null,
            "right": null,
            "justify_content": null,
            "_view_module": "@jupyter-widgets/base",
            "overflow": null,
            "_model_module_version": "1.2.0",
            "_view_count": null,
            "flex_flow": null,
            "width": null,
            "min_width": null,
            "border": null,
            "align_items": null,
            "bottom": null,
            "_model_module": "@jupyter-widgets/base",
            "top": null,
            "grid_column": null,
            "overflow_y": null,
            "overflow_x": null,
            "grid_auto_flow": null,
            "grid_area": null,
            "grid_template_columns": null,
            "flex": null,
            "_model_name": "LayoutModel",
            "justify_items": null,
            "grid_row": null,
            "max_height": null,
            "align_content": null,
            "visibility": null,
            "align_self": null,
            "height": null,
            "min_height": null,
            "padding": null,
            "grid_auto_rows": null,
            "grid_gap": null,
            "max_width": null,
            "order": null,
            "_view_module_version": "1.2.0",
            "grid_template_areas": null,
            "object_position": null,
            "object_fit": null,
            "grid_auto_columns": null,
            "margin": null,
            "display": null,
            "left": null
          }
        },
        "65fdd97c0e4a4bd785c1ce95f9040e9c": {
          "model_module": "@jupyter-widgets/controls",
          "model_name": "DescriptionStyleModel",
          "state": {
            "_view_name": "StyleView",
            "_model_name": "DescriptionStyleModel",
            "description_width": "",
            "_view_module": "@jupyter-widgets/base",
            "_model_module_version": "1.5.0",
            "_view_count": null,
            "_view_module_version": "1.2.0",
            "_model_module": "@jupyter-widgets/controls"
          }
        },
        "e1e918c769c3445593ebaa6a58c04451": {
          "model_module": "@jupyter-widgets/base",
          "model_name": "LayoutModel",
          "state": {
            "_view_name": "LayoutView",
            "grid_template_rows": null,
            "right": null,
            "justify_content": null,
            "_view_module": "@jupyter-widgets/base",
            "overflow": null,
            "_model_module_version": "1.2.0",
            "_view_count": null,
            "flex_flow": null,
            "width": null,
            "min_width": null,
            "border": null,
            "align_items": null,
            "bottom": null,
            "_model_module": "@jupyter-widgets/base",
            "top": null,
            "grid_column": null,
            "overflow_y": null,
            "overflow_x": null,
            "grid_auto_flow": null,
            "grid_area": null,
            "grid_template_columns": null,
            "flex": null,
            "_model_name": "LayoutModel",
            "justify_items": null,
            "grid_row": null,
            "max_height": null,
            "align_content": null,
            "visibility": null,
            "align_self": null,
            "height": null,
            "min_height": null,
            "padding": null,
            "grid_auto_rows": null,
            "grid_gap": null,
            "max_width": null,
            "order": null,
            "_view_module_version": "1.2.0",
            "grid_template_areas": null,
            "object_position": null,
            "object_fit": null,
            "grid_auto_columns": null,
            "margin": null,
            "display": null,
            "left": null
          }
        },
        "1eff0d558e354d95981f547ff6057402": {
          "model_module": "@jupyter-widgets/controls",
          "model_name": "HBoxModel",
          "state": {
            "_view_name": "HBoxView",
            "_dom_classes": [],
            "_model_name": "HBoxModel",
            "_view_module": "@jupyter-widgets/controls",
            "_model_module_version": "1.5.0",
            "_view_count": null,
            "_view_module_version": "1.5.0",
            "box_style": "",
            "layout": "IPY_MODEL_888077fb93e84818b32b2ecaae58dff8",
            "_model_module": "@jupyter-widgets/controls",
            "children": [
              "IPY_MODEL_15f08ddfea28414b8a7bf731669eabb9",
              "IPY_MODEL_90eaa40d9c7c4bd899504c2427e7c12d"
            ]
          }
        },
        "888077fb93e84818b32b2ecaae58dff8": {
          "model_module": "@jupyter-widgets/base",
          "model_name": "LayoutModel",
          "state": {
            "_view_name": "LayoutView",
            "grid_template_rows": null,
            "right": null,
            "justify_content": null,
            "_view_module": "@jupyter-widgets/base",
            "overflow": null,
            "_model_module_version": "1.2.0",
            "_view_count": null,
            "flex_flow": null,
            "width": null,
            "min_width": null,
            "border": null,
            "align_items": null,
            "bottom": null,
            "_model_module": "@jupyter-widgets/base",
            "top": null,
            "grid_column": null,
            "overflow_y": null,
            "overflow_x": null,
            "grid_auto_flow": null,
            "grid_area": null,
            "grid_template_columns": null,
            "flex": null,
            "_model_name": "LayoutModel",
            "justify_items": null,
            "grid_row": null,
            "max_height": null,
            "align_content": null,
            "visibility": null,
            "align_self": null,
            "height": null,
            "min_height": null,
            "padding": null,
            "grid_auto_rows": null,
            "grid_gap": null,
            "max_width": null,
            "order": null,
            "_view_module_version": "1.2.0",
            "grid_template_areas": null,
            "object_position": null,
            "object_fit": null,
            "grid_auto_columns": null,
            "margin": null,
            "display": null,
            "left": null
          }
        },
        "15f08ddfea28414b8a7bf731669eabb9": {
          "model_module": "@jupyter-widgets/controls",
          "model_name": "FloatProgressModel",
          "state": {
            "_view_name": "ProgressView",
            "style": "IPY_MODEL_0298510a9ab44bb0bb43ab350518d3ad",
            "_dom_classes": [],
            "description": "Dl Size...: 100%",
            "_model_name": "FloatProgressModel",
            "bar_style": "success",
            "max": 1,
            "_view_module": "@jupyter-widgets/controls",
            "_model_module_version": "1.5.0",
            "value": 1,
            "_view_count": null,
            "_view_module_version": "1.5.0",
            "orientation": "horizontal",
            "min": 0,
            "description_tooltip": null,
            "_model_module": "@jupyter-widgets/controls",
            "layout": "IPY_MODEL_60f6448a866a4f4d8cb8e82781476141"
          }
        },
        "90eaa40d9c7c4bd899504c2427e7c12d": {
          "model_module": "@jupyter-widgets/controls",
          "model_name": "HTMLModel",
          "state": {
            "_view_name": "HTMLView",
            "style": "IPY_MODEL_ecb1b8d8f7cd45c9a0ff1a75436678bc",
            "_dom_classes": [],
            "description": "",
            "_model_name": "HTMLModel",
            "placeholder": "​",
            "_view_module": "@jupyter-widgets/controls",
            "_model_module_version": "1.5.0",
            "value": " 152/152 [00:02&lt;00:00, 70.74 MiB/s]",
            "_view_count": null,
            "_view_module_version": "1.5.0",
            "description_tooltip": null,
            "_model_module": "@jupyter-widgets/controls",
            "layout": "IPY_MODEL_ff0694fcb0b44bc294d6153bf8c050c6"
          }
        },
        "0298510a9ab44bb0bb43ab350518d3ad": {
          "model_module": "@jupyter-widgets/controls",
          "model_name": "ProgressStyleModel",
          "state": {
            "_view_name": "StyleView",
            "_model_name": "ProgressStyleModel",
            "description_width": "initial",
            "_view_module": "@jupyter-widgets/base",
            "_model_module_version": "1.5.0",
            "_view_count": null,
            "_view_module_version": "1.2.0",
            "bar_color": null,
            "_model_module": "@jupyter-widgets/controls"
          }
        },
        "60f6448a866a4f4d8cb8e82781476141": {
          "model_module": "@jupyter-widgets/base",
          "model_name": "LayoutModel",
          "state": {
            "_view_name": "LayoutView",
            "grid_template_rows": null,
            "right": null,
            "justify_content": null,
            "_view_module": "@jupyter-widgets/base",
            "overflow": null,
            "_model_module_version": "1.2.0",
            "_view_count": null,
            "flex_flow": null,
            "width": null,
            "min_width": null,
            "border": null,
            "align_items": null,
            "bottom": null,
            "_model_module": "@jupyter-widgets/base",
            "top": null,
            "grid_column": null,
            "overflow_y": null,
            "overflow_x": null,
            "grid_auto_flow": null,
            "grid_area": null,
            "grid_template_columns": null,
            "flex": null,
            "_model_name": "LayoutModel",
            "justify_items": null,
            "grid_row": null,
            "max_height": null,
            "align_content": null,
            "visibility": null,
            "align_self": null,
            "height": null,
            "min_height": null,
            "padding": null,
            "grid_auto_rows": null,
            "grid_gap": null,
            "max_width": null,
            "order": null,
            "_view_module_version": "1.2.0",
            "grid_template_areas": null,
            "object_position": null,
            "object_fit": null,
            "grid_auto_columns": null,
            "margin": null,
            "display": null,
            "left": null
          }
        },
        "ecb1b8d8f7cd45c9a0ff1a75436678bc": {
          "model_module": "@jupyter-widgets/controls",
          "model_name": "DescriptionStyleModel",
          "state": {
            "_view_name": "StyleView",
            "_model_name": "DescriptionStyleModel",
            "description_width": "",
            "_view_module": "@jupyter-widgets/base",
            "_model_module_version": "1.5.0",
            "_view_count": null,
            "_view_module_version": "1.2.0",
            "_model_module": "@jupyter-widgets/controls"
          }
        },
        "ff0694fcb0b44bc294d6153bf8c050c6": {
          "model_module": "@jupyter-widgets/base",
          "model_name": "LayoutModel",
          "state": {
            "_view_name": "LayoutView",
            "grid_template_rows": null,
            "right": null,
            "justify_content": null,
            "_view_module": "@jupyter-widgets/base",
            "overflow": null,
            "_model_module_version": "1.2.0",
            "_view_count": null,
            "flex_flow": null,
            "width": null,
            "min_width": null,
            "border": null,
            "align_items": null,
            "bottom": null,
            "_model_module": "@jupyter-widgets/base",
            "top": null,
            "grid_column": null,
            "overflow_y": null,
            "overflow_x": null,
            "grid_auto_flow": null,
            "grid_area": null,
            "grid_template_columns": null,
            "flex": null,
            "_model_name": "LayoutModel",
            "justify_items": null,
            "grid_row": null,
            "max_height": null,
            "align_content": null,
            "visibility": null,
            "align_self": null,
            "height": null,
            "min_height": null,
            "padding": null,
            "grid_auto_rows": null,
            "grid_gap": null,
            "max_width": null,
            "order": null,
            "_view_module_version": "1.2.0",
            "grid_template_areas": null,
            "object_position": null,
            "object_fit": null,
            "grid_auto_columns": null,
            "margin": null,
            "display": null,
            "left": null
          }
        },
        "d19a7644b220495c941932991e9443e5": {
          "model_module": "@jupyter-widgets/controls",
          "model_name": "HBoxModel",
          "state": {
            "_view_name": "HBoxView",
            "_dom_classes": [],
            "_model_name": "HBoxModel",
            "_view_module": "@jupyter-widgets/controls",
            "_model_module_version": "1.5.0",
            "_view_count": null,
            "_view_module_version": "1.5.0",
            "box_style": "",
            "layout": "IPY_MODEL_cee907a28bc04dbb923ac5d70011a2a4",
            "_model_module": "@jupyter-widgets/controls",
            "children": [
              "IPY_MODEL_427eb8f5a1664b898ecb3c7dd83e61dc",
              "IPY_MODEL_e42c1df86ea34f8c996473edf0072bec"
            ]
          }
        },
        "cee907a28bc04dbb923ac5d70011a2a4": {
          "model_module": "@jupyter-widgets/base",
          "model_name": "LayoutModel",
          "state": {
            "_view_name": "LayoutView",
            "grid_template_rows": null,
            "right": null,
            "justify_content": null,
            "_view_module": "@jupyter-widgets/base",
            "overflow": null,
            "_model_module_version": "1.2.0",
            "_view_count": null,
            "flex_flow": null,
            "width": null,
            "min_width": null,
            "border": null,
            "align_items": null,
            "bottom": null,
            "_model_module": "@jupyter-widgets/base",
            "top": null,
            "grid_column": null,
            "overflow_y": null,
            "overflow_x": null,
            "grid_auto_flow": null,
            "grid_area": null,
            "grid_template_columns": null,
            "flex": null,
            "_model_name": "LayoutModel",
            "justify_items": null,
            "grid_row": null,
            "max_height": null,
            "align_content": null,
            "visibility": null,
            "align_self": null,
            "height": null,
            "min_height": null,
            "padding": null,
            "grid_auto_rows": null,
            "grid_gap": null,
            "max_width": null,
            "order": null,
            "_view_module_version": "1.2.0",
            "grid_template_areas": null,
            "object_position": null,
            "object_fit": null,
            "grid_auto_columns": null,
            "margin": null,
            "display": null,
            "left": null
          }
        },
        "427eb8f5a1664b898ecb3c7dd83e61dc": {
          "model_module": "@jupyter-widgets/controls",
          "model_name": "FloatProgressModel",
          "state": {
            "_view_name": "ProgressView",
            "style": "IPY_MODEL_ef1e5cb89abf4185a016e054b62c75a6",
            "_dom_classes": [],
            "description": "",
            "_model_name": "FloatProgressModel",
            "bar_style": "info",
            "max": 1,
            "_view_module": "@jupyter-widgets/controls",
            "_model_module_version": "1.5.0",
            "value": 1,
            "_view_count": null,
            "_view_module_version": "1.5.0",
            "orientation": "horizontal",
            "min": 0,
            "description_tooltip": null,
            "_model_module": "@jupyter-widgets/controls",
            "layout": "IPY_MODEL_055e95e702be4c4cb25552b3815cf24d"
          }
        },
        "e42c1df86ea34f8c996473edf0072bec": {
          "model_module": "@jupyter-widgets/controls",
          "model_name": "HTMLModel",
          "state": {
            "_view_name": "HTMLView",
            "style": "IPY_MODEL_5d508cb92e224bfca722d84cf2692a05",
            "_dom_classes": [],
            "description": "",
            "_model_name": "HTMLModel",
            "placeholder": "​",
            "_view_module": "@jupyter-widgets/controls",
            "_model_module_version": "1.5.0",
            "value": " 1027/0 [00:00&lt;00:00, 1542.39 examples/s]",
            "_view_count": null,
            "_view_module_version": "1.5.0",
            "description_tooltip": null,
            "_model_module": "@jupyter-widgets/controls",
            "layout": "IPY_MODEL_122a42e7f76f44d5ba1274ba994a8210"
          }
        },
        "ef1e5cb89abf4185a016e054b62c75a6": {
          "model_module": "@jupyter-widgets/controls",
          "model_name": "ProgressStyleModel",
          "state": {
            "_view_name": "StyleView",
            "_model_name": "ProgressStyleModel",
            "description_width": "initial",
            "_view_module": "@jupyter-widgets/base",
            "_model_module_version": "1.5.0",
            "_view_count": null,
            "_view_module_version": "1.2.0",
            "bar_color": null,
            "_model_module": "@jupyter-widgets/controls"
          }
        },
        "055e95e702be4c4cb25552b3815cf24d": {
          "model_module": "@jupyter-widgets/base",
          "model_name": "LayoutModel",
          "state": {
            "_view_name": "LayoutView",
            "grid_template_rows": null,
            "right": null,
            "justify_content": null,
            "_view_module": "@jupyter-widgets/base",
            "overflow": null,
            "_model_module_version": "1.2.0",
            "_view_count": null,
            "flex_flow": null,
            "width": null,
            "min_width": null,
            "border": null,
            "align_items": null,
            "bottom": null,
            "_model_module": "@jupyter-widgets/base",
            "top": null,
            "grid_column": null,
            "overflow_y": null,
            "overflow_x": null,
            "grid_auto_flow": null,
            "grid_area": null,
            "grid_template_columns": null,
            "flex": null,
            "_model_name": "LayoutModel",
            "justify_items": null,
            "grid_row": null,
            "max_height": null,
            "align_content": null,
            "visibility": null,
            "align_self": null,
            "height": null,
            "min_height": null,
            "padding": null,
            "grid_auto_rows": null,
            "grid_gap": null,
            "max_width": null,
            "order": null,
            "_view_module_version": "1.2.0",
            "grid_template_areas": null,
            "object_position": null,
            "object_fit": null,
            "grid_auto_columns": null,
            "margin": null,
            "display": null,
            "left": null
          }
        },
        "5d508cb92e224bfca722d84cf2692a05": {
          "model_module": "@jupyter-widgets/controls",
          "model_name": "DescriptionStyleModel",
          "state": {
            "_view_name": "StyleView",
            "_model_name": "DescriptionStyleModel",
            "description_width": "",
            "_view_module": "@jupyter-widgets/base",
            "_model_module_version": "1.5.0",
            "_view_count": null,
            "_view_module_version": "1.2.0",
            "_model_module": "@jupyter-widgets/controls"
          }
        },
        "122a42e7f76f44d5ba1274ba994a8210": {
          "model_module": "@jupyter-widgets/base",
          "model_name": "LayoutModel",
          "state": {
            "_view_name": "LayoutView",
            "grid_template_rows": null,
            "right": null,
            "justify_content": null,
            "_view_module": "@jupyter-widgets/base",
            "overflow": null,
            "_model_module_version": "1.2.0",
            "_view_count": null,
            "flex_flow": null,
            "width": null,
            "min_width": null,
            "border": null,
            "align_items": null,
            "bottom": null,
            "_model_module": "@jupyter-widgets/base",
            "top": null,
            "grid_column": null,
            "overflow_y": null,
            "overflow_x": null,
            "grid_auto_flow": null,
            "grid_area": null,
            "grid_template_columns": null,
            "flex": null,
            "_model_name": "LayoutModel",
            "justify_items": null,
            "grid_row": null,
            "max_height": null,
            "align_content": null,
            "visibility": null,
            "align_self": null,
            "height": null,
            "min_height": null,
            "padding": null,
            "grid_auto_rows": null,
            "grid_gap": null,
            "max_width": null,
            "order": null,
            "_view_module_version": "1.2.0",
            "grid_template_areas": null,
            "object_position": null,
            "object_fit": null,
            "grid_auto_columns": null,
            "margin": null,
            "display": null,
            "left": null
          }
        },
        "4d8303b84e6c4cda97a87b75898bfff7": {
          "model_module": "@jupyter-widgets/controls",
          "model_name": "HBoxModel",
          "state": {
            "_view_name": "HBoxView",
            "_dom_classes": [],
            "_model_name": "HBoxModel",
            "_view_module": "@jupyter-widgets/controls",
            "_model_module_version": "1.5.0",
            "_view_count": null,
            "_view_module_version": "1.5.0",
            "box_style": "",
            "layout": "IPY_MODEL_56ca6f96b0424391abde0d17a2185779",
            "_model_module": "@jupyter-widgets/controls",
            "children": [
              "IPY_MODEL_0d7a432aa2eb4c59902d998d776c786c",
              "IPY_MODEL_1b7751fbfff54409b44d831a657e63ce"
            ]
          }
        },
        "56ca6f96b0424391abde0d17a2185779": {
          "model_module": "@jupyter-widgets/base",
          "model_name": "LayoutModel",
          "state": {
            "_view_name": "LayoutView",
            "grid_template_rows": null,
            "right": null,
            "justify_content": null,
            "_view_module": "@jupyter-widgets/base",
            "overflow": null,
            "_model_module_version": "1.2.0",
            "_view_count": null,
            "flex_flow": null,
            "width": null,
            "min_width": null,
            "border": null,
            "align_items": null,
            "bottom": null,
            "_model_module": "@jupyter-widgets/base",
            "top": null,
            "grid_column": null,
            "overflow_y": null,
            "overflow_x": null,
            "grid_auto_flow": null,
            "grid_area": null,
            "grid_template_columns": null,
            "flex": null,
            "_model_name": "LayoutModel",
            "justify_items": null,
            "grid_row": null,
            "max_height": null,
            "align_content": null,
            "visibility": null,
            "align_self": null,
            "height": null,
            "min_height": null,
            "padding": null,
            "grid_auto_rows": null,
            "grid_gap": null,
            "max_width": null,
            "order": null,
            "_view_module_version": "1.2.0",
            "grid_template_areas": null,
            "object_position": null,
            "object_fit": null,
            "grid_auto_columns": null,
            "margin": null,
            "display": null,
            "left": null
          }
        },
        "0d7a432aa2eb4c59902d998d776c786c": {
          "model_module": "@jupyter-widgets/controls",
          "model_name": "FloatProgressModel",
          "state": {
            "_view_name": "ProgressView",
            "style": "IPY_MODEL_36fe269073fc47af84c2c0875e76c984",
            "_dom_classes": [],
            "description": " 78%",
            "_model_name": "FloatProgressModel",
            "bar_style": "danger",
            "max": 1027,
            "_view_module": "@jupyter-widgets/controls",
            "_model_module_version": "1.5.0",
            "value": 805,
            "_view_count": null,
            "_view_module_version": "1.5.0",
            "orientation": "horizontal",
            "min": 0,
            "description_tooltip": null,
            "_model_module": "@jupyter-widgets/controls",
            "layout": "IPY_MODEL_6e9c9c07bd6545a58e7ea3be35df1264"
          }
        },
        "1b7751fbfff54409b44d831a657e63ce": {
          "model_module": "@jupyter-widgets/controls",
          "model_name": "HTMLModel",
          "state": {
            "_view_name": "HTMLView",
            "style": "IPY_MODEL_91eea43dca1a4d29be67cd00265aa004",
            "_dom_classes": [],
            "description": "",
            "_model_name": "HTMLModel",
            "placeholder": "​",
            "_view_module": "@jupyter-widgets/controls",
            "_model_module_version": "1.5.0",
            "value": " 805/1027 [00:00&lt;00:00, 4191.31 examples/s]",
            "_view_count": null,
            "_view_module_version": "1.5.0",
            "description_tooltip": null,
            "_model_module": "@jupyter-widgets/controls",
            "layout": "IPY_MODEL_dfe336f0c3734cf69ae2325274306191"
          }
        },
        "36fe269073fc47af84c2c0875e76c984": {
          "model_module": "@jupyter-widgets/controls",
          "model_name": "ProgressStyleModel",
          "state": {
            "_view_name": "StyleView",
            "_model_name": "ProgressStyleModel",
            "description_width": "initial",
            "_view_module": "@jupyter-widgets/base",
            "_model_module_version": "1.5.0",
            "_view_count": null,
            "_view_module_version": "1.2.0",
            "bar_color": null,
            "_model_module": "@jupyter-widgets/controls"
          }
        },
        "6e9c9c07bd6545a58e7ea3be35df1264": {
          "model_module": "@jupyter-widgets/base",
          "model_name": "LayoutModel",
          "state": {
            "_view_name": "LayoutView",
            "grid_template_rows": null,
            "right": null,
            "justify_content": null,
            "_view_module": "@jupyter-widgets/base",
            "overflow": null,
            "_model_module_version": "1.2.0",
            "_view_count": null,
            "flex_flow": null,
            "width": null,
            "min_width": null,
            "border": null,
            "align_items": null,
            "bottom": null,
            "_model_module": "@jupyter-widgets/base",
            "top": null,
            "grid_column": null,
            "overflow_y": null,
            "overflow_x": null,
            "grid_auto_flow": null,
            "grid_area": null,
            "grid_template_columns": null,
            "flex": null,
            "_model_name": "LayoutModel",
            "justify_items": null,
            "grid_row": null,
            "max_height": null,
            "align_content": null,
            "visibility": null,
            "align_self": null,
            "height": null,
            "min_height": null,
            "padding": null,
            "grid_auto_rows": null,
            "grid_gap": null,
            "max_width": null,
            "order": null,
            "_view_module_version": "1.2.0",
            "grid_template_areas": null,
            "object_position": null,
            "object_fit": null,
            "grid_auto_columns": null,
            "margin": null,
            "display": null,
            "left": null
          }
        },
        "91eea43dca1a4d29be67cd00265aa004": {
          "model_module": "@jupyter-widgets/controls",
          "model_name": "DescriptionStyleModel",
          "state": {
            "_view_name": "StyleView",
            "_model_name": "DescriptionStyleModel",
            "description_width": "",
            "_view_module": "@jupyter-widgets/base",
            "_model_module_version": "1.5.0",
            "_view_count": null,
            "_view_module_version": "1.2.0",
            "_model_module": "@jupyter-widgets/controls"
          }
        },
        "dfe336f0c3734cf69ae2325274306191": {
          "model_module": "@jupyter-widgets/base",
          "model_name": "LayoutModel",
          "state": {
            "_view_name": "LayoutView",
            "grid_template_rows": null,
            "right": null,
            "justify_content": null,
            "_view_module": "@jupyter-widgets/base",
            "overflow": null,
            "_model_module_version": "1.2.0",
            "_view_count": null,
            "flex_flow": null,
            "width": null,
            "min_width": null,
            "border": null,
            "align_items": null,
            "bottom": null,
            "_model_module": "@jupyter-widgets/base",
            "top": null,
            "grid_column": null,
            "overflow_y": null,
            "overflow_x": null,
            "grid_auto_flow": null,
            "grid_area": null,
            "grid_template_columns": null,
            "flex": null,
            "_model_name": "LayoutModel",
            "justify_items": null,
            "grid_row": null,
            "max_height": null,
            "align_content": null,
            "visibility": null,
            "align_self": null,
            "height": null,
            "min_height": null,
            "padding": null,
            "grid_auto_rows": null,
            "grid_gap": null,
            "max_width": null,
            "order": null,
            "_view_module_version": "1.2.0",
            "grid_template_areas": null,
            "object_position": null,
            "object_fit": null,
            "grid_auto_columns": null,
            "margin": null,
            "display": null,
            "left": null
          }
        },
        "34956598fc8d4815913f19000a93eba6": {
          "model_module": "@jupyter-widgets/controls",
          "model_name": "HBoxModel",
          "state": {
            "_view_name": "HBoxView",
            "_dom_classes": [],
            "_model_name": "HBoxModel",
            "_view_module": "@jupyter-widgets/controls",
            "_model_module_version": "1.5.0",
            "_view_count": null,
            "_view_module_version": "1.5.0",
            "box_style": "",
            "layout": "IPY_MODEL_af0f8f6714a64dc096691fae56b543ba",
            "_model_module": "@jupyter-widgets/controls",
            "children": [
              "IPY_MODEL_d20877397a0c4fd486179dd8ca427c7c",
              "IPY_MODEL_85b7e4c8d04348bab467589050670dfb"
            ]
          }
        },
        "af0f8f6714a64dc096691fae56b543ba": {
          "model_module": "@jupyter-widgets/base",
          "model_name": "LayoutModel",
          "state": {
            "_view_name": "LayoutView",
            "grid_template_rows": null,
            "right": null,
            "justify_content": null,
            "_view_module": "@jupyter-widgets/base",
            "overflow": null,
            "_model_module_version": "1.2.0",
            "_view_count": null,
            "flex_flow": null,
            "width": null,
            "min_width": null,
            "border": null,
            "align_items": null,
            "bottom": null,
            "_model_module": "@jupyter-widgets/base",
            "top": null,
            "grid_column": null,
            "overflow_y": null,
            "overflow_x": null,
            "grid_auto_flow": null,
            "grid_area": null,
            "grid_template_columns": null,
            "flex": null,
            "_model_name": "LayoutModel",
            "justify_items": null,
            "grid_row": null,
            "max_height": null,
            "align_content": null,
            "visibility": null,
            "align_self": null,
            "height": null,
            "min_height": null,
            "padding": null,
            "grid_auto_rows": null,
            "grid_gap": null,
            "max_width": null,
            "order": null,
            "_view_module_version": "1.2.0",
            "grid_template_areas": null,
            "object_position": null,
            "object_fit": null,
            "grid_auto_columns": null,
            "margin": null,
            "display": null,
            "left": null
          }
        },
        "d20877397a0c4fd486179dd8ca427c7c": {
          "model_module": "@jupyter-widgets/controls",
          "model_name": "FloatProgressModel",
          "state": {
            "_view_name": "ProgressView",
            "style": "IPY_MODEL_a7a252a2638140c69f9e85c39dcaa701",
            "_dom_classes": [],
            "description": "",
            "_model_name": "FloatProgressModel",
            "bar_style": "info",
            "max": 1,
            "_view_module": "@jupyter-widgets/controls",
            "_model_module_version": "1.5.0",
            "value": 1,
            "_view_count": null,
            "_view_module_version": "1.5.0",
            "orientation": "horizontal",
            "min": 0,
            "description_tooltip": null,
            "_model_module": "@jupyter-widgets/controls",
            "layout": "IPY_MODEL_73912ef4f5194462b7525d64c16bed13"
          }
        },
        "85b7e4c8d04348bab467589050670dfb": {
          "model_module": "@jupyter-widgets/controls",
          "model_name": "HTMLModel",
          "state": {
            "_view_name": "HTMLView",
            "style": "IPY_MODEL_1a5be1caee144c1ea50911d458003250",
            "_dom_classes": [],
            "description": "",
            "_model_name": "HTMLModel",
            "placeholder": "​",
            "_view_module": "@jupyter-widgets/controls",
            "_model_module_version": "1.5.0",
            "value": " 256/0 [00:00&lt;00:00, 1006.14 examples/s]",
            "_view_count": null,
            "_view_module_version": "1.5.0",
            "description_tooltip": null,
            "_model_module": "@jupyter-widgets/controls",
            "layout": "IPY_MODEL_48a33b6775104102bcf38e572ee63845"
          }
        },
        "a7a252a2638140c69f9e85c39dcaa701": {
          "model_module": "@jupyter-widgets/controls",
          "model_name": "ProgressStyleModel",
          "state": {
            "_view_name": "StyleView",
            "_model_name": "ProgressStyleModel",
            "description_width": "initial",
            "_view_module": "@jupyter-widgets/base",
            "_model_module_version": "1.5.0",
            "_view_count": null,
            "_view_module_version": "1.2.0",
            "bar_color": null,
            "_model_module": "@jupyter-widgets/controls"
          }
        },
        "73912ef4f5194462b7525d64c16bed13": {
          "model_module": "@jupyter-widgets/base",
          "model_name": "LayoutModel",
          "state": {
            "_view_name": "LayoutView",
            "grid_template_rows": null,
            "right": null,
            "justify_content": null,
            "_view_module": "@jupyter-widgets/base",
            "overflow": null,
            "_model_module_version": "1.2.0",
            "_view_count": null,
            "flex_flow": null,
            "width": null,
            "min_width": null,
            "border": null,
            "align_items": null,
            "bottom": null,
            "_model_module": "@jupyter-widgets/base",
            "top": null,
            "grid_column": null,
            "overflow_y": null,
            "overflow_x": null,
            "grid_auto_flow": null,
            "grid_area": null,
            "grid_template_columns": null,
            "flex": null,
            "_model_name": "LayoutModel",
            "justify_items": null,
            "grid_row": null,
            "max_height": null,
            "align_content": null,
            "visibility": null,
            "align_self": null,
            "height": null,
            "min_height": null,
            "padding": null,
            "grid_auto_rows": null,
            "grid_gap": null,
            "max_width": null,
            "order": null,
            "_view_module_version": "1.2.0",
            "grid_template_areas": null,
            "object_position": null,
            "object_fit": null,
            "grid_auto_columns": null,
            "margin": null,
            "display": null,
            "left": null
          }
        },
        "1a5be1caee144c1ea50911d458003250": {
          "model_module": "@jupyter-widgets/controls",
          "model_name": "DescriptionStyleModel",
          "state": {
            "_view_name": "StyleView",
            "_model_name": "DescriptionStyleModel",
            "description_width": "",
            "_view_module": "@jupyter-widgets/base",
            "_model_module_version": "1.5.0",
            "_view_count": null,
            "_view_module_version": "1.2.0",
            "_model_module": "@jupyter-widgets/controls"
          }
        },
        "48a33b6775104102bcf38e572ee63845": {
          "model_module": "@jupyter-widgets/base",
          "model_name": "LayoutModel",
          "state": {
            "_view_name": "LayoutView",
            "grid_template_rows": null,
            "right": null,
            "justify_content": null,
            "_view_module": "@jupyter-widgets/base",
            "overflow": null,
            "_model_module_version": "1.2.0",
            "_view_count": null,
            "flex_flow": null,
            "width": null,
            "min_width": null,
            "border": null,
            "align_items": null,
            "bottom": null,
            "_model_module": "@jupyter-widgets/base",
            "top": null,
            "grid_column": null,
            "overflow_y": null,
            "overflow_x": null,
            "grid_auto_flow": null,
            "grid_area": null,
            "grid_template_columns": null,
            "flex": null,
            "_model_name": "LayoutModel",
            "justify_items": null,
            "grid_row": null,
            "max_height": null,
            "align_content": null,
            "visibility": null,
            "align_self": null,
            "height": null,
            "min_height": null,
            "padding": null,
            "grid_auto_rows": null,
            "grid_gap": null,
            "max_width": null,
            "order": null,
            "_view_module_version": "1.2.0",
            "grid_template_areas": null,
            "object_position": null,
            "object_fit": null,
            "grid_auto_columns": null,
            "margin": null,
            "display": null,
            "left": null
          }
        },
        "643e451b4341477faa3e4139b128ecbf": {
          "model_module": "@jupyter-widgets/controls",
          "model_name": "HBoxModel",
          "state": {
            "_view_name": "HBoxView",
            "_dom_classes": [],
            "_model_name": "HBoxModel",
            "_view_module": "@jupyter-widgets/controls",
            "_model_module_version": "1.5.0",
            "_view_count": null,
            "_view_module_version": "1.5.0",
            "box_style": "",
            "layout": "IPY_MODEL_928ba60b90e9457d818a027a56d43a08",
            "_model_module": "@jupyter-widgets/controls",
            "children": [
              "IPY_MODEL_b875bec9bef74d1fa2182f2989049cff",
              "IPY_MODEL_7e06bac7d6454d4e9c6b61940515fb7b"
            ]
          }
        },
        "928ba60b90e9457d818a027a56d43a08": {
          "model_module": "@jupyter-widgets/base",
          "model_name": "LayoutModel",
          "state": {
            "_view_name": "LayoutView",
            "grid_template_rows": null,
            "right": null,
            "justify_content": null,
            "_view_module": "@jupyter-widgets/base",
            "overflow": null,
            "_model_module_version": "1.2.0",
            "_view_count": null,
            "flex_flow": null,
            "width": null,
            "min_width": null,
            "border": null,
            "align_items": null,
            "bottom": null,
            "_model_module": "@jupyter-widgets/base",
            "top": null,
            "grid_column": null,
            "overflow_y": null,
            "overflow_x": null,
            "grid_auto_flow": null,
            "grid_area": null,
            "grid_template_columns": null,
            "flex": null,
            "_model_name": "LayoutModel",
            "justify_items": null,
            "grid_row": null,
            "max_height": null,
            "align_content": null,
            "visibility": null,
            "align_self": null,
            "height": null,
            "min_height": null,
            "padding": null,
            "grid_auto_rows": null,
            "grid_gap": null,
            "max_width": null,
            "order": null,
            "_view_module_version": "1.2.0",
            "grid_template_areas": null,
            "object_position": null,
            "object_fit": null,
            "grid_auto_columns": null,
            "margin": null,
            "display": null,
            "left": null
          }
        },
        "b875bec9bef74d1fa2182f2989049cff": {
          "model_module": "@jupyter-widgets/controls",
          "model_name": "FloatProgressModel",
          "state": {
            "_view_name": "ProgressView",
            "style": "IPY_MODEL_8d10b054945c40db9242c81050a808d9",
            "_dom_classes": [],
            "description": "  0%",
            "_model_name": "FloatProgressModel",
            "bar_style": "danger",
            "max": 256,
            "_view_module": "@jupyter-widgets/controls",
            "_model_module_version": "1.5.0",
            "value": 0,
            "_view_count": null,
            "_view_module_version": "1.5.0",
            "orientation": "horizontal",
            "min": 0,
            "description_tooltip": null,
            "_model_module": "@jupyter-widgets/controls",
            "layout": "IPY_MODEL_1a147950b5a4419d9b9e95555192d1b3"
          }
        },
        "7e06bac7d6454d4e9c6b61940515fb7b": {
          "model_module": "@jupyter-widgets/controls",
          "model_name": "HTMLModel",
          "state": {
            "_view_name": "HTMLView",
            "style": "IPY_MODEL_5eab67ad9269426ebb91a5b9afef6cf1",
            "_dom_classes": [],
            "description": "",
            "_model_name": "HTMLModel",
            "placeholder": "​",
            "_view_module": "@jupyter-widgets/controls",
            "_model_module_version": "1.5.0",
            "value": " 0/256 [00:00&lt;?, ? examples/s]",
            "_view_count": null,
            "_view_module_version": "1.5.0",
            "description_tooltip": null,
            "_model_module": "@jupyter-widgets/controls",
            "layout": "IPY_MODEL_35456a4e89e74f2a8d32d4ec74763f54"
          }
        },
        "8d10b054945c40db9242c81050a808d9": {
          "model_module": "@jupyter-widgets/controls",
          "model_name": "ProgressStyleModel",
          "state": {
            "_view_name": "StyleView",
            "_model_name": "ProgressStyleModel",
            "description_width": "initial",
            "_view_module": "@jupyter-widgets/base",
            "_model_module_version": "1.5.0",
            "_view_count": null,
            "_view_module_version": "1.2.0",
            "bar_color": null,
            "_model_module": "@jupyter-widgets/controls"
          }
        },
        "1a147950b5a4419d9b9e95555192d1b3": {
          "model_module": "@jupyter-widgets/base",
          "model_name": "LayoutModel",
          "state": {
            "_view_name": "LayoutView",
            "grid_template_rows": null,
            "right": null,
            "justify_content": null,
            "_view_module": "@jupyter-widgets/base",
            "overflow": null,
            "_model_module_version": "1.2.0",
            "_view_count": null,
            "flex_flow": null,
            "width": null,
            "min_width": null,
            "border": null,
            "align_items": null,
            "bottom": null,
            "_model_module": "@jupyter-widgets/base",
            "top": null,
            "grid_column": null,
            "overflow_y": null,
            "overflow_x": null,
            "grid_auto_flow": null,
            "grid_area": null,
            "grid_template_columns": null,
            "flex": null,
            "_model_name": "LayoutModel",
            "justify_items": null,
            "grid_row": null,
            "max_height": null,
            "align_content": null,
            "visibility": null,
            "align_self": null,
            "height": null,
            "min_height": null,
            "padding": null,
            "grid_auto_rows": null,
            "grid_gap": null,
            "max_width": null,
            "order": null,
            "_view_module_version": "1.2.0",
            "grid_template_areas": null,
            "object_position": null,
            "object_fit": null,
            "grid_auto_columns": null,
            "margin": null,
            "display": null,
            "left": null
          }
        },
        "5eab67ad9269426ebb91a5b9afef6cf1": {
          "model_module": "@jupyter-widgets/controls",
          "model_name": "DescriptionStyleModel",
          "state": {
            "_view_name": "StyleView",
            "_model_name": "DescriptionStyleModel",
            "description_width": "",
            "_view_module": "@jupyter-widgets/base",
            "_model_module_version": "1.5.0",
            "_view_count": null,
            "_view_module_version": "1.2.0",
            "_model_module": "@jupyter-widgets/controls"
          }
        },
        "35456a4e89e74f2a8d32d4ec74763f54": {
          "model_module": "@jupyter-widgets/base",
          "model_name": "LayoutModel",
          "state": {
            "_view_name": "LayoutView",
            "grid_template_rows": null,
            "right": null,
            "justify_content": null,
            "_view_module": "@jupyter-widgets/base",
            "overflow": null,
            "_model_module_version": "1.2.0",
            "_view_count": null,
            "flex_flow": null,
            "width": null,
            "min_width": null,
            "border": null,
            "align_items": null,
            "bottom": null,
            "_model_module": "@jupyter-widgets/base",
            "top": null,
            "grid_column": null,
            "overflow_y": null,
            "overflow_x": null,
            "grid_auto_flow": null,
            "grid_area": null,
            "grid_template_columns": null,
            "flex": null,
            "_model_name": "LayoutModel",
            "justify_items": null,
            "grid_row": null,
            "max_height": null,
            "align_content": null,
            "visibility": null,
            "align_self": null,
            "height": null,
            "min_height": null,
            "padding": null,
            "grid_auto_rows": null,
            "grid_gap": null,
            "max_width": null,
            "order": null,
            "_view_module_version": "1.2.0",
            "grid_template_areas": null,
            "object_position": null,
            "object_fit": null,
            "grid_auto_columns": null,
            "margin": null,
            "display": null,
            "left": null
          }
        }
      }
    }
  },
  "cells": [
    {
      "cell_type": "markdown",
      "metadata": {
        "id": "view-in-github",
        "colab_type": "text"
      },
      "source": [
        "<a href=\"https://colab.research.google.com/github/rtajeong/Kyungnam_univ_M4/blob/main/lab_58_MNIST_tensorflow_rev3.ipynb\" target=\"_parent\"><img src=\"https://colab.research.google.com/assets/colab-badge.svg\" alt=\"Open In Colab\"/></a>"
      ]
    },
    {
      "cell_type": "markdown",
      "metadata": {
        "id": "RnFl97xDe3VJ"
      },
      "source": [
        "# MNIST with RandomForest"
      ]
    },
    {
      "cell_type": "code",
      "metadata": {
        "colab": {
          "base_uri": "https://localhost:8080/"
        },
        "id": "XVZE1bRSe2kq",
        "outputId": "1b74bda7-17e2-4966-91cf-1f48d11137c6"
      },
      "source": [
        "import tensorflow as tf\r\n",
        "from tensorflow.keras.datasets import mnist\r\n",
        "from tensorflow.keras import utils\r\n",
        "import matplotlib.pyplot as plt\r\n",
        "\r\n",
        "(X_train, Y_class_train), (X_test, Y_class_test) = mnist.load_data()\r\n",
        "X_train.shape, Y_class_test.shape"
      ],
      "execution_count": 6,
      "outputs": [
        {
          "output_type": "execute_result",
          "data": {
            "text/plain": [
              "((60000, 28, 28), (10000,))"
            ]
          },
          "metadata": {
            "tags": []
          },
          "execution_count": 6
        }
      ]
    },
    {
      "cell_type": "code",
      "metadata": {
        "colab": {
          "base_uri": "https://localhost:8080/"
        },
        "id": "wX1DFS8rfEqI",
        "outputId": "1611ed18-ee03-464b-c76d-e446a4b71131"
      },
      "source": [
        "import pandas as pd\r\n",
        "from sklearn.ensemble import RandomForestClassifier\r\n",
        "rfc = RandomForestClassifier(n_estimators=50)\r\n",
        "rfc.fit(X_train.reshape(X_train.shape[0], 28*28), Y_class_train)\r\n",
        "rfc.score(X_test.reshape(X_test.shape[0], 28*28), Y_class_test)"
      ],
      "execution_count": 7,
      "outputs": [
        {
          "output_type": "execute_result",
          "data": {
            "text/plain": [
              "0.9666"
            ]
          },
          "metadata": {
            "tags": []
          },
          "execution_count": 7
        }
      ]
    },
    {
      "cell_type": "markdown",
      "metadata": {
        "id": "zmAUXjRjaKl3"
      },
      "source": [
        "# MNIST with Tensorflow 2.0 (version 1)\n",
        "- from internet\n",
        "- Multi-class logistic regression (simple MLP without hidden layer)\n",
        "- https://builtin.com/data-science/guide-logistic-regression-tensorflow-20\n",
        "\n",
        "\n"
      ]
    },
    {
      "cell_type": "code",
      "metadata": {
        "id": "XRcyJVVi7xoj"
      },
      "source": [
        "# step 1: importing modules\n",
        "\n",
        "import tensorflow as tf\n",
        "import numpy as np"
      ],
      "execution_count": 8,
      "outputs": []
    },
    {
      "cell_type": "code",
      "metadata": {
        "id": "ePnKX-lG_giE"
      },
      "source": [
        "# step 2: loading and preparing mnist dataset\r\n",
        "\r\n",
        "from tensorflow.keras.datasets import mnist\r\n",
        "num_classes = 10        # 0 to 9 digits\r\n",
        "num_features = 28 * 28\r\n",
        "(x_train, y_train), (x_test, y_test) = mnist.load_data()\r\n",
        "x_train, x_test = np.array(x_train, np.float32), np.array(x_test, np.float32)\r\n",
        "x_train, x_test = x_train.reshape([-1, num_features]), x_test.reshape([-1, num_features])\r\n",
        "x_train, x_test = x_train / 255., x_test / 255."
      ],
      "execution_count": 9,
      "outputs": []
    },
    {
      "cell_type": "code",
      "metadata": {
        "colab": {
          "base_uri": "https://localhost:8080/"
        },
        "id": "PE3PPsCGFFTt",
        "outputId": "1d0c3feb-79be-4262-aceb-4a96d676ab4a"
      },
      "source": [
        "x_train.shape, x_test.shape, y_train.shape, y_test.shape"
      ],
      "execution_count": 10,
      "outputs": [
        {
          "output_type": "execute_result",
          "data": {
            "text/plain": [
              "((60000, 784), (10000, 784), (60000,), (10000,))"
            ]
          },
          "metadata": {
            "tags": []
          },
          "execution_count": 10
        }
      ]
    },
    {
      "cell_type": "code",
      "metadata": {
        "id": "dFr4-k3q7xos"
      },
      "source": [
        "# step 3: setting up hyperparameters and dataset parameters\n",
        "\n",
        "learning_rate = 0.01\n",
        "training_steps = 2000\n",
        "batch_size = 256\n",
        "display_step = 50"
      ],
      "execution_count": 11,
      "outputs": []
    },
    {
      "cell_type": "code",
      "metadata": {
        "id": "32ndi_Kp7xoy"
      },
      "source": [
        "# step 4: shuffling and batching the dataset\n",
        "# - Prefetching overlaps the preprocessing and model execution of a training step. \n",
        "#   While the model is executing training step s, the input pipeline is reading \n",
        "#   the data for step s+1. Doing so reduces the step time to the maximum (as \n",
        "#   opposed to the sum) of the training and the time it takes to extract the data.\n",
        "\n",
        "train_data=tf.data.Dataset.from_tensor_slices((x_train,y_train))\n",
        "# train_data=train_data.repeat().shuffle(5000).batch(batch_size).prefetch(1)\n",
        "train_data=train_data.repeat().shuffle(5000).batch(batch_size)"
      ],
      "execution_count": 12,
      "outputs": []
    },
    {
      "cell_type": "code",
      "metadata": {
        "colab": {
          "base_uri": "https://localhost:8080/"
        },
        "id": "42RtscNxHJDV",
        "outputId": "46115661-bb50-4fb2-8a9e-104ed4af0d82"
      },
      "source": [
        "train_data"
      ],
      "execution_count": 13,
      "outputs": [
        {
          "output_type": "execute_result",
          "data": {
            "text/plain": [
              "<BatchDataset shapes: ((None, 784), (None,)), types: (tf.float32, tf.uint8)>"
            ]
          },
          "metadata": {
            "tags": []
          },
          "execution_count": 13
        }
      ]
    },
    {
      "cell_type": "code",
      "metadata": {
        "id": "T94WY4on7xo_",
        "colab": {
          "base_uri": "https://localhost:8080/"
        },
        "outputId": "136650b8-46c1-44c2-ddea-d85b024bdd15"
      },
      "source": [
        "# step 5: initializing weights and biases\n",
        "\n",
        "W = tf.Variable(tf.random.normal([num_features, num_classes]), name=\"weight\") # (784,10)\n",
        "b = tf.Variable(tf.random.normal([num_classes]), name=\"bias\")                # (10,)\n",
        "W, b"
      ],
      "execution_count": 14,
      "outputs": [
        {
          "output_type": "execute_result",
          "data": {
            "text/plain": [
              "(<tf.Variable 'weight:0' shape=(784, 10) dtype=float32, numpy=\n",
              " array([[ 0.14641725, -1.275717  , -0.41529584, ..., -0.00662114,\n",
              "          0.96034604, -0.6888237 ],\n",
              "        [ 0.7270821 ,  0.03041806, -0.1917843 , ..., -0.609361  ,\n",
              "         -0.1811534 , -0.19635953],\n",
              "        [-0.6277022 ,  1.9204644 ,  1.6528785 , ...,  0.52491087,\n",
              "          0.70311266,  0.42984638],\n",
              "        ...,\n",
              "        [-1.226097  ,  0.4846938 ,  0.6213343 , ...,  1.8014935 ,\n",
              "          1.3762915 , -1.7004398 ],\n",
              "        [ 0.6446411 , -0.17726664, -0.7133045 , ..., -0.40442947,\n",
              "          0.67478836,  1.3981873 ],\n",
              "        [ 1.3505956 ,  0.6761066 ,  2.3056579 , ..., -0.86941814,\n",
              "          0.83873314, -0.32873645]], dtype=float32)>,\n",
              " <tf.Variable 'bias:0' shape=(10,) dtype=float32, numpy=\n",
              " array([ 1.6833035 , -0.606919  , -0.06063361, -0.65168977, -1.3462218 ,\n",
              "         0.5435195 , -0.02910734,  0.24136437,  2.3162153 , -0.06374669],\n",
              "       dtype=float32)>)"
            ]
          },
          "metadata": {
            "tags": []
          },
          "execution_count": 14
        }
      ]
    },
    {
      "cell_type": "code",
      "metadata": {
        "id": "vgclHQQP7xpT"
      },
      "source": [
        "# step 6: defining logistic regression and cost function\r\n",
        "\r\n",
        "def logistic_regression(x):\r\n",
        "    return tf.nn.softmax(tf.matmul(x, W) + b)\r\n",
        "\r\n",
        "def cross_entropy(y_pred, y_true):\r\n",
        "    y_true = tf.one_hot(y_true, depth=num_classes)\r\n",
        "    y_pred = tf.clip_by_value(y_pred, 1e-9, 1.)  # to avoid log(0) error\r\n",
        "    ce1 = tf.reduce_mean(-tf.reduce_sum(y_true * tf.math.log(y_pred), axis=1))\r\n",
        "    ce0 = tf.reduce_mean(-tf.reduce_sum(y_true * tf.math.log(y_pred)))       # wrong\r\n",
        "    ce2 = tf.reduce_mean(tf.losses.categorical_crossentropy(y_true, y_pred)) # function\r\n",
        "    return ce1"
      ],
      "execution_count": 15,
      "outputs": []
    },
    {
      "cell_type": "code",
      "metadata": {
        "id": "pxMJa11nC0H1"
      },
      "source": [
        "# step 7: defining optimizers and accuracy metrics\r\n",
        "\r\n",
        "def accuracy(y_pred, y_true):\r\n",
        "    correct_prediction = tf.equal(tf.argmax(y_pred, 1), tf.cast(y_true, tf.int64)) # axis=1\r\n",
        "    return tf.reduce_mean(tf.cast(correct_prediction, tf.float32))\r\n",
        "\r\n",
        "optimizer = tf.optimizers.Adam(learning_rate)"
      ],
      "execution_count": 16,
      "outputs": []
    },
    {
      "cell_type": "code",
      "metadata": {
        "id": "zhGalATXDTc1"
      },
      "source": [
        "# step 8: optimization process and updating weights and biases\r\n",
        "\r\n",
        "def run_optimization(x, y):\r\n",
        "    \r\n",
        "    with tf.GradientTape() as tape:\r\n",
        "        y_pred = logistic_regression(x)\r\n",
        "        loss = cross_entropy(y_pred, y)\r\n",
        "\r\n",
        "    gradients = tape.gradient(loss, [W, b])\r\n",
        "    optimizer.apply_gradients(zip(gradients, [W, b]))  # updates"
      ],
      "execution_count": 17,
      "outputs": []
    },
    {
      "cell_type": "code",
      "metadata": {
        "colab": {
          "base_uri": "https://localhost:8080/"
        },
        "id": "62y8TcyGD5J0",
        "outputId": "9a090e77-7919-42c6-d2c1-d3476e7df7e4"
      },
      "source": [
        "# step 9: the training loop\r\n",
        "# dataset.take(c): Creates a Dataset with at most c elements from this dataset.\r\n",
        "# batch_size 만큼씩  c 번 뽑는다.\r\n",
        "\r\n",
        "for step, (batch_x, batch_y) in enumerate(train_data.take(training_steps), 1):\r\n",
        "\r\n",
        "    # print(batch_x.shape, batch_y.shape)   # (256,784), (256,)\r\n",
        "    run_optimization(batch_x, batch_y)\r\n",
        "\r\n",
        "    if step % display_step == 0:\r\n",
        "        pred = logistic_regression(batch_x)\r\n",
        "        loss = cross_entropy(pred, batch_y)\r\n",
        "        acc = accuracy(pred, batch_y)\r\n",
        "        print(\"step: %i, loss: %f, accuracy: %f\" % (step, loss, acc))"
      ],
      "execution_count": 18,
      "outputs": [
        {
          "output_type": "stream",
          "text": [
            "step: 50, loss: 2.352834, accuracy: 0.632812\n",
            "step: 100, loss: 1.370897, accuracy: 0.769531\n",
            "step: 150, loss: 1.128205, accuracy: 0.808594\n",
            "step: 200, loss: 0.498080, accuracy: 0.878906\n",
            "step: 250, loss: 0.772145, accuracy: 0.878906\n",
            "step: 300, loss: 0.800719, accuracy: 0.863281\n",
            "step: 350, loss: 0.569871, accuracy: 0.886719\n",
            "step: 400, loss: 0.507981, accuracy: 0.863281\n",
            "step: 450, loss: 0.485246, accuracy: 0.894531\n",
            "step: 500, loss: 0.507446, accuracy: 0.875000\n",
            "step: 550, loss: 0.264344, accuracy: 0.910156\n",
            "step: 600, loss: 0.279877, accuracy: 0.910156\n",
            "step: 650, loss: 0.407820, accuracy: 0.898438\n",
            "step: 700, loss: 0.392256, accuracy: 0.890625\n",
            "step: 750, loss: 0.374940, accuracy: 0.925781\n",
            "step: 800, loss: 0.407228, accuracy: 0.898438\n",
            "step: 850, loss: 0.501180, accuracy: 0.875000\n",
            "step: 900, loss: 0.414898, accuracy: 0.894531\n",
            "step: 950, loss: 0.418544, accuracy: 0.898438\n",
            "step: 1000, loss: 0.298932, accuracy: 0.902344\n",
            "step: 1050, loss: 0.448940, accuracy: 0.898438\n",
            "step: 1100, loss: 0.412466, accuracy: 0.902344\n",
            "step: 1150, loss: 0.242342, accuracy: 0.921875\n",
            "step: 1200, loss: 0.350464, accuracy: 0.917969\n",
            "step: 1250, loss: 0.393897, accuracy: 0.910156\n",
            "step: 1300, loss: 0.285171, accuracy: 0.890625\n",
            "step: 1350, loss: 0.298258, accuracy: 0.921875\n",
            "step: 1400, loss: 0.370822, accuracy: 0.917969\n",
            "step: 1450, loss: 0.334328, accuracy: 0.914062\n",
            "step: 1500, loss: 0.373661, accuracy: 0.910156\n",
            "step: 1550, loss: 0.210603, accuracy: 0.941406\n",
            "step: 1600, loss: 0.438366, accuracy: 0.906250\n",
            "step: 1650, loss: 0.395394, accuracy: 0.890625\n",
            "step: 1700, loss: 0.317959, accuracy: 0.906250\n",
            "step: 1750, loss: 0.501406, accuracy: 0.890625\n",
            "step: 1800, loss: 0.327353, accuracy: 0.906250\n",
            "step: 1850, loss: 0.219113, accuracy: 0.933594\n",
            "step: 1900, loss: 0.330471, accuracy: 0.921875\n",
            "step: 1950, loss: 0.225708, accuracy: 0.929688\n",
            "step: 2000, loss: 0.305537, accuracy: 0.917969\n"
          ],
          "name": "stdout"
        }
      ]
    },
    {
      "cell_type": "code",
      "metadata": {
        "colab": {
          "base_uri": "https://localhost:8080/"
        },
        "id": "TOld6mf8Ec79",
        "outputId": "c9fe58e4-0412-42d8-fcc2-8dfe91ba0343"
      },
      "source": [
        "# step 10: testing model accuracy using the test data\r\n",
        "\r\n",
        "pred = logistic_regression(x_test)\r\n",
        "print(\"Test Accuracy: %f\" % accuracy(pred, y_test))"
      ],
      "execution_count": 19,
      "outputs": [
        {
          "output_type": "stream",
          "text": [
            "Test Accuracy: 0.914700\n"
          ],
          "name": "stdout"
        }
      ]
    },
    {
      "cell_type": "code",
      "metadata": {
        "colab": {
          "base_uri": "https://localhost:8080/",
          "height": 1000
        },
        "id": "7MUcmw5HVDev",
        "outputId": "58ada62a-9767-4fca-f3b5-52af5306563f"
      },
      "source": [
        "# step 11: visualizing the classification result\r\n",
        "\r\n",
        "import matplotlib.pyplot as plt\r\n",
        "\r\n",
        "n_images = 5\r\n",
        "test_images = x_test[:n_images]\r\n",
        "predictions = logistic_regression(test_images)\r\n",
        "\r\n",
        "for i in range(n_images):\r\n",
        "    plt.imshow(np.reshape(test_images[i], [28,28]), cmap='gray')\r\n",
        "    plt.show()\r\n",
        "    print('model prediction: %i' %np.argmax(predictions.numpy()[i]))"
      ],
      "execution_count": 20,
      "outputs": [
        {
          "output_type": "display_data",
          "data": {
            "image/png": "[encoded data removed]",
            "text/plain": [
              "<Figure size 432x288 with 1 Axes>"
            ]
          },
          "metadata": {
            "tags": [],
            "needs_background": "light"
          }
        },
        {
          "output_type": "stream",
          "text": [
            "model prediction: 7\n"
          ],
          "name": "stdout"
        },
        {
          "output_type": "display_data",
          "data": {
            "image/png": "[encoded data removed]",
            "text/plain": [
              "<Figure size 432x288 with 1 Axes>"
            ]
          },
          "metadata": {
            "tags": [],
            "needs_background": "light"
          }
        },
        {
          "output_type": "stream",
          "text": [
            "model prediction: 2\n"
          ],
          "name": "stdout"
        },
        {
          "output_type": "display_data",
          "data": {
            "image/png": "[encoded data removed]",
            "text/plain": [
              "<Figure size 432x288 with 1 Axes>"
            ]
          },
          "metadata": {
            "tags": [],
            "needs_background": "light"
          }
        },
        {
          "output_type": "stream",
          "text": [
            "model prediction: 1\n"
          ],
          "name": "stdout"
        },
        {
          "output_type": "display_data",
          "data": {
            "image/png": "[encoded data removed]",
            "text/plain": [
              "<Figure size 432x288 with 1 Axes>"
            ]
          },
          "metadata": {
            "tags": [],
            "needs_background": "light"
          }
        },
        {
          "output_type": "stream",
          "text": [
            "model prediction: 0\n"
          ],
          "name": "stdout"
        },
        {
          "output_type": "display_data",
          "data": {
            "image/png": "[encoded data removed]",
            "text/plain": [
              "<Figure size 432x288 with 1 Axes>"
            ]
          },
          "metadata": {
            "tags": [],
            "needs_background": "light"
          }
        },
        {
          "output_type": "stream",
          "text": [
            "model prediction: 4\n"
          ],
          "name": "stdout"
        }
      ]
    },
    {
      "cell_type": "markdown",
      "metadata": {
        "id": "vXm3p3lIaA6p"
      },
      "source": [
        "# MNIST with tensorflow 2.0 (version 2)\r\n",
        "- all in one code routine (for easy migration from the simpler regression code)\r\n",
        "- my version"
      ]
    },
    {
      "cell_type": "code",
      "metadata": {
        "id": "VjiF4k_hadWN"
      },
      "source": [
        "from tensorflow.keras.datasets import mnist\r\n",
        "num_classes = 10        # 0 to 9 digits\r\n",
        "num_features = 28 * 28\r\n",
        "(x_train, y_train), (x_test, y_test) = mnist.load_data()\r\n",
        "x_train, x_test = np.array(x_train, np.float32), np.array(x_test, np.float32)\r\n",
        "x_train, x_test = x_train.reshape([-1, num_features]), x_test.reshape([-1, num_features])\r\n",
        "x_train, x_test = x_train / 255., x_test / 255."
      ],
      "execution_count": 61,
      "outputs": []
    },
    {
      "cell_type": "code",
      "metadata": {
        "id": "m2pYh2nYag15"
      },
      "source": [
        "input_size = 784\r\n",
        "num_classes = 10\r\n",
        "batch_size = 300\r\n",
        "num_epochs = 10\r\n",
        "learning_rate = 0.01"
      ],
      "execution_count": 74,
      "outputs": []
    },
    {
      "cell_type": "code",
      "metadata": {
        "id": "T7b177eQakHp"
      },
      "source": [
        "train_data=tf.data.Dataset.from_tensor_slices((x_train,y_train))\r\n",
        "train_data=train_data.shuffle(5000).batch(batch_size)"
      ],
      "execution_count": 75,
      "outputs": []
    },
    {
      "cell_type": "code",
      "metadata": {
        "id": "On28C_ANamzZ"
      },
      "source": [
        "W = tf.Variable(tf.random.normal([input_size, num_classes])) # (784,10)\r\n",
        "b = tf.Variable(tf.random.normal([num_classes]))             # (10,)"
      ],
      "execution_count": 76,
      "outputs": []
    },
    {
      "cell_type": "code",
      "metadata": {
        "colab": {
          "base_uri": "https://localhost:8080/"
        },
        "id": "SPlVk0xsaqAV",
        "outputId": "8794b53b-7ec1-4073-e3a3-44236f31069f"
      },
      "source": [
        "# Training\r\n",
        "for e in range( num_epochs ):\r\n",
        "    for step, (batch_x, batch_y) in enumerate(train_data, 1):\r\n",
        "        with tf.GradientTape() as tape:\r\n",
        "            y_pred = tf.nn.softmax(tf.matmul(batch_x, W) + b)\r\n",
        "            y_pred = tf.clip_by_value(y_pred, 1e-9, 1.)\r\n",
        "            batch_y_ohe = tf.one_hot(batch_y, depth = 10)\r\n",
        "            loss = tf.reduce_mean(tf.losses.categorical_crossentropy( batch_y_ohe , y_pred ))\r\n",
        "            # loss = tf.reduce_mean(-tf.reduce_sum(batch_y * tf.math.log(y_pred), axis=1))\r\n",
        "\r\n",
        "        grads = tape.gradient(loss, [W, b])\r\n",
        "        optimizer = tf.optimizers.Adam( learning_rate )\r\n",
        "        # Adam 과 SGD 비교해 보면 좋음.\r\n",
        "        optimizer.apply_gradients(zip(grads, [W,b]))\r\n",
        "\r\n",
        "        corr_predict = tf.equal(tf.argmax(y_pred, 1), tf.cast(batch_y, tf.int64))\r\n",
        "        acc = tf.reduce_mean(tf.cast(corr_predict, tf.float32))\r\n",
        "\r\n",
        "        if step % 50 == 0: \r\n",
        "           print(\"epoch: %i, step: %i, loss: %f, acc: %f\" % (e, step, loss, acc))\r\n",
        "    \r\n",
        "    # print(\"epoch: %i, loss: %f, accuracy: %f\" % (e, loss, acc))\r\n",
        "\r\n",
        "# Testing\r\n",
        "test_y_pred = tf.nn.softmax(tf.matmul(x_test, W) + b)\r\n",
        "test_pred = tf.equal(tf.argmax(test_y_pred, 1), tf.cast(y_test, tf.int64))\r\n",
        "test_acc = tf.reduce_mean(tf.cast(test_pred, tf.float32))\r\n",
        "\r\n",
        "print(\"Test accuracy: %f\" % test_acc)"
      ],
      "execution_count": 77,
      "outputs": [
        {
          "output_type": "stream",
          "text": [
            "epoch: 0, step: 50, loss: 1.967909, acc: 0.686667\n",
            "epoch: 0, step: 100, loss: 0.909622, acc: 0.826667\n",
            "epoch: 0, step: 150, loss: 0.609875, acc: 0.866667\n",
            "epoch: 0, step: 200, loss: 0.503607, acc: 0.876667\n",
            "epoch: 1, step: 50, loss: 0.479139, acc: 0.880000\n",
            "epoch: 1, step: 100, loss: 0.755950, acc: 0.866667\n",
            "epoch: 1, step: 150, loss: 0.708575, acc: 0.893333\n",
            "epoch: 1, step: 200, loss: 0.350539, acc: 0.926667\n",
            "epoch: 2, step: 50, loss: 0.555015, acc: 0.886667\n",
            "epoch: 2, step: 100, loss: 0.548195, acc: 0.903333\n",
            "epoch: 2, step: 150, loss: 0.433577, acc: 0.890000\n",
            "epoch: 2, step: 200, loss: 0.189602, acc: 0.940000\n",
            "epoch: 3, step: 50, loss: 0.561037, acc: 0.893333\n",
            "epoch: 3, step: 100, loss: 0.346896, acc: 0.930000\n",
            "epoch: 3, step: 150, loss: 0.393091, acc: 0.896667\n",
            "epoch: 3, step: 200, loss: 0.232276, acc: 0.930000\n",
            "epoch: 4, step: 50, loss: 0.687259, acc: 0.896667\n",
            "epoch: 4, step: 100, loss: 0.581371, acc: 0.896667\n",
            "epoch: 4, step: 150, loss: 0.574118, acc: 0.900000\n",
            "epoch: 4, step: 200, loss: 0.347438, acc: 0.943333\n",
            "epoch: 5, step: 50, loss: 0.534310, acc: 0.933333\n",
            "epoch: 5, step: 100, loss: 0.579518, acc: 0.910000\n",
            "epoch: 5, step: 150, loss: 0.497230, acc: 0.893333\n",
            "epoch: 5, step: 200, loss: 0.252640, acc: 0.940000\n",
            "epoch: 6, step: 50, loss: 0.322226, acc: 0.913333\n",
            "epoch: 6, step: 100, loss: 0.617448, acc: 0.883333\n",
            "epoch: 6, step: 150, loss: 0.587307, acc: 0.913333\n",
            "epoch: 6, step: 200, loss: 0.288383, acc: 0.943333\n",
            "epoch: 7, step: 50, loss: 0.588286, acc: 0.896667\n",
            "epoch: 7, step: 100, loss: 0.347735, acc: 0.926667\n",
            "epoch: 7, step: 150, loss: 0.584610, acc: 0.906667\n",
            "epoch: 7, step: 200, loss: 0.387448, acc: 0.930000\n",
            "epoch: 8, step: 50, loss: 0.516686, acc: 0.926667\n",
            "epoch: 8, step: 100, loss: 0.549846, acc: 0.913333\n",
            "epoch: 8, step: 150, loss: 0.515432, acc: 0.913333\n",
            "epoch: 8, step: 200, loss: 0.190411, acc: 0.960000\n",
            "epoch: 9, step: 50, loss: 0.293170, acc: 0.946667\n",
            "epoch: 9, step: 100, loss: 0.441337, acc: 0.933333\n",
            "epoch: 9, step: 150, loss: 0.530253, acc: 0.933333\n",
            "epoch: 9, step: 200, loss: 0.298781, acc: 0.920000\n",
            "Test accuracy: 0.918200\n"
          ],
          "name": "stdout"
        }
      ]
    },
    {
      "cell_type": "markdown",
      "metadata": {
        "id": "CaC9Tf5apB88"
      },
      "source": [
        "# MNIST tensorflow 2.0 (version 3)\r\n",
        "- function define"
      ]
    },
    {
      "cell_type": "code",
      "metadata": {
        "colab": {
          "base_uri": "https://localhost:8080/"
        },
        "id": "U3wG34F9pJiE",
        "outputId": "822897a6-bf73-49b0-b83c-81ce7c83c4d5"
      },
      "source": [
        "import tensorflow as tf\r\n",
        "import numpy as np\r\n",
        "from tensorflow.keras.datasets import mnist\r\n",
        "num_classes = 10        # 0 to 9 digits\r\n",
        "num_features = 28 * 28\r\n",
        "(x_train, y_train), (x_test, y_test) = mnist.load_data()\r\n",
        "x_train, x_test = np.array(x_train, np.float32), np.array(x_test, np.float32)\r\n",
        "x_train, x_test = x_train.reshape([-1, num_features]), x_test.reshape([-1, num_features])\r\n",
        "x_train, x_test = x_train / 255., x_test / 255.\r\n",
        "\r\n",
        "input_size = 784\r\n",
        "num_classes = 10\r\n",
        "batch_size = 300\r\n",
        "num_epochs = 10\r\n",
        "learning_rate = 0.01\r\n",
        "\r\n",
        "train_data=tf.data.Dataset.from_tensor_slices((x_train,y_train))\r\n",
        "train_data=train_data.shuffle(5000).batch(batch_size)\r\n",
        "\r\n",
        "W = tf.Variable(tf.random.normal([input_size, num_classes])) # (784,10)\r\n",
        "b = tf.Variable(tf.random.normal([num_classes]))             # (10,)\r\n",
        "\r\n",
        "def model(X):\r\n",
        "    return tf.nn.softmax(tf.matmul(X, W) + b)\r\n",
        "\r\n",
        "def loss_fn(y_pred, y_true):\r\n",
        "    y_pred = tf.clip_by_value(y_pred, 1e-9, 1.)\r\n",
        "    y_true_ohe = tf.one_hot(batch_y, depth = 10)\r\n",
        "    return tf.reduce_mean(tf.losses.categorical_crossentropy(y_true_ohe, y_pred))\r\n",
        "\r\n",
        "optimizer = tf.optimizers.Adam( learning_rate )\r\n",
        "\r\n",
        "def train_step (x, y):\r\n",
        "\r\n",
        "    with tf.GradientTape() as tape:\r\n",
        "        y_pred = model(x)\r\n",
        "        loss = loss_fn (y_pred, y)\r\n",
        "    grads = tape.gradient(loss, [W, b])\r\n",
        "    optimizer.apply_gradients(zip(grads, [W,b]))\r\n",
        "\r\n",
        "def accuracy(y_pred, y_true):\r\n",
        "    corr_predict = tf.equal(tf.argmax(y_pred, 1), tf.cast(y_true, tf.int64))\r\n",
        "    return tf.reduce_mean(tf.cast(corr_predict, tf.float32))\r\n",
        "\r\n",
        "# Training\r\n",
        "for e in range( num_epochs ):\r\n",
        "    for step, (batch_x, batch_y) in enumerate(train_data, 1):\r\n",
        "        with tf.GradientTape() as tape:\r\n",
        "            train_step(batch_x, batch_y)\r\n",
        "\r\n",
        "        if step % 50 == 0: \r\n",
        "            pred = model(batch_x)\r\n",
        "            loss = loss_fn (pred, batch_y)\r\n",
        "            acc = accuracy(pred, batch_y)\r\n",
        "            print(\"epoch: %i, step: %i, loss: %f, acc: %f\" % (e, step, loss, acc))\r\n",
        "\r\n",
        "# Testing\r\n",
        "test_y_pred = model(x_test)\r\n",
        "test_acc = accuracy(test_y_pred, y_test)\r\n",
        "print(\"Test accuracy: %f\" % test_acc)"
      ],
      "execution_count": 78,
      "outputs": [
        {
          "output_type": "stream",
          "text": [
            "epoch: 0, step: 50, loss: 2.172842, acc: 0.603333\n",
            "epoch: 0, step: 100, loss: 1.426503, acc: 0.743333\n",
            "epoch: 0, step: 150, loss: 0.787154, acc: 0.843333\n",
            "epoch: 0, step: 200, loss: 0.532268, acc: 0.883333\n",
            "epoch: 1, step: 50, loss: 0.674251, acc: 0.840000\n",
            "epoch: 1, step: 100, loss: 0.563219, acc: 0.856667\n",
            "epoch: 1, step: 150, loss: 0.680690, acc: 0.876667\n",
            "epoch: 1, step: 200, loss: 0.493931, acc: 0.900000\n",
            "epoch: 2, step: 50, loss: 0.543864, acc: 0.880000\n",
            "epoch: 2, step: 100, loss: 0.474760, acc: 0.886667\n",
            "epoch: 2, step: 150, loss: 0.557277, acc: 0.853333\n",
            "epoch: 2, step: 200, loss: 0.445294, acc: 0.903333\n",
            "epoch: 3, step: 50, loss: 0.518947, acc: 0.893333\n",
            "epoch: 3, step: 100, loss: 0.487982, acc: 0.876667\n",
            "epoch: 3, step: 150, loss: 0.401569, acc: 0.890000\n",
            "epoch: 3, step: 200, loss: 0.316374, acc: 0.920000\n",
            "epoch: 4, step: 50, loss: 0.431537, acc: 0.880000\n",
            "epoch: 4, step: 100, loss: 0.266358, acc: 0.920000\n",
            "epoch: 4, step: 150, loss: 0.471962, acc: 0.903333\n",
            "epoch: 4, step: 200, loss: 0.372715, acc: 0.896667\n",
            "epoch: 5, step: 50, loss: 0.321592, acc: 0.926667\n",
            "epoch: 5, step: 100, loss: 0.306160, acc: 0.903333\n",
            "epoch: 5, step: 150, loss: 0.411442, acc: 0.890000\n",
            "epoch: 5, step: 200, loss: 0.187988, acc: 0.966667\n",
            "epoch: 6, step: 50, loss: 0.433952, acc: 0.923333\n",
            "epoch: 6, step: 100, loss: 0.379920, acc: 0.903333\n",
            "epoch: 6, step: 150, loss: 0.331389, acc: 0.930000\n",
            "epoch: 6, step: 200, loss: 0.239293, acc: 0.933333\n",
            "epoch: 7, step: 50, loss: 0.226204, acc: 0.930000\n",
            "epoch: 7, step: 100, loss: 0.339822, acc: 0.926667\n",
            "epoch: 7, step: 150, loss: 0.331895, acc: 0.923333\n",
            "epoch: 7, step: 200, loss: 0.323515, acc: 0.936667\n",
            "epoch: 8, step: 50, loss: 0.220320, acc: 0.936667\n",
            "epoch: 8, step: 100, loss: 0.340274, acc: 0.900000\n",
            "epoch: 8, step: 150, loss: 0.347621, acc: 0.903333\n",
            "epoch: 8, step: 200, loss: 0.137316, acc: 0.950000\n",
            "epoch: 9, step: 50, loss: 0.223742, acc: 0.933333\n",
            "epoch: 9, step: 100, loss: 0.247693, acc: 0.940000\n",
            "epoch: 9, step: 150, loss: 0.231264, acc: 0.916667\n",
            "epoch: 9, step: 200, loss: 0.299964, acc: 0.926667\n",
            "Test accuracy: 0.918500\n"
          ],
          "name": "stdout"
        }
      ]
    },
    {
      "cell_type": "markdown",
      "metadata": {
        "id": "I8sIJgJ6nByz"
      },
      "source": [
        "# 연습"
      ]
    },
    {
      "cell_type": "markdown",
      "metadata": {
        "id": "gCCYLHc3oSv6"
      },
      "source": [
        "- dataset\r\n",
        "- as_numpy_iterator(): returns an iterator which converts all elements of the dataset to numpy.\r\n",
        "- Use this function to inspect the content of your dataset. \r\n",
        "- To see element shapes and types, print dataset elements directly instead of using as_numpy_iterator."
      ]
    },
    {
      "cell_type": "code",
      "metadata": {
        "colab": {
          "base_uri": "https://localhost:8080/"
        },
        "id": "9XR9506CnDhb",
        "outputId": "5c1c7cdb-a85f-41ed-d157-f2f7fd05429a"
      },
      "source": [
        "dataset = tf.data.Dataset.from_tensor_slices([1, 2, 3])\r\n",
        "for element in dataset:\r\n",
        "    print(element)"
      ],
      "execution_count": 39,
      "outputs": [
        {
          "output_type": "stream",
          "text": [
            "tf.Tensor(1, shape=(), dtype=int32)\n",
            "tf.Tensor(2, shape=(), dtype=int32)\n",
            "tf.Tensor(3, shape=(), dtype=int32)\n"
          ],
          "name": "stdout"
        }
      ]
    },
    {
      "cell_type": "code",
      "metadata": {
        "colab": {
          "base_uri": "https://localhost:8080/"
        },
        "id": "Q-IqIMf6oo8p",
        "outputId": "95b83175-706d-4858-8924-20d5397d4c29"
      },
      "source": [
        "print(list(dataset.as_numpy_iterator()))"
      ],
      "execution_count": null,
      "outputs": [
        {
          "output_type": "stream",
          "text": [
            "[1, 2, 3]\n"
          ],
          "name": "stdout"
        }
      ]
    },
    {
      "cell_type": "code",
      "metadata": {
        "colab": {
          "base_uri": "https://localhost:8080/"
        },
        "id": "PW7QaYN5ndRL",
        "outputId": "d1aa0e61-7e07-4697-dee8-8ed8df196c70"
      },
      "source": [
        "dataset = tf.data.Dataset.from_tensor_slices([1, 2, 3])\r\n",
        "dataset = dataset.map(lambda x: x*2)\r\n",
        "list(dataset.as_numpy_iterator())"
      ],
      "execution_count": null,
      "outputs": [
        {
          "output_type": "execute_result",
          "data": {
            "text/plain": [
              "[2, 4, 6]"
            ]
          },
          "metadata": {
            "tags": []
          },
          "execution_count": 209
        }
      ]
    },
    {
      "cell_type": "code",
      "metadata": {
        "colab": {
          "base_uri": "https://localhost:8080/"
        },
        "id": "NKjMDUy3o3bM",
        "outputId": "293be4b6-417d-461e-8d20-60a4c8315932"
      },
      "source": [
        "dataset = tf.data.Dataset.range(8)\r\n",
        "[i.numpy() for i in dataset]"
      ],
      "execution_count": 40,
      "outputs": [
        {
          "output_type": "execute_result",
          "data": {
            "text/plain": [
              "[0, 1, 2, 3, 4, 5, 6, 7]"
            ]
          },
          "metadata": {
            "tags": []
          },
          "execution_count": 40
        }
      ]
    },
    {
      "cell_type": "code",
      "metadata": {
        "colab": {
          "base_uri": "https://localhost:8080/"
        },
        "id": "-ShAbXAdpCMF",
        "outputId": "3a121dad-7225-44ef-89f0-4bad7b03c1a4"
      },
      "source": [
        "dataset = tf.data.Dataset.range(8)\r\n",
        "dataset = dataset.shuffle(10).batch(3)\r\n",
        "print(dataset)\r\n",
        "print(dataset.as_numpy_iterator())\r\n",
        "for i in dataset:\r\n",
        "    print (i)\r\n",
        "for i in dataset.as_numpy_iterator():\r\n",
        "    print (i)"
      ],
      "execution_count": 41,
      "outputs": [
        {
          "output_type": "stream",
          "text": [
            "<BatchDataset shapes: (None,), types: tf.int64>\n",
            "<tensorflow.python.data.ops.dataset_ops._NumpyIterator object at 0x7f2dcec50e28>\n",
            "tf.Tensor([6 4 2], shape=(3,), dtype=int64)\n",
            "tf.Tensor([3 0 5], shape=(3,), dtype=int64)\n",
            "tf.Tensor([1 7], shape=(2,), dtype=int64)\n",
            "[1 3 4]\n",
            "[0 6 5]\n",
            "[2 7]\n"
          ],
          "name": "stdout"
        }
      ]
    },
    {
      "cell_type": "code",
      "metadata": {
        "colab": {
          "base_uri": "https://localhost:8080/"
        },
        "id": "O7GEJaMQoHQ7",
        "outputId": "babb1df6-1117-41c0-ba12-a9c39b448eef"
      },
      "source": [
        "dataset = tf.data.Dataset.from_tensor_slices([1, 2, 3])\r\n",
        "\r\n",
        "for element in enumerate(dataset):\r\n",
        "    print(element)\r\n",
        "for element in enumerate(dataset.as_numpy_iterator()):\r\n",
        "    print( element)"
      ],
      "execution_count": 42,
      "outputs": [
        {
          "output_type": "stream",
          "text": [
            "(0, <tf.Tensor: shape=(), dtype=int32, numpy=1>)\n",
            "(1, <tf.Tensor: shape=(), dtype=int32, numpy=2>)\n",
            "(2, <tf.Tensor: shape=(), dtype=int32, numpy=3>)\n",
            "(0, 1)\n",
            "(1, 2)\n",
            "(2, 3)\n"
          ],
          "name": "stdout"
        }
      ]
    },
    {
      "cell_type": "code",
      "metadata": {
        "colab": {
          "base_uri": "https://localhost:8080/"
        },
        "id": "8x-H27jOqZEz",
        "outputId": "d3a7f614-999a-4214-b600-e0db4feee98c"
      },
      "source": [
        "dataset = tf.data.Dataset.from_tensor_slices([(7, 8), (9, 10)])\r\n",
        "dataset = dataset.enumerate()\r\n",
        "for element in dataset.as_numpy_iterator():\r\n",
        "  print(element)"
      ],
      "execution_count": null,
      "outputs": [
        {
          "output_type": "stream",
          "text": [
            "(0, array([7, 8], dtype=int32))\n",
            "(1, array([ 9, 10], dtype=int32))\n"
          ],
          "name": "stdout"
        }
      ]
    },
    {
      "cell_type": "code",
      "metadata": {
        "colab": {
          "base_uri": "https://localhost:8080/"
        },
        "id": "Baq5cjKYw4d0",
        "outputId": "c1f5e435-9429-4a03-de36-3e3223e93f19"
      },
      "source": [
        "dataset = tf.data.Dataset.range(10)\r\n",
        "dataset = dataset.shuffle(buffer_size=5).batch(3)\r\n",
        "\r\n",
        "for element in dataset.as_numpy_iterator():\r\n",
        "    print(element)"
      ],
      "execution_count": 43,
      "outputs": [
        {
          "output_type": "stream",
          "text": [
            "[2 5 3]\n",
            "[1 4 0]\n",
            "[6 7 8]\n",
            "[9]\n"
          ],
          "name": "stdout"
        }
      ]
    },
    {
      "cell_type": "code",
      "metadata": {
        "id": "vwcvJHt2xvvt",
        "colab": {
          "base_uri": "https://localhost:8080/"
        },
        "outputId": "82254531-5412-42e6-8a8d-e0342ed79cd8"
      },
      "source": [
        "# dataset.take(count): Creates a Dataset with at most count elements from this dataset.\r\n",
        "dataset = tf.data.Dataset.range(10)\r\n",
        "dataset = dataset.take(3)\r\n",
        "[ i for i in dataset.as_numpy_iterator()]"
      ],
      "execution_count": 44,
      "outputs": [
        {
          "output_type": "execute_result",
          "data": {
            "text/plain": [
              "[0, 1, 2]"
            ]
          },
          "metadata": {
            "tags": []
          },
          "execution_count": 44
        }
      ]
    },
    {
      "cell_type": "code",
      "metadata": {
        "colab": {
          "base_uri": "https://localhost:8080/"
        },
        "id": "fG2cqV6GJn95",
        "outputId": "cca62d7a-6924-438b-d41f-4803fecb96d5"
      },
      "source": [
        "dataset = tf.data.Dataset.range(10)\r\n",
        "dataset = dataset.take(4)\r\n",
        "list(dataset.as_numpy_iterator())"
      ],
      "execution_count": 45,
      "outputs": [
        {
          "output_type": "execute_result",
          "data": {
            "text/plain": [
              "[0, 1, 2, 3]"
            ]
          },
          "metadata": {
            "tags": []
          },
          "execution_count": 45
        }
      ]
    },
    {
      "cell_type": "code",
      "metadata": {
        "colab": {
          "base_uri": "https://localhost:8080/"
        },
        "id": "pko6oq2zPqa8",
        "outputId": "508e1ae2-54a1-42b2-bf64-195a7e90a140"
      },
      "source": [
        "dataset = tf.data.Dataset.range(7)\r\n",
        "print(list(dataset.as_numpy_iterator()))\r\n",
        "[i for i in dataset.take(5)]"
      ],
      "execution_count": null,
      "outputs": [
        {
          "output_type": "stream",
          "text": [
            "[0, 1, 2, 3, 4, 5, 6]\n"
          ],
          "name": "stdout"
        },
        {
          "output_type": "execute_result",
          "data": {
            "text/plain": [
              "[<tf.Tensor: shape=(), dtype=int64, numpy=0>,\n",
              " <tf.Tensor: shape=(), dtype=int64, numpy=1>,\n",
              " <tf.Tensor: shape=(), dtype=int64, numpy=2>,\n",
              " <tf.Tensor: shape=(), dtype=int64, numpy=3>,\n",
              " <tf.Tensor: shape=(), dtype=int64, numpy=4>]"
            ]
          },
          "metadata": {
            "tags": []
          },
          "execution_count": 238
        }
      ]
    },
    {
      "cell_type": "code",
      "metadata": {
        "colab": {
          "base_uri": "https://localhost:8080/"
        },
        "id": "whcdrWLCRLK3",
        "outputId": "f5f9cde5-3b1a-492a-83ef-9c758f6e1bea"
      },
      "source": [
        "dataset = tf.data.Dataset.range(20)   # batch size 만큼 8 번 take\r\n",
        "dataset = dataset.repeat().batch(3)\r\n",
        "for x in dataset.take(8):\r\n",
        "    print (x.numpy())"
      ],
      "execution_count": 48,
      "outputs": [
        {
          "output_type": "stream",
          "text": [
            "[0 1 2]\n",
            "[3 4 5]\n",
            "[6 7 8]\n",
            "[ 9 10 11]\n",
            "[12 13 14]\n",
            "[15 16 17]\n",
            "[18 19  0]\n",
            "[1 2 3]\n"
          ],
          "name": "stdout"
        }
      ]
    },
    {
      "cell_type": "code",
      "metadata": {
        "colab": {
          "base_uri": "https://localhost:8080/"
        },
        "id": "Cq-nC1o_Q01L",
        "outputId": "994e2cb6-13cb-4060-f591-e431beb14f27"
      },
      "source": [
        "dataset = tf.data.Dataset.range(20)   # shuffle\r\n",
        "dataset = dataset.shuffle(50).batch(3)\r\n",
        "for x in dataset.take(8):\r\n",
        "    print (x.numpy())"
      ],
      "execution_count": 51,
      "outputs": [
        {
          "output_type": "stream",
          "text": [
            "[10  0  1]\n",
            "[ 2 14  3]\n",
            "[ 6  4 19]\n",
            "[ 8 16 15]\n",
            "[ 5 11  7]\n",
            "[12 13 18]\n",
            "[ 9 17]\n"
          ],
          "name": "stdout"
        }
      ]
    },
    {
      "cell_type": "code",
      "metadata": {
        "colab": {
          "base_uri": "https://localhost:8080/"
        },
        "id": "EeV9CNjkRDXm",
        "outputId": "99615e55-36c9-4c57-ffbb-61c1e21e7ec3"
      },
      "source": [
        "dataset = tf.data.Dataset.range(20)   # shuffle & repeat\r\n",
        "dataset = dataset.repeat().shuffle(50).batch(3)\r\n",
        "for x in dataset.take(8):\r\n",
        "    print (x.numpy())"
      ],
      "execution_count": 52,
      "outputs": [
        {
          "output_type": "stream",
          "text": [
            "[8 1 4]\n",
            "[19  5  2]\n",
            "[ 0 10  3]\n",
            "[ 8  6 16]\n",
            "[ 6  9 15]\n",
            "[12 18  5]\n",
            "[15  5 16]\n",
            "[ 7 10  9]\n"
          ],
          "name": "stdout"
        }
      ]
    },
    {
      "cell_type": "markdown",
      "metadata": {
        "id": "L7kD-skObUjp"
      },
      "source": [
        "- dataset (for my exercise)"
      ]
    },
    {
      "cell_type": "code",
      "metadata": {
        "colab": {
          "base_uri": "https://localhost:8080/",
          "height": 337,
          "referenced_widgets": [
            "7c623e3599b441f5a2f73424779d8289",
            "0bf882fc566344259f4852c3afd8885c",
            "3ff5927d591f43b3acfe7ef05c740fb3",
            "a7a19ab100914cf89e54bf923dc43b77",
            "86a035189e784920ba10fe5799fcc7f9",
            "f89e7fc7a6984560ac12ee39f87031f8",
            "65fdd97c0e4a4bd785c1ce95f9040e9c",
            "e1e918c769c3445593ebaa6a58c04451",
            "1eff0d558e354d95981f547ff6057402",
            "888077fb93e84818b32b2ecaae58dff8",
            "15f08ddfea28414b8a7bf731669eabb9",
            "90eaa40d9c7c4bd899504c2427e7c12d",
            "0298510a9ab44bb0bb43ab350518d3ad",
            "60f6448a866a4f4d8cb8e82781476141",
            "ecb1b8d8f7cd45c9a0ff1a75436678bc",
            "ff0694fcb0b44bc294d6153bf8c050c6",
            "d19a7644b220495c941932991e9443e5",
            "cee907a28bc04dbb923ac5d70011a2a4",
            "427eb8f5a1664b898ecb3c7dd83e61dc",
            "e42c1df86ea34f8c996473edf0072bec",
            "ef1e5cb89abf4185a016e054b62c75a6",
            "055e95e702be4c4cb25552b3815cf24d",
            "5d508cb92e224bfca722d84cf2692a05",
            "122a42e7f76f44d5ba1274ba994a8210",
            "4d8303b84e6c4cda97a87b75898bfff7",
            "56ca6f96b0424391abde0d17a2185779",
            "0d7a432aa2eb4c59902d998d776c786c",
            "1b7751fbfff54409b44d831a657e63ce",
            "36fe269073fc47af84c2c0875e76c984",
            "6e9c9c07bd6545a58e7ea3be35df1264",
            "91eea43dca1a4d29be67cd00265aa004",
            "dfe336f0c3734cf69ae2325274306191",
            "34956598fc8d4815913f19000a93eba6",
            "af0f8f6714a64dc096691fae56b543ba",
            "d20877397a0c4fd486179dd8ca427c7c",
            "85b7e4c8d04348bab467589050670dfb",
            "a7a252a2638140c69f9e85c39dcaa701",
            "73912ef4f5194462b7525d64c16bed13",
            "1a5be1caee144c1ea50911d458003250",
            "48a33b6775104102bcf38e572ee63845",
            "643e451b4341477faa3e4139b128ecbf",
            "928ba60b90e9457d818a027a56d43a08",
            "b875bec9bef74d1fa2182f2989049cff",
            "7e06bac7d6454d4e9c6b61940515fb7b",
            "8d10b054945c40db9242c81050a808d9",
            "1a147950b5a4419d9b9e95555192d1b3",
            "5eab67ad9269426ebb91a5b9afef6cf1",
            "35456a4e89e74f2a8d32d4ec74763f54"
          ]
        },
        "id": "0J5IDQ7KbZVZ",
        "outputId": "cf57a6ed-5f49-41b4-abd8-062461aca9ef"
      },
      "source": [
        "import tensorflow as tf\r\n",
        "import tensorflow_datasets as tfds\r\n",
        "\r\n",
        "output_classes = 3\r\n",
        "batch_size = 200\r\n",
        "learning_rate = 0.001\r\n",
        "\r\n",
        "dataset = tfds.load( name='horses_or_humans' , split=tfds.Split.TRAIN )\r\n",
        "print(dataset)\r\n",
        "dataset = dataset.shuffle( 1024 ).batch( batch_size )\r\n",
        "print(dataset)"
      ],
      "execution_count": 53,
      "outputs": [
        {
          "output_type": "stream",
          "text": [
            "\u001b[1mDownloading and preparing dataset horses_or_humans/3.0.0 (download: 153.59 MiB, generated: Unknown size, total: 153.59 MiB) to /root/tensorflow_datasets/horses_or_humans/3.0.0...\u001b[0m\n"
          ],
          "name": "stdout"
        },
        {
          "output_type": "display_data",
          "data": {
            "application/vnd.jupyter.widget-view+json": {
              "model_id": "7c623e3599b441f5a2f73424779d8289",
              "version_minor": 0,
              "version_major": 2
            },
            "text/plain": [
              "HBox(children=(FloatProgress(value=1.0, bar_style='info', description='Dl Completed...', max=1.0, style=Progre…"
            ]
          },
          "metadata": {
            "tags": []
          }
        },
        {
          "output_type": "display_data",
          "data": {
            "application/vnd.jupyter.widget-view+json": {
              "model_id": "1eff0d558e354d95981f547ff6057402",
              "version_minor": 0,
              "version_major": 2
            },
            "text/plain": [
              "HBox(children=(FloatProgress(value=1.0, bar_style='info', description='Dl Size...', max=1.0, style=ProgressSty…"
            ]
          },
          "metadata": {
            "tags": []
          }
        },
        {
          "output_type": "stream",
          "text": [
            "\n",
            "\n",
            "\n",
            "\n"
          ],
          "name": "stdout"
        },
        {
          "output_type": "display_data",
          "data": {
            "application/vnd.jupyter.widget-view+json": {
              "model_id": "d19a7644b220495c941932991e9443e5",
              "version_minor": 0,
              "version_major": 2
            },
            "text/plain": [
              "HBox(children=(FloatProgress(value=1.0, bar_style='info', max=1.0), HTML(value='')))"
            ]
          },
          "metadata": {
            "tags": []
          }
        },
        {
          "output_type": "stream",
          "text": [
            "\rShuffling and writing examples to /root/tensorflow_datasets/horses_or_humans/3.0.0.incompleteJXWHV5/horses_or_humans-train.tfrecord\n"
          ],
          "name": "stdout"
        },
        {
          "output_type": "display_data",
          "data": {
            "application/vnd.jupyter.widget-view+json": {
              "model_id": "4d8303b84e6c4cda97a87b75898bfff7",
              "version_minor": 0,
              "version_major": 2
            },
            "text/plain": [
              "HBox(children=(FloatProgress(value=0.0, max=1027.0), HTML(value='')))"
            ]
          },
          "metadata": {
            "tags": []
          }
        },
        {
          "output_type": "stream",
          "text": [
            "\r"
          ],
          "name": "stdout"
        },
        {
          "output_type": "display_data",
          "data": {
            "application/vnd.jupyter.widget-view+json": {
              "model_id": "34956598fc8d4815913f19000a93eba6",
              "version_minor": 0,
              "version_major": 2
            },
            "text/plain": [
              "HBox(children=(FloatProgress(value=1.0, bar_style='info', max=1.0), HTML(value='')))"
            ]
          },
          "metadata": {
            "tags": []
          }
        },
        {
          "output_type": "stream",
          "text": [
            "\rShuffling and writing examples to /root/tensorflow_datasets/horses_or_humans/3.0.0.incompleteJXWHV5/horses_or_humans-test.tfrecord\n"
          ],
          "name": "stdout"
        },
        {
          "output_type": "display_data",
          "data": {
            "application/vnd.jupyter.widget-view+json": {
              "model_id": "643e451b4341477faa3e4139b128ecbf",
              "version_minor": 0,
              "version_major": 2
            },
            "text/plain": [
              "HBox(children=(FloatProgress(value=0.0, max=256.0), HTML(value='')))"
            ]
          },
          "metadata": {
            "tags": []
          }
        },
        {
          "output_type": "stream",
          "text": [
            "\u001b[1mDataset horses_or_humans downloaded and prepared to /root/tensorflow_datasets/horses_or_humans/3.0.0. Subsequent calls will reuse this data.\u001b[0m\n",
            "<PrefetchDataset shapes: {image: (300, 300, 3), label: ()}, types: {image: tf.uint8, label: tf.int64}>\n",
            "<BatchDataset shapes: {image: (None, 300, 300, 3), label: (None,)}, types: {image: tf.uint8, label: tf.int64}>\n"
          ],
          "name": "stdout"
        }
      ]
    },
    {
      "cell_type": "code",
      "metadata": {
        "colab": {
          "base_uri": "https://localhost:8080/"
        },
        "id": "O1ecFoRbbdyp",
        "outputId": "c756ff8a-2d3b-4636-f542-77a132ce3a4c"
      },
      "source": [
        "for features in dataset:\r\n",
        "    print(features['image'].shape, features['label'].shape)"
      ],
      "execution_count": 54,
      "outputs": [
        {
          "output_type": "stream",
          "text": [
            "(200, 300, 300, 3) (200,)\n",
            "(200, 300, 300, 3) (200,)\n",
            "(200, 300, 300, 3) (200,)\n",
            "(200, 300, 300, 3) (200,)\n",
            "(200, 300, 300, 3) (200,)\n",
            "(27, 300, 300, 3) (27,)\n"
          ],
          "name": "stdout"
        }
      ]
    },
    {
      "cell_type": "code",
      "metadata": {
        "colab": {
          "base_uri": "https://localhost:8080/"
        },
        "id": "WRZZsFzlbiyR",
        "outputId": "5ea4ce24-5c0d-4e06-933c-c6300aa2ed6d"
      },
      "source": [
        "for features in iter(dataset):\r\n",
        "    print(features['image'].shape, features['label'].shape)"
      ],
      "execution_count": 55,
      "outputs": [
        {
          "output_type": "stream",
          "text": [
            "(200, 300, 300, 3) (200,)\n",
            "(200, 300, 300, 3) (200,)\n",
            "(200, 300, 300, 3) (200,)\n",
            "(200, 300, 300, 3) (200,)\n",
            "(200, 300, 300, 3) (200,)\n",
            "(27, 300, 300, 3) (27,)\n"
          ],
          "name": "stdout"
        }
      ]
    },
    {
      "cell_type": "code",
      "metadata": {
        "colab": {
          "base_uri": "https://localhost:8080/"
        },
        "id": "1MZIGaxYbmTq",
        "outputId": "6355f28d-152c-4b91-c8c3-9add825462ec"
      },
      "source": [
        "(x_train, y_train), (x_test, y_test) = mnist.load_data()\r\n",
        "train_data=tf.data.Dataset.from_tensor_slices((x_train,y_train))\r\n",
        "train_data=train_data.repeat().shuffle(5000).batch(1000)\r\n",
        "train_data"
      ],
      "execution_count": 58,
      "outputs": [
        {
          "output_type": "execute_result",
          "data": {
            "text/plain": [
              "<BatchDataset shapes: ((None, 28, 28), (None,)), types: (tf.uint8, tf.uint8)>"
            ]
          },
          "metadata": {
            "tags": []
          },
          "execution_count": 58
        }
      ]
    },
    {
      "cell_type": "code",
      "metadata": {
        "colab": {
          "base_uri": "https://localhost:8080/"
        },
        "id": "okoVOaX4SC6s",
        "outputId": "c0dd9eda-5326-4bea-c673-c69d02c93f94"
      },
      "source": [
        "x_train.shape, y_train.shape"
      ],
      "execution_count": 59,
      "outputs": [
        {
          "output_type": "execute_result",
          "data": {
            "text/plain": [
              "((60000, 28, 28), (60000,))"
            ]
          },
          "metadata": {
            "tags": []
          },
          "execution_count": 59
        }
      ]
    },
    {
      "cell_type": "code",
      "metadata": {
        "colab": {
          "base_uri": "https://localhost:8080/"
        },
        "id": "MHoUvCs6bqjo",
        "outputId": "2e15dc3c-d4de-44ff-9b7d-dbe8d194c02a"
      },
      "source": [
        "i=0\r\n",
        "for batch_x, batch_y in iter(train_data):\r\n",
        "    print(batch_x.shape, batch_y.shape)\r\n",
        "    i +=1\r\n",
        "    if i == 5: break"
      ],
      "execution_count": 60,
      "outputs": [
        {
          "output_type": "stream",
          "text": [
            "(1000, 28, 28) (1000,)\n",
            "(1000, 28, 28) (1000,)\n",
            "(1000, 28, 28) (1000,)\n",
            "(1000, 28, 28) (1000,)\n",
            "(1000, 28, 28) (1000,)\n"
          ],
          "name": "stdout"
        }
      ]
    },
    {
      "cell_type": "markdown",
      "metadata": {
        "id": "6_4xWgC_btWQ"
      },
      "source": [
        "- softmax (categorical) cross entropy"
      ]
    },
    {
      "cell_type": "code",
      "metadata": {
        "colab": {
          "base_uri": "https://localhost:8080/"
        },
        "id": "NmQsj8a_br_5",
        "outputId": "0b7d53bb-f5a0-4238-8dbe-0efb719cc64e"
      },
      "source": [
        "y_true = [[0, 1, 0], [0, 0, 1]]\r\n",
        "y_pred = [[0.05, 0.95, 0], [0.1, 0.8, 0.1]]\r\n",
        "ce = tf.losses.categorical_crossentropy(y_true, y_pred)\r\n",
        "assert ce.shape == (2,)\r\n",
        "tf.reduce_mean(ce)"
      ],
      "execution_count": null,
      "outputs": [
        {
          "output_type": "execute_result",
          "data": {
            "text/plain": [
              "<tf.Tensor: shape=(), dtype=float32, numpy=1.1769392>"
            ]
          },
          "metadata": {
            "tags": []
          },
          "execution_count": 285
        }
      ]
    },
    {
      "cell_type": "code",
      "metadata": {
        "colab": {
          "base_uri": "https://localhost:8080/"
        },
        "id": "2_1Di-f-b055",
        "outputId": "ad01651f-74d2-4049-d8fb-dcd89eff2da6"
      },
      "source": [
        "y_pred = tf.clip_by_value(y_pred, 1e-9, 1.)\r\n",
        "y_true * tf.math.log(y_pred)"
      ],
      "execution_count": null,
      "outputs": [
        {
          "output_type": "execute_result",
          "data": {
            "text/plain": [
              "<tf.Tensor: shape=(2, 3), dtype=float32, numpy=\n",
              "array([[-0.        , -0.05129331, -0.        ],\n",
              "       [-0.        , -0.        , -2.3025851 ]], dtype=float32)>"
            ]
          },
          "metadata": {
            "tags": []
          },
          "execution_count": 286
        }
      ]
    },
    {
      "cell_type": "code",
      "metadata": {
        "colab": {
          "base_uri": "https://localhost:8080/"
        },
        "id": "eiTodpEZb3Zb",
        "outputId": "604c74ea-1883-43e9-b608-57fd0645d225"
      },
      "source": [
        "-tf.reduce_sum(y_true * tf.math.log(y_pred), axis=1)"
      ],
      "execution_count": null,
      "outputs": [
        {
          "output_type": "execute_result",
          "data": {
            "text/plain": [
              "<tf.Tensor: shape=(2,), dtype=float32, numpy=array([0.05129331, 2.3025851 ], dtype=float32)>"
            ]
          },
          "metadata": {
            "tags": []
          },
          "execution_count": 287
        }
      ]
    },
    {
      "cell_type": "code",
      "metadata": {
        "colab": {
          "base_uri": "https://localhost:8080/"
        },
        "id": "WoMnGB1cb7FJ",
        "outputId": "2277aa08-ee3d-45d8-cb22-00c4e101aa43"
      },
      "source": [
        "tf.reduce_mean(-tf.reduce_sum(y_true * tf.math.log(y_pred), axis=1))"
      ],
      "execution_count": null,
      "outputs": [
        {
          "output_type": "execute_result",
          "data": {
            "text/plain": [
              "<tf.Tensor: shape=(), dtype=float32, numpy=1.1769392>"
            ]
          },
          "metadata": {
            "tags": []
          },
          "execution_count": 288
        }
      ]
    },
    {
      "cell_type": "code",
      "metadata": {
        "colab": {
          "base_uri": "https://localhost:8080/"
        },
        "id": "7S308fKsb-AB",
        "outputId": "9fb10c95-80a4-4dc7-95d6-c5d27a853438"
      },
      "source": [
        "tf.reduce_mean(-tf.reduce_sum(y_true * tf.math.log(y_pred)))  # wrong"
      ],
      "execution_count": null,
      "outputs": [
        {
          "output_type": "execute_result",
          "data": {
            "text/plain": [
              "<tf.Tensor: shape=(), dtype=float32, numpy=2.3538785>"
            ]
          },
          "metadata": {
            "tags": []
          },
          "execution_count": 289
        }
      ]
    },
    {
      "cell_type": "markdown",
      "metadata": {
        "id": "idUTRIKma9Dh"
      },
      "source": [
        "- matrix multiplication (matmul)"
      ]
    },
    {
      "cell_type": "code",
      "metadata": {
        "colab": {
          "base_uri": "https://localhost:8080/"
        },
        "id": "1KG4X5PUa6gB",
        "outputId": "1628fc9a-2df1-4fad-bc8f-c75f3b8d7ff4"
      },
      "source": [
        "a = tf.constant([1, 2, 3, 4, 5, 6], shape=[2, 3])\r\n",
        "b = tf.constant([7, 8, 9, 10, 11, 12], shape=[3, 2])\r\n",
        "c = tf.matmul(a, b)\r\n",
        "a, b, c, a.shape, b.shape, c.shape"
      ],
      "execution_count": null,
      "outputs": [
        {
          "output_type": "execute_result",
          "data": {
            "text/plain": [
              "(<tf.Tensor: shape=(2, 3), dtype=int32, numpy=\n",
              " array([[1, 2, 3],\n",
              "        [4, 5, 6]], dtype=int32)>,\n",
              " <tf.Tensor: shape=(3, 2), dtype=int32, numpy=\n",
              " array([[ 7,  8],\n",
              "        [ 9, 10],\n",
              "        [11, 12]], dtype=int32)>,\n",
              " <tf.Tensor: shape=(2, 2), dtype=int32, numpy=\n",
              " array([[ 58,  64],\n",
              "        [139, 154]], dtype=int32)>,\n",
              " TensorShape([2, 3]),\n",
              " TensorShape([3, 2]),\n",
              " TensorShape([2, 2]))"
            ]
          },
          "metadata": {
            "tags": []
          },
          "execution_count": 277
        }
      ]
    },
    {
      "cell_type": "code",
      "metadata": {
        "colab": {
          "base_uri": "https://localhost:8080/"
        },
        "id": "hBoTif-rbFlU",
        "outputId": "ae7424b9-68f4-4bdc-881a-9df0890a4aac"
      },
      "source": [
        "import numpy as np\r\n",
        "# 3-D tensor `a`\r\n",
        "# [[[ 1,  2,  3],\r\n",
        "#   [ 4,  5,  6]],\r\n",
        "#  [[ 7,  8,  9],\r\n",
        "#   [10, 11, 12]]]\r\n",
        "a = tf.constant(np.arange(1, 13, dtype=np.int32),\r\n",
        "                shape=[2, 2, 3])\r\n",
        "\r\n",
        "# 3-D tensor `b`\r\n",
        "# [[[13, 14],\r\n",
        "#   [15, 16],\r\n",
        "#   [17, 18]],\r\n",
        "#  [[19, 20],\r\n",
        "#   [21, 22],\r\n",
        "#   [23, 24]]]\r\n",
        "b = tf.constant(np.arange(13, 25, dtype=np.int32),\r\n",
        "                shape=[2, 3, 2])\r\n",
        "\r\n",
        "# `a` * `b`\r\n",
        "# [[[ 94, 100],\r\n",
        "#   [229, 244]],\r\n",
        "#  [[508, 532],\r\n",
        "#   [697, 730]]]\r\n",
        "c = tf.matmul(a, b)\r\n",
        "a, b, c, a.shape, b.shape, c.shape"
      ],
      "execution_count": null,
      "outputs": [
        {
          "output_type": "execute_result",
          "data": {
            "text/plain": [
              "(<tf.Tensor: shape=(2, 2, 3), dtype=int32, numpy=\n",
              " array([[[ 1,  2,  3],\n",
              "         [ 4,  5,  6]],\n",
              " \n",
              "        [[ 7,  8,  9],\n",
              "         [10, 11, 12]]], dtype=int32)>,\n",
              " <tf.Tensor: shape=(2, 3, 2), dtype=int32, numpy=\n",
              " array([[[13, 14],\n",
              "         [15, 16],\n",
              "         [17, 18]],\n",
              " \n",
              "        [[19, 20],\n",
              "         [21, 22],\n",
              "         [23, 24]]], dtype=int32)>,\n",
              " <tf.Tensor: shape=(2, 2, 2), dtype=int32, numpy=\n",
              " array([[[ 94, 100],\n",
              "         [229, 244]],\n",
              " \n",
              "        [[508, 532],\n",
              "         [697, 730]]], dtype=int32)>,\n",
              " TensorShape([2, 2, 3]),\n",
              " TensorShape([2, 3, 2]),\n",
              " TensorShape([2, 2, 2]))"
            ]
          },
          "metadata": {
            "tags": []
          },
          "execution_count": 278
        }
      ]
    },
    {
      "cell_type": "code",
      "metadata": {
        "colab": {
          "base_uri": "https://localhost:8080/"
        },
        "id": "M9UmvuhbbIv-",
        "outputId": "c890d5a7-b264-4c80-f66c-fd9e0ea35845"
      },
      "source": [
        "A = tf.Variable(tf.random.normal([5, 4, 10, 2, 3]))\r\n",
        "B = tf.Variable(tf.random.normal([5, 4, 10, 3, 7]))\r\n",
        "C = tf.matmul(A, B)\r\n",
        "\r\n",
        "# tf.matmul(3차원 이상의 텐서 사이의 행렬 곱은 행렬의 차원을 나타내는 마지막 두 개의 \r\n",
        "# 차원(2x3, 3x7) 사이에 행렬 곱이 가능하고 행렬 앞에 있는 차원(5x4x10)이 같으면 가능하다.\r\n",
        "A.shape, B.shape, C.shape"
      ],
      "execution_count": null,
      "outputs": [
        {
          "output_type": "execute_result",
          "data": {
            "text/plain": [
              "(TensorShape([5, 4, 10, 2, 3]),\n",
              " TensorShape([5, 4, 10, 3, 7]),\n",
              " TensorShape([5, 4, 10, 2, 7]))"
            ]
          },
          "metadata": {
            "tags": []
          },
          "execution_count": 279
        }
      ]
    }
  ]
}