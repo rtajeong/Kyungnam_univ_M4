{
  "nbformat": 4,
  "nbformat_minor": 0,
  "metadata": {
    "accelerator": "GPU",
    "colab": {
      "name": "lab_59_MNIST_keras_rev1.ipynb",
      "provenance": [],
      "collapsed_sections": [],
      "toc_visible": true,
      "include_colab_link": true
    },
    "kernelspec": {
      "display_name": "Python 3",
      "language": "python",
      "name": "python3"
    },
    "language_info": {
      "codemirror_mode": {
        "name": "ipython",
        "version": 3
      },
      "file_extension": ".py",
      "mimetype": "text/x-python",
      "name": "python",
      "nbconvert_exporter": "python",
      "pygments_lexer": "ipython3",
      "version": "3.6.8"
    }
  },
  "cells": [
    {
      "cell_type": "markdown",
      "metadata": {
        "id": "view-in-github",
        "colab_type": "text"
      },
      "source": [
        "<a href=\"https://colab.research.google.com/github/rtajeong/Kyungnam_univ_M4/blob/main/lab_59_MNIST_keras_rev1.ipynb\" target=\"_parent\"><img src=\"https://colab.research.google.com/assets/colab-badge.svg\" alt=\"Open In Colab\"/></a>"
      ]
    },
    {
      "cell_type": "code",
      "metadata": {
        "id": "SJyeuRIGcyYo"
      },
      "source": [
        "# from google.colab import drive\n",
        "# drive.mount('/content/drive')"
      ],
      "execution_count": null,
      "outputs": []
    },
    {
      "cell_type": "markdown",
      "metadata": {
        "id": "view-in-github"
      },
      "source": [
        "<a href=\"https://colab.research.google.com/github/StillWork/ds-lab/blob/master/gg_51_MNIST_keras.ipynb\" target=\"_parent\"><img src=\"https://colab.research.google.com/assets/colab-badge.svg\" alt=\"Open In Colab\"/></a>"
      ]
    },
    {
      "cell_type": "markdown",
      "metadata": {
        "id": "h0CAW1Bd8B0l"
      },
      "source": [
        ""
      ]
    },
    {
      "cell_type": "markdown",
      "metadata": {
        "id": "OO16CDUjp1Ax"
      },
      "source": [
        "# f-6-MNIST-keras\n",
        "- 케라스를 이용한 MNIST"
      ]
    },
    {
      "cell_type": "markdown",
      "metadata": {
        "id": "JIe7bYJMtrfN"
      },
      "source": [
        "## 데이터 로드"
      ]
    },
    {
      "cell_type": "code",
      "metadata": {
        "id": "-AQRftuEqGqx",
        "scrolled": true
      },
      "source": [
        "import numpy as np\n",
        "import tensorflow as tf\n",
        "from tensorflow import keras\n",
        "from tensorflow.keras import layers\n",
        "from tensorflow.keras.datasets import mnist\n",
        "from tensorflow.keras.utils import to_categorical"
      ],
      "execution_count": 3,
      "outputs": []
    },
    {
      "cell_type": "code",
      "metadata": {
        "id": "vRUwM8gvqToI",
        "colab": {
          "base_uri": "https://localhost:8080/"
        },
        "outputId": "8f8b850b-5761-4069-ba2e-625aacee7ea4"
      },
      "source": [
        "(train_images, train_labels), (test_images, test_labels) = mnist.load_data()\n",
        "print(train_images.shape, test_images.shape)\n",
        "print(train_labels.shape, test_labels.shape)"
      ],
      "execution_count": 4,
      "outputs": [
        {
          "output_type": "stream",
          "text": [
            "(60000, 28, 28) (10000, 28, 28)\n",
            "(60000,) (10000,)\n"
          ],
          "name": "stdout"
        }
      ]
    },
    {
      "cell_type": "code",
      "metadata": {
        "colab": {
          "base_uri": "https://localhost:8080/"
        },
        "id": "Qa7eVy32T1ji",
        "outputId": "f8dd4b37-bb4f-4006-9fd8-ac7124172b82"
      },
      "source": [
        "train_images[0].max()   # 8-bit"
      ],
      "execution_count": 10,
      "outputs": [
        {
          "output_type": "execute_result",
          "data": {
            "text/plain": [
              "255"
            ]
          },
          "metadata": {
            "tags": []
          },
          "execution_count": 10
        }
      ]
    },
    {
      "cell_type": "code",
      "metadata": {
        "id": "tIJD-M1vUV89",
        "colab": {
          "base_uri": "https://localhost:8080/"
        },
        "outputId": "3f836ed8-ba11-472b-a4f6-8342f9ed01ea"
      },
      "source": [
        "type(train_images), type(train_images[0]), train_images[0].shape"
      ],
      "execution_count": 5,
      "outputs": [
        {
          "output_type": "execute_result",
          "data": {
            "text/plain": [
              "(numpy.ndarray, numpy.ndarray, (28, 28))"
            ]
          },
          "metadata": {
            "tags": []
          },
          "execution_count": 5
        }
      ]
    },
    {
      "cell_type": "code",
      "metadata": {
        "id": "mF-5-RTZcrwQ",
        "colab": {
          "base_uri": "https://localhost:8080/"
        },
        "outputId": "f5be07d0-94bc-4812-e7ab-0c582f6b5ea6"
      },
      "source": [
        "type(train_labels), type(train_labels[0]), train_labels[0]"
      ],
      "execution_count": 6,
      "outputs": [
        {
          "output_type": "execute_result",
          "data": {
            "text/plain": [
              "(numpy.ndarray, numpy.uint8, 5)"
            ]
          },
          "metadata": {
            "tags": []
          },
          "execution_count": 6
        }
      ]
    },
    {
      "cell_type": "code",
      "metadata": {
        "id": "_HdoWLENcrwp",
        "colab": {
          "base_uri": "https://localhost:8080/"
        },
        "outputId": "f4288320-a1af-478e-fd43-a1460f527a0a"
      },
      "source": [
        "train_images.shape, train_labels.dtype"
      ],
      "execution_count": 7,
      "outputs": [
        {
          "output_type": "execute_result",
          "data": {
            "text/plain": [
              "((60000, 28, 28), dtype('uint8'))"
            ]
          },
          "metadata": {
            "tags": []
          },
          "execution_count": 7
        }
      ]
    },
    {
      "cell_type": "markdown",
      "metadata": {
        "id": "JUaSP2MbtRiS"
      },
      "source": [
        "## MNIST 이미지 확인 및 데이터 전처리"
      ]
    },
    {
      "cell_type": "code",
      "metadata": {
        "id": "8_7c3by7YgUe"
      },
      "source": [
        "# train_images[0], train_images[0]/255"
      ],
      "execution_count": null,
      "outputs": []
    },
    {
      "cell_type": "code",
      "metadata": {
        "id": "UZlBIBHpbRQF",
        "colab": {
          "base_uri": "https://localhost:8080/",
          "height": 218
        },
        "outputId": "a039c333-52cf-407c-a31c-883bb2f55aa6"
      },
      "source": [
        "import matplotlib.pyplot as plt\n",
        "%matplotlib inline\n",
        "plt.subplot(1,2,1)\n",
        "plt.imshow(train_images[0], cmap=plt.cm.binary)\n",
        "plt.subplot(1,2,2)\n",
        "plt.imshow(train_images[0]/255, cmap=plt.cm.binary)\n",
        "plt.show"
      ],
      "execution_count": 11,
      "outputs": [
        {
          "output_type": "execute_result",
          "data": {
            "text/plain": [
              "<function matplotlib.pyplot.show>"
            ]
          },
          "metadata": {
            "tags": []
          },
          "execution_count": 11
        },
        {
          "output_type": "display_data",
          "data": {
            "image/png": "[encoded data removed]",
            "text/plain": [
              "<Figure size 432x288 with 2 Axes>"
            ]
          },
          "metadata": {
            "tags": [],
            "needs_background": "light"
          }
        }
      ]
    },
    {
      "cell_type": "code",
      "metadata": {
        "id": "RnNmJ6N1crxc",
        "colab": {
          "base_uri": "https://localhost:8080/"
        },
        "outputId": "65f6342a-de00-493a-bca3-f65609291b3e"
      },
      "source": [
        "# just for checking\n",
        "print(type(train_labels), train_labels[:10])\n",
        "train_images.shape, train_labels.shape"
      ],
      "execution_count": 12,
      "outputs": [
        {
          "output_type": "stream",
          "text": [
            "<class 'numpy.ndarray'> [5 0 4 1 9 2 1 3 1 4]\n"
          ],
          "name": "stdout"
        },
        {
          "output_type": "execute_result",
          "data": {
            "text/plain": [
              "((60000, 28, 28), (60000,))"
            ]
          },
          "metadata": {
            "tags": []
          },
          "execution_count": 12
        }
      ]
    },
    {
      "cell_type": "code",
      "metadata": {
        "id": "EafiutHbqni_"
      },
      "source": [
        "train_images = train_images.reshape((60000, 28, 28, 1))\n",
        "train_images = train_images.astype('float32')/255         # scaling\n",
        "\n",
        "test_images = test_images.reshape((10000, 28, 28, 1))\n",
        "test_images = test_images.astype('float32')/255\n",
        "\n",
        "train_labels = to_categorical(train_labels)   # one-hot encoding\n",
        "test_labels = to_categorical(test_labels)"
      ],
      "execution_count": 13,
      "outputs": []
    },
    {
      "cell_type": "code",
      "metadata": {
        "id": "BoHSMVqj_Kzf",
        "colab": {
          "base_uri": "https://localhost:8080/"
        },
        "outputId": "ba07f8a4-9b33-4eac-e2b3-fff430fb273c"
      },
      "source": [
        "train_images.shape, train_labels.shape"
      ],
      "execution_count": 14,
      "outputs": [
        {
          "output_type": "execute_result",
          "data": {
            "text/plain": [
              "((60000, 28, 28, 1), (60000, 10))"
            ]
          },
          "metadata": {
            "tags": []
          },
          "execution_count": 14
        }
      ]
    },
    {
      "cell_type": "code",
      "metadata": {
        "id": "m9XjypZxcryK",
        "colab": {
          "base_uri": "https://localhost:8080/"
        },
        "outputId": "e72694fb-53a5-4677-905f-1298fae53fd0"
      },
      "source": [
        "print(train_labels[:10], type(train_labels), )"
      ],
      "execution_count": 16,
      "outputs": [
        {
          "output_type": "stream",
          "text": [
            "[[0. 0. 0. 0. 0. 1. 0. 0. 0. 0.]\n",
            " [1. 0. 0. 0. 0. 0. 0. 0. 0. 0.]\n",
            " [0. 0. 0. 0. 1. 0. 0. 0. 0. 0.]\n",
            " [0. 1. 0. 0. 0. 0. 0. 0. 0. 0.]\n",
            " [0. 0. 0. 0. 0. 0. 0. 0. 0. 1.]\n",
            " [0. 0. 1. 0. 0. 0. 0. 0. 0. 0.]\n",
            " [0. 1. 0. 0. 0. 0. 0. 0. 0. 0.]\n",
            " [0. 0. 0. 1. 0. 0. 0. 0. 0. 0.]\n",
            " [0. 1. 0. 0. 0. 0. 0. 0. 0. 0.]\n",
            " [0. 0. 0. 0. 1. 0. 0. 0. 0. 0.]] <class 'numpy.ndarray'>\n"
          ],
          "name": "stdout"
        }
      ]
    },
    {
      "cell_type": "markdown",
      "metadata": {
        "id": "Czew2EJub6Ja"
      },
      "source": [
        "## MLP(multi-layer perceptron) 로 구현(케라스 사용)"
      ]
    },
    {
      "cell_type": "markdown",
      "metadata": {
        "id": "CC-A1BKOGUOL"
      },
      "source": [
        "### Single flattened layer"
      ]
    },
    {
      "cell_type": "code",
      "metadata": {
        "id": "Gu8Z6K8eHzgn"
      },
      "source": [
        "(train_images, train_labels), (test_images, test_labels) = mnist.load_data()\r\n",
        "train_images = train_images.reshape((60000, 28*28*1))\r\n",
        "train_images = train_images.astype('float32')/255         # scaling\r\n",
        "\r\n",
        "test_images = test_images.reshape((10000, 28*28*1))\r\n",
        "test_images = test_images.astype('float32')/255\r\n",
        "\r\n",
        "train_labels = to_categorical(train_labels)   # one-hot encoding\r\n",
        "test_labels = to_categorical(test_labels)"
      ],
      "execution_count": 48,
      "outputs": []
    },
    {
      "cell_type": "code",
      "metadata": {
        "colab": {
          "base_uri": "https://localhost:8080/"
        },
        "id": "cTsZpuk1FuEc",
        "outputId": "e53d9e2b-3fce-4b97-aeaa-c9dd36c457de"
      },
      "source": [
        "# a single MLP layer\r\n",
        "from keras import layers\r\n",
        "from keras import models\r\n",
        "model = models.Sequential()\r\n",
        "model.add(layers.Dense(10, activation='softmax', input_shape = (28*28*1, )))\r\n",
        "model.summary()\r\n",
        "\r\n",
        "model.compile(optimizer= 'rmsprop',             # set up hyperparamers\r\n",
        "             loss = 'categorical_crossentropy',\r\n",
        "             metrics = ['accuracy'])\r\n",
        "\r\n",
        "model.fit(train_images, train_labels, epochs=30, batch_size=256, verbose=2)\r\n",
        "\r\n",
        "test_loss, test_acc = model.evaluate(test_images, test_labels) # default batch size=32\r\n",
        "print('test_acc = ',test_acc)"
      ],
      "execution_count": 37,
      "outputs": [
        {
          "output_type": "stream",
          "text": [
            "Model: \"sequential_8\"\n",
            "_________________________________________________________________\n",
            "Layer (type)                 Output Shape              Param #   \n",
            "=================================================================\n",
            "dense_20 (Dense)             (None, 10)                7850      \n",
            "=================================================================\n",
            "Total params: 7,850\n",
            "Trainable params: 7,850\n",
            "Non-trainable params: 0\n",
            "_________________________________________________________________\n",
            "Epoch 1/30\n",
            "235/235 - 1s - loss: 0.7574 - accuracy: 0.8211\n",
            "Epoch 2/30\n",
            "235/235 - 0s - loss: 0.3693 - accuracy: 0.8992\n",
            "Epoch 3/30\n",
            "235/235 - 0s - loss: 0.3229 - accuracy: 0.9104\n",
            "Epoch 4/30\n",
            "235/235 - 0s - loss: 0.3035 - accuracy: 0.9155\n",
            "Epoch 5/30\n",
            "235/235 - 0s - loss: 0.2921 - accuracy: 0.9188\n",
            "Epoch 6/30\n",
            "235/235 - 0s - loss: 0.2842 - accuracy: 0.9205\n",
            "Epoch 7/30\n",
            "235/235 - 0s - loss: 0.2787 - accuracy: 0.9227\n",
            "Epoch 8/30\n",
            "235/235 - 0s - loss: 0.2743 - accuracy: 0.9232\n",
            "Epoch 9/30\n",
            "235/235 - 0s - loss: 0.2708 - accuracy: 0.9247\n",
            "Epoch 10/30\n",
            "235/235 - 0s - loss: 0.2681 - accuracy: 0.9252\n",
            "Epoch 11/30\n",
            "235/235 - 0s - loss: 0.2656 - accuracy: 0.9263\n",
            "Epoch 12/30\n",
            "235/235 - 1s - loss: 0.2636 - accuracy: 0.9270\n",
            "Epoch 13/30\n",
            "235/235 - 0s - loss: 0.2614 - accuracy: 0.9277\n",
            "Epoch 14/30\n",
            "235/235 - 0s - loss: 0.2599 - accuracy: 0.9282\n",
            "Epoch 15/30\n",
            "235/235 - 0s - loss: 0.2585 - accuracy: 0.9288\n",
            "Epoch 16/30\n",
            "235/235 - 1s - loss: 0.2570 - accuracy: 0.9288\n",
            "Epoch 17/30\n",
            "235/235 - 0s - loss: 0.2560 - accuracy: 0.9296\n",
            "Epoch 18/30\n",
            "235/235 - 1s - loss: 0.2551 - accuracy: 0.9301\n",
            "Epoch 19/30\n",
            "235/235 - 1s - loss: 0.2540 - accuracy: 0.9302\n",
            "Epoch 20/30\n",
            "235/235 - 0s - loss: 0.2529 - accuracy: 0.9310\n",
            "Epoch 21/30\n",
            "235/235 - 0s - loss: 0.2522 - accuracy: 0.9308\n",
            "Epoch 22/30\n",
            "235/235 - 1s - loss: 0.2513 - accuracy: 0.9313\n",
            "Epoch 23/30\n",
            "235/235 - 0s - loss: 0.2507 - accuracy: 0.9317\n",
            "Epoch 24/30\n",
            "235/235 - 0s - loss: 0.2498 - accuracy: 0.9317\n",
            "Epoch 25/30\n",
            "235/235 - 0s - loss: 0.2492 - accuracy: 0.9318\n",
            "Epoch 26/30\n",
            "235/235 - 0s - loss: 0.2487 - accuracy: 0.9322\n",
            "Epoch 27/30\n",
            "235/235 - 0s - loss: 0.2480 - accuracy: 0.9325\n",
            "Epoch 28/30\n",
            "235/235 - 1s - loss: 0.2474 - accuracy: 0.9328\n",
            "Epoch 29/30\n",
            "235/235 - 0s - loss: 0.2469 - accuracy: 0.9331\n",
            "Epoch 30/30\n",
            "235/235 - 1s - loss: 0.2464 - accuracy: 0.9334\n",
            "313/313 [==============================] - 1s 2ms/step - loss: 0.2679 - accuracy: 0.9268\n",
            "test_acc =  0.926800012588501\n"
          ],
          "name": "stdout"
        }
      ]
    },
    {
      "cell_type": "markdown",
      "metadata": {
        "id": "g5LUPZunF5Q8"
      },
      "source": [
        "## MLP with hidden layers"
      ]
    },
    {
      "cell_type": "code",
      "metadata": {
        "id": "4tlDJdu8b5XD",
        "colab": {
          "base_uri": "https://localhost:8080/"
        },
        "outputId": "d333d478-bd03-4910-c513-759bf7c0c044"
      },
      "source": [
        "from keras import layers\n",
        "from keras import models\n",
        "\n",
        "model = models.Sequential()\n",
        "model.add(layers.Dense(100, activation='relu', input_shape = (28*28*1, ))) # fully-connected\n",
        "model.add(layers.Dense(100, activation='relu'))\n",
        "model.add(layers.Flatten())\n",
        "model.add(layers.Dense(10, activation='softmax'))\n",
        "model.summary()"
      ],
      "execution_count": 49,
      "outputs": [
        {
          "output_type": "stream",
          "text": [
            "Model: \"sequential_11\"\n",
            "_________________________________________________________________\n",
            "Layer (type)                 Output Shape              Param #   \n",
            "=================================================================\n",
            "dense_27 (Dense)             (None, 100)               78500     \n",
            "_________________________________________________________________\n",
            "dense_28 (Dense)             (None, 100)               10100     \n",
            "_________________________________________________________________\n",
            "flatten_8 (Flatten)          (None, 100)               0         \n",
            "_________________________________________________________________\n",
            "dense_29 (Dense)             (None, 10)                1010      \n",
            "=================================================================\n",
            "Total params: 89,610\n",
            "Trainable params: 89,610\n",
            "Non-trainable params: 0\n",
            "_________________________________________________________________\n"
          ],
          "name": "stdout"
        }
      ]
    },
    {
      "cell_type": "code",
      "metadata": {
        "id": "BxhtwGwIcryz",
        "colab": {
          "base_uri": "https://localhost:8080/"
        },
        "outputId": "3bf331ca-57b3-41ea-a99d-36c924f7dfb1"
      },
      "source": [
        "print(model.input)\n",
        "print(model.output)\n",
        "print(model.input_shape)\n",
        "print(model.output_shape)\n",
        "model.input.shape"
      ],
      "execution_count": 50,
      "outputs": [
        {
          "output_type": "stream",
          "text": [
            "KerasTensor(type_spec=TensorSpec(shape=(None, 784), dtype=tf.float32, name='dense_27_input'), name='dense_27_input', description=\"created by layer 'dense_27_input'\")\n",
            "KerasTensor(type_spec=TensorSpec(shape=(None, 10), dtype=tf.float32, name=None), name='dense_29/Softmax:0', description=\"created by layer 'dense_29'\")\n",
            "(None, 784)\n",
            "(None, 10)\n"
          ],
          "name": "stdout"
        },
        {
          "output_type": "execute_result",
          "data": {
            "text/plain": [
              "TensorShape([None, 784])"
            ]
          },
          "metadata": {
            "tags": []
          },
          "execution_count": 50
        }
      ]
    },
    {
      "cell_type": "code",
      "metadata": {
        "id": "jiv81CMBcf88"
      },
      "source": [
        "model.compile(optimizer= 'rmsprop',             # set up hyperparamers\n",
        "             loss = 'categorical_crossentropy',\n",
        "             metrics = ['accuracy'])"
      ],
      "execution_count": 51,
      "outputs": []
    },
    {
      "cell_type": "code",
      "metadata": {
        "id": "oV47F7rsb5EY",
        "colab": {
          "base_uri": "https://localhost:8080/"
        },
        "outputId": "b2d9a6d1-a7a6-4acc-aff3-e35565047439"
      },
      "source": [
        "model.fit(train_images, train_labels, epochs=30, batch_size=200) "
      ],
      "execution_count": 52,
      "outputs": [
        {
          "output_type": "stream",
          "text": [
            "Epoch 1/30\n",
            "300/300 [==============================] - 1s 2ms/step - loss: 0.6203 - accuracy: 0.8295\n",
            "Epoch 2/30\n",
            "300/300 [==============================] - 1s 3ms/step - loss: 0.1759 - accuracy: 0.9464\n",
            "Epoch 3/30\n",
            "300/300 [==============================] - 1s 3ms/step - loss: 0.1170 - accuracy: 0.9656\n",
            "Epoch 4/30\n",
            "300/300 [==============================] - 1s 2ms/step - loss: 0.0851 - accuracy: 0.9735\n",
            "Epoch 5/30\n",
            "300/300 [==============================] - 1s 2ms/step - loss: 0.0697 - accuracy: 0.9782\n",
            "Epoch 6/30\n",
            "300/300 [==============================] - 1s 3ms/step - loss: 0.0563 - accuracy: 0.9818\n",
            "Epoch 7/30\n",
            "300/300 [==============================] - 1s 2ms/step - loss: 0.0459 - accuracy: 0.9856\n",
            "Epoch 8/30\n",
            "300/300 [==============================] - 1s 3ms/step - loss: 0.0399 - accuracy: 0.9886\n",
            "Epoch 9/30\n",
            "300/300 [==============================] - 1s 2ms/step - loss: 0.0313 - accuracy: 0.9905\n",
            "Epoch 10/30\n",
            "300/300 [==============================] - 1s 3ms/step - loss: 0.0281 - accuracy: 0.9920\n",
            "Epoch 11/30\n",
            "300/300 [==============================] - 1s 3ms/step - loss: 0.0235 - accuracy: 0.9928\n",
            "Epoch 12/30\n",
            "300/300 [==============================] - 1s 3ms/step - loss: 0.0215 - accuracy: 0.9929\n",
            "Epoch 13/30\n",
            "300/300 [==============================] - 1s 2ms/step - loss: 0.0183 - accuracy: 0.9946\n",
            "Epoch 14/30\n",
            "300/300 [==============================] - 1s 2ms/step - loss: 0.0145 - accuracy: 0.9955\n",
            "Epoch 15/30\n",
            "300/300 [==============================] - 1s 2ms/step - loss: 0.0135 - accuracy: 0.9957\n",
            "Epoch 16/30\n",
            "300/300 [==============================] - 1s 2ms/step - loss: 0.0114 - accuracy: 0.9965\n",
            "Epoch 17/30\n",
            "300/300 [==============================] - 1s 3ms/step - loss: 0.0089 - accuracy: 0.9974\n",
            "Epoch 18/30\n",
            "300/300 [==============================] - 1s 2ms/step - loss: 0.0079 - accuracy: 0.9977\n",
            "Epoch 19/30\n",
            "300/300 [==============================] - 1s 3ms/step - loss: 0.0073 - accuracy: 0.9976\n",
            "Epoch 20/30\n",
            "300/300 [==============================] - 1s 3ms/step - loss: 0.0061 - accuracy: 0.9981\n",
            "Epoch 21/30\n",
            "300/300 [==============================] - 1s 2ms/step - loss: 0.0057 - accuracy: 0.9986\n",
            "Epoch 22/30\n",
            "300/300 [==============================] - 1s 2ms/step - loss: 0.0047 - accuracy: 0.9986\n",
            "Epoch 23/30\n",
            "300/300 [==============================] - 1s 3ms/step - loss: 0.0052 - accuracy: 0.9983\n",
            "Epoch 24/30\n",
            "300/300 [==============================] - 1s 3ms/step - loss: 0.0034 - accuracy: 0.9992\n",
            "Epoch 25/30\n",
            "300/300 [==============================] - 1s 3ms/step - loss: 0.0031 - accuracy: 0.9990\n",
            "Epoch 26/30\n",
            "300/300 [==============================] - 1s 3ms/step - loss: 0.0036 - accuracy: 0.9989\n",
            "Epoch 27/30\n",
            "300/300 [==============================] - 1s 3ms/step - loss: 0.0028 - accuracy: 0.9991\n",
            "Epoch 28/30\n",
            "300/300 [==============================] - 1s 3ms/step - loss: 0.0029 - accuracy: 0.9990\n",
            "Epoch 29/30\n",
            "300/300 [==============================] - 1s 3ms/step - loss: 0.0022 - accuracy: 0.9994\n",
            "Epoch 30/30\n",
            "300/300 [==============================] - 1s 3ms/step - loss: 0.0027 - accuracy: 0.9991\n"
          ],
          "name": "stdout"
        },
        {
          "output_type": "execute_result",
          "data": {
            "text/plain": [
              "<tensorflow.python.keras.callbacks.History at 0x7f4b62265470>"
            ]
          },
          "metadata": {
            "tags": []
          },
          "execution_count": 52
        }
      ]
    },
    {
      "cell_type": "code",
      "metadata": {
        "id": "JWGwyDRBdNqL",
        "colab": {
          "base_uri": "https://localhost:8080/"
        },
        "outputId": "074211e1-2507-4c5b-db41-71b82ace6c81"
      },
      "source": [
        "test_loss, test_acc = model.evaluate(test_images, test_labels) # default batch size=32\n",
        "print('test_acc = ',test_acc)"
      ],
      "execution_count": 53,
      "outputs": [
        {
          "output_type": "stream",
          "text": [
            "313/313 [==============================] - 1s 2ms/step - loss: 0.1322 - accuracy: 0.9792\n",
            "test_acc =  0.979200005531311\n"
          ],
          "name": "stdout"
        }
      ]
    },
    {
      "cell_type": "markdown",
      "metadata": {
        "id": "44tLYKCwtYc-"
      },
      "source": [
        "## CNN 모델 생성"
      ]
    },
    {
      "cell_type": "code",
      "metadata": {
        "id": "GtGbjQ2Xcrzc"
      },
      "source": [
        "# keras.layers.Conv2D(filters, kernel_size,...)\n",
        "# - filters: the dimensionality of the output space (the number of output filters).\n",
        "# - parameter 수: 입력채널수 X 필터폭 X 필터높이 X 출력채널수 \n",
        "# - bias 도 고려"
      ],
      "execution_count": null,
      "outputs": []
    },
    {
      "cell_type": "code",
      "metadata": {
        "id": "8nuyNeduXF08"
      },
      "source": [
        "(train_images, train_labels), (test_images, test_labels) = mnist.load_data()\r\n",
        "train_images = train_images.reshape(60000, 28, 28, 1)\r\n",
        "train_images = train_images.astype('float32')/255         # scaling\r\n",
        "\r\n",
        "test_images = test_images.reshape(10000, 28, 28, 1)\r\n",
        "test_images = test_images.astype('float32')/255\r\n",
        "\r\n",
        "train_labels = to_categorical(train_labels)   # one-hot encoding\r\n",
        "test_labels = to_categorical(test_labels)"
      ],
      "execution_count": 54,
      "outputs": []
    },
    {
      "cell_type": "code",
      "metadata": {
        "id": "ZF7JkSQvrYAj",
        "colab": {
          "base_uri": "https://localhost:8080/"
        },
        "outputId": "353063ed-6ac6-47d5-c496-4a798c5cc7a6"
      },
      "source": [
        "from keras import layers\n",
        "from keras import models\n",
        "\n",
        "model = models.Sequential()\n",
        "\n",
        "model.add(layers.Conv2D(32, (3,3), activation='relu', input_shape = (28, 28, 1)))\n",
        "model.add(layers.MaxPooling2D((2,2)))\n",
        "model.add(layers.Conv2D(64, (3,3), activation='relu'))\n",
        "model.add(layers.MaxPooling2D((2,2)))\n",
        "model.add(layers.Conv2D(64, (3,3), activation='relu'))\n",
        "# print(model.output_shape)\n",
        "\n",
        "model.add(layers.Flatten())\n",
        "model.add(layers.Dense(10, activation='softmax'))\n",
        "print(model.output_shape)\n",
        "\n",
        "model.summary()   "
      ],
      "execution_count": 55,
      "outputs": [
        {
          "output_type": "stream",
          "text": [
            "(None, 10)\n",
            "Model: \"sequential_12\"\n",
            "_________________________________________________________________\n",
            "Layer (type)                 Output Shape              Param #   \n",
            "=================================================================\n",
            "conv2d (Conv2D)              (None, 26, 26, 32)        320       \n",
            "_________________________________________________________________\n",
            "max_pooling2d (MaxPooling2D) (None, 13, 13, 32)        0         \n",
            "_________________________________________________________________\n",
            "conv2d_1 (Conv2D)            (None, 11, 11, 64)        18496     \n",
            "_________________________________________________________________\n",
            "max_pooling2d_1 (MaxPooling2 (None, 5, 5, 64)          0         \n",
            "_________________________________________________________________\n",
            "conv2d_2 (Conv2D)            (None, 3, 3, 64)          36928     \n",
            "_________________________________________________________________\n",
            "flatten_9 (Flatten)          (None, 576)               0         \n",
            "_________________________________________________________________\n",
            "dense_30 (Dense)             (None, 10)                5770      \n",
            "=================================================================\n",
            "Total params: 61,514\n",
            "Trainable params: 61,514\n",
            "Non-trainable params: 0\n",
            "_________________________________________________________________\n"
          ],
          "name": "stdout"
        }
      ]
    },
    {
      "cell_type": "code",
      "metadata": {
        "id": "SM-4br69crzu"
      },
      "source": [
        "# number of parameters\n",
        "# conv2d_1 : 3*3*1*32 + 32 = 320\n",
        "# conv2d_2 : 3*3*32*64 + 64 = 18496\n",
        "# conv2d_3 : 3*3*64*64 + 64 = 36928\n",
        "# dense_6 : 3*3*64*10 + 10 = 5770"
      ],
      "execution_count": 56,
      "outputs": []
    },
    {
      "cell_type": "markdown",
      "metadata": {
        "id": "mUoOEdN0ujJj"
      },
      "source": [
        "## 훈련"
      ]
    },
    {
      "cell_type": "code",
      "metadata": {
        "id": "_ikkdb8qsx6d"
      },
      "source": [
        "model.compile(optimizer= 'rmsprop',\n",
        "             loss = 'categorical_crossentropy',\n",
        "             metrics = ['accuracy'])"
      ],
      "execution_count": 57,
      "outputs": []
    },
    {
      "cell_type": "code",
      "metadata": {
        "id": "FWsfipcXu20x",
        "colab": {
          "base_uri": "https://localhost:8080/"
        },
        "outputId": "9efde754-868c-4dde-b2f7-7ee0316f4f5b"
      },
      "source": [
        "model.fit(train_images, train_labels, epochs=3, batch_size=64)"
      ],
      "execution_count": 58,
      "outputs": [
        {
          "output_type": "stream",
          "text": [
            "Epoch 1/3\n",
            "938/938 [==============================] - 9s 3ms/step - loss: 0.3911 - accuracy: 0.8766\n",
            "Epoch 2/3\n",
            "938/938 [==============================] - 3s 4ms/step - loss: 0.0514 - accuracy: 0.9840\n",
            "Epoch 3/3\n",
            "938/938 [==============================] - 3s 4ms/step - loss: 0.0361 - accuracy: 0.9896\n"
          ],
          "name": "stdout"
        },
        {
          "output_type": "execute_result",
          "data": {
            "text/plain": [
              "<tensorflow.python.keras.callbacks.History at 0x7f4b6207d2e8>"
            ]
          },
          "metadata": {
            "tags": []
          },
          "execution_count": 58
        }
      ]
    },
    {
      "cell_type": "code",
      "metadata": {
        "id": "H4MhJEoUvCm0",
        "colab": {
          "base_uri": "https://localhost:8080/"
        },
        "outputId": "c9e6aa7b-7e51-46b9-b4e3-e2d65c146674"
      },
      "source": [
        "test_loss, test_acc = model.evaluate(test_images, test_labels)\n",
        "print('test_acc = ',test_acc)"
      ],
      "execution_count": 59,
      "outputs": [
        {
          "output_type": "stream",
          "text": [
            "313/313 [==============================] - 1s 2ms/step - loss: 0.0391 - accuracy: 0.9862\n",
            "test_acc =  0.9861999750137329\n"
          ],
          "name": "stdout"
        }
      ]
    },
    {
      "cell_type": "code",
      "metadata": {
        "id": "HZrE6QuDUC2V"
      },
      "source": [
        ""
      ],
      "execution_count": null,
      "outputs": []
    }
  ]
}