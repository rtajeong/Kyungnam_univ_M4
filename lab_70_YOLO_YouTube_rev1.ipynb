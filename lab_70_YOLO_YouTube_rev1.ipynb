{
  "nbformat": 4,
  "nbformat_minor": 0,
  "metadata": {
    "accelerator": "GPU",
    "colab": {
      "name": "lab_70_YOLO_YouTube_rev1.ipynb",
      "provenance": [],
      "collapsed_sections": [],
      "toc_visible": true,
      "include_colab_link": true
    },
    "kernelspec": {
      "display_name": "Python 3",
      "name": "python3"
    }
  },
  "cells": [
    {
      "cell_type": "markdown",
      "metadata": {
        "id": "view-in-github",
        "colab_type": "text"
      },
      "source": [
        "<a href=\"https://colab.research.google.com/github/rtajeong/Kyungnam_univ_M4/blob/main/lab_70_YOLO_YouTube_rev1.ipynb\" target=\"_parent\"><img src=\"https://colab.research.google.com/assets/colab-badge.svg\" alt=\"Open In Colab\"/></a>"
      ]
    },
    {
      "cell_type": "markdown",
      "metadata": {
        "id": "89cyX7xUGq97"
      },
      "source": [
        "\n",
        "# 코랩에서 임의의 유튜브 동영상 객체 검출\n",
        "- YOLO 사용\n",
        "- GPU 설정해야 함\n",
        "\n",
        "\n",
        " \n"
      ]
    },
    {
      "cell_type": "code",
      "metadata": {
        "colab": {
          "base_uri": "https://localhost:8080/"
        },
        "id": "oLvc9TcaVwck",
        "outputId": "245608f0-a4a8-478c-e63d-402dd13fd153"
      },
      "source": [
        "!nvidia-smi   # monitor GPU states"
      ],
      "execution_count": 1,
      "outputs": [
        {
          "output_type": "stream",
          "text": [
            "Sun Jan 24 05:04:48 2021       \n",
            "+-----------------------------------------------------------------------------+\n",
            "| NVIDIA-SMI 460.32.03    Driver Version: 418.67       CUDA Version: 10.1     |\n",
            "|-------------------------------+----------------------+----------------------+\n",
            "| GPU  Name        Persistence-M| Bus-Id        Disp.A | Volatile Uncorr. ECC |\n",
            "| Fan  Temp  Perf  Pwr:Usage/Cap|         Memory-Usage | GPU-Util  Compute M. |\n",
            "|                               |                      |               MIG M. |\n",
            "|===============================+======================+======================|\n",
            "|   0  Tesla T4            Off  | 00000000:00:04.0 Off |                    0 |\n",
            "| N/A   51C    P8    10W /  70W |      0MiB / 15079MiB |      0%      Default |\n",
            "|                               |                      |                 ERR! |\n",
            "+-------------------------------+----------------------+----------------------+\n",
            "                                                                               \n",
            "+-----------------------------------------------------------------------------+\n",
            "| Processes:                                                                  |\n",
            "|  GPU   GI   CI        PID   Type   Process name                  GPU Memory |\n",
            "|        ID   ID                                                   Usage      |\n",
            "|=============================================================================|\n",
            "|  No running processes found                                                 |\n",
            "+-----------------------------------------------------------------------------+\n"
          ],
          "name": "stdout"
        }
      ]
    },
    {
      "cell_type": "markdown",
      "metadata": {
        "id": "lg_rkL-AhKlk"
      },
      "source": [
        "- select tensorflow 1.x version because TFNet uses tensorflow 1.15"
      ]
    },
    {
      "cell_type": "code",
      "metadata": {
        "colab": {
          "base_uri": "https://localhost:8080/"
        },
        "id": "wppJ8JEehJ2l",
        "outputId": "3744cf41-d75c-4abc-b48f-59d480c59718"
      },
      "source": [
        "%tensorflow_version 1.x\n",
        "import tensorflow as tf\n",
        "print(tf.__version__)"
      ],
      "execution_count": 2,
      "outputs": [
        {
          "output_type": "stream",
          "text": [
            "TensorFlow 1.x selected.\n",
            "1.15.2\n"
          ],
          "name": "stdout"
        }
      ]
    },
    {
      "cell_type": "markdown",
      "metadata": {
        "id": "GRtm-HL7hPWN"
      },
      "source": [
        "## Install pytube\n",
        "- pytube is a light-weight pythonic dependency-free library (and command-line utility)for downloading YouTube videos."
      ]
    },
    {
      "cell_type": "code",
      "metadata": {
        "colab": {
          "base_uri": "https://localhost:8080/"
        },
        "id": "r1SF0QS0P-aG",
        "outputId": "3025e6e5-2767-4f45-d12b-b23e5dc55c94"
      },
      "source": [
        "!pip install pytube\r\n",
        "# get the source code\r\n",
        "!git clone git://github.com/nficano/pytube.git \r\n",
        "%cd pytube\r\n",
        "!pip install ."
      ],
      "execution_count": 3,
      "outputs": [
        {
          "output_type": "stream",
          "text": [
            "Collecting pytube\n",
            "\u001b[?25l  Downloading https://files.pythonhosted.org/packages/3c/1d/013b6498ecaa876d0d9722698f96faa4830266b306cd18c12b847bd10291/pytube-10.4.1-py3-none-any.whl (42kB)\n",
            "\r\u001b[K     |███████▋                        | 10kB 19.6MB/s eta 0:00:01\r\u001b[K     |███████████████▎                | 20kB 23.5MB/s eta 0:00:01\r\u001b[K     |███████████████████████         | 30kB 26.0MB/s eta 0:00:01\r\u001b[K     |██████████████████████████████▌ | 40kB 28.0MB/s eta 0:00:01\r\u001b[K     |████████████████████████████████| 51kB 8.3MB/s \n",
            "\u001b[?25hRequirement already satisfied: typing-extensions in /usr/local/lib/python3.6/dist-packages (from pytube) (3.7.4.3)\n",
            "Installing collected packages: pytube\n",
            "Successfully installed pytube-10.4.1\n",
            "Cloning into 'pytube'...\n",
            "remote: Enumerating objects: 26, done.\u001b[K\n",
            "remote: Counting objects: 100% (26/26), done.\u001b[K\n",
            "remote: Compressing objects: 100% (25/25), done.\u001b[K\n",
            "remote: Total 6189 (delta 11), reused 2 (delta 0), pack-reused 6163\u001b[K\n",
            "Receiving objects: 100% (6189/6189), 9.86 MiB | 40.54 MiB/s, done.\n",
            "Resolving deltas: 100% (4149/4149), done.\n",
            "/content/pytube\n",
            "Processing /content/pytube\n",
            "Requirement already satisfied: typing_extensions in /usr/local/lib/python3.6/dist-packages (from pytube==10.4.1) (3.7.4.3)\n",
            "Building wheels for collected packages: pytube\n",
            "  Building wheel for pytube (setup.py) ... \u001b[?25l\u001b[?25hdone\n",
            "  Created wheel for pytube: filename=pytube-10.4.1-cp36-none-any.whl size=42946 sha256=c968a2b364f093f0596d7e0035f10024606fb906c43a4f0b106d3bfb07f43606\n",
            "  Stored in directory: /tmp/pip-ephem-wheel-cache-ir3uzwjt/wheels/2d/81/83/39615f1d2b77a48d46933000dbafb4b62158eac58310d63062\n",
            "Successfully built pytube\n",
            "Installing collected packages: pytube\n",
            "  Found existing installation: pytube 10.4.1\n",
            "    Uninstalling pytube-10.4.1:\n",
            "      Successfully uninstalled pytube-10.4.1\n",
            "Successfully installed pytube-10.4.1\n"
          ],
          "name": "stdout"
        }
      ]
    },
    {
      "cell_type": "code",
      "metadata": {
        "colab": {
          "base_uri": "https://localhost:8080/"
        },
        "id": "G4ztS0KcQP5D",
        "outputId": "70b3d5e4-a8a8-44f6-f904-f3029bfb5e79"
      },
      "source": [
        "!pip install pydrive\r\n",
        "!pip install Cython\r\n",
        "!pip install PyDrive"
      ],
      "execution_count": 4,
      "outputs": [
        {
          "output_type": "stream",
          "text": [
            "Requirement already satisfied: pydrive in /usr/local/lib/python3.6/dist-packages (1.3.1)\n",
            "Requirement already satisfied: PyYAML>=3.0 in /usr/local/lib/python3.6/dist-packages (from pydrive) (3.13)\n",
            "Requirement already satisfied: google-api-python-client>=1.2 in /usr/local/lib/python3.6/dist-packages (from pydrive) (1.7.12)\n",
            "Requirement already satisfied: oauth2client>=4.0.0 in /usr/local/lib/python3.6/dist-packages (from pydrive) (4.1.3)\n",
            "Requirement already satisfied: google-auth-httplib2>=0.0.3 in /usr/local/lib/python3.6/dist-packages (from google-api-python-client>=1.2->pydrive) (0.0.4)\n",
            "Requirement already satisfied: uritemplate<4dev,>=3.0.0 in /usr/local/lib/python3.6/dist-packages (from google-api-python-client>=1.2->pydrive) (3.0.1)\n",
            "Requirement already satisfied: google-auth>=1.4.1 in /usr/local/lib/python3.6/dist-packages (from google-api-python-client>=1.2->pydrive) (1.17.2)\n",
            "Requirement already satisfied: httplib2<1dev,>=0.17.0 in /usr/local/lib/python3.6/dist-packages (from google-api-python-client>=1.2->pydrive) (0.17.4)\n",
            "Requirement already satisfied: six<2dev,>=1.6.1 in /usr/local/lib/python3.6/dist-packages (from google-api-python-client>=1.2->pydrive) (1.15.0)\n",
            "Requirement already satisfied: pyasn1-modules>=0.0.5 in /usr/local/lib/python3.6/dist-packages (from oauth2client>=4.0.0->pydrive) (0.2.8)\n",
            "Requirement already satisfied: pyasn1>=0.1.7 in /usr/local/lib/python3.6/dist-packages (from oauth2client>=4.0.0->pydrive) (0.4.8)\n",
            "Requirement already satisfied: rsa>=3.1.4 in /usr/local/lib/python3.6/dist-packages (from oauth2client>=4.0.0->pydrive) (4.6)\n",
            "Requirement already satisfied: cachetools<5.0,>=2.0.0 in /usr/local/lib/python3.6/dist-packages (from google-auth>=1.4.1->google-api-python-client>=1.2->pydrive) (4.2.0)\n",
            "Requirement already satisfied: setuptools>=40.3.0 in /usr/local/lib/python3.6/dist-packages (from google-auth>=1.4.1->google-api-python-client>=1.2->pydrive) (51.3.3)\n",
            "Requirement already satisfied: Cython in /usr/local/lib/python3.6/dist-packages (0.29.21)\n",
            "Requirement already satisfied: PyDrive in /usr/local/lib/python3.6/dist-packages (1.3.1)\n",
            "Requirement already satisfied: google-api-python-client>=1.2 in /usr/local/lib/python3.6/dist-packages (from PyDrive) (1.7.12)\n",
            "Requirement already satisfied: PyYAML>=3.0 in /usr/local/lib/python3.6/dist-packages (from PyDrive) (3.13)\n",
            "Requirement already satisfied: oauth2client>=4.0.0 in /usr/local/lib/python3.6/dist-packages (from PyDrive) (4.1.3)\n",
            "Requirement already satisfied: httplib2<1dev,>=0.17.0 in /usr/local/lib/python3.6/dist-packages (from google-api-python-client>=1.2->PyDrive) (0.17.4)\n",
            "Requirement already satisfied: google-auth>=1.4.1 in /usr/local/lib/python3.6/dist-packages (from google-api-python-client>=1.2->PyDrive) (1.17.2)\n",
            "Requirement already satisfied: uritemplate<4dev,>=3.0.0 in /usr/local/lib/python3.6/dist-packages (from google-api-python-client>=1.2->PyDrive) (3.0.1)\n",
            "Requirement already satisfied: google-auth-httplib2>=0.0.3 in /usr/local/lib/python3.6/dist-packages (from google-api-python-client>=1.2->PyDrive) (0.0.4)\n",
            "Requirement already satisfied: six<2dev,>=1.6.1 in /usr/local/lib/python3.6/dist-packages (from google-api-python-client>=1.2->PyDrive) (1.15.0)\n",
            "Requirement already satisfied: rsa>=3.1.4 in /usr/local/lib/python3.6/dist-packages (from oauth2client>=4.0.0->PyDrive) (4.6)\n",
            "Requirement already satisfied: pyasn1-modules>=0.0.5 in /usr/local/lib/python3.6/dist-packages (from oauth2client>=4.0.0->PyDrive) (0.2.8)\n",
            "Requirement already satisfied: pyasn1>=0.1.7 in /usr/local/lib/python3.6/dist-packages (from oauth2client>=4.0.0->PyDrive) (0.4.8)\n",
            "Requirement already satisfied: setuptools>=40.3.0 in /usr/local/lib/python3.6/dist-packages (from google-auth>=1.4.1->google-api-python-client>=1.2->PyDrive) (51.3.3)\n",
            "Requirement already satisfied: cachetools<5.0,>=2.0.0 in /usr/local/lib/python3.6/dist-packages (from google-auth>=1.4.1->google-api-python-client>=1.2->PyDrive) (4.2.0)\n"
          ],
          "name": "stdout"
        }
      ]
    },
    {
      "cell_type": "code",
      "metadata": {
        "colab": {
          "base_uri": "https://localhost:8080/"
        },
        "id": "o47iKgseYhIB",
        "outputId": "3aac3ce5-8d5d-49fe-e203-c45e93ff2e91"
      },
      "source": [
        "%cd /content\r\n",
        "!git clone https://github.com/thtrieu/darkflow.git"
      ],
      "execution_count": 5,
      "outputs": [
        {
          "output_type": "stream",
          "text": [
            "/content\n",
            "Cloning into 'darkflow'...\n",
            "remote: Enumerating objects: 2713, done.\u001b[K\n",
            "remote: Total 2713 (delta 0), reused 0 (delta 0), pack-reused 2713\u001b[K\n",
            "Receiving objects: 100% (2713/2713), 32.98 MiB | 47.97 MiB/s, done.\n",
            "Resolving deltas: 100% (1762/1762), done.\n"
          ],
          "name": "stdout"
        }
      ]
    },
    {
      "cell_type": "code",
      "metadata": {
        "colab": {
          "base_uri": "https://localhost:8080/"
        },
        "id": "SqOXym1pXTbD",
        "outputId": "fad1e3e8-5404-46bd-91cb-9231941ac442"
      },
      "source": [
        "import os\n",
        "os.chdir('/content/darkflow')\n",
        "!pwd\n",
        "\n",
        "!pip install -e ."
      ],
      "execution_count": 6,
      "outputs": [
        {
          "output_type": "stream",
          "text": [
            "/content/darkflow\n",
            "Obtaining file:///content/darkflow\n",
            "Installing collected packages: darkflow\n",
            "  Running setup.py develop for darkflow\n",
            "Successfully installed darkflow\n"
          ],
          "name": "stdout"
        }
      ]
    },
    {
      "cell_type": "code",
      "metadata": {
        "colab": {
          "base_uri": "https://localhost:8080/"
        },
        "id": "y6hoBreCTKy3",
        "outputId": "f213e8e5-d23a-47cf-c207-d166502f2dd2"
      },
      "source": [
        "!pwd"
      ],
      "execution_count": 7,
      "outputs": [
        {
          "output_type": "stream",
          "text": [
            "/content/darkflow\n"
          ],
          "name": "stdout"
        }
      ]
    },
    {
      "cell_type": "markdown",
      "metadata": {
        "id": "lakqZQs306zC"
      },
      "source": [
        "### 아래 링크에서 가중치를 다운로드 하여 구글 드라이브에 저장한다.\n",
        "\n",
        "- YOLOv2 608x608을 사용한다. \n",
        "- https://pjreddie.com/darknet/yolo/\n",
        "- 마우스 우측 클릭으로 파일 id를 확인한다."
      ]
    },
    {
      "cell_type": "code",
      "metadata": {
        "id": "IinGnI8XsOHz"
      },
      "source": [
        "import pydrive\n",
        "import time\n",
        "from tqdm import tqdm\n",
        "from pydrive.auth import GoogleAuth\n",
        "from pydrive.drive import GoogleDrive\n",
        "from google.colab import auth\n",
        "from google.colab import files\n",
        "from oauth2client.client import GoogleCredentials\n",
        "\n",
        "auth.authenticate_user()\n",
        "gauth = GoogleAuth()\n",
        "gauth.credentials = GoogleCredentials.get_application_default()\n",
        "drive = GoogleDrive(gauth)\n",
        "\n",
        "# load training weights\n",
        "\n",
        "newpath = '/content/darkflow/bin'\n",
        "if not os.path.exists(newpath):\n",
        "  os.makedirs(newpath)\n",
        "\n",
        "download = drive.CreateFile({'id': '1J-GZ6mvhu12j19zZtq9fTbnyJeCgxE0g'}) # insert the file ID here\n",
        "download.GetContentFile('/content/darkflow/bin/yolov2.weights')"
      ],
      "execution_count": 8,
      "outputs": []
    },
    {
      "cell_type": "code",
      "metadata": {
        "id": "9O5BfDZzspgP",
        "colab": {
          "base_uri": "https://localhost:8080/"
        },
        "outputId": "70ba272f-f68f-4f9e-91a0-ce84ad5ee39d"
      },
      "source": [
        "from darkflow.net.build import TFNet\n",
        "import cv2\n",
        "import matplotlib.pyplot as plt"
      ],
      "execution_count": 9,
      "outputs": [
        {
          "output_type": "stream",
          "text": [
            "WARNING:tensorflow:\n",
            "The TensorFlow contrib module will not be included in TensorFlow 2.0.\n",
            "For more information, please see:\n",
            "  * https://github.com/tensorflow/community/blob/master/rfcs/20180907-contrib-sunset.md\n",
            "  * https://github.com/tensorflow/addons\n",
            "  * https://github.com/tensorflow/io (for I/O related ops)\n",
            "If you depend on functionality not listed there, please file an issue.\n",
            "\n",
            "WARNING:tensorflow:From /content/darkflow/darkflow/net/build.py:15: The name tf.train.RMSPropOptimizer is deprecated. Please use tf.compat.v1.train.RMSPropOptimizer instead.\n",
            "\n",
            "WARNING:tensorflow:From /content/darkflow/darkflow/net/build.py:16: The name tf.train.AdadeltaOptimizer is deprecated. Please use tf.compat.v1.train.AdadeltaOptimizer instead.\n",
            "\n",
            "WARNING:tensorflow:From /content/darkflow/darkflow/net/build.py:17: The name tf.train.AdagradOptimizer is deprecated. Please use tf.compat.v1.train.AdagradOptimizer instead.\n",
            "\n",
            "WARNING:tensorflow:From /content/darkflow/darkflow/net/build.py:18: The name tf.train.AdagradDAOptimizer is deprecated. Please use tf.compat.v1.train.AdagradDAOptimizer instead.\n",
            "\n",
            "WARNING:tensorflow:From /content/darkflow/darkflow/net/build.py:19: The name tf.train.MomentumOptimizer is deprecated. Please use tf.compat.v1.train.MomentumOptimizer instead.\n",
            "\n",
            "WARNING:tensorflow:From /content/darkflow/darkflow/net/build.py:20: The name tf.train.AdamOptimizer is deprecated. Please use tf.compat.v1.train.AdamOptimizer instead.\n",
            "\n",
            "WARNING:tensorflow:From /content/darkflow/darkflow/net/build.py:21: The name tf.train.FtrlOptimizer is deprecated. Please use tf.compat.v1.train.FtrlOptimizer instead.\n",
            "\n",
            "WARNING:tensorflow:From /content/darkflow/darkflow/net/build.py:22: The name tf.train.GradientDescentOptimizer is deprecated. Please use tf.compat.v1.train.GradientDescentOptimizer instead.\n",
            "\n"
          ],
          "name": "stdout"
        }
      ]
    },
    {
      "cell_type": "code",
      "metadata": {
        "id": "XNiPoGeM1Vi7"
      },
      "source": [
        "options = {'model': 'cfg/yolo.cfg',\n",
        "           'load': 'bin/yolov2.weights',\n",
        "           'threshold': 0.3,\n",
        "           'gpu' : 1.0\n",
        "          }"
      ],
      "execution_count": 10,
      "outputs": []
    },
    {
      "cell_type": "code",
      "metadata": {
        "colab": {
          "base_uri": "https://localhost:8080/"
        },
        "id": "2lCTKqVo1Z3c",
        "outputId": "edcfd2ab-9109-4e74-a5d3-e01f3150084d"
      },
      "source": [
        "tfnet = TFNet(options)"
      ],
      "execution_count": 11,
      "outputs": [
        {
          "output_type": "stream",
          "text": [
            "Parsing cfg/yolo.cfg\n",
            "Loading bin/yolov2.weights ...\n",
            "Successfully identified 203934260 bytes\n",
            "Finished in 0.01788043975830078s\n",
            "Model has a coco model name, loading coco labels.\n",
            "\n",
            "Building net ...\n",
            "WARNING:tensorflow:From /content/darkflow/darkflow/net/build.py:105: The name tf.placeholder is deprecated. Please use tf.compat.v1.placeholder instead.\n",
            "\n",
            "Source | Train? | Layer description                | Output size\n",
            "-------+--------+----------------------------------+---------------\n",
            "WARNING:tensorflow:From /content/darkflow/darkflow/net/ops/baseop.py:70: The name tf.variable_scope is deprecated. Please use tf.compat.v1.variable_scope instead.\n",
            "\n",
            "WARNING:tensorflow:From /content/darkflow/darkflow/net/ops/baseop.py:71: The name tf.get_variable is deprecated. Please use tf.compat.v1.get_variable instead.\n",
            "\n",
            "WARNING:tensorflow:From /content/darkflow/darkflow/net/ops/baseop.py:84: The name tf.placeholder_with_default is deprecated. Please use tf.compat.v1.placeholder_with_default instead.\n",
            "\n",
            "       |        | input                            | (?, 608, 608, 3)\n",
            " Load  |  Yep!  | conv 3x3p1_1  +bnorm  leaky      | (?, 608, 608, 32)\n",
            "WARNING:tensorflow:From /content/darkflow/darkflow/net/ops/simple.py:106: The name tf.nn.max_pool is deprecated. Please use tf.nn.max_pool2d instead.\n",
            "\n"
          ],
          "name": "stdout"
        },
        {
          "output_type": "stream",
          "text": [
            "/content/darkflow/darkflow/dark/darknet.py:54: UserWarning: ./cfg/yolov2.cfg not found, use cfg/yolo.cfg instead\n",
            "  cfg_path, FLAGS.model))\n"
          ],
          "name": "stderr"
        },
        {
          "output_type": "stream",
          "text": [
            " Load  |  Yep!  | maxp 2x2p0_2                     | (?, 304, 304, 32)\n",
            " Load  |  Yep!  | conv 3x3p1_1  +bnorm  leaky      | (?, 304, 304, 64)\n",
            " Load  |  Yep!  | maxp 2x2p0_2                     | (?, 152, 152, 64)\n",
            " Load  |  Yep!  | conv 3x3p1_1  +bnorm  leaky      | (?, 152, 152, 128)\n",
            " Load  |  Yep!  | conv 1x1p0_1  +bnorm  leaky      | (?, 152, 152, 64)\n",
            " Load  |  Yep!  | conv 3x3p1_1  +bnorm  leaky      | (?, 152, 152, 128)\n",
            " Load  |  Yep!  | maxp 2x2p0_2                     | (?, 76, 76, 128)\n",
            " Load  |  Yep!  | conv 3x3p1_1  +bnorm  leaky      | (?, 76, 76, 256)\n",
            " Load  |  Yep!  | conv 1x1p0_1  +bnorm  leaky      | (?, 76, 76, 128)\n",
            " Load  |  Yep!  | conv 3x3p1_1  +bnorm  leaky      | (?, 76, 76, 256)\n",
            " Load  |  Yep!  | maxp 2x2p0_2                     | (?, 38, 38, 256)\n",
            " Load  |  Yep!  | conv 3x3p1_1  +bnorm  leaky      | (?, 38, 38, 512)\n",
            " Load  |  Yep!  | conv 1x1p0_1  +bnorm  leaky      | (?, 38, 38, 256)\n",
            " Load  |  Yep!  | conv 3x3p1_1  +bnorm  leaky      | (?, 38, 38, 512)\n",
            " Load  |  Yep!  | conv 1x1p0_1  +bnorm  leaky      | (?, 38, 38, 256)\n",
            " Load  |  Yep!  | conv 3x3p1_1  +bnorm  leaky      | (?, 38, 38, 512)\n",
            " Load  |  Yep!  | maxp 2x2p0_2                     | (?, 19, 19, 512)\n",
            " Load  |  Yep!  | conv 3x3p1_1  +bnorm  leaky      | (?, 19, 19, 1024)\n",
            " Load  |  Yep!  | conv 1x1p0_1  +bnorm  leaky      | (?, 19, 19, 512)\n",
            " Load  |  Yep!  | conv 3x3p1_1  +bnorm  leaky      | (?, 19, 19, 1024)\n",
            " Load  |  Yep!  | conv 1x1p0_1  +bnorm  leaky      | (?, 19, 19, 512)\n",
            " Load  |  Yep!  | conv 3x3p1_1  +bnorm  leaky      | (?, 19, 19, 1024)\n",
            " Load  |  Yep!  | conv 3x3p1_1  +bnorm  leaky      | (?, 19, 19, 1024)\n",
            " Load  |  Yep!  | conv 3x3p1_1  +bnorm  leaky      | (?, 19, 19, 1024)\n",
            " Load  |  Yep!  | concat [16]                      | (?, 38, 38, 512)\n",
            " Load  |  Yep!  | conv 1x1p0_1  +bnorm  leaky      | (?, 38, 38, 64)\n",
            "WARNING:tensorflow:From /content/darkflow/darkflow/net/ops/convolution.py:28: calling extract_image_patches (from tensorflow.python.ops.array_ops) with ksizes is deprecated and will be removed in a future version.\n",
            "Instructions for updating:\n",
            "ksizes is deprecated, use sizes instead\n",
            " Load  |  Yep!  | local flatten 2x2                | (?, 19, 19, 256)\n",
            " Load  |  Yep!  | concat [27, 24]                  | (?, 19, 19, 1280)\n",
            " Load  |  Yep!  | conv 3x3p1_1  +bnorm  leaky      | (?, 19, 19, 1024)\n",
            " Load  |  Yep!  | conv 1x1p0_1    linear           | (?, 19, 19, 425)\n",
            "-------+--------+----------------------------------+---------------\n",
            "GPU mode with 1.0 usage\n",
            "WARNING:tensorflow:From /content/darkflow/darkflow/net/build.py:132: The name tf.GPUOptions is deprecated. Please use tf.compat.v1.GPUOptions instead.\n",
            "\n",
            "WARNING:tensorflow:From /content/darkflow/darkflow/net/build.py:145: The name tf.Session is deprecated. Please use tf.compat.v1.Session instead.\n",
            "\n",
            "WARNING:tensorflow:From /content/darkflow/darkflow/net/build.py:145: The name tf.ConfigProto is deprecated. Please use tf.compat.v1.ConfigProto instead.\n",
            "\n",
            "WARNING:tensorflow:From /content/darkflow/darkflow/net/build.py:146: The name tf.global_variables_initializer is deprecated. Please use tf.compat.v1.global_variables_initializer instead.\n",
            "\n",
            "WARNING:tensorflow:From /content/darkflow/darkflow/net/build.py:149: The name tf.train.Saver is deprecated. Please use tf.compat.v1.train.Saver instead.\n",
            "\n",
            "WARNING:tensorflow:From /content/darkflow/darkflow/net/build.py:149: The name tf.global_variables is deprecated. Please use tf.compat.v1.global_variables instead.\n",
            "\n",
            "Finished in 12.386034488677979s\n",
            "\n"
          ],
          "name": "stdout"
        }
      ]
    },
    {
      "cell_type": "code",
      "metadata": {
        "id": "nIH4y_P019B-"
      },
      "source": [
        "def predict_img(link):\n",
        "  \n",
        "  result = tfnet.return_predict(link)\n",
        "   \n",
        "\n",
        "  for n,value in enumerate(result):\n",
        "    \n",
        "    tl = (result[n]['topleft']['x'], result[n]['topleft']['y'])\n",
        "    br = (result[n]['bottomright']['x'], result[n]['bottomright']['y'])\n",
        "    label = result[n]['label']\n",
        "    img = cv2.rectangle(img,tl,br,(0,255,0))\n",
        "    \n",
        "  plt.figure(figsize=(20,10))    \n",
        "  plt.imshow(img)"
      ],
      "execution_count": 12,
      "outputs": []
    },
    {
      "cell_type": "code",
      "metadata": {
        "id": "69tqu-St1gIC"
      },
      "source": [
        "def create_image_paths():\n",
        "  \n",
        "  import glob\n",
        "  # Get all image file paths to a list.\n",
        "  images = list(glob.iglob(os.path.join('/content/sample_data_frames/',title, '*.*')))\n",
        "  # Sort the images by name index.\n",
        "  images = sorted(images, key=lambda x: float(os.path.split(x)[1][:-3]))\n",
        "  \n",
        "  return images"
      ],
      "execution_count": 13,
      "outputs": []
    },
    {
      "cell_type": "code",
      "metadata": {
        "id": "qxMLW9yRH5K_"
      },
      "source": [
        "def download_youtube_video(link):\n",
        "  \n",
        "  from pytube import YouTube\n",
        "  yt = YouTube(link)\n",
        "  streams = yt.streams.get_by_itag('18')\n",
        "  streams.download('/content/sample_data')\n",
        "  title = streams.default_filename\n",
        "  \n",
        "  print('Youtube Video Downloaded...')\n",
        "  return  title"
      ],
      "execution_count": 14,
      "outputs": []
    },
    {
      "cell_type": "code",
      "metadata": {
        "id": "0NtnUAqy1tQo"
      },
      "source": [
        "def fps():\n",
        "  video = cv2.VideoCapture(os.path.join('/content/sample_data/',title))  \n",
        "  fps = video.get(cv2.CAP_PROP_FPS)\n",
        "  print(\"Frames per second using video.get(cv2.CAP_PROP_FPS) : {0}\".format(fps))\n",
        "  video.release()\n",
        "  return fps"
      ],
      "execution_count": 15,
      "outputs": []
    },
    {
      "cell_type": "code",
      "metadata": {
        "id": "tbgiSIKO2Dsl"
      },
      "source": [
        "def make_video(outvid, images=None, fps=30, size=None,\n",
        "               is_color=True, format=\"FMP4\"):\n",
        "    \"\"\"\n",
        "    Create a video from a list of images.\n",
        " \n",
        "    @param      outvid      output video\n",
        "    @param      images      list of images to use in the video\n",
        "    @param      fps         frame per second\n",
        "    @param      size        size of each frame\n",
        "    @param      is_color    color\n",
        "    @param      format      see http://www.fourcc.org/codecs.php\n",
        "    @return                 see http://opencv-python-tutroals.readthedocs.org/en/latest/py_tutorials/py_gui/py_video_display/py_video_display.html\n",
        "    \"\"\"\n",
        "    from tqdm import tqdm\n",
        "    from cv2 import VideoWriter, VideoWriter_fourcc, imread, resize\n",
        "    fourcc = VideoWriter_fourcc(*format)\n",
        "    vid = None\n",
        "    for image in tqdm(images):\n",
        "        if not os.path.exists(image):\n",
        "            raise FileNotFoundError(image)\n",
        "        img = imread(image)\n",
        "        if vid is None:\n",
        "            if size is None:\n",
        "                size = img.shape[1], img.shape[0]\n",
        "            vid = VideoWriter(outvid, fourcc, float(fps), size, is_color)\n",
        "        if size[0] != img.shape[1] and size[1] != img.shape[0]:\n",
        "            img = resize(img, size)\n",
        "        vid.write(img)\n",
        "    vid.release()\n",
        "    return vid\n",
        "\n",
        "#outvid = os.path.join(VIDEO_DIR, \"out.mp4\")\n",
        "#make_video('/content/sample_data/video_out.mp4', images, fps=30)\n"
      ],
      "execution_count": 16,
      "outputs": []
    },
    {
      "cell_type": "code",
      "metadata": {
        "id": "QinTqTGdx6Iu"
      },
      "source": [
        "def sample_frames():\n",
        "  \n",
        "  capture = cv2.VideoCapture(os.path.join('/content/sample_data/',title)) \n",
        "\n",
        "  \n",
        "  frames = []\n",
        "  frame_count = 0\n",
        "\n",
        "  video_frame_path = os.path.join('/content/sample_data_frames/',title)\n",
        "  \n",
        "  if not os.path.exists(video_frame_path):\n",
        "    os.makedirs(video_frame_path)\n",
        "    print('Frames Directory Created...')\n",
        "  \n",
        "  while True:\n",
        "  \n",
        "    ret, frame = capture.read()\n",
        "    frames.append(frame)\n",
        "    frame_count += 1\n",
        "  \n",
        "    if not ret:\n",
        "      print(frame_count)\n",
        "      return (frames,frame_count,video_frame_path)\n",
        "      break"
      ],
      "execution_count": 17,
      "outputs": []
    },
    {
      "cell_type": "code",
      "metadata": {
        "id": "LehUKxUjGO6H"
      },
      "source": [
        "def predict_video(link):\n",
        "  \n",
        "  global title\n",
        "  \n",
        "  title = download_youtube_video(link)\n",
        "  frames,frame_count,video_frame_path = sample_frames()\n",
        "  \n",
        "  #load video and get every frame of it for analysis..\n",
        "  # for every frame run yolo prediction and save the frame as jpg file\n",
        "\n",
        "  for count,frame in tqdm(enumerate(frames[1:-10])):\n",
        "    \n",
        "    #frame = cv2.cvtColor(frame,cv2.COLOR_BGR2RGB)\n",
        "    results = tfnet.return_predict(frame)\n",
        "  \n",
        "    for n,value in enumerate(results):\n",
        "      \n",
        "      tl = (results[n]['topleft']['x'], results[n]['topleft']['y'])\n",
        "      br = (results[n]['bottomright']['x'], results[n]['bottomright']['y'])\n",
        "      label = results[n]['label']\n",
        "      frame = cv2.rectangle(frame,tl,br,(0,255,0),3)\n",
        "      frame = cv2.putText(frame,label,tl,cv2.FONT_HERSHEY_COMPLEX,1,(0,0,0),2)\n",
        "      \n",
        "      #frame = cv2.addText(label)\n",
        "      #frame = cv2.line(img,(0,frame.shape[0]//2),(600,img.shape[0]//2),(255,0,0),2)   \n",
        "      \n",
        "  \n",
        "    name = '{0}.jpg'.format(count)\n",
        "    \n",
        "    name = os.path.join(video_frame_path,name)  \n",
        "    cv2.imwrite(name, frame)\n",
        "    \n",
        "  print('All Frames Saved...')\n",
        "  \n",
        "  newpath = '/content/sample_data_out/'\n",
        "  if not os.path.exists(newpath):\n",
        "    os.makedirs(newpath)\n",
        "    \n",
        "  images = create_image_paths()\n",
        "  #print(images)\n",
        "  frames_per_second = fps()\n",
        "  make_video(os.path.join('/content/sample_data_out/',title), images, fps=frames_per_second)"
      ],
      "execution_count": 18,
      "outputs": []
    },
    {
      "cell_type": "markdown",
      "metadata": {
        "id": "3VHzyx0QNEtR"
      },
      "source": [
        "## 유튜브 비디오 링크를 입력하고 YOLO를 실행\n",
        "- 해상도 360p를 권장한다 (colab 사용 한계)\n"
      ]
    },
    {
      "cell_type": "code",
      "metadata": {
        "colab": {
          "base_uri": "https://localhost:8080/"
        },
        "id": "bE3lyBEHgplL",
        "outputId": "bc98e165-810a-46ce-9ac4-821a92087268"
      },
      "source": [
        "# make sure the video is not too long because memory might run out in colab notebook\n",
        "from pytube import YouTube\n",
        "video_url = 'https://www.youtube.com/watch?v=FLV1z9BWvyc'\n",
        "yt = YouTube(video_url)  # download video\n",
        "title = yt.title\n",
        "print(title)   # title of the video"
      ],
      "execution_count": 19,
      "outputs": [
        {
          "output_type": "stream",
          "text": [
            "Cristiano Ronaldo Moments of Magic\n"
          ],
          "name": "stdout"
        }
      ]
    },
    {
      "cell_type": "code",
      "metadata": {
        "colab": {
          "base_uri": "https://localhost:8080/"
        },
        "id": "No7_r24CtWXz",
        "outputId": "85829083-aa00-4b42-9159-9ddeb8b08687"
      },
      "source": [
        "# predict video frames using yolo\r\n",
        "predict_video(video_url)"
      ],
      "execution_count": 20,
      "outputs": [
        {
          "output_type": "stream",
          "text": [
            "Youtube Video Downloaded...\n",
            "Frames Directory Created...\n"
          ],
          "name": "stdout"
        },
        {
          "output_type": "stream",
          "text": [
            "\r0it [00:00, ?it/s]"
          ],
          "name": "stderr"
        },
        {
          "output_type": "stream",
          "text": [
            "7928\n"
          ],
          "name": "stdout"
        },
        {
          "output_type": "stream",
          "text": [
            "7917it [05:41, 23.17it/s]\n",
            "  0%|          | 17/7917 [00:00<00:47, 167.91it/s]"
          ],
          "name": "stderr"
        },
        {
          "output_type": "stream",
          "text": [
            "All Frames Saved...\n",
            "Frames per second using video.get(cv2.CAP_PROP_FPS) : 25.0\n"
          ],
          "name": "stdout"
        },
        {
          "output_type": "stream",
          "text": [
            "100%|██████████| 7917/7917 [00:41<00:00, 192.06it/s]\n"
          ],
          "name": "stderr"
        }
      ]
    },
    {
      "cell_type": "code",
      "metadata": {
        "colab": {
          "base_uri": "https://localhost:8080/",
          "height": 17
        },
        "id": "PA8gfXnCJ96C",
        "outputId": "42caa9b7-1e00-4b9e-aa7b-9e4cb4ef0926"
      },
      "source": [
        "# download the output video (local computer 의 download 폴더에 저장)\n",
        "video_title = 'yolo_video_output'\n",
        "files.download(os.path.join('/content/sample_data_out/', title))"
      ],
      "execution_count": 21,
      "outputs": [
        {
          "output_type": "display_data",
          "data": {
            "application/javascript": [
              "\n",
              "    async function download(id, filename, size) {\n",
              "      if (!google.colab.kernel.accessAllowed) {\n",
              "        return;\n",
              "      }\n",
              "      const div = document.createElement('div');\n",
              "      const label = document.createElement('label');\n",
              "      label.textContent = `Downloading \"${filename}\": `;\n",
              "      div.appendChild(label);\n",
              "      const progress = document.createElement('progress');\n",
              "      progress.max = size;\n",
              "      div.appendChild(progress);\n",
              "      document.body.appendChild(div);\n",
              "\n",
              "      const buffers = [];\n",
              "      let downloaded = 0;\n",
              "\n",
              "      const channel = await google.colab.kernel.comms.open(id);\n",
              "      // Send a message to notify the kernel that we're ready.\n",
              "      channel.send({})\n",
              "\n",
              "      for await (const message of channel.messages) {\n",
              "        // Send a message to notify the kernel that we're ready.\n",
              "        channel.send({})\n",
              "        if (message.buffers) {\n",
              "          for (const buffer of message.buffers) {\n",
              "            buffers.push(buffer);\n",
              "            downloaded += buffer.byteLength;\n",
              "            progress.value = downloaded;\n",
              "          }\n",
              "        }\n",
              "      }\n",
              "      const blob = new Blob(buffers, {type: 'application/binary'});\n",
              "      const a = document.createElement('a');\n",
              "      a.href = window.URL.createObjectURL(blob);\n",
              "      a.download = filename;\n",
              "      div.appendChild(a);\n",
              "      a.click();\n",
              "      div.remove();\n",
              "    }\n",
              "  "
            ],
            "text/plain": [
              "<IPython.core.display.Javascript object>"
            ]
          },
          "metadata": {
            "tags": []
          }
        },
        {
          "output_type": "display_data",
          "data": {
            "application/javascript": [
              "download(\"download_c3080bde-80a1-43f8-84b0-f0b960e57f09\", \"Cristiano Ronaldo Moments of Magic.mp4\", 187338622)"
            ],
            "text/plain": [
              "<IPython.core.display.Javascript object>"
            ]
          },
          "metadata": {
            "tags": []
          }
        }
      ]
    },
    {
      "cell_type": "markdown",
      "metadata": {
        "id": "145j-kNHvg7J"
      },
      "source": [
        "- now you can play the downloaded video file"
      ]
    },
    {
      "cell_type": "markdown",
      "metadata": {
        "id": "EmzdNH_b2hFA"
      },
      "source": [
        ""
      ]
    },
    {
      "cell_type": "markdown",
      "metadata": {
        "id": "lFxp3wlPPThP"
      },
      "source": [
        "# 연습"
      ]
    },
    {
      "cell_type": "code",
      "metadata": {
        "id": "w49kQmJdPg8V"
      },
      "source": [
        "!pip install pytube"
      ],
      "execution_count": null,
      "outputs": []
    },
    {
      "cell_type": "code",
      "metadata": {
        "id": "A4o79K8kP6fx"
      },
      "source": [
        "# get the source code\r\n",
        "%cd /content\r\n",
        "!git clone git://github.com/nficano/pytube.git"
      ],
      "execution_count": null,
      "outputs": []
    },
    {
      "cell_type": "code",
      "metadata": {
        "id": "UCaaAebiP1jr"
      },
      "source": [
        "%cd pytube\r\n",
        "!pip install ."
      ],
      "execution_count": null,
      "outputs": []
    },
    {
      "cell_type": "code",
      "metadata": {
        "id": "2_20-Q_2PVeT"
      },
      "source": [
        "# test pytube if it's working in colab notebook\r\n",
        "from pytube import YouTube\r\n",
        "video_url = 'https://www.youtube.com/watch?v=9bZkp7q19f0'\r\n",
        "yt = YouTube(video_url)  # download video\r\n",
        "print(yt.title)   # title of the video\r\n",
        "print(yt.thumbnail_url)  # thumbnail url\r\n",
        "stream = yt.streams.first()   # get the first stream\r\n",
        "stream"
      ],
      "execution_count": null,
      "outputs": []
    },
    {
      "cell_type": "markdown",
      "metadata": {
        "id": "XseZy-NgDp-b"
      },
      "source": [
        "- file download from Colab (to your local file system)"
      ]
    },
    {
      "cell_type": "code",
      "metadata": {
        "id": "rsGzhMbevq-e",
        "colab": {
          "base_uri": "https://localhost:8080/",
          "height": 17
        },
        "outputId": "4f4f5786-605e-4529-b5ae-c8b0b7366352"
      },
      "source": [
        "from google.colab import files\r\n",
        "\r\n",
        "with open('example.txt', 'w') as f:\r\n",
        "  f.write('some content')\r\n",
        "\r\n",
        "files.download('example.txt')"
      ],
      "execution_count": null,
      "outputs": [
        {
          "output_type": "display_data",
          "data": {
            "application/javascript": [
              "\n",
              "    async function download(id, filename, size) {\n",
              "      if (!google.colab.kernel.accessAllowed) {\n",
              "        return;\n",
              "      }\n",
              "      const div = document.createElement('div');\n",
              "      const label = document.createElement('label');\n",
              "      label.textContent = `Downloading \"${filename}\": `;\n",
              "      div.appendChild(label);\n",
              "      const progress = document.createElement('progress');\n",
              "      progress.max = size;\n",
              "      div.appendChild(progress);\n",
              "      document.body.appendChild(div);\n",
              "\n",
              "      const buffers = [];\n",
              "      let downloaded = 0;\n",
              "\n",
              "      const channel = await google.colab.kernel.comms.open(id);\n",
              "      // Send a message to notify the kernel that we're ready.\n",
              "      channel.send({})\n",
              "\n",
              "      for await (const message of channel.messages) {\n",
              "        // Send a message to notify the kernel that we're ready.\n",
              "        channel.send({})\n",
              "        if (message.buffers) {\n",
              "          for (const buffer of message.buffers) {\n",
              "            buffers.push(buffer);\n",
              "            downloaded += buffer.byteLength;\n",
              "            progress.value = downloaded;\n",
              "          }\n",
              "        }\n",
              "      }\n",
              "      const blob = new Blob(buffers, {type: 'application/binary'});\n",
              "      const a = document.createElement('a');\n",
              "      a.href = window.URL.createObjectURL(blob);\n",
              "      a.download = filename;\n",
              "      div.appendChild(a);\n",
              "      a.click();\n",
              "      div.remove();\n",
              "    }\n",
              "  "
            ],
            "text/plain": [
              "<IPython.core.display.Javascript object>"
            ]
          },
          "metadata": {
            "tags": []
          }
        },
        {
          "output_type": "display_data",
          "data": {
            "application/javascript": [
              "download(\"download_7c3f8840-543e-4065-a8e7-6cfc54fda0f4\", \"example.txt\", 12)"
            ],
            "text/plain": [
              "<IPython.core.display.Javascript object>"
            ]
          },
          "metadata": {
            "tags": []
          }
        }
      ]
    }
  ]
}